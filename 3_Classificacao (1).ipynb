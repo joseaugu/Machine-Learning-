{
  "nbformat": 4,
  "nbformat_minor": 0,
  "metadata": {
    "colab": {
      "provenance": [],
      "collapsed_sections": [
        "YWlyb9T-Fk1I",
        "kW700Sj9Fk1O",
        "S3Kl3wySKBEw",
        "6OurC4GyUoak",
        "2UhdSgBmUtJ6",
        "u3jQ6H1S-HtG",
        "Caf7XRsO4BYE",
        "w-W634n0I_Db",
        "f6u542_aEj6B",
        "rNsT6wAn_e1l",
        "n1ky9LQipNn0",
        "xXM2zqKVH1Vi",
        "jebC8M2jqyc9",
        "rGdamAVpJfJ5",
        "GETCbQj7v32B",
        "pUNWBzC8KJ5v",
        "VdGvKcYjODGt",
        "dxwugdgiEhdw",
        "hw7px-UemoSc",
        "GH4nEvlaGOb7",
        "jH3OocboSGXH",
        "gHvG_uWZLARo",
        "sPZLUYzCqTWL",
        "3hEGp61Q0NgT",
        "yKpYGEuWUChU",
        "2LgdzmpMUChd",
        "-SI78UagmLD7",
        "Q6LoOxMow4Ci"
      ]
    },
    "kernelspec": {
      "name": "python3",
      "display_name": "Python 3"
    },
    "language_info": {
      "name": "python"
    }
  },
  "cells": [
    {
      "cell_type": "markdown",
      "metadata": {
        "id": "fQJ5CYV9Te0X"
      },
      "source": [
        "# **APRENDIZAGEM SUPERVISIONADA: CLASSIFICAÇÃO**"
      ]
    },
    {
      "cell_type": "markdown",
      "metadata": {
        "id": "kXFCCsVHTtTP"
      },
      "source": [
        "Este projeto tem por objetivo desenvolver um algoritmo de Machine Learning para prever as fácies a partir de dados de perfis de poços. "
      ]
    },
    {
      "cell_type": "markdown",
      "source": [
        "# **PRÉ-PROCESSAMENTO**"
      ],
      "metadata": {
        "id": "gczjMn0YIb6s"
      }
    },
    {
      "cell_type": "code",
      "metadata": {
        "id": "nWvIcticlCs2"
      },
      "source": [
        "import numpy as np\n",
        "import pandas as pd\n",
        "import seaborn as sns\n",
        "import matplotlib.pyplot as plt"
      ],
      "execution_count": null,
      "outputs": []
    },
    {
      "cell_type": "code",
      "source": [
        "from google.colab import drive\n",
        "drive.mount('/content/drive')"
      ],
      "metadata": {
        "colab": {
          "base_uri": "https://localhost:8080/"
        },
        "id": "9qiWTwWFCHVz",
        "outputId": "30240d63-01c5-4bf8-b512-31bb50b46bbb"
      },
      "execution_count": null,
      "outputs": [
        {
          "output_type": "stream",
          "name": "stdout",
          "text": [
            "Mounted at /content/drive\n"
          ]
        }
      ]
    },
    {
      "cell_type": "code",
      "metadata": {
        "id": "LRIrwcC8kUhT"
      },
      "source": [
        "df = pd.read_csv('/content/drive/MyDrive/Cursos/Machine Learning com Python/sal_pocos.csv',\n",
        "                    sep=',', encoding='utf-8')"
      ],
      "execution_count": null,
      "outputs": []
    },
    {
      "cell_type": "code",
      "source": [
        "df.head()"
      ],
      "metadata": {
        "id": "QtugliripIyp",
        "outputId": "59374b90-34b7-43a2-daaf-11c51dd387e3",
        "colab": {
          "base_uri": "https://localhost:8080/",
          "height": 206
        }
      },
      "execution_count": null,
      "outputs": [
        {
          "output_type": "execute_result",
          "data": {
            "text/plain": [
              "        PROF           VP  FACIES           VS         GR    POCO\n",
              "0  3103.0164  4392.102539    85.0  2491.250244  16.139494  poco_1\n",
              "1  3103.1688  4368.245117    85.0  2502.714111  16.530527  poco_1\n",
              "2  3103.3212  4354.002930    85.0  2517.204346  16.491985  poco_1\n",
              "3  3103.4736  4349.213867    85.0  2529.218994  16.053066  poco_1\n",
              "4  3103.6260  4354.245606    85.0  2535.076172  15.923628  poco_1"
            ],
            "text/html": [
              "\n",
              "  <div id=\"df-074f2e25-dafc-4993-a0c5-c95b2afce524\">\n",
              "    <div class=\"colab-df-container\">\n",
              "      <div>\n",
              "<style scoped>\n",
              "    .dataframe tbody tr th:only-of-type {\n",
              "        vertical-align: middle;\n",
              "    }\n",
              "\n",
              "    .dataframe tbody tr th {\n",
              "        vertical-align: top;\n",
              "    }\n",
              "\n",
              "    .dataframe thead th {\n",
              "        text-align: right;\n",
              "    }\n",
              "</style>\n",
              "<table border=\"1\" class=\"dataframe\">\n",
              "  <thead>\n",
              "    <tr style=\"text-align: right;\">\n",
              "      <th></th>\n",
              "      <th>PROF</th>\n",
              "      <th>VP</th>\n",
              "      <th>FACIES</th>\n",
              "      <th>VS</th>\n",
              "      <th>GR</th>\n",
              "      <th>POCO</th>\n",
              "    </tr>\n",
              "  </thead>\n",
              "  <tbody>\n",
              "    <tr>\n",
              "      <th>0</th>\n",
              "      <td>3103.0164</td>\n",
              "      <td>4392.102539</td>\n",
              "      <td>85.0</td>\n",
              "      <td>2491.250244</td>\n",
              "      <td>16.139494</td>\n",
              "      <td>poco_1</td>\n",
              "    </tr>\n",
              "    <tr>\n",
              "      <th>1</th>\n",
              "      <td>3103.1688</td>\n",
              "      <td>4368.245117</td>\n",
              "      <td>85.0</td>\n",
              "      <td>2502.714111</td>\n",
              "      <td>16.530527</td>\n",
              "      <td>poco_1</td>\n",
              "    </tr>\n",
              "    <tr>\n",
              "      <th>2</th>\n",
              "      <td>3103.3212</td>\n",
              "      <td>4354.002930</td>\n",
              "      <td>85.0</td>\n",
              "      <td>2517.204346</td>\n",
              "      <td>16.491985</td>\n",
              "      <td>poco_1</td>\n",
              "    </tr>\n",
              "    <tr>\n",
              "      <th>3</th>\n",
              "      <td>3103.4736</td>\n",
              "      <td>4349.213867</td>\n",
              "      <td>85.0</td>\n",
              "      <td>2529.218994</td>\n",
              "      <td>16.053066</td>\n",
              "      <td>poco_1</td>\n",
              "    </tr>\n",
              "    <tr>\n",
              "      <th>4</th>\n",
              "      <td>3103.6260</td>\n",
              "      <td>4354.245606</td>\n",
              "      <td>85.0</td>\n",
              "      <td>2535.076172</td>\n",
              "      <td>15.923628</td>\n",
              "      <td>poco_1</td>\n",
              "    </tr>\n",
              "  </tbody>\n",
              "</table>\n",
              "</div>\n",
              "      <button class=\"colab-df-convert\" onclick=\"convertToInteractive('df-074f2e25-dafc-4993-a0c5-c95b2afce524')\"\n",
              "              title=\"Convert this dataframe to an interactive table.\"\n",
              "              style=\"display:none;\">\n",
              "        \n",
              "  <svg xmlns=\"http://www.w3.org/2000/svg\" height=\"24px\"viewBox=\"0 0 24 24\"\n",
              "       width=\"24px\">\n",
              "    <path d=\"M0 0h24v24H0V0z\" fill=\"none\"/>\n",
              "    <path d=\"M18.56 5.44l.94 2.06.94-2.06 2.06-.94-2.06-.94-.94-2.06-.94 2.06-2.06.94zm-11 1L8.5 8.5l.94-2.06 2.06-.94-2.06-.94L8.5 2.5l-.94 2.06-2.06.94zm10 10l.94 2.06.94-2.06 2.06-.94-2.06-.94-.94-2.06-.94 2.06-2.06.94z\"/><path d=\"M17.41 7.96l-1.37-1.37c-.4-.4-.92-.59-1.43-.59-.52 0-1.04.2-1.43.59L10.3 9.45l-7.72 7.72c-.78.78-.78 2.05 0 2.83L4 21.41c.39.39.9.59 1.41.59.51 0 1.02-.2 1.41-.59l7.78-7.78 2.81-2.81c.8-.78.8-2.07 0-2.86zM5.41 20L4 18.59l7.72-7.72 1.47 1.35L5.41 20z\"/>\n",
              "  </svg>\n",
              "      </button>\n",
              "      \n",
              "  <style>\n",
              "    .colab-df-container {\n",
              "      display:flex;\n",
              "      flex-wrap:wrap;\n",
              "      gap: 12px;\n",
              "    }\n",
              "\n",
              "    .colab-df-convert {\n",
              "      background-color: #E8F0FE;\n",
              "      border: none;\n",
              "      border-radius: 50%;\n",
              "      cursor: pointer;\n",
              "      display: none;\n",
              "      fill: #1967D2;\n",
              "      height: 32px;\n",
              "      padding: 0 0 0 0;\n",
              "      width: 32px;\n",
              "    }\n",
              "\n",
              "    .colab-df-convert:hover {\n",
              "      background-color: #E2EBFA;\n",
              "      box-shadow: 0px 1px 2px rgba(60, 64, 67, 0.3), 0px 1px 3px 1px rgba(60, 64, 67, 0.15);\n",
              "      fill: #174EA6;\n",
              "    }\n",
              "\n",
              "    [theme=dark] .colab-df-convert {\n",
              "      background-color: #3B4455;\n",
              "      fill: #D2E3FC;\n",
              "    }\n",
              "\n",
              "    [theme=dark] .colab-df-convert:hover {\n",
              "      background-color: #434B5C;\n",
              "      box-shadow: 0px 1px 3px 1px rgba(0, 0, 0, 0.15);\n",
              "      filter: drop-shadow(0px 1px 2px rgba(0, 0, 0, 0.3));\n",
              "      fill: #FFFFFF;\n",
              "    }\n",
              "  </style>\n",
              "\n",
              "      <script>\n",
              "        const buttonEl =\n",
              "          document.querySelector('#df-074f2e25-dafc-4993-a0c5-c95b2afce524 button.colab-df-convert');\n",
              "        buttonEl.style.display =\n",
              "          google.colab.kernel.accessAllowed ? 'block' : 'none';\n",
              "\n",
              "        async function convertToInteractive(key) {\n",
              "          const element = document.querySelector('#df-074f2e25-dafc-4993-a0c5-c95b2afce524');\n",
              "          const dataTable =\n",
              "            await google.colab.kernel.invokeFunction('convertToInteractive',\n",
              "                                                     [key], {});\n",
              "          if (!dataTable) return;\n",
              "\n",
              "          const docLinkHtml = 'Like what you see? Visit the ' +\n",
              "            '<a target=\"_blank\" href=https://colab.research.google.com/notebooks/data_table.ipynb>data table notebook</a>'\n",
              "            + ' to learn more about interactive tables.';\n",
              "          element.innerHTML = '';\n",
              "          dataTable['output_type'] = 'display_data';\n",
              "          await google.colab.output.renderOutput(dataTable, element);\n",
              "          const docLink = document.createElement('div');\n",
              "          docLink.innerHTML = docLinkHtml;\n",
              "          element.appendChild(docLink);\n",
              "        }\n",
              "      </script>\n",
              "    </div>\n",
              "  </div>\n",
              "  "
            ]
          },
          "metadata": {},
          "execution_count": 4
        }
      ]
    },
    {
      "cell_type": "code",
      "source": [
        "df.shape"
      ],
      "metadata": {
        "id": "NSH5-od1gRAU",
        "outputId": "54c414ff-2edd-4ead-e31a-233c90308982",
        "colab": {
          "base_uri": "https://localhost:8080/"
        }
      },
      "execution_count": null,
      "outputs": [
        {
          "output_type": "execute_result",
          "data": {
            "text/plain": [
              "(23426, 6)"
            ]
          },
          "metadata": {},
          "execution_count": 5
        }
      ]
    },
    {
      "cell_type": "code",
      "source": [
        "df['FACIES'].value_counts()"
      ],
      "metadata": {
        "colab": {
          "base_uri": "https://localhost:8080/"
        },
        "id": "Uw71WXwMK5Q5",
        "outputId": "fe4d83af-cd5e-4a96-bca3-c791acce98e3"
      },
      "execution_count": null,
      "outputs": [
        {
          "output_type": "execute_result",
          "data": {
            "text/plain": [
              "85.0    19756\n",
              "82.0     1670\n",
              "87.0     1580\n",
              "81.0      420\n",
              "Name: FACIES, dtype: int64"
            ]
          },
          "metadata": {},
          "execution_count": 6
        }
      ]
    },
    {
      "cell_type": "markdown",
      "source": [
        "## **Transformando as variáveis categóricas nominais em variáveis categóricas ordinais**"
      ],
      "metadata": {
        "id": "a-DfpMtio-sq"
      }
    },
    {
      "cell_type": "code",
      "source": [
        "df2 = pd.DataFrame.copy(df)"
      ],
      "metadata": {
        "id": "JntPfMmptEhg"
      },
      "execution_count": null,
      "outputs": []
    },
    {
      "cell_type": "markdown",
      "source": [
        "{85:'Halita',82:'Anidrita',87:'Carnalita',81:'Taquidrita'}"
      ],
      "metadata": {
        "id": "Dj1gptcHG5Co"
      }
    },
    {
      "cell_type": "code",
      "source": [
        "df2['FACIES'].replace({85:0, 82: 1, 87:2, 81:3}, inplace=True)\n",
        "df2['POCO'].replace({'poco_1':0, 'poco_2': 1}, inplace=True)"
      ],
      "metadata": {
        "id": "KUxPnNEhrsjL"
      },
      "execution_count": null,
      "outputs": []
    },
    {
      "cell_type": "code",
      "source": [
        "df2.head()"
      ],
      "metadata": {
        "id": "1aTDlfUZpfJi",
        "colab": {
          "base_uri": "https://localhost:8080/"
        },
        "outputId": "cb5f796f-40a3-4c42-8e14-46c6d229d227"
      },
      "execution_count": null,
      "outputs": [
        {
          "output_type": "execute_result",
          "data": {
            "text/plain": [
              "        PROF           VP  FACIES           VS         GR  POCO\n",
              "0  3103.0164  4392.102539     0.0  2491.250244  16.139494     0\n",
              "1  3103.1688  4368.245117     0.0  2502.714111  16.530527     0\n",
              "2  3103.3212  4354.002930     0.0  2517.204346  16.491985     0\n",
              "3  3103.4736  4349.213867     0.0  2529.218994  16.053066     0\n",
              "4  3103.6260  4354.245606     0.0  2535.076172  15.923628     0"
            ],
            "text/html": [
              "\n",
              "  <div id=\"df-35258414-bbbb-4de5-8e40-789d0ebc6c6a\">\n",
              "    <div class=\"colab-df-container\">\n",
              "      <div>\n",
              "<style scoped>\n",
              "    .dataframe tbody tr th:only-of-type {\n",
              "        vertical-align: middle;\n",
              "    }\n",
              "\n",
              "    .dataframe tbody tr th {\n",
              "        vertical-align: top;\n",
              "    }\n",
              "\n",
              "    .dataframe thead th {\n",
              "        text-align: right;\n",
              "    }\n",
              "</style>\n",
              "<table border=\"1\" class=\"dataframe\">\n",
              "  <thead>\n",
              "    <tr style=\"text-align: right;\">\n",
              "      <th></th>\n",
              "      <th>PROF</th>\n",
              "      <th>VP</th>\n",
              "      <th>FACIES</th>\n",
              "      <th>VS</th>\n",
              "      <th>GR</th>\n",
              "      <th>POCO</th>\n",
              "    </tr>\n",
              "  </thead>\n",
              "  <tbody>\n",
              "    <tr>\n",
              "      <th>0</th>\n",
              "      <td>3103.0164</td>\n",
              "      <td>4392.102539</td>\n",
              "      <td>0.0</td>\n",
              "      <td>2491.250244</td>\n",
              "      <td>16.139494</td>\n",
              "      <td>0</td>\n",
              "    </tr>\n",
              "    <tr>\n",
              "      <th>1</th>\n",
              "      <td>3103.1688</td>\n",
              "      <td>4368.245117</td>\n",
              "      <td>0.0</td>\n",
              "      <td>2502.714111</td>\n",
              "      <td>16.530527</td>\n",
              "      <td>0</td>\n",
              "    </tr>\n",
              "    <tr>\n",
              "      <th>2</th>\n",
              "      <td>3103.3212</td>\n",
              "      <td>4354.002930</td>\n",
              "      <td>0.0</td>\n",
              "      <td>2517.204346</td>\n",
              "      <td>16.491985</td>\n",
              "      <td>0</td>\n",
              "    </tr>\n",
              "    <tr>\n",
              "      <th>3</th>\n",
              "      <td>3103.4736</td>\n",
              "      <td>4349.213867</td>\n",
              "      <td>0.0</td>\n",
              "      <td>2529.218994</td>\n",
              "      <td>16.053066</td>\n",
              "      <td>0</td>\n",
              "    </tr>\n",
              "    <tr>\n",
              "      <th>4</th>\n",
              "      <td>3103.6260</td>\n",
              "      <td>4354.245606</td>\n",
              "      <td>0.0</td>\n",
              "      <td>2535.076172</td>\n",
              "      <td>15.923628</td>\n",
              "      <td>0</td>\n",
              "    </tr>\n",
              "  </tbody>\n",
              "</table>\n",
              "</div>\n",
              "      <button class=\"colab-df-convert\" onclick=\"convertToInteractive('df-35258414-bbbb-4de5-8e40-789d0ebc6c6a')\"\n",
              "              title=\"Convert this dataframe to an interactive table.\"\n",
              "              style=\"display:none;\">\n",
              "        \n",
              "  <svg xmlns=\"http://www.w3.org/2000/svg\" height=\"24px\"viewBox=\"0 0 24 24\"\n",
              "       width=\"24px\">\n",
              "    <path d=\"M0 0h24v24H0V0z\" fill=\"none\"/>\n",
              "    <path d=\"M18.56 5.44l.94 2.06.94-2.06 2.06-.94-2.06-.94-.94-2.06-.94 2.06-2.06.94zm-11 1L8.5 8.5l.94-2.06 2.06-.94-2.06-.94L8.5 2.5l-.94 2.06-2.06.94zm10 10l.94 2.06.94-2.06 2.06-.94-2.06-.94-.94-2.06-.94 2.06-2.06.94z\"/><path d=\"M17.41 7.96l-1.37-1.37c-.4-.4-.92-.59-1.43-.59-.52 0-1.04.2-1.43.59L10.3 9.45l-7.72 7.72c-.78.78-.78 2.05 0 2.83L4 21.41c.39.39.9.59 1.41.59.51 0 1.02-.2 1.41-.59l7.78-7.78 2.81-2.81c.8-.78.8-2.07 0-2.86zM5.41 20L4 18.59l7.72-7.72 1.47 1.35L5.41 20z\"/>\n",
              "  </svg>\n",
              "      </button>\n",
              "      \n",
              "  <style>\n",
              "    .colab-df-container {\n",
              "      display:flex;\n",
              "      flex-wrap:wrap;\n",
              "      gap: 12px;\n",
              "    }\n",
              "\n",
              "    .colab-df-convert {\n",
              "      background-color: #E8F0FE;\n",
              "      border: none;\n",
              "      border-radius: 50%;\n",
              "      cursor: pointer;\n",
              "      display: none;\n",
              "      fill: #1967D2;\n",
              "      height: 32px;\n",
              "      padding: 0 0 0 0;\n",
              "      width: 32px;\n",
              "    }\n",
              "\n",
              "    .colab-df-convert:hover {\n",
              "      background-color: #E2EBFA;\n",
              "      box-shadow: 0px 1px 2px rgba(60, 64, 67, 0.3), 0px 1px 3px 1px rgba(60, 64, 67, 0.15);\n",
              "      fill: #174EA6;\n",
              "    }\n",
              "\n",
              "    [theme=dark] .colab-df-convert {\n",
              "      background-color: #3B4455;\n",
              "      fill: #D2E3FC;\n",
              "    }\n",
              "\n",
              "    [theme=dark] .colab-df-convert:hover {\n",
              "      background-color: #434B5C;\n",
              "      box-shadow: 0px 1px 3px 1px rgba(0, 0, 0, 0.15);\n",
              "      filter: drop-shadow(0px 1px 2px rgba(0, 0, 0, 0.3));\n",
              "      fill: #FFFFFF;\n",
              "    }\n",
              "  </style>\n",
              "\n",
              "      <script>\n",
              "        const buttonEl =\n",
              "          document.querySelector('#df-35258414-bbbb-4de5-8e40-789d0ebc6c6a button.colab-df-convert');\n",
              "        buttonEl.style.display =\n",
              "          google.colab.kernel.accessAllowed ? 'block' : 'none';\n",
              "\n",
              "        async function convertToInteractive(key) {\n",
              "          const element = document.querySelector('#df-35258414-bbbb-4de5-8e40-789d0ebc6c6a');\n",
              "          const dataTable =\n",
              "            await google.colab.kernel.invokeFunction('convertToInteractive',\n",
              "                                                     [key], {});\n",
              "          if (!dataTable) return;\n",
              "\n",
              "          const docLinkHtml = 'Like what you see? Visit the ' +\n",
              "            '<a target=\"_blank\" href=https://colab.research.google.com/notebooks/data_table.ipynb>data table notebook</a>'\n",
              "            + ' to learn more about interactive tables.';\n",
              "          element.innerHTML = '';\n",
              "          dataTable['output_type'] = 'display_data';\n",
              "          await google.colab.output.renderOutput(dataTable, element);\n",
              "          const docLink = document.createElement('div');\n",
              "          docLink.innerHTML = docLinkHtml;\n",
              "          element.appendChild(docLink);\n",
              "        }\n",
              "      </script>\n",
              "    </div>\n",
              "  </div>\n",
              "  "
            ]
          },
          "metadata": {},
          "execution_count": 9
        }
      ]
    },
    {
      "cell_type": "code",
      "source": [
        "df2.dtypes"
      ],
      "metadata": {
        "id": "6kC-deH0giws",
        "colab": {
          "base_uri": "https://localhost:8080/"
        },
        "outputId": "359c4ca7-8010-46c3-eb5e-2f00862f6d31"
      },
      "execution_count": null,
      "outputs": [
        {
          "output_type": "execute_result",
          "data": {
            "text/plain": [
              "PROF      float64\n",
              "VP        float64\n",
              "FACIES    float64\n",
              "VS        float64\n",
              "GR        float64\n",
              "POCO        int64\n",
              "dtype: object"
            ]
          },
          "metadata": {},
          "execution_count": 10
        }
      ]
    },
    {
      "cell_type": "code",
      "source": [
        "df2.shape"
      ],
      "metadata": {
        "id": "e3oELnDctqsq",
        "colab": {
          "base_uri": "https://localhost:8080/"
        },
        "outputId": "47fe8355-f9cd-4431-f742-31902d27e63a"
      },
      "execution_count": null,
      "outputs": [
        {
          "output_type": "execute_result",
          "data": {
            "text/plain": [
              "(23426, 6)"
            ]
          },
          "metadata": {},
          "execution_count": 11
        }
      ]
    },
    {
      "cell_type": "code",
      "source": [
        "df2['POCO'].value_counts()"
      ],
      "metadata": {
        "colab": {
          "base_uri": "https://localhost:8080/"
        },
        "id": "osJCGlu6LjPR",
        "outputId": "0b89b37f-c691-46a8-ee7e-72d43567f24d"
      },
      "execution_count": null,
      "outputs": [
        {
          "output_type": "execute_result",
          "data": {
            "text/plain": [
              "0    11884\n",
              "1    11542\n",
              "Name: POCO, dtype: int64"
            ]
          },
          "metadata": {},
          "execution_count": 12
        }
      ]
    },
    {
      "cell_type": "code",
      "source": [
        "df2['FACIES'].value_counts()"
      ],
      "metadata": {
        "colab": {
          "base_uri": "https://localhost:8080/"
        },
        "id": "xpWFn9TpLERq",
        "outputId": "3a507528-ca15-4c1e-e51c-4ff5d4d4ad7b"
      },
      "execution_count": null,
      "outputs": [
        {
          "output_type": "execute_result",
          "data": {
            "text/plain": [
              "0.0    19756\n",
              "1.0     1670\n",
              "2.0     1580\n",
              "3.0      420\n",
              "Name: FACIES, dtype: int64"
            ]
          },
          "metadata": {},
          "execution_count": 13
        }
      ]
    },
    {
      "cell_type": "code",
      "source": [
        "cor_dict={0:'grey',1:'purple',2:'blue',3:'pink'}\n",
        "fig = plt.figure(figsize=(10,5), dpi=100)\n",
        "sns.countplot(x='FACIES', data=df2, palette=cor_dict);"
      ],
      "metadata": {
        "colab": {
          "base_uri": "https://localhost:8080/"
        },
        "id": "SCoOdAOiI9TB",
        "outputId": "74aa2c42-8d3e-4bbe-c6d2-b69b7e8704a6"
      },
      "execution_count": null,
      "outputs": [
        {
          "output_type": "display_data",
          "data": {
            "text/plain": [
              "<Figure size 1000x500 with 1 Axes>"
            ],
            "image/png": "[encoded data removed]"
          },
          "metadata": {
            "needs_background": "light"
          }
        }
      ]
    },
    {
      "cell_type": "markdown",
      "source": [
        "## **LEGENDA**"
      ],
      "metadata": {
        "id": "khuvnjo8ta5k"
      }
    },
    {
      "cell_type": "markdown",
      "source": [
        "FACIES - HALITA = 0, ANIDRITA = 1, CARNALITA = 2 , TAQUIDRITA = 3\n",
        "\n",
        "Cor - HALITA = grey , ANIDRITA = purple, CARNALITA = blue, TAQUIDRITA = pink, \n",
        "\n",
        "cor_dict={0:'grey',1:'purple',2:'blue',3:'pink'}\n",
        "\n",
        "\n",
        "POCO - poco_1 = 0 , poco_2 = 1\n"
      ],
      "metadata": {
        "id": "9Kz8O68wpsY3"
      }
    },
    {
      "cell_type": "markdown",
      "source": [
        "## **ATRIBUTOS PREVISORES E ALVO**"
      ],
      "metadata": {
        "id": "_NBxZCLzC8Bl"
      }
    },
    {
      "cell_type": "code",
      "source": [
        "df2.head()"
      ],
      "metadata": {
        "id": "eLzWunR78ozP",
        "colab": {
          "base_uri": "https://localhost:8080/"
        },
        "outputId": "c3b910a6-8520-4f76-a7e6-48c875bc4402"
      },
      "execution_count": null,
      "outputs": [
        {
          "output_type": "execute_result",
          "data": {
            "text/plain": [
              "        PROF           VP  FACIES           VS         GR  POCO\n",
              "0  3103.0164  4392.102539     0.0  2491.250244  16.139494     0\n",
              "1  3103.1688  4368.245117     0.0  2502.714111  16.530527     0\n",
              "2  3103.3212  4354.002930     0.0  2517.204346  16.491985     0\n",
              "3  3103.4736  4349.213867     0.0  2529.218994  16.053066     0\n",
              "4  3103.6260  4354.245606     0.0  2535.076172  15.923628     0"
            ],
            "text/html": [
              "\n",
              "  <div id=\"df-91a9d9df-fa9b-41ca-be37-95bfb3264fcc\">\n",
              "    <div class=\"colab-df-container\">\n",
              "      <div>\n",
              "<style scoped>\n",
              "    .dataframe tbody tr th:only-of-type {\n",
              "        vertical-align: middle;\n",
              "    }\n",
              "\n",
              "    .dataframe tbody tr th {\n",
              "        vertical-align: top;\n",
              "    }\n",
              "\n",
              "    .dataframe thead th {\n",
              "        text-align: right;\n",
              "    }\n",
              "</style>\n",
              "<table border=\"1\" class=\"dataframe\">\n",
              "  <thead>\n",
              "    <tr style=\"text-align: right;\">\n",
              "      <th></th>\n",
              "      <th>PROF</th>\n",
              "      <th>VP</th>\n",
              "      <th>FACIES</th>\n",
              "      <th>VS</th>\n",
              "      <th>GR</th>\n",
              "      <th>POCO</th>\n",
              "    </tr>\n",
              "  </thead>\n",
              "  <tbody>\n",
              "    <tr>\n",
              "      <th>0</th>\n",
              "      <td>3103.0164</td>\n",
              "      <td>4392.102539</td>\n",
              "      <td>0.0</td>\n",
              "      <td>2491.250244</td>\n",
              "      <td>16.139494</td>\n",
              "      <td>0</td>\n",
              "    </tr>\n",
              "    <tr>\n",
              "      <th>1</th>\n",
              "      <td>3103.1688</td>\n",
              "      <td>4368.245117</td>\n",
              "      <td>0.0</td>\n",
              "      <td>2502.714111</td>\n",
              "      <td>16.530527</td>\n",
              "      <td>0</td>\n",
              "    </tr>\n",
              "    <tr>\n",
              "      <th>2</th>\n",
              "      <td>3103.3212</td>\n",
              "      <td>4354.002930</td>\n",
              "      <td>0.0</td>\n",
              "      <td>2517.204346</td>\n",
              "      <td>16.491985</td>\n",
              "      <td>0</td>\n",
              "    </tr>\n",
              "    <tr>\n",
              "      <th>3</th>\n",
              "      <td>3103.4736</td>\n",
              "      <td>4349.213867</td>\n",
              "      <td>0.0</td>\n",
              "      <td>2529.218994</td>\n",
              "      <td>16.053066</td>\n",
              "      <td>0</td>\n",
              "    </tr>\n",
              "    <tr>\n",
              "      <th>4</th>\n",
              "      <td>3103.6260</td>\n",
              "      <td>4354.245606</td>\n",
              "      <td>0.0</td>\n",
              "      <td>2535.076172</td>\n",
              "      <td>15.923628</td>\n",
              "      <td>0</td>\n",
              "    </tr>\n",
              "  </tbody>\n",
              "</table>\n",
              "</div>\n",
              "      <button class=\"colab-df-convert\" onclick=\"convertToInteractive('df-91a9d9df-fa9b-41ca-be37-95bfb3264fcc')\"\n",
              "              title=\"Convert this dataframe to an interactive table.\"\n",
              "              style=\"display:none;\">\n",
              "        \n",
              "  <svg xmlns=\"http://www.w3.org/2000/svg\" height=\"24px\"viewBox=\"0 0 24 24\"\n",
              "       width=\"24px\">\n",
              "    <path d=\"M0 0h24v24H0V0z\" fill=\"none\"/>\n",
              "    <path d=\"M18.56 5.44l.94 2.06.94-2.06 2.06-.94-2.06-.94-.94-2.06-.94 2.06-2.06.94zm-11 1L8.5 8.5l.94-2.06 2.06-.94-2.06-.94L8.5 2.5l-.94 2.06-2.06.94zm10 10l.94 2.06.94-2.06 2.06-.94-2.06-.94-.94-2.06-.94 2.06-2.06.94z\"/><path d=\"M17.41 7.96l-1.37-1.37c-.4-.4-.92-.59-1.43-.59-.52 0-1.04.2-1.43.59L10.3 9.45l-7.72 7.72c-.78.78-.78 2.05 0 2.83L4 21.41c.39.39.9.59 1.41.59.51 0 1.02-.2 1.41-.59l7.78-7.78 2.81-2.81c.8-.78.8-2.07 0-2.86zM5.41 20L4 18.59l7.72-7.72 1.47 1.35L5.41 20z\"/>\n",
              "  </svg>\n",
              "      </button>\n",
              "      \n",
              "  <style>\n",
              "    .colab-df-container {\n",
              "      display:flex;\n",
              "      flex-wrap:wrap;\n",
              "      gap: 12px;\n",
              "    }\n",
              "\n",
              "    .colab-df-convert {\n",
              "      background-color: #E8F0FE;\n",
              "      border: none;\n",
              "      border-radius: 50%;\n",
              "      cursor: pointer;\n",
              "      display: none;\n",
              "      fill: #1967D2;\n",
              "      height: 32px;\n",
              "      padding: 0 0 0 0;\n",
              "      width: 32px;\n",
              "    }\n",
              "\n",
              "    .colab-df-convert:hover {\n",
              "      background-color: #E2EBFA;\n",
              "      box-shadow: 0px 1px 2px rgba(60, 64, 67, 0.3), 0px 1px 3px 1px rgba(60, 64, 67, 0.15);\n",
              "      fill: #174EA6;\n",
              "    }\n",
              "\n",
              "    [theme=dark] .colab-df-convert {\n",
              "      background-color: #3B4455;\n",
              "      fill: #D2E3FC;\n",
              "    }\n",
              "\n",
              "    [theme=dark] .colab-df-convert:hover {\n",
              "      background-color: #434B5C;\n",
              "      box-shadow: 0px 1px 3px 1px rgba(0, 0, 0, 0.15);\n",
              "      filter: drop-shadow(0px 1px 2px rgba(0, 0, 0, 0.3));\n",
              "      fill: #FFFFFF;\n",
              "    }\n",
              "  </style>\n",
              "\n",
              "      <script>\n",
              "        const buttonEl =\n",
              "          document.querySelector('#df-91a9d9df-fa9b-41ca-be37-95bfb3264fcc button.colab-df-convert');\n",
              "        buttonEl.style.display =\n",
              "          google.colab.kernel.accessAllowed ? 'block' : 'none';\n",
              "\n",
              "        async function convertToInteractive(key) {\n",
              "          const element = document.querySelector('#df-91a9d9df-fa9b-41ca-be37-95bfb3264fcc');\n",
              "          const dataTable =\n",
              "            await google.colab.kernel.invokeFunction('convertToInteractive',\n",
              "                                                     [key], {});\n",
              "          if (!dataTable) return;\n",
              "\n",
              "          const docLinkHtml = 'Like what you see? Visit the ' +\n",
              "            '<a target=\"_blank\" href=https://colab.research.google.com/notebooks/data_table.ipynb>data table notebook</a>'\n",
              "            + ' to learn more about interactive tables.';\n",
              "          element.innerHTML = '';\n",
              "          dataTable['output_type'] = 'display_data';\n",
              "          await google.colab.output.renderOutput(dataTable, element);\n",
              "          const docLink = document.createElement('div');\n",
              "          docLink.innerHTML = docLinkHtml;\n",
              "          element.appendChild(docLink);\n",
              "        }\n",
              "      </script>\n",
              "    </div>\n",
              "  </div>\n",
              "  "
            ]
          },
          "metadata": {},
          "execution_count": 15
        }
      ]
    },
    {
      "cell_type": "code",
      "source": [
        "previsores = np.c_[df2.iloc[:, 1].values, df2.iloc[:, 3:5].values]"
      ],
      "metadata": {
        "id": "73Rfv5itRZ_P"
      },
      "execution_count": null,
      "outputs": []
    },
    {
      "cell_type": "code",
      "source": [
        "previsores"
      ],
      "metadata": {
        "id": "ZJjs6cWq-9Bn",
        "colab": {
          "base_uri": "https://localhost:8080/"
        },
        "outputId": "271cd5c2-0669-41d1-8d67-28bf566f07d8"
      },
      "execution_count": null,
      "outputs": [
        {
          "output_type": "execute_result",
          "data": {
            "text/plain": [
              "array([[4392.1025391 , 2491.2502441 ,   16.13949394],\n",
              "       [4368.2451172 , 2502.7141113 ,   16.53052712],\n",
              "       [4354.0029297 , 2517.2043457 ,   16.49198532],\n",
              "       ...,\n",
              "       [5594.0039063 , 3157.7043457 ,   23.27806282],\n",
              "       [5594.0039063 , 3157.7043457 ,   27.87416077],\n",
              "       [5548.5112305 , 3157.7043457 ,   22.99479866]])"
            ]
          },
          "metadata": {},
          "execution_count": 17
        }
      ]
    },
    {
      "cell_type": "code",
      "source": [
        "previsores.shape"
      ],
      "metadata": {
        "id": "KrtsyKXXAxTL",
        "colab": {
          "base_uri": "https://localhost:8080/"
        },
        "outputId": "de96b61d-9227-40b3-bf5b-07bab8af84aa"
      },
      "execution_count": null,
      "outputs": [
        {
          "output_type": "execute_result",
          "data": {
            "text/plain": [
              "(23426, 3)"
            ]
          },
          "metadata": {},
          "execution_count": 18
        }
      ]
    },
    {
      "cell_type": "code",
      "source": [
        "alvo = df2.iloc[:, 2].values"
      ],
      "metadata": {
        "id": "wdXWRjHMBAFo"
      },
      "execution_count": null,
      "outputs": []
    },
    {
      "cell_type": "code",
      "source": [
        "alvo"
      ],
      "metadata": {
        "id": "wK163BWgBJg2",
        "colab": {
          "base_uri": "https://localhost:8080/"
        },
        "outputId": "c5385da6-7ddf-4661-c8cc-23967143ed95"
      },
      "execution_count": null,
      "outputs": [
        {
          "output_type": "execute_result",
          "data": {
            "text/plain": [
              "array([0., 0., 0., ..., 1., 1., 1.])"
            ]
          },
          "metadata": {},
          "execution_count": 20
        }
      ]
    },
    {
      "cell_type": "code",
      "source": [
        "alvo.shape"
      ],
      "metadata": {
        "id": "RoSOdYF3BaOf",
        "colab": {
          "base_uri": "https://localhost:8080/"
        },
        "outputId": "c869d86c-4406-4907-d6ae-21e1c61139dd"
      },
      "execution_count": null,
      "outputs": [
        {
          "output_type": "execute_result",
          "data": {
            "text/plain": [
              "(23426,)"
            ]
          },
          "metadata": {},
          "execution_count": 21
        }
      ]
    },
    {
      "cell_type": "markdown",
      "source": [
        "## **Análise das escalas dos atributos (Escalonamento)**"
      ],
      "metadata": {
        "id": "Xw6d4rM0C9ZD"
      }
    },
    {
      "cell_type": "code",
      "source": [
        "df2.describe()"
      ],
      "metadata": {
        "id": "JzYfrEIxDHIL",
        "colab": {
          "base_uri": "https://localhost:8080/"
        },
        "outputId": "7e61d879-ecae-4049-f464-2dfd84d523c0"
      },
      "execution_count": null,
      "outputs": [
        {
          "output_type": "execute_result",
          "data": {
            "text/plain": [
              "               PROF            VP        FACIES            VS            GR  \\\n",
              "count  23426.000000  23426.000000  23426.000000  23426.000000  23426.000000   \n",
              "mean    3986.543137   4539.864054      0.259968   2520.558822     15.685612   \n",
              "std      516.587381    305.610356      0.659446    184.192511     19.466806   \n",
              "min     3083.814000   3025.522217      0.000000   1467.370239      1.124120   \n",
              "25%     3539.642400   4493.961792      0.000000   2517.390381      8.619925   \n",
              "50%     3985.869600   4525.891602      0.000000   2544.662720     11.447866   \n",
              "75%     4432.096800   4550.856934      0.000000   2569.796631     13.016943   \n",
              "max     4948.885200   6025.330566      3.000000   3157.704346    245.754974   \n",
              "\n",
              "               POCO  \n",
              "count  23426.000000  \n",
              "mean       0.492700  \n",
              "std        0.499957  \n",
              "min        0.000000  \n",
              "25%        0.000000  \n",
              "50%        0.000000  \n",
              "75%        1.000000  \n",
              "max        1.000000  "
            ],
            "text/html": [
              "\n",
              "  <div id=\"df-919d31b1-d79a-4e8d-85d5-0960a35ba523\">\n",
              "    <div class=\"colab-df-container\">\n",
              "      <div>\n",
              "<style scoped>\n",
              "    .dataframe tbody tr th:only-of-type {\n",
              "        vertical-align: middle;\n",
              "    }\n",
              "\n",
              "    .dataframe tbody tr th {\n",
              "        vertical-align: top;\n",
              "    }\n",
              "\n",
              "    .dataframe thead th {\n",
              "        text-align: right;\n",
              "    }\n",
              "</style>\n",
              "<table border=\"1\" class=\"dataframe\">\n",
              "  <thead>\n",
              "    <tr style=\"text-align: right;\">\n",
              "      <th></th>\n",
              "      <th>PROF</th>\n",
              "      <th>VP</th>\n",
              "      <th>FACIES</th>\n",
              "      <th>VS</th>\n",
              "      <th>GR</th>\n",
              "      <th>POCO</th>\n",
              "    </tr>\n",
              "  </thead>\n",
              "  <tbody>\n",
              "    <tr>\n",
              "      <th>count</th>\n",
              "      <td>23426.000000</td>\n",
              "      <td>23426.000000</td>\n",
              "      <td>23426.000000</td>\n",
              "      <td>23426.000000</td>\n",
              "      <td>23426.000000</td>\n",
              "      <td>23426.000000</td>\n",
              "    </tr>\n",
              "    <tr>\n",
              "      <th>mean</th>\n",
              "      <td>3986.543137</td>\n",
              "      <td>4539.864054</td>\n",
              "      <td>0.259968</td>\n",
              "      <td>2520.558822</td>\n",
              "      <td>15.685612</td>\n",
              "      <td>0.492700</td>\n",
              "    </tr>\n",
              "    <tr>\n",
              "      <th>std</th>\n",
              "      <td>516.587381</td>\n",
              "      <td>305.610356</td>\n",
              "      <td>0.659446</td>\n",
              "      <td>184.192511</td>\n",
              "      <td>19.466806</td>\n",
              "      <td>0.499957</td>\n",
              "    </tr>\n",
              "    <tr>\n",
              "      <th>min</th>\n",
              "      <td>3083.814000</td>\n",
              "      <td>3025.522217</td>\n",
              "      <td>0.000000</td>\n",
              "      <td>1467.370239</td>\n",
              "      <td>1.124120</td>\n",
              "      <td>0.000000</td>\n",
              "    </tr>\n",
              "    <tr>\n",
              "      <th>25%</th>\n",
              "      <td>3539.642400</td>\n",
              "      <td>4493.961792</td>\n",
              "      <td>0.000000</td>\n",
              "      <td>2517.390381</td>\n",
              "      <td>8.619925</td>\n",
              "      <td>0.000000</td>\n",
              "    </tr>\n",
              "    <tr>\n",
              "      <th>50%</th>\n",
              "      <td>3985.869600</td>\n",
              "      <td>4525.891602</td>\n",
              "      <td>0.000000</td>\n",
              "      <td>2544.662720</td>\n",
              "      <td>11.447866</td>\n",
              "      <td>0.000000</td>\n",
              "    </tr>\n",
              "    <tr>\n",
              "      <th>75%</th>\n",
              "      <td>4432.096800</td>\n",
              "      <td>4550.856934</td>\n",
              "      <td>0.000000</td>\n",
              "      <td>2569.796631</td>\n",
              "      <td>13.016943</td>\n",
              "      <td>1.000000</td>\n",
              "    </tr>\n",
              "    <tr>\n",
              "      <th>max</th>\n",
              "      <td>4948.885200</td>\n",
              "      <td>6025.330566</td>\n",
              "      <td>3.000000</td>\n",
              "      <td>3157.704346</td>\n",
              "      <td>245.754974</td>\n",
              "      <td>1.000000</td>\n",
              "    </tr>\n",
              "  </tbody>\n",
              "</table>\n",
              "</div>\n",
              "      <button class=\"colab-df-convert\" onclick=\"convertToInteractive('df-919d31b1-d79a-4e8d-85d5-0960a35ba523')\"\n",
              "              title=\"Convert this dataframe to an interactive table.\"\n",
              "              style=\"display:none;\">\n",
              "        \n",
              "  <svg xmlns=\"http://www.w3.org/2000/svg\" height=\"24px\"viewBox=\"0 0 24 24\"\n",
              "       width=\"24px\">\n",
              "    <path d=\"M0 0h24v24H0V0z\" fill=\"none\"/>\n",
              "    <path d=\"M18.56 5.44l.94 2.06.94-2.06 2.06-.94-2.06-.94-.94-2.06-.94 2.06-2.06.94zm-11 1L8.5 8.5l.94-2.06 2.06-.94-2.06-.94L8.5 2.5l-.94 2.06-2.06.94zm10 10l.94 2.06.94-2.06 2.06-.94-2.06-.94-.94-2.06-.94 2.06-2.06.94z\"/><path d=\"M17.41 7.96l-1.37-1.37c-.4-.4-.92-.59-1.43-.59-.52 0-1.04.2-1.43.59L10.3 9.45l-7.72 7.72c-.78.78-.78 2.05 0 2.83L4 21.41c.39.39.9.59 1.41.59.51 0 1.02-.2 1.41-.59l7.78-7.78 2.81-2.81c.8-.78.8-2.07 0-2.86zM5.41 20L4 18.59l7.72-7.72 1.47 1.35L5.41 20z\"/>\n",
              "  </svg>\n",
              "      </button>\n",
              "      \n",
              "  <style>\n",
              "    .colab-df-container {\n",
              "      display:flex;\n",
              "      flex-wrap:wrap;\n",
              "      gap: 12px;\n",
              "    }\n",
              "\n",
              "    .colab-df-convert {\n",
              "      background-color: #E8F0FE;\n",
              "      border: none;\n",
              "      border-radius: 50%;\n",
              "      cursor: pointer;\n",
              "      display: none;\n",
              "      fill: #1967D2;\n",
              "      height: 32px;\n",
              "      padding: 0 0 0 0;\n",
              "      width: 32px;\n",
              "    }\n",
              "\n",
              "    .colab-df-convert:hover {\n",
              "      background-color: #E2EBFA;\n",
              "      box-shadow: 0px 1px 2px rgba(60, 64, 67, 0.3), 0px 1px 3px 1px rgba(60, 64, 67, 0.15);\n",
              "      fill: #174EA6;\n",
              "    }\n",
              "\n",
              "    [theme=dark] .colab-df-convert {\n",
              "      background-color: #3B4455;\n",
              "      fill: #D2E3FC;\n",
              "    }\n",
              "\n",
              "    [theme=dark] .colab-df-convert:hover {\n",
              "      background-color: #434B5C;\n",
              "      box-shadow: 0px 1px 3px 1px rgba(0, 0, 0, 0.15);\n",
              "      filter: drop-shadow(0px 1px 2px rgba(0, 0, 0, 0.3));\n",
              "      fill: #FFFFFF;\n",
              "    }\n",
              "  </style>\n",
              "\n",
              "      <script>\n",
              "        const buttonEl =\n",
              "          document.querySelector('#df-919d31b1-d79a-4e8d-85d5-0960a35ba523 button.colab-df-convert');\n",
              "        buttonEl.style.display =\n",
              "          google.colab.kernel.accessAllowed ? 'block' : 'none';\n",
              "\n",
              "        async function convertToInteractive(key) {\n",
              "          const element = document.querySelector('#df-919d31b1-d79a-4e8d-85d5-0960a35ba523');\n",
              "          const dataTable =\n",
              "            await google.colab.kernel.invokeFunction('convertToInteractive',\n",
              "                                                     [key], {});\n",
              "          if (!dataTable) return;\n",
              "\n",
              "          const docLinkHtml = 'Like what you see? Visit the ' +\n",
              "            '<a target=\"_blank\" href=https://colab.research.google.com/notebooks/data_table.ipynb>data table notebook</a>'\n",
              "            + ' to learn more about interactive tables.';\n",
              "          element.innerHTML = '';\n",
              "          dataTable['output_type'] = 'display_data';\n",
              "          await google.colab.output.renderOutput(dataTable, element);\n",
              "          const docLink = document.createElement('div');\n",
              "          docLink.innerHTML = docLinkHtml;\n",
              "          element.appendChild(docLink);\n",
              "        }\n",
              "      </script>\n",
              "    </div>\n",
              "  </div>\n",
              "  "
            ]
          },
          "metadata": {},
          "execution_count": 22
        }
      ]
    },
    {
      "cell_type": "markdown",
      "source": [
        "**Padronização (utiliza a média e o desvio padrão como referência).**\n",
        "\n",
        "**Média zero e desvio padrão igual 1.**\n",
        "\n",
        "\n",
        "Normalização (utiliza os valores máximo e mínimo como referência)."
      ],
      "metadata": {
        "id": "XcSAxyqTD4dw"
      }
    },
    {
      "cell_type": "code",
      "source": [
        "from sklearn.preprocessing import StandardScaler"
      ],
      "metadata": {
        "id": "eMoVJG5kEJSG"
      },
      "execution_count": null,
      "outputs": []
    },
    {
      "cell_type": "code",
      "source": [
        "previsores_esc = StandardScaler().fit_transform(previsores)"
      ],
      "metadata": {
        "id": "0DpkgD9REQ7m"
      },
      "execution_count": null,
      "outputs": []
    },
    {
      "cell_type": "code",
      "source": [
        "previsores_esc"
      ],
      "metadata": {
        "id": "qmoQSiWMEr0k",
        "colab": {
          "base_uri": "https://localhost:8080/"
        },
        "outputId": "aaebc2b5-1e92-40de-f099-3ab5aa41fccc"
      },
      "execution_count": null,
      "outputs": [
        {
          "output_type": "execute_result",
          "data": {
            "text/plain": [
              "array([[-0.48350675, -0.15912266,  0.0233162 ],\n",
              "       [-0.56157325, -0.09688283,  0.04340381],\n",
              "       [-0.60817668, -0.01821218,  0.04142389],\n",
              "       ...,\n",
              "       [ 3.44936724,  3.45920212,  0.39002871],\n",
              "       [ 3.44936724,  3.45920212,  0.62613298],\n",
              "       [ 3.30050564,  3.45920212,  0.37547726]])"
            ]
          },
          "metadata": {},
          "execution_count": 25
        }
      ]
    },
    {
      "cell_type": "code",
      "source": [
        "previsoresdf = pd.DataFrame(previsores_esc)\n",
        "previsoresdf"
      ],
      "metadata": {
        "id": "aFabOc6kFLMu",
        "colab": {
          "base_uri": "https://localhost:8080/"
        },
        "outputId": "30e2ce85-5e60-474e-b8a3-b61fa636be2a"
      },
      "execution_count": null,
      "outputs": [
        {
          "output_type": "execute_result",
          "data": {
            "text/plain": [
              "              0         1         2\n",
              "0     -0.483507 -0.159123  0.023316\n",
              "1     -0.561573 -0.096883  0.043404\n",
              "2     -0.608177 -0.018212  0.041424\n",
              "3     -0.623847  0.047018  0.018876\n",
              "4     -0.607383  0.078818  0.012227\n",
              "...         ...       ...       ...\n",
              "23421  3.449367  3.459202 -0.072600\n",
              "23422  3.449367  3.459202  0.118140\n",
              "23423  3.449367  3.459202  0.390029\n",
              "23424  3.449367  3.459202  0.626133\n",
              "23425  3.300506  3.459202  0.375477\n",
              "\n",
              "[23426 rows x 3 columns]"
            ],
            "text/html": [
              "\n",
              "  <div id=\"df-957ba57f-4673-47c4-a267-8dde1aebaad8\">\n",
              "    <div class=\"colab-df-container\">\n",
              "      <div>\n",
              "<style scoped>\n",
              "    .dataframe tbody tr th:only-of-type {\n",
              "        vertical-align: middle;\n",
              "    }\n",
              "\n",
              "    .dataframe tbody tr th {\n",
              "        vertical-align: top;\n",
              "    }\n",
              "\n",
              "    .dataframe thead th {\n",
              "        text-align: right;\n",
              "    }\n",
              "</style>\n",
              "<table border=\"1\" class=\"dataframe\">\n",
              "  <thead>\n",
              "    <tr style=\"text-align: right;\">\n",
              "      <th></th>\n",
              "      <th>0</th>\n",
              "      <th>1</th>\n",
              "      <th>2</th>\n",
              "    </tr>\n",
              "  </thead>\n",
              "  <tbody>\n",
              "    <tr>\n",
              "      <th>0</th>\n",
              "      <td>-0.483507</td>\n",
              "      <td>-0.159123</td>\n",
              "      <td>0.023316</td>\n",
              "    </tr>\n",
              "    <tr>\n",
              "      <th>1</th>\n",
              "      <td>-0.561573</td>\n",
              "      <td>-0.096883</td>\n",
              "      <td>0.043404</td>\n",
              "    </tr>\n",
              "    <tr>\n",
              "      <th>2</th>\n",
              "      <td>-0.608177</td>\n",
              "      <td>-0.018212</td>\n",
              "      <td>0.041424</td>\n",
              "    </tr>\n",
              "    <tr>\n",
              "      <th>3</th>\n",
              "      <td>-0.623847</td>\n",
              "      <td>0.047018</td>\n",
              "      <td>0.018876</td>\n",
              "    </tr>\n",
              "    <tr>\n",
              "      <th>4</th>\n",
              "      <td>-0.607383</td>\n",
              "      <td>0.078818</td>\n",
              "      <td>0.012227</td>\n",
              "    </tr>\n",
              "    <tr>\n",
              "      <th>...</th>\n",
              "      <td>...</td>\n",
              "      <td>...</td>\n",
              "      <td>...</td>\n",
              "    </tr>\n",
              "    <tr>\n",
              "      <th>23421</th>\n",
              "      <td>3.449367</td>\n",
              "      <td>3.459202</td>\n",
              "      <td>-0.072600</td>\n",
              "    </tr>\n",
              "    <tr>\n",
              "      <th>23422</th>\n",
              "      <td>3.449367</td>\n",
              "      <td>3.459202</td>\n",
              "      <td>0.118140</td>\n",
              "    </tr>\n",
              "    <tr>\n",
              "      <th>23423</th>\n",
              "      <td>3.449367</td>\n",
              "      <td>3.459202</td>\n",
              "      <td>0.390029</td>\n",
              "    </tr>\n",
              "    <tr>\n",
              "      <th>23424</th>\n",
              "      <td>3.449367</td>\n",
              "      <td>3.459202</td>\n",
              "      <td>0.626133</td>\n",
              "    </tr>\n",
              "    <tr>\n",
              "      <th>23425</th>\n",
              "      <td>3.300506</td>\n",
              "      <td>3.459202</td>\n",
              "      <td>0.375477</td>\n",
              "    </tr>\n",
              "  </tbody>\n",
              "</table>\n",
              "<p>23426 rows × 3 columns</p>\n",
              "</div>\n",
              "      <button class=\"colab-df-convert\" onclick=\"convertToInteractive('df-957ba57f-4673-47c4-a267-8dde1aebaad8')\"\n",
              "              title=\"Convert this dataframe to an interactive table.\"\n",
              "              style=\"display:none;\">\n",
              "        \n",
              "  <svg xmlns=\"http://www.w3.org/2000/svg\" height=\"24px\"viewBox=\"0 0 24 24\"\n",
              "       width=\"24px\">\n",
              "    <path d=\"M0 0h24v24H0V0z\" fill=\"none\"/>\n",
              "    <path d=\"M18.56 5.44l.94 2.06.94-2.06 2.06-.94-2.06-.94-.94-2.06-.94 2.06-2.06.94zm-11 1L8.5 8.5l.94-2.06 2.06-.94-2.06-.94L8.5 2.5l-.94 2.06-2.06.94zm10 10l.94 2.06.94-2.06 2.06-.94-2.06-.94-.94-2.06-.94 2.06-2.06.94z\"/><path d=\"M17.41 7.96l-1.37-1.37c-.4-.4-.92-.59-1.43-.59-.52 0-1.04.2-1.43.59L10.3 9.45l-7.72 7.72c-.78.78-.78 2.05 0 2.83L4 21.41c.39.39.9.59 1.41.59.51 0 1.02-.2 1.41-.59l7.78-7.78 2.81-2.81c.8-.78.8-2.07 0-2.86zM5.41 20L4 18.59l7.72-7.72 1.47 1.35L5.41 20z\"/>\n",
              "  </svg>\n",
              "      </button>\n",
              "      \n",
              "  <style>\n",
              "    .colab-df-container {\n",
              "      display:flex;\n",
              "      flex-wrap:wrap;\n",
              "      gap: 12px;\n",
              "    }\n",
              "\n",
              "    .colab-df-convert {\n",
              "      background-color: #E8F0FE;\n",
              "      border: none;\n",
              "      border-radius: 50%;\n",
              "      cursor: pointer;\n",
              "      display: none;\n",
              "      fill: #1967D2;\n",
              "      height: 32px;\n",
              "      padding: 0 0 0 0;\n",
              "      width: 32px;\n",
              "    }\n",
              "\n",
              "    .colab-df-convert:hover {\n",
              "      background-color: #E2EBFA;\n",
              "      box-shadow: 0px 1px 2px rgba(60, 64, 67, 0.3), 0px 1px 3px 1px rgba(60, 64, 67, 0.15);\n",
              "      fill: #174EA6;\n",
              "    }\n",
              "\n",
              "    [theme=dark] .colab-df-convert {\n",
              "      background-color: #3B4455;\n",
              "      fill: #D2E3FC;\n",
              "    }\n",
              "\n",
              "    [theme=dark] .colab-df-convert:hover {\n",
              "      background-color: #434B5C;\n",
              "      box-shadow: 0px 1px 3px 1px rgba(0, 0, 0, 0.15);\n",
              "      filter: drop-shadow(0px 1px 2px rgba(0, 0, 0, 0.3));\n",
              "      fill: #FFFFFF;\n",
              "    }\n",
              "  </style>\n",
              "\n",
              "      <script>\n",
              "        const buttonEl =\n",
              "          document.querySelector('#df-957ba57f-4673-47c4-a267-8dde1aebaad8 button.colab-df-convert');\n",
              "        buttonEl.style.display =\n",
              "          google.colab.kernel.accessAllowed ? 'block' : 'none';\n",
              "\n",
              "        async function convertToInteractive(key) {\n",
              "          const element = document.querySelector('#df-957ba57f-4673-47c4-a267-8dde1aebaad8');\n",
              "          const dataTable =\n",
              "            await google.colab.kernel.invokeFunction('convertToInteractive',\n",
              "                                                     [key], {});\n",
              "          if (!dataTable) return;\n",
              "\n",
              "          const docLinkHtml = 'Like what you see? Visit the ' +\n",
              "            '<a target=\"_blank\" href=https://colab.research.google.com/notebooks/data_table.ipynb>data table notebook</a>'\n",
              "            + ' to learn more about interactive tables.';\n",
              "          element.innerHTML = '';\n",
              "          dataTable['output_type'] = 'display_data';\n",
              "          await google.colab.output.renderOutput(dataTable, element);\n",
              "          const docLink = document.createElement('div');\n",
              "          docLink.innerHTML = docLinkHtml;\n",
              "          element.appendChild(docLink);\n",
              "        }\n",
              "      </script>\n",
              "    </div>\n",
              "  </div>\n",
              "  "
            ]
          },
          "metadata": {},
          "execution_count": 26
        }
      ]
    },
    {
      "cell_type": "code",
      "source": [
        "previsoresdf.describe()"
      ],
      "metadata": {
        "id": "cXVXsyAtFWSo",
        "colab": {
          "base_uri": "https://localhost:8080/"
        },
        "outputId": "4210d808-8e76-41d2-87ac-4a944770a837"
      },
      "execution_count": null,
      "outputs": [
        {
          "output_type": "execute_result",
          "data": {
            "text/plain": [
              "                  0             1             2\n",
              "count  2.342600e+04  2.342600e+04  2.342600e+04\n",
              "mean   7.279529e-18  2.038268e-15 -4.853020e-17\n",
              "std    1.000021e+00  1.000021e+00  1.000021e+00\n",
              "min   -4.955245e+00 -5.717991e+00 -7.480325e-01\n",
              "25%   -1.502019e-01 -1.720216e-02 -3.629685e-01\n",
              "50%   -4.572080e-02  1.308653e-01 -2.176955e-01\n",
              "75%    3.597101e-02  2.673228e-01 -1.370911e-01\n",
              "max    4.860759e+00  3.459202e+00  1.181880e+01"
            ],
            "text/html": [
              "\n",
              "  <div id=\"df-cf18a8bc-7072-404c-9f4c-5bbd7541dc78\">\n",
              "    <div class=\"colab-df-container\">\n",
              "      <div>\n",
              "<style scoped>\n",
              "    .dataframe tbody tr th:only-of-type {\n",
              "        vertical-align: middle;\n",
              "    }\n",
              "\n",
              "    .dataframe tbody tr th {\n",
              "        vertical-align: top;\n",
              "    }\n",
              "\n",
              "    .dataframe thead th {\n",
              "        text-align: right;\n",
              "    }\n",
              "</style>\n",
              "<table border=\"1\" class=\"dataframe\">\n",
              "  <thead>\n",
              "    <tr style=\"text-align: right;\">\n",
              "      <th></th>\n",
              "      <th>0</th>\n",
              "      <th>1</th>\n",
              "      <th>2</th>\n",
              "    </tr>\n",
              "  </thead>\n",
              "  <tbody>\n",
              "    <tr>\n",
              "      <th>count</th>\n",
              "      <td>2.342600e+04</td>\n",
              "      <td>2.342600e+04</td>\n",
              "      <td>2.342600e+04</td>\n",
              "    </tr>\n",
              "    <tr>\n",
              "      <th>mean</th>\n",
              "      <td>7.279529e-18</td>\n",
              "      <td>2.038268e-15</td>\n",
              "      <td>-4.853020e-17</td>\n",
              "    </tr>\n",
              "    <tr>\n",
              "      <th>std</th>\n",
              "      <td>1.000021e+00</td>\n",
              "      <td>1.000021e+00</td>\n",
              "      <td>1.000021e+00</td>\n",
              "    </tr>\n",
              "    <tr>\n",
              "      <th>min</th>\n",
              "      <td>-4.955245e+00</td>\n",
              "      <td>-5.717991e+00</td>\n",
              "      <td>-7.480325e-01</td>\n",
              "    </tr>\n",
              "    <tr>\n",
              "      <th>25%</th>\n",
              "      <td>-1.502019e-01</td>\n",
              "      <td>-1.720216e-02</td>\n",
              "      <td>-3.629685e-01</td>\n",
              "    </tr>\n",
              "    <tr>\n",
              "      <th>50%</th>\n",
              "      <td>-4.572080e-02</td>\n",
              "      <td>1.308653e-01</td>\n",
              "      <td>-2.176955e-01</td>\n",
              "    </tr>\n",
              "    <tr>\n",
              "      <th>75%</th>\n",
              "      <td>3.597101e-02</td>\n",
              "      <td>2.673228e-01</td>\n",
              "      <td>-1.370911e-01</td>\n",
              "    </tr>\n",
              "    <tr>\n",
              "      <th>max</th>\n",
              "      <td>4.860759e+00</td>\n",
              "      <td>3.459202e+00</td>\n",
              "      <td>1.181880e+01</td>\n",
              "    </tr>\n",
              "  </tbody>\n",
              "</table>\n",
              "</div>\n",
              "      <button class=\"colab-df-convert\" onclick=\"convertToInteractive('df-cf18a8bc-7072-404c-9f4c-5bbd7541dc78')\"\n",
              "              title=\"Convert this dataframe to an interactive table.\"\n",
              "              style=\"display:none;\">\n",
              "        \n",
              "  <svg xmlns=\"http://www.w3.org/2000/svg\" height=\"24px\"viewBox=\"0 0 24 24\"\n",
              "       width=\"24px\">\n",
              "    <path d=\"M0 0h24v24H0V0z\" fill=\"none\"/>\n",
              "    <path d=\"M18.56 5.44l.94 2.06.94-2.06 2.06-.94-2.06-.94-.94-2.06-.94 2.06-2.06.94zm-11 1L8.5 8.5l.94-2.06 2.06-.94-2.06-.94L8.5 2.5l-.94 2.06-2.06.94zm10 10l.94 2.06.94-2.06 2.06-.94-2.06-.94-.94-2.06-.94 2.06-2.06.94z\"/><path d=\"M17.41 7.96l-1.37-1.37c-.4-.4-.92-.59-1.43-.59-.52 0-1.04.2-1.43.59L10.3 9.45l-7.72 7.72c-.78.78-.78 2.05 0 2.83L4 21.41c.39.39.9.59 1.41.59.51 0 1.02-.2 1.41-.59l7.78-7.78 2.81-2.81c.8-.78.8-2.07 0-2.86zM5.41 20L4 18.59l7.72-7.72 1.47 1.35L5.41 20z\"/>\n",
              "  </svg>\n",
              "      </button>\n",
              "      \n",
              "  <style>\n",
              "    .colab-df-container {\n",
              "      display:flex;\n",
              "      flex-wrap:wrap;\n",
              "      gap: 12px;\n",
              "    }\n",
              "\n",
              "    .colab-df-convert {\n",
              "      background-color: #E8F0FE;\n",
              "      border: none;\n",
              "      border-radius: 50%;\n",
              "      cursor: pointer;\n",
              "      display: none;\n",
              "      fill: #1967D2;\n",
              "      height: 32px;\n",
              "      padding: 0 0 0 0;\n",
              "      width: 32px;\n",
              "    }\n",
              "\n",
              "    .colab-df-convert:hover {\n",
              "      background-color: #E2EBFA;\n",
              "      box-shadow: 0px 1px 2px rgba(60, 64, 67, 0.3), 0px 1px 3px 1px rgba(60, 64, 67, 0.15);\n",
              "      fill: #174EA6;\n",
              "    }\n",
              "\n",
              "    [theme=dark] .colab-df-convert {\n",
              "      background-color: #3B4455;\n",
              "      fill: #D2E3FC;\n",
              "    }\n",
              "\n",
              "    [theme=dark] .colab-df-convert:hover {\n",
              "      background-color: #434B5C;\n",
              "      box-shadow: 0px 1px 3px 1px rgba(0, 0, 0, 0.15);\n",
              "      filter: drop-shadow(0px 1px 2px rgba(0, 0, 0, 0.3));\n",
              "      fill: #FFFFFF;\n",
              "    }\n",
              "  </style>\n",
              "\n",
              "      <script>\n",
              "        const buttonEl =\n",
              "          document.querySelector('#df-cf18a8bc-7072-404c-9f4c-5bbd7541dc78 button.colab-df-convert');\n",
              "        buttonEl.style.display =\n",
              "          google.colab.kernel.accessAllowed ? 'block' : 'none';\n",
              "\n",
              "        async function convertToInteractive(key) {\n",
              "          const element = document.querySelector('#df-cf18a8bc-7072-404c-9f4c-5bbd7541dc78');\n",
              "          const dataTable =\n",
              "            await google.colab.kernel.invokeFunction('convertToInteractive',\n",
              "                                                     [key], {});\n",
              "          if (!dataTable) return;\n",
              "\n",
              "          const docLinkHtml = 'Like what you see? Visit the ' +\n",
              "            '<a target=\"_blank\" href=https://colab.research.google.com/notebooks/data_table.ipynb>data table notebook</a>'\n",
              "            + ' to learn more about interactive tables.';\n",
              "          element.innerHTML = '';\n",
              "          dataTable['output_type'] = 'display_data';\n",
              "          await google.colab.output.renderOutput(dataTable, element);\n",
              "          const docLink = document.createElement('div');\n",
              "          docLink.innerHTML = docLinkHtml;\n",
              "          element.appendChild(docLink);\n",
              "        }\n",
              "      </script>\n",
              "    </div>\n",
              "  </div>\n",
              "  "
            ]
          },
          "metadata": {},
          "execution_count": 27
        }
      ]
    },
    {
      "cell_type": "code",
      "source": [
        "fig,axes = plt.subplots(nrows=1,ncols=3,figsize=(25,5))\n",
        "sel = ['VP', 'VS', 'GR']\n",
        "for i,l in enumerate(sel):\n",
        "    sns.histplot(df2.loc[:,l],bins=50,kde=False,label=l,ax=axes[i])"
      ],
      "metadata": {
        "colab": {
          "base_uri": "https://localhost:8080/"
        },
        "id": "ZkZ_Uz9BU_J1",
        "outputId": "04cd6758-5224-461e-fdc8-4738e2fc6566"
      },
      "execution_count": null,
      "outputs": [
        {
          "output_type": "display_data",
          "data": {
            "text/plain": [
              "<Figure size 1800x360 with 3 Axes>"
            ],
            "image/png": "[encoded data removed]"
          },
          "metadata": {
            "needs_background": "light"
          }
        }
      ]
    },
    {
      "cell_type": "code",
      "source": [
        "fig,axes = plt.subplots(nrows=1,ncols=3,figsize=(25,5))\n",
        "for i in range(0,3):\n",
        "    sns.histplot(previsores_esc[:,i],bins=50,kde=True,label=l,ax=axes[i])"
      ],
      "metadata": {
        "colab": {
          "base_uri": "https://localhost:8080/"
        },
        "id": "-5-G_jkrYNU0",
        "outputId": "de34147e-c562-4416-9dc1-a633d405918e"
      },
      "execution_count": null,
      "outputs": [
        {
          "output_type": "display_data",
          "data": {
            "text/plain": [
              "<Figure size 1800x360 with 3 Axes>"
            ],
            "image/png": "[encoded data removed]"
          },
          "metadata": {
            "needs_background": "light"
          }
        }
      ]
    },
    {
      "cell_type": "markdown",
      "source": [
        "## **Codificação de variáveis categóricas**"
      ],
      "metadata": {
        "id": "HU3ZNfuI0BaL"
      }
    },
    {
      "cell_type": "markdown",
      "source": [
        "### **LabelEncoder: transformação de variáveis categóricas em numéricas**\n"
      ],
      "metadata": {
        "id": "lPObOxwx0Qy5"
      }
    },
    {
      "cell_type": "code",
      "source": [
        "from sklearn.preprocessing import LabelEncoder"
      ],
      "metadata": {
        "id": "oLt4fZ620l-5"
      },
      "execution_count": null,
      "outputs": []
    },
    {
      "cell_type": "code",
      "source": [
        "df.head()"
      ],
      "metadata": {
        "id": "oJc1Q36h1Ls_",
        "colab": {
          "base_uri": "https://localhost:8080/"
        },
        "outputId": "8979b667-82ce-41dd-af29-846679534057"
      },
      "execution_count": null,
      "outputs": [
        {
          "output_type": "execute_result",
          "data": {
            "text/plain": [
              "        PROF           VP  FACIES           VS         GR    POCO\n",
              "0  3103.0164  4392.102539    85.0  2491.250244  16.139494  poco_1\n",
              "1  3103.1688  4368.245117    85.0  2502.714111  16.530527  poco_1\n",
              "2  3103.3212  4354.002930    85.0  2517.204346  16.491985  poco_1\n",
              "3  3103.4736  4349.213867    85.0  2529.218994  16.053066  poco_1\n",
              "4  3103.6260  4354.245606    85.0  2535.076172  15.923628  poco_1"
            ],
            "text/html": [
              "\n",
              "  <div id=\"df-968c3353-733b-476b-b2c0-40d57c72dc8f\">\n",
              "    <div class=\"colab-df-container\">\n",
              "      <div>\n",
              "<style scoped>\n",
              "    .dataframe tbody tr th:only-of-type {\n",
              "        vertical-align: middle;\n",
              "    }\n",
              "\n",
              "    .dataframe tbody tr th {\n",
              "        vertical-align: top;\n",
              "    }\n",
              "\n",
              "    .dataframe thead th {\n",
              "        text-align: right;\n",
              "    }\n",
              "</style>\n",
              "<table border=\"1\" class=\"dataframe\">\n",
              "  <thead>\n",
              "    <tr style=\"text-align: right;\">\n",
              "      <th></th>\n",
              "      <th>PROF</th>\n",
              "      <th>VP</th>\n",
              "      <th>FACIES</th>\n",
              "      <th>VS</th>\n",
              "      <th>GR</th>\n",
              "      <th>POCO</th>\n",
              "    </tr>\n",
              "  </thead>\n",
              "  <tbody>\n",
              "    <tr>\n",
              "      <th>0</th>\n",
              "      <td>3103.0164</td>\n",
              "      <td>4392.102539</td>\n",
              "      <td>85.0</td>\n",
              "      <td>2491.250244</td>\n",
              "      <td>16.139494</td>\n",
              "      <td>poco_1</td>\n",
              "    </tr>\n",
              "    <tr>\n",
              "      <th>1</th>\n",
              "      <td>3103.1688</td>\n",
              "      <td>4368.245117</td>\n",
              "      <td>85.0</td>\n",
              "      <td>2502.714111</td>\n",
              "      <td>16.530527</td>\n",
              "      <td>poco_1</td>\n",
              "    </tr>\n",
              "    <tr>\n",
              "      <th>2</th>\n",
              "      <td>3103.3212</td>\n",
              "      <td>4354.002930</td>\n",
              "      <td>85.0</td>\n",
              "      <td>2517.204346</td>\n",
              "      <td>16.491985</td>\n",
              "      <td>poco_1</td>\n",
              "    </tr>\n",
              "    <tr>\n",
              "      <th>3</th>\n",
              "      <td>3103.4736</td>\n",
              "      <td>4349.213867</td>\n",
              "      <td>85.0</td>\n",
              "      <td>2529.218994</td>\n",
              "      <td>16.053066</td>\n",
              "      <td>poco_1</td>\n",
              "    </tr>\n",
              "    <tr>\n",
              "      <th>4</th>\n",
              "      <td>3103.6260</td>\n",
              "      <td>4354.245606</td>\n",
              "      <td>85.0</td>\n",
              "      <td>2535.076172</td>\n",
              "      <td>15.923628</td>\n",
              "      <td>poco_1</td>\n",
              "    </tr>\n",
              "  </tbody>\n",
              "</table>\n",
              "</div>\n",
              "      <button class=\"colab-df-convert\" onclick=\"convertToInteractive('df-968c3353-733b-476b-b2c0-40d57c72dc8f')\"\n",
              "              title=\"Convert this dataframe to an interactive table.\"\n",
              "              style=\"display:none;\">\n",
              "        \n",
              "  <svg xmlns=\"http://www.w3.org/2000/svg\" height=\"24px\"viewBox=\"0 0 24 24\"\n",
              "       width=\"24px\">\n",
              "    <path d=\"M0 0h24v24H0V0z\" fill=\"none\"/>\n",
              "    <path d=\"M18.56 5.44l.94 2.06.94-2.06 2.06-.94-2.06-.94-.94-2.06-.94 2.06-2.06.94zm-11 1L8.5 8.5l.94-2.06 2.06-.94-2.06-.94L8.5 2.5l-.94 2.06-2.06.94zm10 10l.94 2.06.94-2.06 2.06-.94-2.06-.94-.94-2.06-.94 2.06-2.06.94z\"/><path d=\"M17.41 7.96l-1.37-1.37c-.4-.4-.92-.59-1.43-.59-.52 0-1.04.2-1.43.59L10.3 9.45l-7.72 7.72c-.78.78-.78 2.05 0 2.83L4 21.41c.39.39.9.59 1.41.59.51 0 1.02-.2 1.41-.59l7.78-7.78 2.81-2.81c.8-.78.8-2.07 0-2.86zM5.41 20L4 18.59l7.72-7.72 1.47 1.35L5.41 20z\"/>\n",
              "  </svg>\n",
              "      </button>\n",
              "      \n",
              "  <style>\n",
              "    .colab-df-container {\n",
              "      display:flex;\n",
              "      flex-wrap:wrap;\n",
              "      gap: 12px;\n",
              "    }\n",
              "\n",
              "    .colab-df-convert {\n",
              "      background-color: #E8F0FE;\n",
              "      border: none;\n",
              "      border-radius: 50%;\n",
              "      cursor: pointer;\n",
              "      display: none;\n",
              "      fill: #1967D2;\n",
              "      height: 32px;\n",
              "      padding: 0 0 0 0;\n",
              "      width: 32px;\n",
              "    }\n",
              "\n",
              "    .colab-df-convert:hover {\n",
              "      background-color: #E2EBFA;\n",
              "      box-shadow: 0px 1px 2px rgba(60, 64, 67, 0.3), 0px 1px 3px 1px rgba(60, 64, 67, 0.15);\n",
              "      fill: #174EA6;\n",
              "    }\n",
              "\n",
              "    [theme=dark] .colab-df-convert {\n",
              "      background-color: #3B4455;\n",
              "      fill: #D2E3FC;\n",
              "    }\n",
              "\n",
              "    [theme=dark] .colab-df-convert:hover {\n",
              "      background-color: #434B5C;\n",
              "      box-shadow: 0px 1px 3px 1px rgba(0, 0, 0, 0.15);\n",
              "      filter: drop-shadow(0px 1px 2px rgba(0, 0, 0, 0.3));\n",
              "      fill: #FFFFFF;\n",
              "    }\n",
              "  </style>\n",
              "\n",
              "      <script>\n",
              "        const buttonEl =\n",
              "          document.querySelector('#df-968c3353-733b-476b-b2c0-40d57c72dc8f button.colab-df-convert');\n",
              "        buttonEl.style.display =\n",
              "          google.colab.kernel.accessAllowed ? 'block' : 'none';\n",
              "\n",
              "        async function convertToInteractive(key) {\n",
              "          const element = document.querySelector('#df-968c3353-733b-476b-b2c0-40d57c72dc8f');\n",
              "          const dataTable =\n",
              "            await google.colab.kernel.invokeFunction('convertToInteractive',\n",
              "                                                     [key], {});\n",
              "          if (!dataTable) return;\n",
              "\n",
              "          const docLinkHtml = 'Like what you see? Visit the ' +\n",
              "            '<a target=\"_blank\" href=https://colab.research.google.com/notebooks/data_table.ipynb>data table notebook</a>'\n",
              "            + ' to learn more about interactive tables.';\n",
              "          element.innerHTML = '';\n",
              "          dataTable['output_type'] = 'display_data';\n",
              "          await google.colab.output.renderOutput(dataTable, element);\n",
              "          const docLink = document.createElement('div');\n",
              "          docLink.innerHTML = docLinkHtml;\n",
              "          element.appendChild(docLink);\n",
              "        }\n",
              "      </script>\n",
              "    </div>\n",
              "  </div>\n",
              "  "
            ]
          },
          "metadata": {},
          "execution_count": 31
        }
      ]
    },
    {
      "cell_type": "code",
      "source": [
        "previsores2 = np.c_[df2.iloc[:, 1].values, df2.iloc[:, 3:5].values]\n",
        "previsores2"
      ],
      "metadata": {
        "id": "0VFq4NJ_181-",
        "colab": {
          "base_uri": "https://localhost:8080/"
        },
        "outputId": "f4f3e089-803f-47a7-873d-e89b9422aede"
      },
      "execution_count": null,
      "outputs": [
        {
          "output_type": "execute_result",
          "data": {
            "text/plain": [
              "array([[4392.1025391 , 2491.2502441 ,   16.13949394],\n",
              "       [4368.2451172 , 2502.7141113 ,   16.53052712],\n",
              "       [4354.0029297 , 2517.2043457 ,   16.49198532],\n",
              "       ...,\n",
              "       [5594.0039063 , 3157.7043457 ,   23.27806282],\n",
              "       [5594.0039063 , 3157.7043457 ,   27.87416077],\n",
              "       [5548.5112305 , 3157.7043457 ,   22.99479866]])"
            ]
          },
          "metadata": {},
          "execution_count": 32
        }
      ]
    },
    {
      "cell_type": "markdown",
      "source": [
        "Outra forma de transformar as variáveis categóricas em numéricas.\n",
        "\n",
        "Essa forma não se tem tanto controle quanto a anterior. Aqui as fácies estão com números diferentes da anterior. "
      ],
      "metadata": {
        "id": "MwVLu2ZxbduD"
      }
    },
    {
      "cell_type": "code",
      "source": [
        "alvo2 = df.iloc[:, 2].values.copy()\n",
        "alvo2"
      ],
      "metadata": {
        "colab": {
          "base_uri": "https://localhost:8080/"
        },
        "id": "_3A1e7EGbBqV",
        "outputId": "2bc11e50-84c8-4f39-fcfa-5554cb27bf2a"
      },
      "execution_count": null,
      "outputs": [
        {
          "output_type": "execute_result",
          "data": {
            "text/plain": [
              "array([85., 85., 85., ..., 82., 82., 82.])"
            ]
          },
          "metadata": {},
          "execution_count": 33
        }
      ]
    },
    {
      "cell_type": "code",
      "source": [
        "alvo2[:] = LabelEncoder().fit_transform(alvo2[:])"
      ],
      "metadata": {
        "id": "36oIQ8I10nin"
      },
      "execution_count": null,
      "outputs": []
    },
    {
      "cell_type": "code",
      "source": [
        "alvo2"
      ],
      "metadata": {
        "id": "IZQuLVsb1kMW",
        "colab": {
          "base_uri": "https://localhost:8080/"
        },
        "outputId": "aa5ef7f2-1d34-4e95-ea56-35b1084a36d6"
      },
      "execution_count": null,
      "outputs": [
        {
          "output_type": "execute_result",
          "data": {
            "text/plain": [
              "array([2., 2., 2., ..., 1., 1., 1.])"
            ]
          },
          "metadata": {},
          "execution_count": 35
        }
      ]
    },
    {
      "cell_type": "code",
      "source": [
        "alvo2.shape"
      ],
      "metadata": {
        "id": "SV6SHdiD3i_Z",
        "colab": {
          "base_uri": "https://localhost:8080/"
        },
        "outputId": "53036eeb-da1e-4cdb-cbcb-ca9b9886bd13"
      },
      "execution_count": null,
      "outputs": [
        {
          "output_type": "execute_result",
          "data": {
            "text/plain": [
              "(23426,)"
            ]
          },
          "metadata": {},
          "execution_count": 36
        }
      ]
    },
    {
      "cell_type": "markdown",
      "source": [
        "### **OneHotEncoder: Criação de variáveis Dummy (fictícia).**"
      ],
      "metadata": {
        "id": "PIqEAMoH52Og"
      }
    },
    {
      "cell_type": "markdown",
      "source": [
        "Cuidado com a multicolinearidade (variáveis altamente correlacionadas entre si)."
      ],
      "metadata": {
        "id": "Ic1BCbFvGTNL"
      }
    },
    {
      "cell_type": "markdown",
      "source": [
        "**Transformação para que o algoritmo não atribua um peso para maior para a classe 3 do que para a classe 0.**"
      ],
      "metadata": {
        "id": "74YodhDTcf4l"
      }
    },
    {
      "cell_type": "markdown",
      "source": [
        "![image.png](data:image/png;base64,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)"
      ],
      "metadata": {
        "id": "ruBvkbyn74ly"
      }
    },
    {
      "cell_type": "markdown",
      "metadata": {
        "id": "ZszZwZIBPrQR"
      },
      "source": [
        "A   B   C   D   \n",
        "1   0   0   0   \n",
        "0   1   0   0   \n",
        "0   0   1   0   \n",
        "0   0   0   1\n"
      ]
    },
    {
      "cell_type": "code",
      "source": [
        "from sklearn.preprocessing import OneHotEncoder\n",
        "from sklearn.compose import ColumnTransformer"
      ],
      "metadata": {
        "id": "YeSR7cQC8uCQ"
      },
      "execution_count": null,
      "outputs": []
    },
    {
      "cell_type": "code",
      "metadata": {
        "id": "qx2UeR9S2Whp"
      },
      "source": [
        "ColumnTransformer?"
      ],
      "execution_count": null,
      "outputs": []
    },
    {
      "cell_type": "markdown",
      "metadata": {
        "id": "ZT_BjSzytpVX"
      },
      "source": [
        "Parâmetros ColumnTransformer\n",
        "- name: nome dado a transformação.\n",
        "- transformer: tipo de estimador (OneHotEncoder).\n",
        "- columns: colunas que serão transformadas.\n",
        "- remainder: o que acontecerá com o restante das colunas não relacionadas: \n",
        "1) drop = exclui as outras colunas.\n",
        "2) passthrough = mantém as outras colunas. drop é default.  \n",
        "- sparse_threshold: parâmetro de classificação de matrizes esparsas. default é 0.3\n",
        "- n_jobs: número de trabalhos a serem executados em paralelo. default é nenhum\n",
        "- transformer_weights: definição de pesos aos transformadores.\n",
        "-verbose: default é False. se for True a execução é apresentada na tela."
      ]
    },
    {
      "cell_type": "code",
      "source": [
        "dados = df.iloc[:, 1:6].values.copy()\n",
        "dados.shape"
      ],
      "metadata": {
        "id": "rXFOyMmd9JEB",
        "colab": {
          "base_uri": "https://localhost:8080/"
        },
        "outputId": "35fdaf2b-1a56-4cc0-fabf-b5640d56ad9a"
      },
      "execution_count": null,
      "outputs": [
        {
          "output_type": "execute_result",
          "data": {
            "text/plain": [
              "(23426, 5)"
            ]
          },
          "metadata": {},
          "execution_count": 39
        }
      ]
    },
    {
      "cell_type": "code",
      "source": [
        "dados = ColumnTransformer(transformers=[('OneHot', OneHotEncoder(), [1,4])],\n",
        "                                remainder='passthrough').fit_transform(dados)"
      ],
      "metadata": {
        "id": "7vgVvFv8iFJx"
      },
      "execution_count": null,
      "outputs": []
    },
    {
      "cell_type": "code",
      "source": [
        "dados"
      ],
      "metadata": {
        "id": "F_H3hiDD_pfB",
        "colab": {
          "base_uri": "https://localhost:8080/"
        },
        "outputId": "1b39fd45-3b59-4939-cd27-0dcd19ba2876"
      },
      "execution_count": null,
      "outputs": [
        {
          "output_type": "execute_result",
          "data": {
            "text/plain": [
              "array([[0.0, 0.0, 1.0, ..., 4392.1025391, 2491.2502441, 16.139493942],\n",
              "       [0.0, 0.0, 1.0, ..., 4368.2451172, 2502.7141113, 16.530527115],\n",
              "       [0.0, 0.0, 1.0, ..., 4354.0029297, 2517.2043457, 16.491985321],\n",
              "       ...,\n",
              "       [0.0, 1.0, 0.0, ..., 5594.0039063, 3157.7043457, 23.27806282],\n",
              "       [0.0, 1.0, 0.0, ..., 5594.0039063, 3157.7043457, 27.874160767],\n",
              "       [0.0, 1.0, 0.0, ..., 5548.5112305, 3157.7043457, 22.99479866]],\n",
              "      dtype=object)"
            ]
          },
          "metadata": {},
          "execution_count": 41
        }
      ]
    },
    {
      "cell_type": "code",
      "source": [
        "dados.shape"
      ],
      "metadata": {
        "id": "eZ-nG4XEBMXU",
        "colab": {
          "base_uri": "https://localhost:8080/"
        },
        "outputId": "02a90463-02f8-4473-cf80-3bfd4ce44805"
      },
      "execution_count": null,
      "outputs": [
        {
          "output_type": "execute_result",
          "data": {
            "text/plain": [
              "(23426, 9)"
            ]
          },
          "metadata": {},
          "execution_count": 42
        }
      ]
    },
    {
      "cell_type": "code",
      "source": [
        "dadosdf = pd.DataFrame(dados)\n",
        "dadosdf.head()"
      ],
      "metadata": {
        "id": "1iTTX6b0C_0-",
        "colab": {
          "base_uri": "https://localhost:8080/"
        },
        "outputId": "b809872d-0866-48b0-db59-d258f8981684"
      },
      "execution_count": null,
      "outputs": [
        {
          "output_type": "execute_result",
          "data": {
            "text/plain": [
              "     0    1    2    3    4    5            6            7          8\n",
              "0  0.0  0.0  1.0  0.0  1.0  0.0  4392.102539  2491.250244  16.139494\n",
              "1  0.0  0.0  1.0  0.0  1.0  0.0  4368.245117  2502.714111  16.530527\n",
              "2  0.0  0.0  1.0  0.0  1.0  0.0   4354.00293  2517.204346  16.491985\n",
              "3  0.0  0.0  1.0  0.0  1.0  0.0  4349.213867  2529.218994  16.053066\n",
              "4  0.0  0.0  1.0  0.0  1.0  0.0  4354.245606  2535.076172  15.923628"
            ],
            "text/html": [
              "\n",
              "  <div id=\"df-1d30d513-ad10-45d6-99e2-a907a254b3c5\">\n",
              "    <div class=\"colab-df-container\">\n",
              "      <div>\n",
              "<style scoped>\n",
              "    .dataframe tbody tr th:only-of-type {\n",
              "        vertical-align: middle;\n",
              "    }\n",
              "\n",
              "    .dataframe tbody tr th {\n",
              "        vertical-align: top;\n",
              "    }\n",
              "\n",
              "    .dataframe thead th {\n",
              "        text-align: right;\n",
              "    }\n",
              "</style>\n",
              "<table border=\"1\" class=\"dataframe\">\n",
              "  <thead>\n",
              "    <tr style=\"text-align: right;\">\n",
              "      <th></th>\n",
              "      <th>0</th>\n",
              "      <th>1</th>\n",
              "      <th>2</th>\n",
              "      <th>3</th>\n",
              "      <th>4</th>\n",
              "      <th>5</th>\n",
              "      <th>6</th>\n",
              "      <th>7</th>\n",
              "      <th>8</th>\n",
              "    </tr>\n",
              "  </thead>\n",
              "  <tbody>\n",
              "    <tr>\n",
              "      <th>0</th>\n",
              "      <td>0.0</td>\n",
              "      <td>0.0</td>\n",
              "      <td>1.0</td>\n",
              "      <td>0.0</td>\n",
              "      <td>1.0</td>\n",
              "      <td>0.0</td>\n",
              "      <td>4392.102539</td>\n",
              "      <td>2491.250244</td>\n",
              "      <td>16.139494</td>\n",
              "    </tr>\n",
              "    <tr>\n",
              "      <th>1</th>\n",
              "      <td>0.0</td>\n",
              "      <td>0.0</td>\n",
              "      <td>1.0</td>\n",
              "      <td>0.0</td>\n",
              "      <td>1.0</td>\n",
              "      <td>0.0</td>\n",
              "      <td>4368.245117</td>\n",
              "      <td>2502.714111</td>\n",
              "      <td>16.530527</td>\n",
              "    </tr>\n",
              "    <tr>\n",
              "      <th>2</th>\n",
              "      <td>0.0</td>\n",
              "      <td>0.0</td>\n",
              "      <td>1.0</td>\n",
              "      <td>0.0</td>\n",
              "      <td>1.0</td>\n",
              "      <td>0.0</td>\n",
              "      <td>4354.00293</td>\n",
              "      <td>2517.204346</td>\n",
              "      <td>16.491985</td>\n",
              "    </tr>\n",
              "    <tr>\n",
              "      <th>3</th>\n",
              "      <td>0.0</td>\n",
              "      <td>0.0</td>\n",
              "      <td>1.0</td>\n",
              "      <td>0.0</td>\n",
              "      <td>1.0</td>\n",
              "      <td>0.0</td>\n",
              "      <td>4349.213867</td>\n",
              "      <td>2529.218994</td>\n",
              "      <td>16.053066</td>\n",
              "    </tr>\n",
              "    <tr>\n",
              "      <th>4</th>\n",
              "      <td>0.0</td>\n",
              "      <td>0.0</td>\n",
              "      <td>1.0</td>\n",
              "      <td>0.0</td>\n",
              "      <td>1.0</td>\n",
              "      <td>0.0</td>\n",
              "      <td>4354.245606</td>\n",
              "      <td>2535.076172</td>\n",
              "      <td>15.923628</td>\n",
              "    </tr>\n",
              "  </tbody>\n",
              "</table>\n",
              "</div>\n",
              "      <button class=\"colab-df-convert\" onclick=\"convertToInteractive('df-1d30d513-ad10-45d6-99e2-a907a254b3c5')\"\n",
              "              title=\"Convert this dataframe to an interactive table.\"\n",
              "              style=\"display:none;\">\n",
              "        \n",
              "  <svg xmlns=\"http://www.w3.org/2000/svg\" height=\"24px\"viewBox=\"0 0 24 24\"\n",
              "       width=\"24px\">\n",
              "    <path d=\"M0 0h24v24H0V0z\" fill=\"none\"/>\n",
              "    <path d=\"M18.56 5.44l.94 2.06.94-2.06 2.06-.94-2.06-.94-.94-2.06-.94 2.06-2.06.94zm-11 1L8.5 8.5l.94-2.06 2.06-.94-2.06-.94L8.5 2.5l-.94 2.06-2.06.94zm10 10l.94 2.06.94-2.06 2.06-.94-2.06-.94-.94-2.06-.94 2.06-2.06.94z\"/><path d=\"M17.41 7.96l-1.37-1.37c-.4-.4-.92-.59-1.43-.59-.52 0-1.04.2-1.43.59L10.3 9.45l-7.72 7.72c-.78.78-.78 2.05 0 2.83L4 21.41c.39.39.9.59 1.41.59.51 0 1.02-.2 1.41-.59l7.78-7.78 2.81-2.81c.8-.78.8-2.07 0-2.86zM5.41 20L4 18.59l7.72-7.72 1.47 1.35L5.41 20z\"/>\n",
              "  </svg>\n",
              "      </button>\n",
              "      \n",
              "  <style>\n",
              "    .colab-df-container {\n",
              "      display:flex;\n",
              "      flex-wrap:wrap;\n",
              "      gap: 12px;\n",
              "    }\n",
              "\n",
              "    .colab-df-convert {\n",
              "      background-color: #E8F0FE;\n",
              "      border: none;\n",
              "      border-radius: 50%;\n",
              "      cursor: pointer;\n",
              "      display: none;\n",
              "      fill: #1967D2;\n",
              "      height: 32px;\n",
              "      padding: 0 0 0 0;\n",
              "      width: 32px;\n",
              "    }\n",
              "\n",
              "    .colab-df-convert:hover {\n",
              "      background-color: #E2EBFA;\n",
              "      box-shadow: 0px 1px 2px rgba(60, 64, 67, 0.3), 0px 1px 3px 1px rgba(60, 64, 67, 0.15);\n",
              "      fill: #174EA6;\n",
              "    }\n",
              "\n",
              "    [theme=dark] .colab-df-convert {\n",
              "      background-color: #3B4455;\n",
              "      fill: #D2E3FC;\n",
              "    }\n",
              "\n",
              "    [theme=dark] .colab-df-convert:hover {\n",
              "      background-color: #434B5C;\n",
              "      box-shadow: 0px 1px 3px 1px rgba(0, 0, 0, 0.15);\n",
              "      filter: drop-shadow(0px 1px 2px rgba(0, 0, 0, 0.3));\n",
              "      fill: #FFFFFF;\n",
              "    }\n",
              "  </style>\n",
              "\n",
              "      <script>\n",
              "        const buttonEl =\n",
              "          document.querySelector('#df-1d30d513-ad10-45d6-99e2-a907a254b3c5 button.colab-df-convert');\n",
              "        buttonEl.style.display =\n",
              "          google.colab.kernel.accessAllowed ? 'block' : 'none';\n",
              "\n",
              "        async function convertToInteractive(key) {\n",
              "          const element = document.querySelector('#df-1d30d513-ad10-45d6-99e2-a907a254b3c5');\n",
              "          const dataTable =\n",
              "            await google.colab.kernel.invokeFunction('convertToInteractive',\n",
              "                                                     [key], {});\n",
              "          if (!dataTable) return;\n",
              "\n",
              "          const docLinkHtml = 'Like what you see? Visit the ' +\n",
              "            '<a target=\"_blank\" href=https://colab.research.google.com/notebooks/data_table.ipynb>data table notebook</a>'\n",
              "            + ' to learn more about interactive tables.';\n",
              "          element.innerHTML = '';\n",
              "          dataTable['output_type'] = 'display_data';\n",
              "          await google.colab.output.renderOutput(dataTable, element);\n",
              "          const docLink = document.createElement('div');\n",
              "          docLink.innerHTML = docLinkHtml;\n",
              "          element.appendChild(docLink);\n",
              "        }\n",
              "      </script>\n",
              "    </div>\n",
              "  </div>\n",
              "  "
            ]
          },
          "metadata": {},
          "execution_count": 43
        }
      ]
    },
    {
      "cell_type": "code",
      "source": [
        "df.head()"
      ],
      "metadata": {
        "id": "KTfczx7EDvwc",
        "colab": {
          "base_uri": "https://localhost:8080/"
        },
        "outputId": "f8543fc8-d26f-42f2-e4ab-2442118b655c"
      },
      "execution_count": null,
      "outputs": [
        {
          "output_type": "execute_result",
          "data": {
            "text/plain": [
              "        PROF           VP  FACIES           VS         GR    POCO\n",
              "0  3103.0164  4392.102539    85.0  2491.250244  16.139494  poco_1\n",
              "1  3103.1688  4368.245117    85.0  2502.714111  16.530527  poco_1\n",
              "2  3103.3212  4354.002930    85.0  2517.204346  16.491985  poco_1\n",
              "3  3103.4736  4349.213867    85.0  2529.218994  16.053066  poco_1\n",
              "4  3103.6260  4354.245606    85.0  2535.076172  15.923628  poco_1"
            ],
            "text/html": [
              "\n",
              "  <div id=\"df-b36224d6-49fa-4929-ad1e-3ac20e6bf7bc\">\n",
              "    <div class=\"colab-df-container\">\n",
              "      <div>\n",
              "<style scoped>\n",
              "    .dataframe tbody tr th:only-of-type {\n",
              "        vertical-align: middle;\n",
              "    }\n",
              "\n",
              "    .dataframe tbody tr th {\n",
              "        vertical-align: top;\n",
              "    }\n",
              "\n",
              "    .dataframe thead th {\n",
              "        text-align: right;\n",
              "    }\n",
              "</style>\n",
              "<table border=\"1\" class=\"dataframe\">\n",
              "  <thead>\n",
              "    <tr style=\"text-align: right;\">\n",
              "      <th></th>\n",
              "      <th>PROF</th>\n",
              "      <th>VP</th>\n",
              "      <th>FACIES</th>\n",
              "      <th>VS</th>\n",
              "      <th>GR</th>\n",
              "      <th>POCO</th>\n",
              "    </tr>\n",
              "  </thead>\n",
              "  <tbody>\n",
              "    <tr>\n",
              "      <th>0</th>\n",
              "      <td>3103.0164</td>\n",
              "      <td>4392.102539</td>\n",
              "      <td>85.0</td>\n",
              "      <td>2491.250244</td>\n",
              "      <td>16.139494</td>\n",
              "      <td>poco_1</td>\n",
              "    </tr>\n",
              "    <tr>\n",
              "      <th>1</th>\n",
              "      <td>3103.1688</td>\n",
              "      <td>4368.245117</td>\n",
              "      <td>85.0</td>\n",
              "      <td>2502.714111</td>\n",
              "      <td>16.530527</td>\n",
              "      <td>poco_1</td>\n",
              "    </tr>\n",
              "    <tr>\n",
              "      <th>2</th>\n",
              "      <td>3103.3212</td>\n",
              "      <td>4354.002930</td>\n",
              "      <td>85.0</td>\n",
              "      <td>2517.204346</td>\n",
              "      <td>16.491985</td>\n",
              "      <td>poco_1</td>\n",
              "    </tr>\n",
              "    <tr>\n",
              "      <th>3</th>\n",
              "      <td>3103.4736</td>\n",
              "      <td>4349.213867</td>\n",
              "      <td>85.0</td>\n",
              "      <td>2529.218994</td>\n",
              "      <td>16.053066</td>\n",
              "      <td>poco_1</td>\n",
              "    </tr>\n",
              "    <tr>\n",
              "      <th>4</th>\n",
              "      <td>3103.6260</td>\n",
              "      <td>4354.245606</td>\n",
              "      <td>85.0</td>\n",
              "      <td>2535.076172</td>\n",
              "      <td>15.923628</td>\n",
              "      <td>poco_1</td>\n",
              "    </tr>\n",
              "  </tbody>\n",
              "</table>\n",
              "</div>\n",
              "      <button class=\"colab-df-convert\" onclick=\"convertToInteractive('df-b36224d6-49fa-4929-ad1e-3ac20e6bf7bc')\"\n",
              "              title=\"Convert this dataframe to an interactive table.\"\n",
              "              style=\"display:none;\">\n",
              "        \n",
              "  <svg xmlns=\"http://www.w3.org/2000/svg\" height=\"24px\"viewBox=\"0 0 24 24\"\n",
              "       width=\"24px\">\n",
              "    <path d=\"M0 0h24v24H0V0z\" fill=\"none\"/>\n",
              "    <path d=\"M18.56 5.44l.94 2.06.94-2.06 2.06-.94-2.06-.94-.94-2.06-.94 2.06-2.06.94zm-11 1L8.5 8.5l.94-2.06 2.06-.94-2.06-.94L8.5 2.5l-.94 2.06-2.06.94zm10 10l.94 2.06.94-2.06 2.06-.94-2.06-.94-.94-2.06-.94 2.06-2.06.94z\"/><path d=\"M17.41 7.96l-1.37-1.37c-.4-.4-.92-.59-1.43-.59-.52 0-1.04.2-1.43.59L10.3 9.45l-7.72 7.72c-.78.78-.78 2.05 0 2.83L4 21.41c.39.39.9.59 1.41.59.51 0 1.02-.2 1.41-.59l7.78-7.78 2.81-2.81c.8-.78.8-2.07 0-2.86zM5.41 20L4 18.59l7.72-7.72 1.47 1.35L5.41 20z\"/>\n",
              "  </svg>\n",
              "      </button>\n",
              "      \n",
              "  <style>\n",
              "    .colab-df-container {\n",
              "      display:flex;\n",
              "      flex-wrap:wrap;\n",
              "      gap: 12px;\n",
              "    }\n",
              "\n",
              "    .colab-df-convert {\n",
              "      background-color: #E8F0FE;\n",
              "      border: none;\n",
              "      border-radius: 50%;\n",
              "      cursor: pointer;\n",
              "      display: none;\n",
              "      fill: #1967D2;\n",
              "      height: 32px;\n",
              "      padding: 0 0 0 0;\n",
              "      width: 32px;\n",
              "    }\n",
              "\n",
              "    .colab-df-convert:hover {\n",
              "      background-color: #E2EBFA;\n",
              "      box-shadow: 0px 1px 2px rgba(60, 64, 67, 0.3), 0px 1px 3px 1px rgba(60, 64, 67, 0.15);\n",
              "      fill: #174EA6;\n",
              "    }\n",
              "\n",
              "    [theme=dark] .colab-df-convert {\n",
              "      background-color: #3B4455;\n",
              "      fill: #D2E3FC;\n",
              "    }\n",
              "\n",
              "    [theme=dark] .colab-df-convert:hover {\n",
              "      background-color: #434B5C;\n",
              "      box-shadow: 0px 1px 3px 1px rgba(0, 0, 0, 0.15);\n",
              "      filter: drop-shadow(0px 1px 2px rgba(0, 0, 0, 0.3));\n",
              "      fill: #FFFFFF;\n",
              "    }\n",
              "  </style>\n",
              "\n",
              "      <script>\n",
              "        const buttonEl =\n",
              "          document.querySelector('#df-b36224d6-49fa-4929-ad1e-3ac20e6bf7bc button.colab-df-convert');\n",
              "        buttonEl.style.display =\n",
              "          google.colab.kernel.accessAllowed ? 'block' : 'none';\n",
              "\n",
              "        async function convertToInteractive(key) {\n",
              "          const element = document.querySelector('#df-b36224d6-49fa-4929-ad1e-3ac20e6bf7bc');\n",
              "          const dataTable =\n",
              "            await google.colab.kernel.invokeFunction('convertToInteractive',\n",
              "                                                     [key], {});\n",
              "          if (!dataTable) return;\n",
              "\n",
              "          const docLinkHtml = 'Like what you see? Visit the ' +\n",
              "            '<a target=\"_blank\" href=https://colab.research.google.com/notebooks/data_table.ipynb>data table notebook</a>'\n",
              "            + ' to learn more about interactive tables.';\n",
              "          element.innerHTML = '';\n",
              "          dataTable['output_type'] = 'display_data';\n",
              "          await google.colab.output.renderOutput(dataTable, element);\n",
              "          const docLink = document.createElement('div');\n",
              "          docLink.innerHTML = docLinkHtml;\n",
              "          element.appendChild(docLink);\n",
              "        }\n",
              "      </script>\n",
              "    </div>\n",
              "  </div>\n",
              "  "
            ]
          },
          "metadata": {},
          "execution_count": 44
        }
      ]
    },
    {
      "cell_type": "code",
      "source": [
        "ohe = OneHotEncoder()\n",
        "alvo3 = ohe.fit_transform(df[['FACIES']])\n",
        "alvo3 = alvo3.toarray()\n",
        "alvo3"
      ],
      "metadata": {
        "colab": {
          "base_uri": "https://localhost:8080/"
        },
        "id": "nEhhryyssA5H",
        "outputId": "3dee86ad-6c1c-44f7-fe4c-930dba4389ae"
      },
      "execution_count": null,
      "outputs": [
        {
          "output_type": "execute_result",
          "data": {
            "text/plain": [
              "array([[0., 0., 1., 0.],\n",
              "       [0., 0., 1., 0.],\n",
              "       [0., 0., 1., 0.],\n",
              "       ...,\n",
              "       [0., 1., 0., 0.],\n",
              "       [0., 1., 0., 0.],\n",
              "       [0., 1., 0., 0.]])"
            ]
          },
          "metadata": {},
          "execution_count": 45
        }
      ]
    },
    {
      "cell_type": "code",
      "source": [
        "alvo3_esc = StandardScaler().fit_transform(alvo3)\n",
        "alvo3_esc"
      ],
      "metadata": {
        "colab": {
          "base_uri": "https://localhost:8080/"
        },
        "id": "gMTmEK5OtGCW",
        "outputId": "299f83ed-df13-4e39-fe92-216bc467e283"
      },
      "execution_count": null,
      "outputs": [
        {
          "output_type": "execute_result",
          "data": {
            "text/plain": [
              "array([[-0.13511516, -0.27705673,  0.43100621, -0.26893206],\n",
              "       [-0.13511516, -0.27705673,  0.43100621, -0.26893206],\n",
              "       [-0.13511516, -0.27705673,  0.43100621, -0.26893206],\n",
              "       ...,\n",
              "       [-0.13511516,  3.60936905, -2.32015221, -0.26893206],\n",
              "       [-0.13511516,  3.60936905, -2.32015221, -0.26893206],\n",
              "       [-0.13511516,  3.60936905, -2.32015221, -0.26893206]])"
            ]
          },
          "metadata": {},
          "execution_count": 46
        }
      ]
    },
    {
      "cell_type": "markdown",
      "source": [
        "## **Escalonamento**"
      ],
      "metadata": {
        "id": "YWlyb9T-Fk1I"
      }
    },
    {
      "cell_type": "code",
      "source": [
        "from sklearn.preprocessing import StandardScaler"
      ],
      "metadata": {
        "id": "x4jzommSFk1L"
      },
      "execution_count": null,
      "outputs": []
    },
    {
      "cell_type": "code",
      "source": [
        "dados_esc = StandardScaler().fit_transform(dados)"
      ],
      "metadata": {
        "id": "nvLu4mtDFk1L"
      },
      "execution_count": null,
      "outputs": []
    },
    {
      "cell_type": "code",
      "source": [
        "dados_esc"
      ],
      "metadata": {
        "id": "eFTA8spkFk1M",
        "colab": {
          "base_uri": "https://localhost:8080/"
        },
        "outputId": "c6ffcbe0-3ad1-4e61-bd5e-5805d42e62a0"
      },
      "execution_count": null,
      "outputs": [
        {
          "output_type": "execute_result",
          "data": {
            "text/plain": [
              "array([[-0.13511516, -0.27705673,  0.43100621, ..., -0.48350675,\n",
              "        -0.15912266,  0.0233162 ],\n",
              "       [-0.13511516, -0.27705673,  0.43100621, ..., -0.56157325,\n",
              "        -0.09688283,  0.04340381],\n",
              "       [-0.13511516, -0.27705673,  0.43100621, ..., -0.60817668,\n",
              "        -0.01821218,  0.04142389],\n",
              "       ...,\n",
              "       [-0.13511516,  3.60936905, -2.32015221, ...,  3.44936724,\n",
              "         3.45920212,  0.39002871],\n",
              "       [-0.13511516,  3.60936905, -2.32015221, ...,  3.44936724,\n",
              "         3.45920212,  0.62613298],\n",
              "       [-0.13511516,  3.60936905, -2.32015221, ...,  3.30050564,\n",
              "         3.45920212,  0.37547726]])"
            ]
          },
          "metadata": {},
          "execution_count": 49
        }
      ]
    },
    {
      "cell_type": "code",
      "source": [
        "dados2df = pd.DataFrame(dados_esc)\n",
        "dados2df"
      ],
      "metadata": {
        "id": "w6JQStnqFk1M",
        "colab": {
          "base_uri": "https://localhost:8080/"
        },
        "outputId": "5f0b4de8-e67f-47e5-95d6-ef5a055ab83e"
      },
      "execution_count": null,
      "outputs": [
        {
          "output_type": "execute_result",
          "data": {
            "text/plain": [
              "              0         1         2         3         4         5         6  \\\n",
              "0     -0.135115 -0.277057  0.431006 -0.268932  0.985506 -0.985506 -0.483507   \n",
              "1     -0.135115 -0.277057  0.431006 -0.268932  0.985506 -0.985506 -0.561573   \n",
              "2     -0.135115 -0.277057  0.431006 -0.268932  0.985506 -0.985506 -0.608177   \n",
              "3     -0.135115 -0.277057  0.431006 -0.268932  0.985506 -0.985506 -0.623847   \n",
              "4     -0.135115 -0.277057  0.431006 -0.268932  0.985506 -0.985506 -0.607383   \n",
              "...         ...       ...       ...       ...       ...       ...       ...   \n",
              "23421 -0.135115  3.609369 -2.320152 -0.268932 -1.014707  1.014707  3.449367   \n",
              "23422 -0.135115  3.609369 -2.320152 -0.268932 -1.014707  1.014707  3.449367   \n",
              "23423 -0.135115  3.609369 -2.320152 -0.268932 -1.014707  1.014707  3.449367   \n",
              "23424 -0.135115  3.609369 -2.320152 -0.268932 -1.014707  1.014707  3.449367   \n",
              "23425 -0.135115  3.609369 -2.320152 -0.268932 -1.014707  1.014707  3.300506   \n",
              "\n",
              "              7         8  \n",
              "0     -0.159123  0.023316  \n",
              "1     -0.096883  0.043404  \n",
              "2     -0.018212  0.041424  \n",
              "3      0.047018  0.018876  \n",
              "4      0.078818  0.012227  \n",
              "...         ...       ...  \n",
              "23421  3.459202 -0.072600  \n",
              "23422  3.459202  0.118140  \n",
              "23423  3.459202  0.390029  \n",
              "23424  3.459202  0.626133  \n",
              "23425  3.459202  0.375477  \n",
              "\n",
              "[23426 rows x 9 columns]"
            ],
            "text/html": [
              "\n",
              "  <div id=\"df-6f3f736b-1f2d-4efd-8459-877b13f4f229\">\n",
              "    <div class=\"colab-df-container\">\n",
              "      <div>\n",
              "<style scoped>\n",
              "    .dataframe tbody tr th:only-of-type {\n",
              "        vertical-align: middle;\n",
              "    }\n",
              "\n",
              "    .dataframe tbody tr th {\n",
              "        vertical-align: top;\n",
              "    }\n",
              "\n",
              "    .dataframe thead th {\n",
              "        text-align: right;\n",
              "    }\n",
              "</style>\n",
              "<table border=\"1\" class=\"dataframe\">\n",
              "  <thead>\n",
              "    <tr style=\"text-align: right;\">\n",
              "      <th></th>\n",
              "      <th>0</th>\n",
              "      <th>1</th>\n",
              "      <th>2</th>\n",
              "      <th>3</th>\n",
              "      <th>4</th>\n",
              "      <th>5</th>\n",
              "      <th>6</th>\n",
              "      <th>7</th>\n",
              "      <th>8</th>\n",
              "    </tr>\n",
              "  </thead>\n",
              "  <tbody>\n",
              "    <tr>\n",
              "      <th>0</th>\n",
              "      <td>-0.135115</td>\n",
              "      <td>-0.277057</td>\n",
              "      <td>0.431006</td>\n",
              "      <td>-0.268932</td>\n",
              "      <td>0.985506</td>\n",
              "      <td>-0.985506</td>\n",
              "      <td>-0.483507</td>\n",
              "      <td>-0.159123</td>\n",
              "      <td>0.023316</td>\n",
              "    </tr>\n",
              "    <tr>\n",
              "      <th>1</th>\n",
              "      <td>-0.135115</td>\n",
              "      <td>-0.277057</td>\n",
              "      <td>0.431006</td>\n",
              "      <td>-0.268932</td>\n",
              "      <td>0.985506</td>\n",
              "      <td>-0.985506</td>\n",
              "      <td>-0.561573</td>\n",
              "      <td>-0.096883</td>\n",
              "      <td>0.043404</td>\n",
              "    </tr>\n",
              "    <tr>\n",
              "      <th>2</th>\n",
              "      <td>-0.135115</td>\n",
              "      <td>-0.277057</td>\n",
              "      <td>0.431006</td>\n",
              "      <td>-0.268932</td>\n",
              "      <td>0.985506</td>\n",
              "      <td>-0.985506</td>\n",
              "      <td>-0.608177</td>\n",
              "      <td>-0.018212</td>\n",
              "      <td>0.041424</td>\n",
              "    </tr>\n",
              "    <tr>\n",
              "      <th>3</th>\n",
              "      <td>-0.135115</td>\n",
              "      <td>-0.277057</td>\n",
              "      <td>0.431006</td>\n",
              "      <td>-0.268932</td>\n",
              "      <td>0.985506</td>\n",
              "      <td>-0.985506</td>\n",
              "      <td>-0.623847</td>\n",
              "      <td>0.047018</td>\n",
              "      <td>0.018876</td>\n",
              "    </tr>\n",
              "    <tr>\n",
              "      <th>4</th>\n",
              "      <td>-0.135115</td>\n",
              "      <td>-0.277057</td>\n",
              "      <td>0.431006</td>\n",
              "      <td>-0.268932</td>\n",
              "      <td>0.985506</td>\n",
              "      <td>-0.985506</td>\n",
              "      <td>-0.607383</td>\n",
              "      <td>0.078818</td>\n",
              "      <td>0.012227</td>\n",
              "    </tr>\n",
              "    <tr>\n",
              "      <th>...</th>\n",
              "      <td>...</td>\n",
              "      <td>...</td>\n",
              "      <td>...</td>\n",
              "      <td>...</td>\n",
              "      <td>...</td>\n",
              "      <td>...</td>\n",
              "      <td>...</td>\n",
              "      <td>...</td>\n",
              "      <td>...</td>\n",
              "    </tr>\n",
              "    <tr>\n",
              "      <th>23421</th>\n",
              "      <td>-0.135115</td>\n",
              "      <td>3.609369</td>\n",
              "      <td>-2.320152</td>\n",
              "      <td>-0.268932</td>\n",
              "      <td>-1.014707</td>\n",
              "      <td>1.014707</td>\n",
              "      <td>3.449367</td>\n",
              "      <td>3.459202</td>\n",
              "      <td>-0.072600</td>\n",
              "    </tr>\n",
              "    <tr>\n",
              "      <th>23422</th>\n",
              "      <td>-0.135115</td>\n",
              "      <td>3.609369</td>\n",
              "      <td>-2.320152</td>\n",
              "      <td>-0.268932</td>\n",
              "      <td>-1.014707</td>\n",
              "      <td>1.014707</td>\n",
              "      <td>3.449367</td>\n",
              "      <td>3.459202</td>\n",
              "      <td>0.118140</td>\n",
              "    </tr>\n",
              "    <tr>\n",
              "      <th>23423</th>\n",
              "      <td>-0.135115</td>\n",
              "      <td>3.609369</td>\n",
              "      <td>-2.320152</td>\n",
              "      <td>-0.268932</td>\n",
              "      <td>-1.014707</td>\n",
              "      <td>1.014707</td>\n",
              "      <td>3.449367</td>\n",
              "      <td>3.459202</td>\n",
              "      <td>0.390029</td>\n",
              "    </tr>\n",
              "    <tr>\n",
              "      <th>23424</th>\n",
              "      <td>-0.135115</td>\n",
              "      <td>3.609369</td>\n",
              "      <td>-2.320152</td>\n",
              "      <td>-0.268932</td>\n",
              "      <td>-1.014707</td>\n",
              "      <td>1.014707</td>\n",
              "      <td>3.449367</td>\n",
              "      <td>3.459202</td>\n",
              "      <td>0.626133</td>\n",
              "    </tr>\n",
              "    <tr>\n",
              "      <th>23425</th>\n",
              "      <td>-0.135115</td>\n",
              "      <td>3.609369</td>\n",
              "      <td>-2.320152</td>\n",
              "      <td>-0.268932</td>\n",
              "      <td>-1.014707</td>\n",
              "      <td>1.014707</td>\n",
              "      <td>3.300506</td>\n",
              "      <td>3.459202</td>\n",
              "      <td>0.375477</td>\n",
              "    </tr>\n",
              "  </tbody>\n",
              "</table>\n",
              "<p>23426 rows × 9 columns</p>\n",
              "</div>\n",
              "      <button class=\"colab-df-convert\" onclick=\"convertToInteractive('df-6f3f736b-1f2d-4efd-8459-877b13f4f229')\"\n",
              "              title=\"Convert this dataframe to an interactive table.\"\n",
              "              style=\"display:none;\">\n",
              "        \n",
              "  <svg xmlns=\"http://www.w3.org/2000/svg\" height=\"24px\"viewBox=\"0 0 24 24\"\n",
              "       width=\"24px\">\n",
              "    <path d=\"M0 0h24v24H0V0z\" fill=\"none\"/>\n",
              "    <path d=\"M18.56 5.44l.94 2.06.94-2.06 2.06-.94-2.06-.94-.94-2.06-.94 2.06-2.06.94zm-11 1L8.5 8.5l.94-2.06 2.06-.94-2.06-.94L8.5 2.5l-.94 2.06-2.06.94zm10 10l.94 2.06.94-2.06 2.06-.94-2.06-.94-.94-2.06-.94 2.06-2.06.94z\"/><path d=\"M17.41 7.96l-1.37-1.37c-.4-.4-.92-.59-1.43-.59-.52 0-1.04.2-1.43.59L10.3 9.45l-7.72 7.72c-.78.78-.78 2.05 0 2.83L4 21.41c.39.39.9.59 1.41.59.51 0 1.02-.2 1.41-.59l7.78-7.78 2.81-2.81c.8-.78.8-2.07 0-2.86zM5.41 20L4 18.59l7.72-7.72 1.47 1.35L5.41 20z\"/>\n",
              "  </svg>\n",
              "      </button>\n",
              "      \n",
              "  <style>\n",
              "    .colab-df-container {\n",
              "      display:flex;\n",
              "      flex-wrap:wrap;\n",
              "      gap: 12px;\n",
              "    }\n",
              "\n",
              "    .colab-df-convert {\n",
              "      background-color: #E8F0FE;\n",
              "      border: none;\n",
              "      border-radius: 50%;\n",
              "      cursor: pointer;\n",
              "      display: none;\n",
              "      fill: #1967D2;\n",
              "      height: 32px;\n",
              "      padding: 0 0 0 0;\n",
              "      width: 32px;\n",
              "    }\n",
              "\n",
              "    .colab-df-convert:hover {\n",
              "      background-color: #E2EBFA;\n",
              "      box-shadow: 0px 1px 2px rgba(60, 64, 67, 0.3), 0px 1px 3px 1px rgba(60, 64, 67, 0.15);\n",
              "      fill: #174EA6;\n",
              "    }\n",
              "\n",
              "    [theme=dark] .colab-df-convert {\n",
              "      background-color: #3B4455;\n",
              "      fill: #D2E3FC;\n",
              "    }\n",
              "\n",
              "    [theme=dark] .colab-df-convert:hover {\n",
              "      background-color: #434B5C;\n",
              "      box-shadow: 0px 1px 3px 1px rgba(0, 0, 0, 0.15);\n",
              "      filter: drop-shadow(0px 1px 2px rgba(0, 0, 0, 0.3));\n",
              "      fill: #FFFFFF;\n",
              "    }\n",
              "  </style>\n",
              "\n",
              "      <script>\n",
              "        const buttonEl =\n",
              "          document.querySelector('#df-6f3f736b-1f2d-4efd-8459-877b13f4f229 button.colab-df-convert');\n",
              "        buttonEl.style.display =\n",
              "          google.colab.kernel.accessAllowed ? 'block' : 'none';\n",
              "\n",
              "        async function convertToInteractive(key) {\n",
              "          const element = document.querySelector('#df-6f3f736b-1f2d-4efd-8459-877b13f4f229');\n",
              "          const dataTable =\n",
              "            await google.colab.kernel.invokeFunction('convertToInteractive',\n",
              "                                                     [key], {});\n",
              "          if (!dataTable) return;\n",
              "\n",
              "          const docLinkHtml = 'Like what you see? Visit the ' +\n",
              "            '<a target=\"_blank\" href=https://colab.research.google.com/notebooks/data_table.ipynb>data table notebook</a>'\n",
              "            + ' to learn more about interactive tables.';\n",
              "          element.innerHTML = '';\n",
              "          dataTable['output_type'] = 'display_data';\n",
              "          await google.colab.output.renderOutput(dataTable, element);\n",
              "          const docLink = document.createElement('div');\n",
              "          docLink.innerHTML = docLinkHtml;\n",
              "          element.appendChild(docLink);\n",
              "        }\n",
              "      </script>\n",
              "    </div>\n",
              "  </div>\n",
              "  "
            ]
          },
          "metadata": {},
          "execution_count": 50
        }
      ]
    },
    {
      "cell_type": "code",
      "source": [
        "dados2df.describe()"
      ],
      "metadata": {
        "id": "e-dcMRS-Fk1N",
        "colab": {
          "base_uri": "https://localhost:8080/"
        },
        "outputId": "b675442e-1489-41f4-8e4d-4955a121e55a"
      },
      "execution_count": null,
      "outputs": [
        {
          "output_type": "execute_result",
          "data": {
            "text/plain": [
              "                  0             1             2             3             4  \\\n",
              "count  2.342600e+04  2.342600e+04  2.342600e+04  2.342600e+04  2.342600e+04   \n",
              "mean   7.279529e-18 -1.698557e-17 -9.342063e-17  1.091929e-17  3.494174e-16   \n",
              "std    1.000021e+00  1.000021e+00  1.000021e+00  1.000021e+00  1.000021e+00   \n",
              "min   -1.351152e-01 -2.770567e-01 -2.320152e+00 -2.689321e-01 -1.014707e+00   \n",
              "25%   -1.351152e-01 -2.770567e-01  4.310062e-01 -2.689321e-01 -1.014707e+00   \n",
              "50%   -1.351152e-01 -2.770567e-01  4.310062e-01 -2.689321e-01  9.855059e-01   \n",
              "75%   -1.351152e-01 -2.770567e-01  4.310062e-01 -2.689321e-01  9.855059e-01   \n",
              "max    7.401094e+00  3.609369e+00  4.310062e-01  3.718411e+00  9.855059e-01   \n",
              "\n",
              "                  5             6             7             8  \n",
              "count  2.342600e+04  2.342600e+04  2.342600e+04  2.342600e+04  \n",
              "mean  -3.494174e-16 -4.761298e-14  8.834534e-13  2.863282e-15  \n",
              "std    1.000021e+00  1.000021e+00  1.000021e+00  1.000021e+00  \n",
              "min   -9.855059e-01 -4.955245e+00 -5.717991e+00 -7.480325e-01  \n",
              "25%   -9.855059e-01 -1.502019e-01 -1.720216e-02 -3.629685e-01  \n",
              "50%   -9.855059e-01 -4.572080e-02  1.308653e-01 -2.176955e-01  \n",
              "75%    1.014707e+00  3.597101e-02  2.673228e-01 -1.370911e-01  \n",
              "max    1.014707e+00  4.860759e+00  3.459202e+00  1.181880e+01  "
            ],
            "text/html": [
              "\n",
              "  <div id=\"df-a9500381-626d-4432-a49d-3be6daab7d18\">\n",
              "    <div class=\"colab-df-container\">\n",
              "      <div>\n",
              "<style scoped>\n",
              "    .dataframe tbody tr th:only-of-type {\n",
              "        vertical-align: middle;\n",
              "    }\n",
              "\n",
              "    .dataframe tbody tr th {\n",
              "        vertical-align: top;\n",
              "    }\n",
              "\n",
              "    .dataframe thead th {\n",
              "        text-align: right;\n",
              "    }\n",
              "</style>\n",
              "<table border=\"1\" class=\"dataframe\">\n",
              "  <thead>\n",
              "    <tr style=\"text-align: right;\">\n",
              "      <th></th>\n",
              "      <th>0</th>\n",
              "      <th>1</th>\n",
              "      <th>2</th>\n",
              "      <th>3</th>\n",
              "      <th>4</th>\n",
              "      <th>5</th>\n",
              "      <th>6</th>\n",
              "      <th>7</th>\n",
              "      <th>8</th>\n",
              "    </tr>\n",
              "  </thead>\n",
              "  <tbody>\n",
              "    <tr>\n",
              "      <th>count</th>\n",
              "      <td>2.342600e+04</td>\n",
              "      <td>2.342600e+04</td>\n",
              "      <td>2.342600e+04</td>\n",
              "      <td>2.342600e+04</td>\n",
              "      <td>2.342600e+04</td>\n",
              "      <td>2.342600e+04</td>\n",
              "      <td>2.342600e+04</td>\n",
              "      <td>2.342600e+04</td>\n",
              "      <td>2.342600e+04</td>\n",
              "    </tr>\n",
              "    <tr>\n",
              "      <th>mean</th>\n",
              "      <td>7.279529e-18</td>\n",
              "      <td>-1.698557e-17</td>\n",
              "      <td>-9.342063e-17</td>\n",
              "      <td>1.091929e-17</td>\n",
              "      <td>3.494174e-16</td>\n",
              "      <td>-3.494174e-16</td>\n",
              "      <td>-4.761298e-14</td>\n",
              "      <td>8.834534e-13</td>\n",
              "      <td>2.863282e-15</td>\n",
              "    </tr>\n",
              "    <tr>\n",
              "      <th>std</th>\n",
              "      <td>1.000021e+00</td>\n",
              "      <td>1.000021e+00</td>\n",
              "      <td>1.000021e+00</td>\n",
              "      <td>1.000021e+00</td>\n",
              "      <td>1.000021e+00</td>\n",
              "      <td>1.000021e+00</td>\n",
              "      <td>1.000021e+00</td>\n",
              "      <td>1.000021e+00</td>\n",
              "      <td>1.000021e+00</td>\n",
              "    </tr>\n",
              "    <tr>\n",
              "      <th>min</th>\n",
              "      <td>-1.351152e-01</td>\n",
              "      <td>-2.770567e-01</td>\n",
              "      <td>-2.320152e+00</td>\n",
              "      <td>-2.689321e-01</td>\n",
              "      <td>-1.014707e+00</td>\n",
              "      <td>-9.855059e-01</td>\n",
              "      <td>-4.955245e+00</td>\n",
              "      <td>-5.717991e+00</td>\n",
              "      <td>-7.480325e-01</td>\n",
              "    </tr>\n",
              "    <tr>\n",
              "      <th>25%</th>\n",
              "      <td>-1.351152e-01</td>\n",
              "      <td>-2.770567e-01</td>\n",
              "      <td>4.310062e-01</td>\n",
              "      <td>-2.689321e-01</td>\n",
              "      <td>-1.014707e+00</td>\n",
              "      <td>-9.855059e-01</td>\n",
              "      <td>-1.502019e-01</td>\n",
              "      <td>-1.720216e-02</td>\n",
              "      <td>-3.629685e-01</td>\n",
              "    </tr>\n",
              "    <tr>\n",
              "      <th>50%</th>\n",
              "      <td>-1.351152e-01</td>\n",
              "      <td>-2.770567e-01</td>\n",
              "      <td>4.310062e-01</td>\n",
              "      <td>-2.689321e-01</td>\n",
              "      <td>9.855059e-01</td>\n",
              "      <td>-9.855059e-01</td>\n",
              "      <td>-4.572080e-02</td>\n",
              "      <td>1.308653e-01</td>\n",
              "      <td>-2.176955e-01</td>\n",
              "    </tr>\n",
              "    <tr>\n",
              "      <th>75%</th>\n",
              "      <td>-1.351152e-01</td>\n",
              "      <td>-2.770567e-01</td>\n",
              "      <td>4.310062e-01</td>\n",
              "      <td>-2.689321e-01</td>\n",
              "      <td>9.855059e-01</td>\n",
              "      <td>1.014707e+00</td>\n",
              "      <td>3.597101e-02</td>\n",
              "      <td>2.673228e-01</td>\n",
              "      <td>-1.370911e-01</td>\n",
              "    </tr>\n",
              "    <tr>\n",
              "      <th>max</th>\n",
              "      <td>7.401094e+00</td>\n",
              "      <td>3.609369e+00</td>\n",
              "      <td>4.310062e-01</td>\n",
              "      <td>3.718411e+00</td>\n",
              "      <td>9.855059e-01</td>\n",
              "      <td>1.014707e+00</td>\n",
              "      <td>4.860759e+00</td>\n",
              "      <td>3.459202e+00</td>\n",
              "      <td>1.181880e+01</td>\n",
              "    </tr>\n",
              "  </tbody>\n",
              "</table>\n",
              "</div>\n",
              "      <button class=\"colab-df-convert\" onclick=\"convertToInteractive('df-a9500381-626d-4432-a49d-3be6daab7d18')\"\n",
              "              title=\"Convert this dataframe to an interactive table.\"\n",
              "              style=\"display:none;\">\n",
              "        \n",
              "  <svg xmlns=\"http://www.w3.org/2000/svg\" height=\"24px\"viewBox=\"0 0 24 24\"\n",
              "       width=\"24px\">\n",
              "    <path d=\"M0 0h24v24H0V0z\" fill=\"none\"/>\n",
              "    <path d=\"M18.56 5.44l.94 2.06.94-2.06 2.06-.94-2.06-.94-.94-2.06-.94 2.06-2.06.94zm-11 1L8.5 8.5l.94-2.06 2.06-.94-2.06-.94L8.5 2.5l-.94 2.06-2.06.94zm10 10l.94 2.06.94-2.06 2.06-.94-2.06-.94-.94-2.06-.94 2.06-2.06.94z\"/><path d=\"M17.41 7.96l-1.37-1.37c-.4-.4-.92-.59-1.43-.59-.52 0-1.04.2-1.43.59L10.3 9.45l-7.72 7.72c-.78.78-.78 2.05 0 2.83L4 21.41c.39.39.9.59 1.41.59.51 0 1.02-.2 1.41-.59l7.78-7.78 2.81-2.81c.8-.78.8-2.07 0-2.86zM5.41 20L4 18.59l7.72-7.72 1.47 1.35L5.41 20z\"/>\n",
              "  </svg>\n",
              "      </button>\n",
              "      \n",
              "  <style>\n",
              "    .colab-df-container {\n",
              "      display:flex;\n",
              "      flex-wrap:wrap;\n",
              "      gap: 12px;\n",
              "    }\n",
              "\n",
              "    .colab-df-convert {\n",
              "      background-color: #E8F0FE;\n",
              "      border: none;\n",
              "      border-radius: 50%;\n",
              "      cursor: pointer;\n",
              "      display: none;\n",
              "      fill: #1967D2;\n",
              "      height: 32px;\n",
              "      padding: 0 0 0 0;\n",
              "      width: 32px;\n",
              "    }\n",
              "\n",
              "    .colab-df-convert:hover {\n",
              "      background-color: #E2EBFA;\n",
              "      box-shadow: 0px 1px 2px rgba(60, 64, 67, 0.3), 0px 1px 3px 1px rgba(60, 64, 67, 0.15);\n",
              "      fill: #174EA6;\n",
              "    }\n",
              "\n",
              "    [theme=dark] .colab-df-convert {\n",
              "      background-color: #3B4455;\n",
              "      fill: #D2E3FC;\n",
              "    }\n",
              "\n",
              "    [theme=dark] .colab-df-convert:hover {\n",
              "      background-color: #434B5C;\n",
              "      box-shadow: 0px 1px 3px 1px rgba(0, 0, 0, 0.15);\n",
              "      filter: drop-shadow(0px 1px 2px rgba(0, 0, 0, 0.3));\n",
              "      fill: #FFFFFF;\n",
              "    }\n",
              "  </style>\n",
              "\n",
              "      <script>\n",
              "        const buttonEl =\n",
              "          document.querySelector('#df-a9500381-626d-4432-a49d-3be6daab7d18 button.colab-df-convert');\n",
              "        buttonEl.style.display =\n",
              "          google.colab.kernel.accessAllowed ? 'block' : 'none';\n",
              "\n",
              "        async function convertToInteractive(key) {\n",
              "          const element = document.querySelector('#df-a9500381-626d-4432-a49d-3be6daab7d18');\n",
              "          const dataTable =\n",
              "            await google.colab.kernel.invokeFunction('convertToInteractive',\n",
              "                                                     [key], {});\n",
              "          if (!dataTable) return;\n",
              "\n",
              "          const docLinkHtml = 'Like what you see? Visit the ' +\n",
              "            '<a target=\"_blank\" href=https://colab.research.google.com/notebooks/data_table.ipynb>data table notebook</a>'\n",
              "            + ' to learn more about interactive tables.';\n",
              "          element.innerHTML = '';\n",
              "          dataTable['output_type'] = 'display_data';\n",
              "          await google.colab.output.renderOutput(dataTable, element);\n",
              "          const docLink = document.createElement('div');\n",
              "          docLink.innerHTML = docLinkHtml;\n",
              "          element.appendChild(docLink);\n",
              "        }\n",
              "      </script>\n",
              "    </div>\n",
              "  </div>\n",
              "  "
            ]
          },
          "metadata": {},
          "execution_count": 51
        }
      ]
    },
    {
      "cell_type": "markdown",
      "source": [
        "## **RESUMO PRÉ-PROCESSAMENTO**"
      ],
      "metadata": {
        "id": "kW700Sj9Fk1O"
      }
    },
    {
      "cell_type": "markdown",
      "source": [
        "**alvo = variável que se pretende atingir (fácies). Transformadas em númerica.**\n",
        "\n",
        "**previsores = conjunto de variáveis previsoras, sem escalonar.**\n",
        "\n",
        "**previsores_esc = conjunto de variáveis previsoras, escalonada.**\n",
        "\n",
        "alvo2 = variável alvo com as variáveis categóricas transformadas em númerica pelo labelencoder, sem escalonar.\n",
        "\n",
        "dados = conjunto dos dados com as variáveis categóricas transformadas em numéricas pelo labelencoder e onehotencoder, sem escalonar. Apenas para servir de exemplo.\n",
        "\n",
        "dados_esc = conjunto de dados transformados pelo labelencoder e onehotencoder escalonado. Apenas para servir de exemplo.\n",
        "\n",
        "alvo3 = variável alvo com as variáveis categóricas transformadas em númerica pelo labelencoder e onehotencoder, sem escalonar.\n",
        "\n",
        "alvo3 = variável alvo com as variáveis categóricas transformadas em númerica pelo labelencoder e onehotencoder, escalonada."
      ],
      "metadata": {
        "id": "k-L1kFumG1pO"
      }
    },
    {
      "cell_type": "markdown",
      "source": [
        "## **Redução de dimensionalidade**"
      ],
      "metadata": {
        "id": "S3Kl3wySKBEw"
      }
    },
    {
      "cell_type": "markdown",
      "source": [
        "Objetivo é selecionar os melhores componentes (atributos) para treinamento do algoritmo, através da análise das correlações entre as variáveis."
      ],
      "metadata": {
        "id": "w5fLfwjg8xrw"
      }
    },
    {
      "cell_type": "markdown",
      "metadata": {
        "id": "6OurC4GyUoak"
      },
      "source": [
        "### Análise dos Componentes Principais (PCA)"
      ]
    },
    {
      "cell_type": "markdown",
      "source": [
        "**Seleção de características:** seleciona os melhores atributos e utiliza sem transformações.\n",
        "\n",
        "**Extração de Características:** Encontra os relacionamentos dos melhores atributos e cria novos atributos.\n",
        "\n",
        "É um algoritmo de aprendizagem não supervisionada.\n",
        "\n",
        "Aplica-se em dados linearmente separáveis."
      ],
      "metadata": {
        "id": "iB5XY2Tf9AH5"
      }
    },
    {
      "cell_type": "code",
      "metadata": {
        "id": "j2adDUMyX3d2"
      },
      "source": [
        "from sklearn.decomposition import PCA"
      ],
      "execution_count": null,
      "outputs": []
    },
    {
      "cell_type": "code",
      "metadata": {
        "id": "ZmpO8urpX8kz"
      },
      "source": [
        "pca = PCA(n_components=2)"
      ],
      "execution_count": null,
      "outputs": []
    },
    {
      "cell_type": "code",
      "metadata": {
        "id": "zVHnZ8rYYOeL"
      },
      "source": [
        "previsores_pca = pca.fit_transform(previsores2)"
      ],
      "execution_count": null,
      "outputs": []
    },
    {
      "cell_type": "code",
      "metadata": {
        "id": "5Ouz2wdFYkJh",
        "colab": {
          "base_uri": "https://localhost:8080/"
        },
        "outputId": "906ab048-81a0-4b51-9162-6f4ad3fdfc62"
      },
      "source": [
        "previsores_pca.shape"
      ],
      "execution_count": null,
      "outputs": [
        {
          "output_type": "execute_result",
          "data": {
            "text/plain": [
              "(23426, 2)"
            ]
          },
          "metadata": {},
          "execution_count": 236
        }
      ]
    },
    {
      "cell_type": "code",
      "metadata": {
        "id": "i06cyMBkYubR",
        "colab": {
          "base_uri": "https://localhost:8080/"
        },
        "outputId": "7f815d5b-3472-4220-abff-fb3218528a92"
      },
      "source": [
        "# Componentes principais\n",
        "previsores_pca"
      ],
      "execution_count": null,
      "outputs": [
        {
          "output_type": "execute_result",
          "data": {
            "text/plain": [
              "array([[  142.8963749 ,   -47.67575345],\n",
              "       [  157.96878827,   -69.37883704],\n",
              "       [  163.18003138,   -88.97745104],\n",
              "       ...,\n",
              "       [-1230.79999993,   -29.86406648],\n",
              "       [-1230.69391032,   -29.53609439],\n",
              "       [-1191.27591257,   -52.38827203]])"
            ]
          },
          "metadata": {},
          "execution_count": 237
        }
      ]
    },
    {
      "cell_type": "code",
      "metadata": {
        "id": "hdBAi-piY28x",
        "colab": {
          "base_uri": "https://localhost:8080/"
        },
        "outputId": "060a6ac2-256a-4b13-e425-500d9dac8f4e"
      },
      "source": [
        "# razão das variáveis explicativas\n",
        "pca.explained_variance_ratio_"
      ],
      "execution_count": null,
      "outputs": [
        {
          "output_type": "execute_result",
          "data": {
            "text/plain": [
              "array([0.95463793, 0.04311009])"
            ]
          },
          "metadata": {},
          "execution_count": 238
        }
      ]
    },
    {
      "cell_type": "code",
      "metadata": {
        "id": "lBxPFP0VZR1I",
        "colab": {
          "base_uri": "https://localhost:8080/"
        },
        "outputId": "1f896452-c1ce-4269-a66d-f46049eda0ce"
      },
      "source": [
        "# Soma das variáveis explicativas\n",
        "pca.explained_variance_ratio_.sum()"
      ],
      "execution_count": null,
      "outputs": [
        {
          "output_type": "execute_result",
          "data": {
            "text/plain": [
              "0.997748016203381"
            ]
          },
          "metadata": {},
          "execution_count": 239
        }
      ]
    },
    {
      "cell_type": "markdown",
      "metadata": {
        "id": "2UhdSgBmUtJ6"
      },
      "source": [
        "### Kernel PCA"
      ]
    },
    {
      "cell_type": "markdown",
      "source": [
        "É um algoritmo de aprendizagem não supervisionada.\n",
        "\n",
        "Aplica-se também em dados linearmente não separáveis."
      ],
      "metadata": {
        "id": "1DM-bEoM_JzC"
      }
    },
    {
      "cell_type": "code",
      "metadata": {
        "id": "z4ATtNXscFq2"
      },
      "source": [
        "from sklearn.decomposition import KernelPCA"
      ],
      "execution_count": null,
      "outputs": []
    },
    {
      "cell_type": "code",
      "metadata": {
        "id": "8kB6ZCIvcNb1"
      },
      "source": [
        "kpca = KernelPCA(n_components=2, kernel='rbf')"
      ],
      "execution_count": null,
      "outputs": []
    },
    {
      "cell_type": "code",
      "source": [
        "previsores_kernel = kpca.fit_transform(previsores2)"
      ],
      "metadata": {
        "id": "bRAZ06bXPspG"
      },
      "execution_count": null,
      "outputs": []
    },
    {
      "cell_type": "code",
      "metadata": {
        "id": "tswhvRYtdMvr",
        "colab": {
          "base_uri": "https://localhost:8080/"
        },
        "outputId": "1cc2874c-76ba-491f-cdc0-35afeaa732ac"
      },
      "source": [
        "previsores_kernel.shape"
      ],
      "execution_count": null,
      "outputs": [
        {
          "output_type": "execute_result",
          "data": {
            "text/plain": [
              "(23426, 2)"
            ]
          },
          "metadata": {},
          "execution_count": 243
        }
      ]
    },
    {
      "cell_type": "code",
      "metadata": {
        "id": "age1iPvsdZg-",
        "colab": {
          "base_uri": "https://localhost:8080/"
        },
        "outputId": "1deb481a-0a78-4b37-f2ca-052db7d01262"
      },
      "source": [
        "previsores_kernel"
      ],
      "execution_count": null,
      "outputs": [
        {
          "output_type": "execute_result",
          "data": {
            "text/plain": [
              "array([[-0.05530859, -0.00024314],\n",
              "       [-0.05530823, -0.00024311],\n",
              "       [-0.05530837, -0.00024312],\n",
              "       ...,\n",
              "       [-0.05530826, -0.00024312],\n",
              "       [-0.05530826, -0.00024312],\n",
              "       [-0.05530822, -0.00024311]])"
            ]
          },
          "metadata": {},
          "execution_count": 244
        }
      ]
    },
    {
      "cell_type": "markdown",
      "source": [
        "### **Análise do Discriminante Linear (LDA: Linear Discriminant Analysis)**"
      ],
      "metadata": {
        "id": "u3jQ6H1S-HtG"
      }
    },
    {
      "cell_type": "markdown",
      "source": [
        "Algoritmo de aprendizagem supervisionada, pois utiliza a classe como referência para seleção.\n",
        "\n",
        "Aplicado em situações com muitos atributos previsores e também com o atributo alvo com muitas classes."
      ],
      "metadata": {
        "id": "NqO1DSAP-7tT"
      }
    },
    {
      "cell_type": "code",
      "metadata": {
        "id": "3RRYZemLenmT"
      },
      "source": [
        "from sklearn.discriminant_analysis import LinearDiscriminantAnalysis\n",
        "lda = LinearDiscriminantAnalysis(n_components = 3)"
      ],
      "execution_count": null,
      "outputs": []
    },
    {
      "cell_type": "code",
      "source": [
        "alvo"
      ],
      "metadata": {
        "colab": {
          "base_uri": "https://localhost:8080/"
        },
        "id": "anL3Tift3Ja9",
        "outputId": "7e552f92-018d-4f5c-e97b-ac90092d47a1"
      },
      "execution_count": null,
      "outputs": [
        {
          "output_type": "execute_result",
          "data": {
            "text/plain": [
              "array([0., 0., 0., ..., 1., 1., 1.])"
            ]
          },
          "metadata": {},
          "execution_count": 246
        }
      ]
    },
    {
      "cell_type": "code",
      "metadata": {
        "id": "onA-GJZafCLU"
      },
      "source": [
        "previsores_lda = lda.fit_transform(previsores2, alvo)"
      ],
      "execution_count": null,
      "outputs": []
    },
    {
      "cell_type": "code",
      "source": [
        "previsores_lda"
      ],
      "metadata": {
        "id": "Y2qtrFLrBVzr",
        "colab": {
          "base_uri": "https://localhost:8080/"
        },
        "outputId": "891ed397-87c9-469c-d2f7-a3dbec9f05eb"
      },
      "execution_count": null,
      "outputs": [
        {
          "output_type": "execute_result",
          "data": {
            "text/plain": [
              "array([[ 0.55791111, -0.96509399,  0.455473  ],\n",
              "       [ 0.58757876, -1.27045039,  0.75730746],\n",
              "       [ 0.56534139, -1.54605274,  1.02125305],\n",
              "       ...,\n",
              "       [-5.51099107,  3.06383753,  2.92287463],\n",
              "       [-5.38655078,  3.31122371,  3.18454576],\n",
              "       [-5.38912627,  2.65109661,  3.15613579]])"
            ]
          },
          "metadata": {},
          "execution_count": 248
        }
      ]
    },
    {
      "cell_type": "code",
      "source": [
        "lda.explained_variance_ratio_"
      ],
      "metadata": {
        "id": "g5l0JnpGBfn7",
        "colab": {
          "base_uri": "https://localhost:8080/"
        },
        "outputId": "864ed80e-209a-4950-b61b-58e4921e04d9"
      },
      "execution_count": null,
      "outputs": [
        {
          "output_type": "execute_result",
          "data": {
            "text/plain": [
              "array([0.5521339 , 0.33906682, 0.10879928])"
            ]
          },
          "metadata": {},
          "execution_count": 249
        }
      ]
    },
    {
      "cell_type": "code",
      "source": [
        "lda.explained_variance_ratio_.sum()"
      ],
      "metadata": {
        "colab": {
          "base_uri": "https://localhost:8080/"
        },
        "id": "3b2dBBzC3W6k",
        "outputId": "7e9b2286-790e-46dc-da82-299e780aeb99"
      },
      "execution_count": null,
      "outputs": [
        {
          "output_type": "execute_result",
          "data": {
            "text/plain": [
              "0.9999999999999998"
            ]
          },
          "metadata": {},
          "execution_count": 250
        }
      ]
    },
    {
      "cell_type": "markdown",
      "source": [
        "## **Salvando as variáveis (atributos)**"
      ],
      "metadata": {
        "id": "Caf7XRsO4BYE"
      }
    },
    {
      "cell_type": "code",
      "metadata": {
        "id": "Vn6R_DKHhG0u"
      },
      "source": [
        "import pickle"
      ],
      "execution_count": null,
      "outputs": []
    },
    {
      "cell_type": "code",
      "source": [
        "# Criando arquivo\n",
        "arq1 = open('welllog.pkl', 'wb')"
      ],
      "metadata": {
        "id": "DuPE27wl-vBw"
      },
      "execution_count": null,
      "outputs": []
    },
    {
      "cell_type": "code",
      "source": [
        "# Salvando a variável no arquivo\n",
        "pickle.dump(alvo, arq1)"
      ],
      "metadata": {
        "id": "jTvKGTxnHien"
      },
      "execution_count": null,
      "outputs": []
    },
    {
      "cell_type": "code",
      "source": [
        "# Fechando arquivo\n",
        "arq1.close()"
      ],
      "metadata": {
        "id": "sle5bDZZIJjt"
      },
      "execution_count": null,
      "outputs": []
    },
    {
      "cell_type": "code",
      "source": [
        "# Lendo arquivo\n",
        "arq1 = open('welllog.pkl', 'rb')"
      ],
      "metadata": {
        "id": "5-HNb-3IISWs"
      },
      "execution_count": null,
      "outputs": []
    },
    {
      "cell_type": "code",
      "source": [
        "# Chamando a variável\n",
        "alvo = pickle.load(arq1)"
      ],
      "metadata": {
        "id": "poLMbNNvIjlz"
      },
      "execution_count": null,
      "outputs": []
    },
    {
      "cell_type": "code",
      "source": [
        "alvo"
      ],
      "metadata": {
        "id": "MZHEQpHeKzK_",
        "colab": {
          "base_uri": "https://localhost:8080/"
        },
        "outputId": "07c3eac3-93d8-46b1-da1a-a46bc33d36a6"
      },
      "execution_count": null,
      "outputs": [
        {
          "output_type": "execute_result",
          "data": {
            "text/plain": [
              "array([0., 0., 0., ..., 1., 1., 1.])"
            ]
          },
          "metadata": {},
          "execution_count": 257
        }
      ]
    },
    {
      "cell_type": "code",
      "source": [
        "# Criando arquivos e Salvando as variáveis\n",
        "arq2 = open('logs.pkl', 'wb')\n",
        "pickle.dump(previsores, arq2)"
      ],
      "metadata": {
        "id": "hb4PNxyzQgC1"
      },
      "execution_count": null,
      "outputs": []
    },
    {
      "cell_type": "code",
      "source": [
        "arq2 = open('logs.pkl', 'rb')"
      ],
      "metadata": {
        "id": "i7noq9dAEwog"
      },
      "execution_count": null,
      "outputs": []
    },
    {
      "cell_type": "code",
      "source": [
        "previsores = pickle.load(arq2)"
      ],
      "metadata": {
        "id": "sNSCfClWE0_G"
      },
      "execution_count": null,
      "outputs": []
    },
    {
      "cell_type": "code",
      "source": [
        "previsores"
      ],
      "metadata": {
        "id": "3rE0rqRXRxR3",
        "colab": {
          "base_uri": "https://localhost:8080/"
        },
        "outputId": "7958997b-d7eb-4e9a-ca6e-9ea72bc37986"
      },
      "execution_count": null,
      "outputs": [
        {
          "output_type": "execute_result",
          "data": {
            "text/plain": [
              "array([[4392.1025391 , 2491.2502441 ,   16.13949394],\n",
              "       [4368.2451172 , 2502.7141113 ,   16.53052712],\n",
              "       [4354.0029297 , 2517.2043457 ,   16.49198532],\n",
              "       ...,\n",
              "       [5594.0039063 , 3157.7043457 ,   23.27806282],\n",
              "       [5594.0039063 , 3157.7043457 ,   27.87416077],\n",
              "       [5548.5112305 , 3157.7043457 ,   22.99479866]])"
            ]
          },
          "metadata": {},
          "execution_count": 261
        }
      ]
    },
    {
      "cell_type": "markdown",
      "source": [
        "## **BASE DE TREINO E TESTE**"
      ],
      "metadata": {
        "id": "w-W634n0I_Db"
      }
    },
    {
      "cell_type": "code",
      "source": [
        "from sklearn.model_selection import train_test_split"
      ],
      "metadata": {
        "id": "UmjBvEubFG72"
      },
      "execution_count": null,
      "outputs": []
    },
    {
      "cell_type": "markdown",
      "metadata": {
        "id": "cB1szLDSyfzA"
      },
      "source": [
        "Parâmetros train_test_split:   \n",
        "- arrays: nomes dos atributos previsores e alvo.   \n",
        "- test_size: tamanho em porcentagem dos dados de teste. default é none.   \n",
        "- train_size: tamanho em porcentagem dos dados de treinamento.default é none.  \n",
        "- random_state: nomeação de um estado aleatório.   \n",
        "- shuffle: embaralhamento dos dados aleatórios. Associado com o random_state ocorre o mesmo embaralhamento sempre. Default é True.  \n",
        "- stratify: Possibilidade de dividir os dados de forma estratificada. Default é None (nesse caso é mantido a proporção, isto é, se tem 30% de zeros e 70% de 1 no dataframe, na separação em treinamento e teste se manterá essa proporção)."
      ]
    },
    {
      "cell_type": "code",
      "source": [
        "x_treino, x_teste, y_treino, y_teste = train_test_split(previsores_esc, alvo, test_size = 0.3, random_state = 0)"
      ],
      "metadata": {
        "id": "JFn1OrYtF0m9"
      },
      "execution_count": null,
      "outputs": []
    },
    {
      "cell_type": "code",
      "metadata": {
        "id": "Xza9uNMgJFD8",
        "colab": {
          "base_uri": "https://localhost:8080/"
        },
        "outputId": "e37359f0-5f64-4236-b699-55e5fece4c02"
      },
      "source": [
        "x_treino.shape"
      ],
      "execution_count": null,
      "outputs": [
        {
          "output_type": "execute_result",
          "data": {
            "text/plain": [
              "(16398, 3)"
            ]
          },
          "metadata": {},
          "execution_count": 54
        }
      ]
    },
    {
      "cell_type": "code",
      "metadata": {
        "id": "gM74hUlEJNOZ",
        "colab": {
          "base_uri": "https://localhost:8080/"
        },
        "outputId": "5c05f37f-7cf7-41ed-b24a-e7c41e6a92d2"
      },
      "source": [
        "x_teste.shape"
      ],
      "execution_count": null,
      "outputs": [
        {
          "output_type": "execute_result",
          "data": {
            "text/plain": [
              "(7028, 3)"
            ]
          },
          "metadata": {},
          "execution_count": 55
        }
      ]
    },
    {
      "cell_type": "code",
      "metadata": {
        "id": "lGzLxpISJeWG",
        "colab": {
          "base_uri": "https://localhost:8080/"
        },
        "outputId": "3c431794-7c05-4d6a-b6c3-c74ad66a2be1"
      },
      "source": [
        "y_treino.shape"
      ],
      "execution_count": null,
      "outputs": [
        {
          "output_type": "execute_result",
          "data": {
            "text/plain": [
              "(16398,)"
            ]
          },
          "metadata": {},
          "execution_count": 56
        }
      ]
    },
    {
      "cell_type": "code",
      "metadata": {
        "id": "ZUojufPlJnhy",
        "colab": {
          "base_uri": "https://localhost:8080/"
        },
        "outputId": "5d67a160-1131-4054-85d5-06f45902448c"
      },
      "source": [
        "y_teste.shape"
      ],
      "execution_count": null,
      "outputs": [
        {
          "output_type": "execute_result",
          "data": {
            "text/plain": [
              "(7028,)"
            ]
          },
          "metadata": {},
          "execution_count": 57
        }
      ]
    },
    {
      "cell_type": "markdown",
      "source": [
        "# **NAIVE BAYES**"
      ],
      "metadata": {
        "id": "f6u542_aEj6B"
      }
    },
    {
      "cell_type": "markdown",
      "source": [
        "https://scikit-learn.org/stable/modules/naive_bayes.html"
      ],
      "metadata": {
        "id": "2tnCKM7kcfQl"
      }
    },
    {
      "cell_type": "markdown",
      "source": [
        "Treinamento do algoritmo"
      ],
      "metadata": {
        "id": "-GK8qvcgzWGQ"
      }
    },
    {
      "cell_type": "code",
      "source": [
        "from sklearn.naive_bayes import GaussianNB"
      ],
      "metadata": {
        "id": "YhAnMs4TJRoa"
      },
      "execution_count": null,
      "outputs": []
    },
    {
      "cell_type": "code",
      "source": [
        "naive = GaussianNB()\n",
        "naive.fit(x_treino, y_treino)"
      ],
      "metadata": {
        "id": "ak0_M56CJheq",
        "colab": {
          "base_uri": "https://localhost:8080/"
        },
        "outputId": "f7b47dd2-b46c-4d67-bca1-37b20f7e5f21"
      },
      "execution_count": null,
      "outputs": [
        {
          "output_type": "execute_result",
          "data": {
            "text/plain": [
              "GaussianNB()"
            ]
          },
          "metadata": {},
          "execution_count": 88
        }
      ]
    },
    {
      "cell_type": "markdown",
      "source": [
        "Avaliação do algoritmo"
      ],
      "metadata": {
        "id": "neBugc1HzbL_"
      }
    },
    {
      "cell_type": "code",
      "source": [
        "previsoes_naive = naive.predict(x_teste)\n",
        "previsoes_naive"
      ],
      "metadata": {
        "id": "ac4kuVBsJ85p",
        "colab": {
          "base_uri": "https://localhost:8080/"
        },
        "outputId": "daf2204e-5e76-485a-aaff-f0b5a46ec2d4"
      },
      "execution_count": null,
      "outputs": [
        {
          "output_type": "execute_result",
          "data": {
            "text/plain": [
              "array([0., 0., 0., ..., 0., 0., 0.])"
            ]
          },
          "metadata": {},
          "execution_count": 89
        }
      ]
    },
    {
      "cell_type": "code",
      "source": [
        "y_teste"
      ],
      "metadata": {
        "id": "aBPvzhRUKLoZ",
        "colab": {
          "base_uri": "https://localhost:8080/"
        },
        "outputId": "052223fb-4ca5-4fe5-deae-7aef0967911d"
      },
      "execution_count": null,
      "outputs": [
        {
          "output_type": "execute_result",
          "data": {
            "text/plain": [
              "array([0., 0., 0., ..., 0., 0., 0.])"
            ]
          },
          "metadata": {},
          "execution_count": 90
        }
      ]
    },
    {
      "cell_type": "code",
      "source": [
        "from sklearn.metrics import accuracy_score, confusion_matrix, classification_report"
      ],
      "metadata": {
        "id": "OEXPFIiVKUl_"
      },
      "execution_count": null,
      "outputs": []
    },
    {
      "cell_type": "code",
      "source": [
        "accuracy_score(y_teste, previsoes_naive)"
      ],
      "metadata": {
        "id": "hojdvgEgKYjg",
        "colab": {
          "base_uri": "https://localhost:8080/"
        },
        "outputId": "2a0fc208-f437-4b4f-a5c3-924fbc1fec5d"
      },
      "execution_count": null,
      "outputs": [
        {
          "output_type": "execute_result",
          "data": {
            "text/plain": [
              "0.942942515651679"
            ]
          },
          "metadata": {},
          "execution_count": 92
        }
      ]
    },
    {
      "cell_type": "code",
      "source": [
        "print(\"Acurácia: %.2f%%\" % (accuracy_score(y_teste, previsoes_naive) * 100.0))"
      ],
      "metadata": {
        "id": "R8rjCRA7CwLV",
        "colab": {
          "base_uri": "https://localhost:8080/"
        },
        "outputId": "b709ea4e-1403-47c2-b034-c6a210cf595a"
      },
      "execution_count": null,
      "outputs": [
        {
          "output_type": "stream",
          "name": "stdout",
          "text": [
            "Acurácia: 94.29%\n"
          ]
        }
      ]
    },
    {
      "cell_type": "code",
      "source": [
        "confusion_matrix(y_teste, previsoes_naive)"
      ],
      "metadata": {
        "id": "N_xxZiTXKeG3",
        "colab": {
          "base_uri": "https://localhost:8080/"
        },
        "outputId": "e8bfe7bd-d145-47c4-86fd-f99a619f685e"
      },
      "execution_count": null,
      "outputs": [
        {
          "output_type": "execute_result",
          "data": {
            "text/plain": [
              "array([[5702,   92,  112,   13],\n",
              "       [  65,  430,    5,    0],\n",
              "       [  57,    4,  380,   27],\n",
              "       [  11,    0,   15,  115]])"
            ]
          },
          "metadata": {},
          "execution_count": 94
        }
      ]
    },
    {
      "cell_type": "code",
      "source": [
        "print(classification_report(y_teste, previsoes_naive))"
      ],
      "metadata": {
        "id": "CZMZ_zPNKzqW",
        "colab": {
          "base_uri": "https://localhost:8080/"
        },
        "outputId": "01d86010-9336-419b-96fd-81e857098673"
      },
      "execution_count": null,
      "outputs": [
        {
          "output_type": "stream",
          "name": "stdout",
          "text": [
            "              precision    recall  f1-score   support\n",
            "\n",
            "         0.0       0.98      0.96      0.97      5919\n",
            "         1.0       0.82      0.86      0.84       500\n",
            "         2.0       0.74      0.81      0.78       468\n",
            "         3.0       0.74      0.82      0.78       141\n",
            "\n",
            "    accuracy                           0.94      7028\n",
            "   macro avg       0.82      0.86      0.84      7028\n",
            "weighted avg       0.95      0.94      0.94      7028\n",
            "\n"
          ]
        }
      ]
    },
    {
      "cell_type": "markdown",
      "source": [
        "###**Análise dados de treino**"
      ],
      "metadata": {
        "id": "Gnte-P_e0536"
      }
    },
    {
      "cell_type": "code",
      "source": [
        "previsoes_treino = naive.predict(x_treino)\n",
        "previsoes_treino"
      ],
      "metadata": {
        "id": "_t9CZH8qz9w-",
        "colab": {
          "base_uri": "https://localhost:8080/"
        },
        "outputId": "2d6ae815-bbb8-48f1-9056-d4f78844e476"
      },
      "execution_count": null,
      "outputs": [
        {
          "output_type": "execute_result",
          "data": {
            "text/plain": [
              "array([0., 0., 0., ..., 0., 0., 0.])"
            ]
          },
          "metadata": {},
          "execution_count": 96
        }
      ]
    },
    {
      "cell_type": "markdown",
      "source": [
        "**É importante que a acurácia fique próxima entre os dados de treino e os dados de teste. Caso isso não aconteça, significa que podemos estar tendo um overfitting.**"
      ],
      "metadata": {
        "id": "ApsazST1uQ-Z"
      }
    },
    {
      "cell_type": "code",
      "source": [
        "accuracy_score(y_treino, previsoes_treino)"
      ],
      "metadata": {
        "id": "ixfPbrJB0iEE",
        "colab": {
          "base_uri": "https://localhost:8080/"
        },
        "outputId": "9c1a0531-31b1-4a35-b3da-b37a1eb5adc5"
      },
      "execution_count": null,
      "outputs": [
        {
          "output_type": "execute_result",
          "data": {
            "text/plain": [
              "0.942371020856202"
            ]
          },
          "metadata": {},
          "execution_count": 97
        }
      ]
    },
    {
      "cell_type": "code",
      "source": [
        "confusion_matrix(y_treino, previsoes_treino)"
      ],
      "metadata": {
        "id": "nyTX_2Te0suq",
        "colab": {
          "base_uri": "https://localhost:8080/"
        },
        "outputId": "856afaca-2688-4aa2-d50f-bddd7896d8a1"
      },
      "execution_count": null,
      "outputs": [
        {
          "output_type": "execute_result",
          "data": {
            "text/plain": [
              "array([[13353,   202,   242,    40],\n",
              "       [  190,   966,    14,     0],\n",
              "       [  136,     5,   898,    73],\n",
              "       [   16,     0,    27,   236]])"
            ]
          },
          "metadata": {},
          "execution_count": 98
        }
      ]
    },
    {
      "cell_type": "code",
      "source": [
        "previsoes_total =  naive.predict(previsores)"
      ],
      "metadata": {
        "id": "ab8f6DuVOxpe"
      },
      "execution_count": null,
      "outputs": []
    },
    {
      "cell_type": "code",
      "source": [
        "previsoes_total"
      ],
      "metadata": {
        "colab": {
          "base_uri": "https://localhost:8080/"
        },
        "id": "TuZn9i-RO9Eg",
        "outputId": "13fa1790-d3c1-44e7-e402-2b7163a4615d"
      },
      "execution_count": null,
      "outputs": [
        {
          "output_type": "execute_result",
          "data": {
            "text/plain": [
              "array([0., 0., 0., ..., 1., 1., 1.])"
            ]
          },
          "metadata": {},
          "execution_count": 100
        }
      ]
    },
    {
      "cell_type": "code",
      "source": [
        "previsoes_total.shape"
      ],
      "metadata": {
        "colab": {
          "base_uri": "https://localhost:8080/"
        },
        "id": "Dh-2QZ6PPT-E",
        "outputId": "b8bf48b5-d207-4940-8484-74ff1d09221f"
      },
      "execution_count": null,
      "outputs": [
        {
          "output_type": "execute_result",
          "data": {
            "text/plain": [
              "(23426,)"
            ]
          },
          "metadata": {},
          "execution_count": 101
        }
      ]
    },
    {
      "cell_type": "code",
      "source": [
        "accuracy_score(alvo, previsoes_total)"
      ],
      "metadata": {
        "colab": {
          "base_uri": "https://localhost:8080/"
        },
        "id": "hP7_T8UnPH6N",
        "outputId": "f389bff8-95d5-4381-e9d6-dabaafea2776"
      },
      "execution_count": null,
      "outputs": [
        {
          "output_type": "execute_result",
          "data": {
            "text/plain": [
              "0.9425424741739947"
            ]
          },
          "metadata": {},
          "execution_count": 102
        }
      ]
    },
    {
      "cell_type": "code",
      "source": [
        "print(classification_report(alvo, previsoes_total))"
      ],
      "metadata": {
        "colab": {
          "base_uri": "https://localhost:8080/"
        },
        "id": "8cju8njiuoNQ",
        "outputId": "0daa6749-7b94-4cda-95c0-010ed060cedf"
      },
      "execution_count": null,
      "outputs": [
        {
          "output_type": "stream",
          "name": "stdout",
          "text": [
            "              precision    recall  f1-score   support\n",
            "\n",
            "         0.0       0.98      0.96      0.97     19756\n",
            "         1.0       0.82      0.84      0.83      1670\n",
            "         2.0       0.75      0.81      0.78      1580\n",
            "         3.0       0.70      0.84      0.76       420\n",
            "\n",
            "    accuracy                           0.94     23426\n",
            "   macro avg       0.81      0.86      0.83     23426\n",
            "weighted avg       0.94      0.94      0.94     23426\n",
            "\n"
          ]
        }
      ]
    },
    {
      "cell_type": "markdown",
      "source": [
        "**Não existe diferença nos resultados se entrar com os valores escalonados.**"
      ],
      "metadata": {
        "id": "1kbuf_YDvRvA"
      }
    },
    {
      "cell_type": "markdown",
      "source": [
        "### **Validação Cruzada**"
      ],
      "metadata": {
        "id": "rNsT6wAn_e1l"
      }
    },
    {
      "cell_type": "markdown",
      "source": [
        "**Serve para verificar se os dados de testes são representativos.**"
      ],
      "metadata": {
        "id": "yU-N8zDExd9R"
      }
    },
    {
      "cell_type": "code",
      "source": [
        "from sklearn.model_selection import KFold\n",
        "from sklearn.model_selection import cross_val_score"
      ],
      "metadata": {
        "id": "lvBuy5bm_qok"
      },
      "execution_count": null,
      "outputs": []
    },
    {
      "cell_type": "markdown",
      "source": [
        "**Separando em n número de grupos os dados**"
      ],
      "metadata": {
        "id": "kj631l01yaeJ"
      }
    },
    {
      "cell_type": "code",
      "source": [
        "# Separando os dados em folds\n",
        "kfold = KFold(n_splits = 30, shuffle=True, random_state = 5)"
      ],
      "metadata": {
        "id": "SS_dyx4x_260"
      },
      "execution_count": null,
      "outputs": []
    },
    {
      "cell_type": "code",
      "source": [
        "# Criando o modelo\n",
        "modelo = GaussianNB()\n",
        "resultado = cross_val_score(modelo, previsores, alvo, cv = kfold)\n",
        "resultado"
      ],
      "metadata": {
        "id": "K0aqT7kPAf1L",
        "colab": {
          "base_uri": "https://localhost:8080/"
        },
        "outputId": "9fd64495-8ce3-4fe3-c7f3-b394bc2dc31b"
      },
      "execution_count": null,
      "outputs": [
        {
          "output_type": "execute_result",
          "data": {
            "text/plain": [
              "array([0.94110115, 0.9475032 , 0.92701665, 0.94238156, 0.95390525,\n",
              "       0.94622279, 0.94878361, 0.92445583, 0.9206146 , 0.95262484,\n",
              "       0.92957746, 0.93854033, 0.93341869, 0.95518566, 0.95646607,\n",
              "       0.95262484, 0.95518566, 0.92573624, 0.95134443, 0.95518566,\n",
              "       0.94878361, 0.92701665, 0.95006402, 0.92957746, 0.94110115,\n",
              "       0.94366197, 0.9474359 , 0.9474359 , 0.93333333, 0.93974359])"
            ]
          },
          "metadata": {},
          "execution_count": 106
        }
      ]
    },
    {
      "cell_type": "code",
      "source": [
        "# Usamos a média e o desvio padrão\n",
        "print(\"Acurácia Média: %.2f%%\" % (resultado.mean() * 100.0))"
      ],
      "metadata": {
        "id": "VmmFUeXird9B",
        "colab": {
          "base_uri": "https://localhost:8080/"
        },
        "outputId": "30eb57c2-04c7-4629-f3ab-f671224b8c58"
      },
      "execution_count": null,
      "outputs": [
        {
          "output_type": "stream",
          "name": "stdout",
          "text": [
            "Acurácia Média: 94.22%\n"
          ]
        }
      ]
    },
    {
      "cell_type": "markdown",
      "source": [
        "Naive Bayes = 94,25% (treino e teste) \n",
        "\n",
        "94,22% (validação cruzada) - previsores\n",
        "\n",
        "\n",
        "\n"
      ],
      "metadata": {
        "id": "tZ03xoOQNkQP"
      }
    },
    {
      "cell_type": "markdown",
      "source": [
        "###**Salvando o resultado do NAIVE BAYES no Dataframe**"
      ],
      "metadata": {
        "id": "HlCH0hOdbZEd"
      }
    },
    {
      "cell_type": "code",
      "source": [
        "df['FACIES'].value_counts()"
      ],
      "metadata": {
        "colab": {
          "base_uri": "https://localhost:8080/"
        },
        "id": "25tDnw7BD86R",
        "outputId": "6d4140a5-4c5d-490f-b032-1bd758e8cf7c"
      },
      "execution_count": null,
      "outputs": [
        {
          "output_type": "execute_result",
          "data": {
            "text/plain": [
              "85.0    19756\n",
              "82.0     1670\n",
              "87.0     1580\n",
              "81.0      420\n",
              "Name: FACIES, dtype: int64"
            ]
          },
          "metadata": {},
          "execution_count": 108
        }
      ]
    },
    {
      "cell_type": "code",
      "source": [
        "df_Facies = df.copy()"
      ],
      "metadata": {
        "id": "aeJIDc-iPoGL"
      },
      "execution_count": null,
      "outputs": []
    },
    {
      "cell_type": "code",
      "source": [
        "df_Facies[\"FACIES_NB\"] = previsoes_total\n",
        "df_Facies['FACIES_NB'].replace({0:85.0, 1:82.0, 2:87.0, 3:81.0}, inplace=True)"
      ],
      "metadata": {
        "id": "rJdWOxH0WmAg"
      },
      "execution_count": null,
      "outputs": []
    },
    {
      "cell_type": "code",
      "source": [
        "#df_Facies.to_csv('sal_pocos_NB.csv', sep=',', encoding='utf-8', index = False)"
      ],
      "metadata": {
        "id": "n1HKeloUZOpE"
      },
      "execution_count": null,
      "outputs": []
    },
    {
      "cell_type": "code",
      "source": [
        "df_Facies"
      ],
      "metadata": {
        "colab": {
          "base_uri": "https://localhost:8080/",
          "height": 424
        },
        "id": "4GT3B7uGWrN-",
        "outputId": "11350474-b5f6-4f0d-f87f-8ef22da0624c"
      },
      "execution_count": null,
      "outputs": [
        {
          "output_type": "execute_result",
          "data": {
            "text/plain": [
              "            PROF           VP  FACIES           VS         GR    POCO  \\\n",
              "0      3103.0164  4392.102539    85.0  2491.250244  16.139494  poco_1   \n",
              "1      3103.1688  4368.245117    85.0  2502.714111  16.530527  poco_1   \n",
              "2      3103.3212  4354.002930    85.0  2517.204346  16.491985  poco_1   \n",
              "3      3103.4736  4349.213867    85.0  2529.218994  16.053066  poco_1   \n",
              "4      3103.6260  4354.245606    85.0  2535.076172  15.923628  poco_1   \n",
              "...          ...          ...     ...          ...        ...     ...   \n",
              "23421  4845.2532  5594.003906    82.0  3157.704346  14.272353  poco_2   \n",
              "23422  4845.4056  5594.003906    82.0  3157.704346  17.985367  poco_2   \n",
              "23423  4845.5580  5594.003906    82.0  3157.704346  23.278063  poco_2   \n",
              "23424  4845.7104  5594.003906    82.0  3157.704346  27.874161  poco_2   \n",
              "23425  4845.8628  5548.511231    82.0  3157.704346  22.994799  poco_2   \n",
              "\n",
              "       FACIES_NB  \n",
              "0           85.0  \n",
              "1           85.0  \n",
              "2           85.0  \n",
              "3           85.0  \n",
              "4           85.0  \n",
              "...          ...  \n",
              "23421       82.0  \n",
              "23422       82.0  \n",
              "23423       82.0  \n",
              "23424       82.0  \n",
              "23425       82.0  \n",
              "\n",
              "[23426 rows x 7 columns]"
            ],
            "text/html": [
              "\n",
              "  <div id=\"df-2cfd2d4b-025c-4a9f-bf03-957abae16c78\">\n",
              "    <div class=\"colab-df-container\">\n",
              "      <div>\n",
              "<style scoped>\n",
              "    .dataframe tbody tr th:only-of-type {\n",
              "        vertical-align: middle;\n",
              "    }\n",
              "\n",
              "    .dataframe tbody tr th {\n",
              "        vertical-align: top;\n",
              "    }\n",
              "\n",
              "    .dataframe thead th {\n",
              "        text-align: right;\n",
              "    }\n",
              "</style>\n",
              "<table border=\"1\" class=\"dataframe\">\n",
              "  <thead>\n",
              "    <tr style=\"text-align: right;\">\n",
              "      <th></th>\n",
              "      <th>PROF</th>\n",
              "      <th>VP</th>\n",
              "      <th>FACIES</th>\n",
              "      <th>VS</th>\n",
              "      <th>GR</th>\n",
              "      <th>POCO</th>\n",
              "      <th>FACIES_NB</th>\n",
              "    </tr>\n",
              "  </thead>\n",
              "  <tbody>\n",
              "    <tr>\n",
              "      <th>0</th>\n",
              "      <td>3103.0164</td>\n",
              "      <td>4392.102539</td>\n",
              "      <td>85.0</td>\n",
              "      <td>2491.250244</td>\n",
              "      <td>16.139494</td>\n",
              "      <td>poco_1</td>\n",
              "      <td>85.0</td>\n",
              "    </tr>\n",
              "    <tr>\n",
              "      <th>1</th>\n",
              "      <td>3103.1688</td>\n",
              "      <td>4368.245117</td>\n",
              "      <td>85.0</td>\n",
              "      <td>2502.714111</td>\n",
              "      <td>16.530527</td>\n",
              "      <td>poco_1</td>\n",
              "      <td>85.0</td>\n",
              "    </tr>\n",
              "    <tr>\n",
              "      <th>2</th>\n",
              "      <td>3103.3212</td>\n",
              "      <td>4354.002930</td>\n",
              "      <td>85.0</td>\n",
              "      <td>2517.204346</td>\n",
              "      <td>16.491985</td>\n",
              "      <td>poco_1</td>\n",
              "      <td>85.0</td>\n",
              "    </tr>\n",
              "    <tr>\n",
              "      <th>3</th>\n",
              "      <td>3103.4736</td>\n",
              "      <td>4349.213867</td>\n",
              "      <td>85.0</td>\n",
              "      <td>2529.218994</td>\n",
              "      <td>16.053066</td>\n",
              "      <td>poco_1</td>\n",
              "      <td>85.0</td>\n",
              "    </tr>\n",
              "    <tr>\n",
              "      <th>4</th>\n",
              "      <td>3103.6260</td>\n",
              "      <td>4354.245606</td>\n",
              "      <td>85.0</td>\n",
              "      <td>2535.076172</td>\n",
              "      <td>15.923628</td>\n",
              "      <td>poco_1</td>\n",
              "      <td>85.0</td>\n",
              "    </tr>\n",
              "    <tr>\n",
              "      <th>...</th>\n",
              "      <td>...</td>\n",
              "      <td>...</td>\n",
              "      <td>...</td>\n",
              "      <td>...</td>\n",
              "      <td>...</td>\n",
              "      <td>...</td>\n",
              "      <td>...</td>\n",
              "    </tr>\n",
              "    <tr>\n",
              "      <th>23421</th>\n",
              "      <td>4845.2532</td>\n",
              "      <td>5594.003906</td>\n",
              "      <td>82.0</td>\n",
              "      <td>3157.704346</td>\n",
              "      <td>14.272353</td>\n",
              "      <td>poco_2</td>\n",
              "      <td>82.0</td>\n",
              "    </tr>\n",
              "    <tr>\n",
              "      <th>23422</th>\n",
              "      <td>4845.4056</td>\n",
              "      <td>5594.003906</td>\n",
              "      <td>82.0</td>\n",
              "      <td>3157.704346</td>\n",
              "      <td>17.985367</td>\n",
              "      <td>poco_2</td>\n",
              "      <td>82.0</td>\n",
              "    </tr>\n",
              "    <tr>\n",
              "      <th>23423</th>\n",
              "      <td>4845.5580</td>\n",
              "      <td>5594.003906</td>\n",
              "      <td>82.0</td>\n",
              "      <td>3157.704346</td>\n",
              "      <td>23.278063</td>\n",
              "      <td>poco_2</td>\n",
              "      <td>82.0</td>\n",
              "    </tr>\n",
              "    <tr>\n",
              "      <th>23424</th>\n",
              "      <td>4845.7104</td>\n",
              "      <td>5594.003906</td>\n",
              "      <td>82.0</td>\n",
              "      <td>3157.704346</td>\n",
              "      <td>27.874161</td>\n",
              "      <td>poco_2</td>\n",
              "      <td>82.0</td>\n",
              "    </tr>\n",
              "    <tr>\n",
              "      <th>23425</th>\n",
              "      <td>4845.8628</td>\n",
              "      <td>5548.511231</td>\n",
              "      <td>82.0</td>\n",
              "      <td>3157.704346</td>\n",
              "      <td>22.994799</td>\n",
              "      <td>poco_2</td>\n",
              "      <td>82.0</td>\n",
              "    </tr>\n",
              "  </tbody>\n",
              "</table>\n",
              "<p>23426 rows × 7 columns</p>\n",
              "</div>\n",
              "      <button class=\"colab-df-convert\" onclick=\"convertToInteractive('df-2cfd2d4b-025c-4a9f-bf03-957abae16c78')\"\n",
              "              title=\"Convert this dataframe to an interactive table.\"\n",
              "              style=\"display:none;\">\n",
              "        \n",
              "  <svg xmlns=\"http://www.w3.org/2000/svg\" height=\"24px\"viewBox=\"0 0 24 24\"\n",
              "       width=\"24px\">\n",
              "    <path d=\"M0 0h24v24H0V0z\" fill=\"none\"/>\n",
              "    <path d=\"M18.56 5.44l.94 2.06.94-2.06 2.06-.94-2.06-.94-.94-2.06-.94 2.06-2.06.94zm-11 1L8.5 8.5l.94-2.06 2.06-.94-2.06-.94L8.5 2.5l-.94 2.06-2.06.94zm10 10l.94 2.06.94-2.06 2.06-.94-2.06-.94-.94-2.06-.94 2.06-2.06.94z\"/><path d=\"M17.41 7.96l-1.37-1.37c-.4-.4-.92-.59-1.43-.59-.52 0-1.04.2-1.43.59L10.3 9.45l-7.72 7.72c-.78.78-.78 2.05 0 2.83L4 21.41c.39.39.9.59 1.41.59.51 0 1.02-.2 1.41-.59l7.78-7.78 2.81-2.81c.8-.78.8-2.07 0-2.86zM5.41 20L4 18.59l7.72-7.72 1.47 1.35L5.41 20z\"/>\n",
              "  </svg>\n",
              "      </button>\n",
              "      \n",
              "  <style>\n",
              "    .colab-df-container {\n",
              "      display:flex;\n",
              "      flex-wrap:wrap;\n",
              "      gap: 12px;\n",
              "    }\n",
              "\n",
              "    .colab-df-convert {\n",
              "      background-color: #E8F0FE;\n",
              "      border: none;\n",
              "      border-radius: 50%;\n",
              "      cursor: pointer;\n",
              "      display: none;\n",
              "      fill: #1967D2;\n",
              "      height: 32px;\n",
              "      padding: 0 0 0 0;\n",
              "      width: 32px;\n",
              "    }\n",
              "\n",
              "    .colab-df-convert:hover {\n",
              "      background-color: #E2EBFA;\n",
              "      box-shadow: 0px 1px 2px rgba(60, 64, 67, 0.3), 0px 1px 3px 1px rgba(60, 64, 67, 0.15);\n",
              "      fill: #174EA6;\n",
              "    }\n",
              "\n",
              "    [theme=dark] .colab-df-convert {\n",
              "      background-color: #3B4455;\n",
              "      fill: #D2E3FC;\n",
              "    }\n",
              "\n",
              "    [theme=dark] .colab-df-convert:hover {\n",
              "      background-color: #434B5C;\n",
              "      box-shadow: 0px 1px 3px 1px rgba(0, 0, 0, 0.15);\n",
              "      filter: drop-shadow(0px 1px 2px rgba(0, 0, 0, 0.3));\n",
              "      fill: #FFFFFF;\n",
              "    }\n",
              "  </style>\n",
              "\n",
              "      <script>\n",
              "        const buttonEl =\n",
              "          document.querySelector('#df-2cfd2d4b-025c-4a9f-bf03-957abae16c78 button.colab-df-convert');\n",
              "        buttonEl.style.display =\n",
              "          google.colab.kernel.accessAllowed ? 'block' : 'none';\n",
              "\n",
              "        async function convertToInteractive(key) {\n",
              "          const element = document.querySelector('#df-2cfd2d4b-025c-4a9f-bf03-957abae16c78');\n",
              "          const dataTable =\n",
              "            await google.colab.kernel.invokeFunction('convertToInteractive',\n",
              "                                                     [key], {});\n",
              "          if (!dataTable) return;\n",
              "\n",
              "          const docLinkHtml = 'Like what you see? Visit the ' +\n",
              "            '<a target=\"_blank\" href=https://colab.research.google.com/notebooks/data_table.ipynb>data table notebook</a>'\n",
              "            + ' to learn more about interactive tables.';\n",
              "          element.innerHTML = '';\n",
              "          dataTable['output_type'] = 'display_data';\n",
              "          await google.colab.output.renderOutput(dataTable, element);\n",
              "          const docLink = document.createElement('div');\n",
              "          docLink.innerHTML = docLinkHtml;\n",
              "          element.appendChild(docLink);\n",
              "        }\n",
              "      </script>\n",
              "    </div>\n",
              "  </div>\n",
              "  "
            ]
          },
          "metadata": {},
          "execution_count": 148
        }
      ]
    },
    {
      "cell_type": "markdown",
      "source": [
        "# **MÁQUINAS DE VETORES DE SUPORTE (SVM)**"
      ],
      "metadata": {
        "id": "n1ky9LQipNn0"
      }
    },
    {
      "cell_type": "markdown",
      "source": [
        "https://scikit-learn.org/stable/modules/generated/sklearn.svm.SVC.html"
      ],
      "metadata": {
        "id": "5p55FhL3b52u"
      }
    },
    {
      "cell_type": "code",
      "source": [
        "from sklearn.svm import SVC"
      ],
      "metadata": {
        "id": "oVy0EpUfpquK"
      },
      "execution_count": null,
      "outputs": []
    },
    {
      "cell_type": "code",
      "metadata": {
        "id": "P7xKKTCabAab",
        "colab": {
          "base_uri": "https://localhost:8080/"
        },
        "outputId": "73a9dd87-257b-4538-d84f-82247b245f3e"
      },
      "source": [
        "svm = SVC(kernel='rbf', random_state=1, C = 2) \n",
        "svm.fit(x_treino, y_treino)"
      ],
      "execution_count": null,
      "outputs": [
        {
          "output_type": "execute_result",
          "data": {
            "text/plain": [
              "SVC(C=2, random_state=1)"
            ]
          },
          "metadata": {},
          "execution_count": 269
        }
      ]
    },
    {
      "cell_type": "code",
      "metadata": {
        "id": "VjKeaHKrbicN",
        "colab": {
          "base_uri": "https://localhost:8080/"
        },
        "outputId": "48fd5413-0bdd-430a-9aad-0643e87b5755"
      },
      "source": [
        "previsoes_svm = svm.predict(x_teste)\n",
        "previsoes_svm"
      ],
      "execution_count": null,
      "outputs": [
        {
          "output_type": "execute_result",
          "data": {
            "text/plain": [
              "array([0., 0., 0., ..., 0., 0., 0.])"
            ]
          },
          "metadata": {},
          "execution_count": 270
        }
      ]
    },
    {
      "cell_type": "code",
      "source": [
        "y_teste"
      ],
      "metadata": {
        "id": "ulL7w207qcwQ",
        "colab": {
          "base_uri": "https://localhost:8080/"
        },
        "outputId": "76781fe6-6818-43c3-e0eb-e27b549d665f"
      },
      "execution_count": null,
      "outputs": [
        {
          "output_type": "execute_result",
          "data": {
            "text/plain": [
              "array([0., 0., 0., ..., 0., 0., 0.])"
            ]
          },
          "metadata": {},
          "execution_count": 271
        }
      ]
    },
    {
      "cell_type": "code",
      "source": [
        "from sklearn.metrics import accuracy_score, confusion_matrix, classification_report"
      ],
      "metadata": {
        "id": "iWdYWQQBvnVQ"
      },
      "execution_count": null,
      "outputs": []
    },
    {
      "cell_type": "code",
      "source": [
        "print(\"Acurácia: %.2f%%\" % (accuracy_score(y_teste, previsoes_svm) * 100.0))"
      ],
      "metadata": {
        "id": "kRZ4VwD-qjW4",
        "colab": {
          "base_uri": "https://localhost:8080/"
        },
        "outputId": "8a16beb8-16fe-4dc9-9c2b-86a75629c6f2"
      },
      "execution_count": null,
      "outputs": [
        {
          "output_type": "stream",
          "name": "stdout",
          "text": [
            "Acurácia: 94.99%\n"
          ]
        }
      ]
    },
    {
      "cell_type": "code",
      "source": [
        "confusion_matrix(y_teste, previsoes_svm)"
      ],
      "metadata": {
        "id": "VYeZMXUtqjW5",
        "colab": {
          "base_uri": "https://localhost:8080/"
        },
        "outputId": "57da4d9f-ba4c-4511-9726-e26ff5ecfb3f"
      },
      "execution_count": null,
      "outputs": [
        {
          "output_type": "execute_result",
          "data": {
            "text/plain": [
              "array([[5816,   30,   63,   10],\n",
              "       [ 103,  396,    1,    0],\n",
              "       [  93,    4,  357,   14],\n",
              "       [  16,    0,   18,  107]])"
            ]
          },
          "metadata": {},
          "execution_count": 274
        }
      ]
    },
    {
      "cell_type": "code",
      "source": [
        "print(classification_report(y_teste, previsoes_svm))"
      ],
      "metadata": {
        "id": "YPKWlAGAqjW6",
        "colab": {
          "base_uri": "https://localhost:8080/"
        },
        "outputId": "77a291d3-8a19-4a49-98fe-2e31c8c7bdcf"
      },
      "execution_count": null,
      "outputs": [
        {
          "output_type": "stream",
          "name": "stdout",
          "text": [
            "              precision    recall  f1-score   support\n",
            "\n",
            "         0.0       0.96      0.98      0.97      5919\n",
            "         1.0       0.92      0.79      0.85       500\n",
            "         2.0       0.81      0.76      0.79       468\n",
            "         3.0       0.82      0.76      0.79       141\n",
            "\n",
            "    accuracy                           0.95      7028\n",
            "   macro avg       0.88      0.82      0.85      7028\n",
            "weighted avg       0.95      0.95      0.95      7028\n",
            "\n"
          ]
        }
      ]
    },
    {
      "cell_type": "markdown",
      "source": [
        "###**Análise dados de treino**"
      ],
      "metadata": {
        "id": "GeeUpamU1u6d"
      }
    },
    {
      "cell_type": "code",
      "source": [
        "previsoes_treino = svm.predict(x_treino)\n",
        "previsoes_treino"
      ],
      "metadata": {
        "id": "VVGJEYpC1u6d",
        "colab": {
          "base_uri": "https://localhost:8080/"
        },
        "outputId": "bf41ce64-9599-430f-e6a6-a429936d629f"
      },
      "execution_count": null,
      "outputs": [
        {
          "output_type": "execute_result",
          "data": {
            "text/plain": [
              "array([0., 0., 0., ..., 0., 0., 0.])"
            ]
          },
          "metadata": {},
          "execution_count": 276
        }
      ]
    },
    {
      "cell_type": "code",
      "source": [
        "accuracy_score(y_treino, previsoes_treino)"
      ],
      "metadata": {
        "id": "Xo-iYrMn1u6d",
        "colab": {
          "base_uri": "https://localhost:8080/"
        },
        "outputId": "013935e0-ec94-48ad-8cc4-30e91a518736"
      },
      "execution_count": null,
      "outputs": [
        {
          "output_type": "execute_result",
          "data": {
            "text/plain": [
              "0.9480424442005122"
            ]
          },
          "metadata": {},
          "execution_count": 277
        }
      ]
    },
    {
      "cell_type": "code",
      "source": [
        "confusion_matrix(y_treino, previsoes_treino)"
      ],
      "metadata": {
        "id": "Z42CYXuC1u6e",
        "colab": {
          "base_uri": "https://localhost:8080/"
        },
        "outputId": "528c0298-4375-4e21-d339-8c2862f428af"
      },
      "execution_count": null,
      "outputs": [
        {
          "output_type": "execute_result",
          "data": {
            "text/plain": [
              "array([[13600,    82,   126,    29],\n",
              "       [  296,   874,     0,     0],\n",
              "       [  211,     5,   856,    40],\n",
              "       [   25,     0,    38,   216]])"
            ]
          },
          "metadata": {},
          "execution_count": 278
        }
      ]
    },
    {
      "cell_type": "markdown",
      "source": [
        "###**Classificação nos dois poços via SVM**\n",
        "\n"
      ],
      "metadata": {
        "id": "hAti5eYrvUYQ"
      }
    },
    {
      "cell_type": "code",
      "source": [
        "facies_svm = svm.predict(previsores_esc)"
      ],
      "metadata": {
        "id": "VNJGlfI4vo7q"
      },
      "execution_count": null,
      "outputs": []
    },
    {
      "cell_type": "code",
      "source": [
        "accuracy_score(alvo, facies_svm)"
      ],
      "metadata": {
        "colab": {
          "base_uri": "https://localhost:8080/"
        },
        "id": "Cc5bKnRg06_m",
        "outputId": "6d9fa759-c000-42ce-962e-afe3d6855a20"
      },
      "execution_count": null,
      "outputs": [
        {
          "output_type": "execute_result",
          "data": {
            "text/plain": [
              "0.9486041150858021"
            ]
          },
          "metadata": {},
          "execution_count": 280
        }
      ]
    },
    {
      "cell_type": "code",
      "source": [
        "confusion_matrix(alvo, facies_svm)"
      ],
      "metadata": {
        "colab": {
          "base_uri": "https://localhost:8080/"
        },
        "id": "FB1THYIpwMn7",
        "outputId": "494f1e66-9cd6-4a7c-e07b-e217fa8df417"
      },
      "execution_count": null,
      "outputs": [
        {
          "output_type": "execute_result",
          "data": {
            "text/plain": [
              "array([[19416,   112,   189,    39],\n",
              "       [  399,  1270,     1,     0],\n",
              "       [  304,     9,  1213,    54],\n",
              "       [   41,     0,    56,   323]])"
            ]
          },
          "metadata": {},
          "execution_count": 281
        }
      ]
    },
    {
      "cell_type": "code",
      "source": [
        "print(classification_report(alvo, facies_svm))"
      ],
      "metadata": {
        "colab": {
          "base_uri": "https://localhost:8080/"
        },
        "id": "MeIRc7iCwVaZ",
        "outputId": "b025a0a4-3eb4-4cbc-8af8-a00188ce9cf5"
      },
      "execution_count": null,
      "outputs": [
        {
          "output_type": "stream",
          "name": "stdout",
          "text": [
            "              precision    recall  f1-score   support\n",
            "\n",
            "         0.0       0.96      0.98      0.97     19756\n",
            "         1.0       0.91      0.76      0.83      1670\n",
            "         2.0       0.83      0.77      0.80      1580\n",
            "         3.0       0.78      0.77      0.77       420\n",
            "\n",
            "    accuracy                           0.95     23426\n",
            "   macro avg       0.87      0.82      0.84     23426\n",
            "weighted avg       0.95      0.95      0.95     23426\n",
            "\n"
          ]
        }
      ]
    },
    {
      "cell_type": "code",
      "source": [
        "df_Facies"
      ],
      "metadata": {
        "colab": {
          "base_uri": "https://localhost:8080/",
          "height": 424
        },
        "id": "_x8myueA1dpj",
        "outputId": "9ee8b185-b777-4fd4-aa8f-7cedbd58be37"
      },
      "execution_count": null,
      "outputs": [
        {
          "output_type": "execute_result",
          "data": {
            "text/plain": [
              "            PROF           VP  FACIES           VS         GR    POCO  \\\n",
              "0      3103.0164  4392.102539    85.0  2491.250244  16.139494  poco_1   \n",
              "1      3103.1688  4368.245117    85.0  2502.714111  16.530527  poco_1   \n",
              "2      3103.3212  4354.002930    85.0  2517.204346  16.491985  poco_1   \n",
              "3      3103.4736  4349.213867    85.0  2529.218994  16.053066  poco_1   \n",
              "4      3103.6260  4354.245606    85.0  2535.076172  15.923628  poco_1   \n",
              "...          ...          ...     ...          ...        ...     ...   \n",
              "23421  4845.2532  5594.003906    82.0  3157.704346  14.272353  poco_2   \n",
              "23422  4845.4056  5594.003906    82.0  3157.704346  17.985367  poco_2   \n",
              "23423  4845.5580  5594.003906    82.0  3157.704346  23.278063  poco_2   \n",
              "23424  4845.7104  5594.003906    82.0  3157.704346  27.874161  poco_2   \n",
              "23425  4845.8628  5548.511231    82.0  3157.704346  22.994799  poco_2   \n",
              "\n",
              "       FACIES_NB  FACIES_SVM  \n",
              "0           85.0        85.0  \n",
              "1           85.0        85.0  \n",
              "2           85.0        85.0  \n",
              "3           85.0        85.0  \n",
              "4           85.0        85.0  \n",
              "...          ...         ...  \n",
              "23421       82.0        82.0  \n",
              "23422       82.0        82.0  \n",
              "23423       82.0        82.0  \n",
              "23424       82.0        82.0  \n",
              "23425       82.0        82.0  \n",
              "\n",
              "[23426 rows x 8 columns]"
            ],
            "text/html": [
              "\n",
              "  <div id=\"df-96b3609c-c500-434d-93a7-43ae08afcc08\">\n",
              "    <div class=\"colab-df-container\">\n",
              "      <div>\n",
              "<style scoped>\n",
              "    .dataframe tbody tr th:only-of-type {\n",
              "        vertical-align: middle;\n",
              "    }\n",
              "\n",
              "    .dataframe tbody tr th {\n",
              "        vertical-align: top;\n",
              "    }\n",
              "\n",
              "    .dataframe thead th {\n",
              "        text-align: right;\n",
              "    }\n",
              "</style>\n",
              "<table border=\"1\" class=\"dataframe\">\n",
              "  <thead>\n",
              "    <tr style=\"text-align: right;\">\n",
              "      <th></th>\n",
              "      <th>PROF</th>\n",
              "      <th>VP</th>\n",
              "      <th>FACIES</th>\n",
              "      <th>VS</th>\n",
              "      <th>GR</th>\n",
              "      <th>POCO</th>\n",
              "      <th>FACIES_NB</th>\n",
              "      <th>FACIES_SVM</th>\n",
              "    </tr>\n",
              "  </thead>\n",
              "  <tbody>\n",
              "    <tr>\n",
              "      <th>0</th>\n",
              "      <td>3103.0164</td>\n",
              "      <td>4392.102539</td>\n",
              "      <td>85.0</td>\n",
              "      <td>2491.250244</td>\n",
              "      <td>16.139494</td>\n",
              "      <td>poco_1</td>\n",
              "      <td>85.0</td>\n",
              "      <td>85.0</td>\n",
              "    </tr>\n",
              "    <tr>\n",
              "      <th>1</th>\n",
              "      <td>3103.1688</td>\n",
              "      <td>4368.245117</td>\n",
              "      <td>85.0</td>\n",
              "      <td>2502.714111</td>\n",
              "      <td>16.530527</td>\n",
              "      <td>poco_1</td>\n",
              "      <td>85.0</td>\n",
              "      <td>85.0</td>\n",
              "    </tr>\n",
              "    <tr>\n",
              "      <th>2</th>\n",
              "      <td>3103.3212</td>\n",
              "      <td>4354.002930</td>\n",
              "      <td>85.0</td>\n",
              "      <td>2517.204346</td>\n",
              "      <td>16.491985</td>\n",
              "      <td>poco_1</td>\n",
              "      <td>85.0</td>\n",
              "      <td>85.0</td>\n",
              "    </tr>\n",
              "    <tr>\n",
              "      <th>3</th>\n",
              "      <td>3103.4736</td>\n",
              "      <td>4349.213867</td>\n",
              "      <td>85.0</td>\n",
              "      <td>2529.218994</td>\n",
              "      <td>16.053066</td>\n",
              "      <td>poco_1</td>\n",
              "      <td>85.0</td>\n",
              "      <td>85.0</td>\n",
              "    </tr>\n",
              "    <tr>\n",
              "      <th>4</th>\n",
              "      <td>3103.6260</td>\n",
              "      <td>4354.245606</td>\n",
              "      <td>85.0</td>\n",
              "      <td>2535.076172</td>\n",
              "      <td>15.923628</td>\n",
              "      <td>poco_1</td>\n",
              "      <td>85.0</td>\n",
              "      <td>85.0</td>\n",
              "    </tr>\n",
              "    <tr>\n",
              "      <th>...</th>\n",
              "      <td>...</td>\n",
              "      <td>...</td>\n",
              "      <td>...</td>\n",
              "      <td>...</td>\n",
              "      <td>...</td>\n",
              "      <td>...</td>\n",
              "      <td>...</td>\n",
              "      <td>...</td>\n",
              "    </tr>\n",
              "    <tr>\n",
              "      <th>23421</th>\n",
              "      <td>4845.2532</td>\n",
              "      <td>5594.003906</td>\n",
              "      <td>82.0</td>\n",
              "      <td>3157.704346</td>\n",
              "      <td>14.272353</td>\n",
              "      <td>poco_2</td>\n",
              "      <td>82.0</td>\n",
              "      <td>82.0</td>\n",
              "    </tr>\n",
              "    <tr>\n",
              "      <th>23422</th>\n",
              "      <td>4845.4056</td>\n",
              "      <td>5594.003906</td>\n",
              "      <td>82.0</td>\n",
              "      <td>3157.704346</td>\n",
              "      <td>17.985367</td>\n",
              "      <td>poco_2</td>\n",
              "      <td>82.0</td>\n",
              "      <td>82.0</td>\n",
              "    </tr>\n",
              "    <tr>\n",
              "      <th>23423</th>\n",
              "      <td>4845.5580</td>\n",
              "      <td>5594.003906</td>\n",
              "      <td>82.0</td>\n",
              "      <td>3157.704346</td>\n",
              "      <td>23.278063</td>\n",
              "      <td>poco_2</td>\n",
              "      <td>82.0</td>\n",
              "      <td>82.0</td>\n",
              "    </tr>\n",
              "    <tr>\n",
              "      <th>23424</th>\n",
              "      <td>4845.7104</td>\n",
              "      <td>5594.003906</td>\n",
              "      <td>82.0</td>\n",
              "      <td>3157.704346</td>\n",
              "      <td>27.874161</td>\n",
              "      <td>poco_2</td>\n",
              "      <td>82.0</td>\n",
              "      <td>82.0</td>\n",
              "    </tr>\n",
              "    <tr>\n",
              "      <th>23425</th>\n",
              "      <td>4845.8628</td>\n",
              "      <td>5548.511231</td>\n",
              "      <td>82.0</td>\n",
              "      <td>3157.704346</td>\n",
              "      <td>22.994799</td>\n",
              "      <td>poco_2</td>\n",
              "      <td>82.0</td>\n",
              "      <td>82.0</td>\n",
              "    </tr>\n",
              "  </tbody>\n",
              "</table>\n",
              "<p>23426 rows × 8 columns</p>\n",
              "</div>\n",
              "      <button class=\"colab-df-convert\" onclick=\"convertToInteractive('df-96b3609c-c500-434d-93a7-43ae08afcc08')\"\n",
              "              title=\"Convert this dataframe to an interactive table.\"\n",
              "              style=\"display:none;\">\n",
              "        \n",
              "  <svg xmlns=\"http://www.w3.org/2000/svg\" height=\"24px\"viewBox=\"0 0 24 24\"\n",
              "       width=\"24px\">\n",
              "    <path d=\"M0 0h24v24H0V0z\" fill=\"none\"/>\n",
              "    <path d=\"M18.56 5.44l.94 2.06.94-2.06 2.06-.94-2.06-.94-.94-2.06-.94 2.06-2.06.94zm-11 1L8.5 8.5l.94-2.06 2.06-.94-2.06-.94L8.5 2.5l-.94 2.06-2.06.94zm10 10l.94 2.06.94-2.06 2.06-.94-2.06-.94-.94-2.06-.94 2.06-2.06.94z\"/><path d=\"M17.41 7.96l-1.37-1.37c-.4-.4-.92-.59-1.43-.59-.52 0-1.04.2-1.43.59L10.3 9.45l-7.72 7.72c-.78.78-.78 2.05 0 2.83L4 21.41c.39.39.9.59 1.41.59.51 0 1.02-.2 1.41-.59l7.78-7.78 2.81-2.81c.8-.78.8-2.07 0-2.86zM5.41 20L4 18.59l7.72-7.72 1.47 1.35L5.41 20z\"/>\n",
              "  </svg>\n",
              "      </button>\n",
              "      \n",
              "  <style>\n",
              "    .colab-df-container {\n",
              "      display:flex;\n",
              "      flex-wrap:wrap;\n",
              "      gap: 12px;\n",
              "    }\n",
              "\n",
              "    .colab-df-convert {\n",
              "      background-color: #E8F0FE;\n",
              "      border: none;\n",
              "      border-radius: 50%;\n",
              "      cursor: pointer;\n",
              "      display: none;\n",
              "      fill: #1967D2;\n",
              "      height: 32px;\n",
              "      padding: 0 0 0 0;\n",
              "      width: 32px;\n",
              "    }\n",
              "\n",
              "    .colab-df-convert:hover {\n",
              "      background-color: #E2EBFA;\n",
              "      box-shadow: 0px 1px 2px rgba(60, 64, 67, 0.3), 0px 1px 3px 1px rgba(60, 64, 67, 0.15);\n",
              "      fill: #174EA6;\n",
              "    }\n",
              "\n",
              "    [theme=dark] .colab-df-convert {\n",
              "      background-color: #3B4455;\n",
              "      fill: #D2E3FC;\n",
              "    }\n",
              "\n",
              "    [theme=dark] .colab-df-convert:hover {\n",
              "      background-color: #434B5C;\n",
              "      box-shadow: 0px 1px 3px 1px rgba(0, 0, 0, 0.15);\n",
              "      filter: drop-shadow(0px 1px 2px rgba(0, 0, 0, 0.3));\n",
              "      fill: #FFFFFF;\n",
              "    }\n",
              "  </style>\n",
              "\n",
              "      <script>\n",
              "        const buttonEl =\n",
              "          document.querySelector('#df-96b3609c-c500-434d-93a7-43ae08afcc08 button.colab-df-convert');\n",
              "        buttonEl.style.display =\n",
              "          google.colab.kernel.accessAllowed ? 'block' : 'none';\n",
              "\n",
              "        async function convertToInteractive(key) {\n",
              "          const element = document.querySelector('#df-96b3609c-c500-434d-93a7-43ae08afcc08');\n",
              "          const dataTable =\n",
              "            await google.colab.kernel.invokeFunction('convertToInteractive',\n",
              "                                                     [key], {});\n",
              "          if (!dataTable) return;\n",
              "\n",
              "          const docLinkHtml = 'Like what you see? Visit the ' +\n",
              "            '<a target=\"_blank\" href=https://colab.research.google.com/notebooks/data_table.ipynb>data table notebook</a>'\n",
              "            + ' to learn more about interactive tables.';\n",
              "          element.innerHTML = '';\n",
              "          dataTable['output_type'] = 'display_data';\n",
              "          await google.colab.output.renderOutput(dataTable, element);\n",
              "          const docLink = document.createElement('div');\n",
              "          docLink.innerHTML = docLinkHtml;\n",
              "          element.appendChild(docLink);\n",
              "        }\n",
              "      </script>\n",
              "    </div>\n",
              "  </div>\n",
              "  "
            ]
          },
          "metadata": {},
          "execution_count": 179
        }
      ]
    },
    {
      "cell_type": "markdown",
      "source": [
        "### **Validação Cruzada**"
      ],
      "metadata": {
        "id": "xXM2zqKVH1Vi"
      }
    },
    {
      "cell_type": "code",
      "source": [
        "from sklearn.model_selection import KFold\n",
        "from sklearn.model_selection import cross_val_score"
      ],
      "metadata": {
        "id": "tukeEaG8H1Vj"
      },
      "execution_count": null,
      "outputs": []
    },
    {
      "cell_type": "code",
      "source": [
        "# Separando os dados em folds\n",
        "kfold = KFold(n_splits = 30, shuffle=True, random_state = 5)"
      ],
      "metadata": {
        "id": "4tYyKK_RH1Vj"
      },
      "execution_count": null,
      "outputs": []
    },
    {
      "cell_type": "code",
      "source": [
        "# Criando o modelo\n",
        "modelo = SVC(kernel='rbf', random_state=1, C = 2) \n",
        "resultado = cross_val_score(modelo, previsores_esc, alvo, cv = kfold)\n",
        "\n",
        "# Usamos a média e o desvio padrão\n",
        "print(\"Acurácia Média: %.2f%%\" % (resultado.mean() * 100.0))"
      ],
      "metadata": {
        "id": "mhD3BcOWH1Vk",
        "colab": {
          "base_uri": "https://localhost:8080/"
        },
        "outputId": "3cca51ff-5a1b-43b6-ab06-e8b1b7a7fa78"
      },
      "execution_count": null,
      "outputs": [
        {
          "output_type": "stream",
          "name": "stdout",
          "text": [
            "Acurácia Média: 94.74%\n"
          ]
        }
      ]
    },
    {
      "cell_type": "markdown",
      "source": [
        "Naive Bayes = 94,25% (treino e teste) 94,22% (validação cruzada) - previsores\n",
        "\n",
        "SVM = 94,80 (treino e teste) e 94,74% (validação cruzada) : previsores-esc - SVC(kernel='rbf', random_state=1, C = 2)\n",
        "\n"
      ],
      "metadata": {
        "id": "fT_1y1Hoqycp"
      }
    },
    {
      "cell_type": "markdown",
      "source": [
        "##**Salvando a classificação via SVM no Dataframe**"
      ],
      "metadata": {
        "id": "aRxkCqS4xPlO"
      }
    },
    {
      "cell_type": "code",
      "source": [
        "#df_Facies.drop('FACIES_SVM', inplace=True, axis=1) # Remove uma coluna"
      ],
      "metadata": {
        "id": "W6uwo2owHTu2"
      },
      "execution_count": null,
      "outputs": []
    },
    {
      "cell_type": "code",
      "source": [
        "df_Facies[\"FACIES_SVM\"] = facies_svm\n",
        "df_Facies['FACIES_SVM'].replace({0:85.0, 1:82.0, 2:87.0, 3:81.0}, inplace=True)"
      ],
      "metadata": {
        "id": "6slniDuRxXOr"
      },
      "execution_count": null,
      "outputs": []
    },
    {
      "cell_type": "code",
      "source": [
        "df_Facies"
      ],
      "metadata": {
        "colab": {
          "base_uri": "https://localhost:8080/",
          "height": 424
        },
        "id": "e_oHGns4xjIa",
        "outputId": "6ee23951-7b56-4275-cac2-0afa84068ec3"
      },
      "execution_count": null,
      "outputs": [
        {
          "output_type": "execute_result",
          "data": {
            "text/plain": [
              "            PROF           VP  FACIES           VS         GR    POCO  \\\n",
              "0      3103.0164  4392.102539    85.0  2491.250244  16.139494  poco_1   \n",
              "1      3103.1688  4368.245117    85.0  2502.714111  16.530527  poco_1   \n",
              "2      3103.3212  4354.002930    85.0  2517.204346  16.491985  poco_1   \n",
              "3      3103.4736  4349.213867    85.0  2529.218994  16.053066  poco_1   \n",
              "4      3103.6260  4354.245606    85.0  2535.076172  15.923628  poco_1   \n",
              "...          ...          ...     ...          ...        ...     ...   \n",
              "23421  4845.2532  5594.003906    82.0  3157.704346  14.272353  poco_2   \n",
              "23422  4845.4056  5594.003906    82.0  3157.704346  17.985367  poco_2   \n",
              "23423  4845.5580  5594.003906    82.0  3157.704346  23.278063  poco_2   \n",
              "23424  4845.7104  5594.003906    82.0  3157.704346  27.874161  poco_2   \n",
              "23425  4845.8628  5548.511231    82.0  3157.704346  22.994799  poco_2   \n",
              "\n",
              "       FACIES_NB  FACIES_SVM  \n",
              "0           85.0        85.0  \n",
              "1           85.0        85.0  \n",
              "2           85.0        85.0  \n",
              "3           85.0        85.0  \n",
              "4           85.0        85.0  \n",
              "...          ...         ...  \n",
              "23421       82.0        82.0  \n",
              "23422       82.0        82.0  \n",
              "23423       82.0        82.0  \n",
              "23424       82.0        82.0  \n",
              "23425       82.0        82.0  \n",
              "\n",
              "[23426 rows x 8 columns]"
            ],
            "text/html": [
              "\n",
              "  <div id=\"df-dea71a83-f414-4104-b7f0-2a87e8f76920\">\n",
              "    <div class=\"colab-df-container\">\n",
              "      <div>\n",
              "<style scoped>\n",
              "    .dataframe tbody tr th:only-of-type {\n",
              "        vertical-align: middle;\n",
              "    }\n",
              "\n",
              "    .dataframe tbody tr th {\n",
              "        vertical-align: top;\n",
              "    }\n",
              "\n",
              "    .dataframe thead th {\n",
              "        text-align: right;\n",
              "    }\n",
              "</style>\n",
              "<table border=\"1\" class=\"dataframe\">\n",
              "  <thead>\n",
              "    <tr style=\"text-align: right;\">\n",
              "      <th></th>\n",
              "      <th>PROF</th>\n",
              "      <th>VP</th>\n",
              "      <th>FACIES</th>\n",
              "      <th>VS</th>\n",
              "      <th>GR</th>\n",
              "      <th>POCO</th>\n",
              "      <th>FACIES_NB</th>\n",
              "      <th>FACIES_SVM</th>\n",
              "    </tr>\n",
              "  </thead>\n",
              "  <tbody>\n",
              "    <tr>\n",
              "      <th>0</th>\n",
              "      <td>3103.0164</td>\n",
              "      <td>4392.102539</td>\n",
              "      <td>85.0</td>\n",
              "      <td>2491.250244</td>\n",
              "      <td>16.139494</td>\n",
              "      <td>poco_1</td>\n",
              "      <td>85.0</td>\n",
              "      <td>85.0</td>\n",
              "    </tr>\n",
              "    <tr>\n",
              "      <th>1</th>\n",
              "      <td>3103.1688</td>\n",
              "      <td>4368.245117</td>\n",
              "      <td>85.0</td>\n",
              "      <td>2502.714111</td>\n",
              "      <td>16.530527</td>\n",
              "      <td>poco_1</td>\n",
              "      <td>85.0</td>\n",
              "      <td>85.0</td>\n",
              "    </tr>\n",
              "    <tr>\n",
              "      <th>2</th>\n",
              "      <td>3103.3212</td>\n",
              "      <td>4354.002930</td>\n",
              "      <td>85.0</td>\n",
              "      <td>2517.204346</td>\n",
              "      <td>16.491985</td>\n",
              "      <td>poco_1</td>\n",
              "      <td>85.0</td>\n",
              "      <td>85.0</td>\n",
              "    </tr>\n",
              "    <tr>\n",
              "      <th>3</th>\n",
              "      <td>3103.4736</td>\n",
              "      <td>4349.213867</td>\n",
              "      <td>85.0</td>\n",
              "      <td>2529.218994</td>\n",
              "      <td>16.053066</td>\n",
              "      <td>poco_1</td>\n",
              "      <td>85.0</td>\n",
              "      <td>85.0</td>\n",
              "    </tr>\n",
              "    <tr>\n",
              "      <th>4</th>\n",
              "      <td>3103.6260</td>\n",
              "      <td>4354.245606</td>\n",
              "      <td>85.0</td>\n",
              "      <td>2535.076172</td>\n",
              "      <td>15.923628</td>\n",
              "      <td>poco_1</td>\n",
              "      <td>85.0</td>\n",
              "      <td>85.0</td>\n",
              "    </tr>\n",
              "    <tr>\n",
              "      <th>...</th>\n",
              "      <td>...</td>\n",
              "      <td>...</td>\n",
              "      <td>...</td>\n",
              "      <td>...</td>\n",
              "      <td>...</td>\n",
              "      <td>...</td>\n",
              "      <td>...</td>\n",
              "      <td>...</td>\n",
              "    </tr>\n",
              "    <tr>\n",
              "      <th>23421</th>\n",
              "      <td>4845.2532</td>\n",
              "      <td>5594.003906</td>\n",
              "      <td>82.0</td>\n",
              "      <td>3157.704346</td>\n",
              "      <td>14.272353</td>\n",
              "      <td>poco_2</td>\n",
              "      <td>82.0</td>\n",
              "      <td>82.0</td>\n",
              "    </tr>\n",
              "    <tr>\n",
              "      <th>23422</th>\n",
              "      <td>4845.4056</td>\n",
              "      <td>5594.003906</td>\n",
              "      <td>82.0</td>\n",
              "      <td>3157.704346</td>\n",
              "      <td>17.985367</td>\n",
              "      <td>poco_2</td>\n",
              "      <td>82.0</td>\n",
              "      <td>82.0</td>\n",
              "    </tr>\n",
              "    <tr>\n",
              "      <th>23423</th>\n",
              "      <td>4845.5580</td>\n",
              "      <td>5594.003906</td>\n",
              "      <td>82.0</td>\n",
              "      <td>3157.704346</td>\n",
              "      <td>23.278063</td>\n",
              "      <td>poco_2</td>\n",
              "      <td>82.0</td>\n",
              "      <td>82.0</td>\n",
              "    </tr>\n",
              "    <tr>\n",
              "      <th>23424</th>\n",
              "      <td>4845.7104</td>\n",
              "      <td>5594.003906</td>\n",
              "      <td>82.0</td>\n",
              "      <td>3157.704346</td>\n",
              "      <td>27.874161</td>\n",
              "      <td>poco_2</td>\n",
              "      <td>82.0</td>\n",
              "      <td>82.0</td>\n",
              "    </tr>\n",
              "    <tr>\n",
              "      <th>23425</th>\n",
              "      <td>4845.8628</td>\n",
              "      <td>5548.511231</td>\n",
              "      <td>82.0</td>\n",
              "      <td>3157.704346</td>\n",
              "      <td>22.994799</td>\n",
              "      <td>poco_2</td>\n",
              "      <td>82.0</td>\n",
              "      <td>82.0</td>\n",
              "    </tr>\n",
              "  </tbody>\n",
              "</table>\n",
              "<p>23426 rows × 8 columns</p>\n",
              "</div>\n",
              "      <button class=\"colab-df-convert\" onclick=\"convertToInteractive('df-dea71a83-f414-4104-b7f0-2a87e8f76920')\"\n",
              "              title=\"Convert this dataframe to an interactive table.\"\n",
              "              style=\"display:none;\">\n",
              "        \n",
              "  <svg xmlns=\"http://www.w3.org/2000/svg\" height=\"24px\"viewBox=\"0 0 24 24\"\n",
              "       width=\"24px\">\n",
              "    <path d=\"M0 0h24v24H0V0z\" fill=\"none\"/>\n",
              "    <path d=\"M18.56 5.44l.94 2.06.94-2.06 2.06-.94-2.06-.94-.94-2.06-.94 2.06-2.06.94zm-11 1L8.5 8.5l.94-2.06 2.06-.94-2.06-.94L8.5 2.5l-.94 2.06-2.06.94zm10 10l.94 2.06.94-2.06 2.06-.94-2.06-.94-.94-2.06-.94 2.06-2.06.94z\"/><path d=\"M17.41 7.96l-1.37-1.37c-.4-.4-.92-.59-1.43-.59-.52 0-1.04.2-1.43.59L10.3 9.45l-7.72 7.72c-.78.78-.78 2.05 0 2.83L4 21.41c.39.39.9.59 1.41.59.51 0 1.02-.2 1.41-.59l7.78-7.78 2.81-2.81c.8-.78.8-2.07 0-2.86zM5.41 20L4 18.59l7.72-7.72 1.47 1.35L5.41 20z\"/>\n",
              "  </svg>\n",
              "      </button>\n",
              "      \n",
              "  <style>\n",
              "    .colab-df-container {\n",
              "      display:flex;\n",
              "      flex-wrap:wrap;\n",
              "      gap: 12px;\n",
              "    }\n",
              "\n",
              "    .colab-df-convert {\n",
              "      background-color: #E8F0FE;\n",
              "      border: none;\n",
              "      border-radius: 50%;\n",
              "      cursor: pointer;\n",
              "      display: none;\n",
              "      fill: #1967D2;\n",
              "      height: 32px;\n",
              "      padding: 0 0 0 0;\n",
              "      width: 32px;\n",
              "    }\n",
              "\n",
              "    .colab-df-convert:hover {\n",
              "      background-color: #E2EBFA;\n",
              "      box-shadow: 0px 1px 2px rgba(60, 64, 67, 0.3), 0px 1px 3px 1px rgba(60, 64, 67, 0.15);\n",
              "      fill: #174EA6;\n",
              "    }\n",
              "\n",
              "    [theme=dark] .colab-df-convert {\n",
              "      background-color: #3B4455;\n",
              "      fill: #D2E3FC;\n",
              "    }\n",
              "\n",
              "    [theme=dark] .colab-df-convert:hover {\n",
              "      background-color: #434B5C;\n",
              "      box-shadow: 0px 1px 3px 1px rgba(0, 0, 0, 0.15);\n",
              "      filter: drop-shadow(0px 1px 2px rgba(0, 0, 0, 0.3));\n",
              "      fill: #FFFFFF;\n",
              "    }\n",
              "  </style>\n",
              "\n",
              "      <script>\n",
              "        const buttonEl =\n",
              "          document.querySelector('#df-dea71a83-f414-4104-b7f0-2a87e8f76920 button.colab-df-convert');\n",
              "        buttonEl.style.display =\n",
              "          google.colab.kernel.accessAllowed ? 'block' : 'none';\n",
              "\n",
              "        async function convertToInteractive(key) {\n",
              "          const element = document.querySelector('#df-dea71a83-f414-4104-b7f0-2a87e8f76920');\n",
              "          const dataTable =\n",
              "            await google.colab.kernel.invokeFunction('convertToInteractive',\n",
              "                                                     [key], {});\n",
              "          if (!dataTable) return;\n",
              "\n",
              "          const docLinkHtml = 'Like what you see? Visit the ' +\n",
              "            '<a target=\"_blank\" href=https://colab.research.google.com/notebooks/data_table.ipynb>data table notebook</a>'\n",
              "            + ' to learn more about interactive tables.';\n",
              "          element.innerHTML = '';\n",
              "          dataTable['output_type'] = 'display_data';\n",
              "          await google.colab.output.renderOutput(dataTable, element);\n",
              "          const docLink = document.createElement('div');\n",
              "          docLink.innerHTML = docLinkHtml;\n",
              "          element.appendChild(docLink);\n",
              "        }\n",
              "      </script>\n",
              "    </div>\n",
              "  </div>\n",
              "  "
            ]
          },
          "metadata": {},
          "execution_count": 291
        }
      ]
    },
    {
      "cell_type": "code",
      "source": [
        "df_Facies.to_csv('sal_pocos_facies.csv', sep=',', encoding='utf-8', index = False)"
      ],
      "metadata": {
        "id": "7OTHTmwcHyt7"
      },
      "execution_count": null,
      "outputs": []
    },
    {
      "cell_type": "markdown",
      "source": [
        "# **REGRESSÃO LOGÍSTICA**"
      ],
      "metadata": {
        "id": "jebC8M2jqyc9"
      }
    },
    {
      "cell_type": "markdown",
      "source": [
        "https://scikit-learn.org/stable/modules/generated/sklearn.linear_model.LogisticRegression.html"
      ],
      "metadata": {
        "id": "mprvbtyNbzP3"
      }
    },
    {
      "cell_type": "code",
      "source": [
        "from sklearn.linear_model import LogisticRegression"
      ],
      "metadata": {
        "id": "NVGe2Q7ur-Nv"
      },
      "execution_count": null,
      "outputs": []
    },
    {
      "cell_type": "code",
      "metadata": {
        "id": "f_RnL43VV9Yc",
        "colab": {
          "base_uri": "https://localhost:8080/"
        },
        "outputId": "61a5b297-c90f-4e52-d8f6-39a791172a14"
      },
      "source": [
        "logistica = LogisticRegression(random_state=1, max_iter=600, penalty=\"l2\",\n",
        "                               tol=0.0001, C=1,solver=\"lbfgs\")\n",
        "logistica.fit(x_treino, y_treino)"
      ],
      "execution_count": null,
      "outputs": [
        {
          "output_type": "execute_result",
          "data": {
            "text/plain": [
              "LogisticRegression(C=1, max_iter=600, random_state=1)"
            ]
          },
          "metadata": {},
          "execution_count": 105
        }
      ]
    },
    {
      "cell_type": "code",
      "metadata": {
        "id": "I7EqQihmWIQG",
        "colab": {
          "base_uri": "https://localhost:8080/"
        },
        "outputId": "7efbfcfc-3dd8-4fc2-bcfd-f87c371cc5f2"
      },
      "source": [
        "logistica.intercept_"
      ],
      "execution_count": null,
      "outputs": [
        {
          "output_type": "execute_result",
          "data": {
            "text/plain": [
              "array([ 3.57315796, -0.56975176, -0.22637437, -2.77703182])"
            ]
          },
          "metadata": {},
          "execution_count": 106
        }
      ]
    },
    {
      "cell_type": "code",
      "metadata": {
        "id": "6BS-aVjsWK_0",
        "colab": {
          "base_uri": "https://localhost:8080/"
        },
        "outputId": "b2b9225f-d57b-4243-9da5-6417bec5c821"
      },
      "source": [
        "logistica.coef_"
      ],
      "execution_count": null,
      "outputs": [
        {
          "output_type": "execute_result",
          "data": {
            "text/plain": [
              "array([[-1.40952929,  1.40733582, -0.69202468],\n",
              "       [ 2.04594629,  0.62095829,  0.34697728],\n",
              "       [-0.03774752, -0.77324592,  0.91559585],\n",
              "       [-0.59866947, -1.25504819, -0.57054845]])"
            ]
          },
          "metadata": {},
          "execution_count": 107
        }
      ]
    },
    {
      "cell_type": "code",
      "metadata": {
        "id": "zKlba1wBWX1O",
        "colab": {
          "base_uri": "https://localhost:8080/"
        },
        "outputId": "4b89b749-7853-49ab-afd9-9c95364e7197"
      },
      "source": [
        "previsoes_logistica = logistica.predict(x_teste)\n",
        "previsoes_logistica"
      ],
      "execution_count": null,
      "outputs": [
        {
          "output_type": "execute_result",
          "data": {
            "text/plain": [
              "array([0., 0., 0., ..., 0., 0., 0.])"
            ]
          },
          "metadata": {},
          "execution_count": 108
        }
      ]
    },
    {
      "cell_type": "code",
      "source": [
        "from sklearn.metrics import accuracy_score, confusion_matrix, classification_report"
      ],
      "metadata": {
        "id": "PbF05awQvhzK"
      },
      "execution_count": null,
      "outputs": []
    },
    {
      "cell_type": "code",
      "source": [
        "print(\"Acurácia: %.2f%%\" % (accuracy_score(y_teste, previsoes_logistica) * 100.0))"
      ],
      "metadata": {
        "id": "72UCRQBdt2Iy",
        "colab": {
          "base_uri": "https://localhost:8080/"
        },
        "outputId": "7c470de9-a623-4d7e-847e-062e33ce06e5"
      },
      "execution_count": null,
      "outputs": [
        {
          "output_type": "stream",
          "name": "stdout",
          "text": [
            "Acurácia: 94.82%\n"
          ]
        }
      ]
    },
    {
      "cell_type": "code",
      "source": [
        "confusion_matrix(y_teste, previsoes_logistica)"
      ],
      "metadata": {
        "id": "g2FaBeYDt2Iz",
        "colab": {
          "base_uri": "https://localhost:8080/"
        },
        "outputId": "724b7a0a-db8e-4ca3-9f04-21365163eabc"
      },
      "execution_count": null,
      "outputs": [
        {
          "output_type": "execute_result",
          "data": {
            "text/plain": [
              "array([[5830,   34,   44,   11],\n",
              "       [  94,  406,    0,    0],\n",
              "       [ 120,    7,  323,   18],\n",
              "       [  18,    0,   18,  105]])"
            ]
          },
          "metadata": {},
          "execution_count": 110
        }
      ]
    },
    {
      "cell_type": "code",
      "source": [
        "print(classification_report(y_teste, previsoes_logistica))"
      ],
      "metadata": {
        "id": "MAgJo5b5t2I0",
        "colab": {
          "base_uri": "https://localhost:8080/"
        },
        "outputId": "6b94c6fe-afc2-4ca2-b258-6eb04a08c275"
      },
      "execution_count": null,
      "outputs": [
        {
          "output_type": "stream",
          "name": "stdout",
          "text": [
            "              precision    recall  f1-score   support\n",
            "\n",
            "         0.0       0.96      0.98      0.97      5919\n",
            "         1.0       0.91      0.81      0.86       500\n",
            "         2.0       0.84      0.69      0.76       468\n",
            "         3.0       0.78      0.74      0.76       141\n",
            "\n",
            "    accuracy                           0.95      7028\n",
            "   macro avg       0.87      0.81      0.84      7028\n",
            "weighted avg       0.95      0.95      0.95      7028\n",
            "\n"
          ]
        }
      ]
    },
    {
      "cell_type": "markdown",
      "source": [
        "**Análise dados de treino**"
      ],
      "metadata": {
        "id": "6LpYZvhb17ms"
      }
    },
    {
      "cell_type": "code",
      "source": [
        "previsoes_treino = logistica.predict(x_treino)\n",
        "previsoes_treino"
      ],
      "metadata": {
        "id": "9Mup9Cn817mt",
        "colab": {
          "base_uri": "https://localhost:8080/"
        },
        "outputId": "1a7e8eba-4b69-4f68-8c1f-64222b32b00f"
      },
      "execution_count": null,
      "outputs": [
        {
          "output_type": "execute_result",
          "data": {
            "text/plain": [
              "array([0., 0., 0., ..., 0., 0., 0.])"
            ]
          },
          "metadata": {},
          "execution_count": 112
        }
      ]
    },
    {
      "cell_type": "code",
      "source": [
        "accuracy_score(y_treino, previsoes_treino)"
      ],
      "metadata": {
        "id": "T4imJ5_w17mt",
        "colab": {
          "base_uri": "https://localhost:8080/"
        },
        "outputId": "64deca38-b324-4885-8560-7f4951fce2c6"
      },
      "execution_count": null,
      "outputs": [
        {
          "output_type": "execute_result",
          "data": {
            "text/plain": [
              "0.9449323088181486"
            ]
          },
          "metadata": {},
          "execution_count": 113
        }
      ]
    },
    {
      "cell_type": "code",
      "source": [
        "confusion_matrix(y_treino, previsoes_treino)"
      ],
      "metadata": {
        "id": "2Ms9dnHk17mu",
        "colab": {
          "base_uri": "https://localhost:8080/"
        },
        "outputId": "06da70ff-ce24-41bd-d311-1851e64349c2"
      },
      "execution_count": null,
      "outputs": [
        {
          "output_type": "execute_result",
          "data": {
            "text/plain": [
              "array([[13617,    93,    99,    28],\n",
              "       [  278,   892,     0,     0],\n",
              "       [  276,    12,   774,    50],\n",
              "       [   33,     0,    34,   212]])"
            ]
          },
          "metadata": {},
          "execution_count": 114
        }
      ]
    },
    {
      "cell_type": "markdown",
      "source": [
        "### **Validação Cruzada**"
      ],
      "metadata": {
        "id": "rGdamAVpJfJ5"
      }
    },
    {
      "cell_type": "code",
      "source": [
        "from sklearn.model_selection import KFold\n",
        "from sklearn.model_selection import cross_val_score"
      ],
      "metadata": {
        "id": "IcNfFmq9JfJ6"
      },
      "execution_count": null,
      "outputs": []
    },
    {
      "cell_type": "code",
      "source": [
        "# Separando os dados em folds\n",
        "kfold = KFold(n_splits = 30, shuffle=True, random_state = 5)"
      ],
      "metadata": {
        "id": "srKfNrUoJfJ6"
      },
      "execution_count": null,
      "outputs": []
    },
    {
      "cell_type": "code",
      "source": [
        "# Criando o modelo\n",
        "modelo = LogisticRegression(random_state=1, max_iter=600, penalty=\"l2\",\n",
        "                               tol=0.0001, C=1,solver=\"lbfgs\")\n",
        "resultado = cross_val_score(modelo, previsores, alvo, cv = kfold)\n",
        "\n",
        "# Usamos a média e o desvio padrão\n",
        "print(\"Acurácia Média: %.2f%%\" % (resultado.mean() * 100.0))"
      ],
      "metadata": {
        "id": "eHZjsD-RJfJ7",
        "colab": {
          "base_uri": "https://localhost:8080/"
        },
        "outputId": "0f27b6bf-9d95-4c52-a95e-1ba4262af42d"
      },
      "execution_count": null,
      "outputs": [
        {
          "output_type": "stream",
          "name": "stderr",
          "text": [
            "/usr/local/lib/python3.7/dist-packages/sklearn/linear_model/_logistic.py:818: ConvergenceWarning: lbfgs failed to converge (status=1):\n",
            "STOP: TOTAL NO. of ITERATIONS REACHED LIMIT.\n",
            "\n",
            "Increase the number of iterations (max_iter) or scale the data as shown in:\n",
            "    https://scikit-learn.org/stable/modules/preprocessing.html\n",
            "Please also refer to the documentation for alternative solver options:\n",
            "    https://scikit-learn.org/stable/modules/linear_model.html#logistic-regression\n",
            "  extra_warning_msg=_LOGISTIC_SOLVER_CONVERGENCE_MSG,\n",
            "/usr/local/lib/python3.7/dist-packages/sklearn/linear_model/_logistic.py:818: ConvergenceWarning: lbfgs failed to converge (status=1):\n",
            "STOP: TOTAL NO. of ITERATIONS REACHED LIMIT.\n",
            "\n",
            "Increase the number of iterations (max_iter) or scale the data as shown in:\n",
            "    https://scikit-learn.org/stable/modules/preprocessing.html\n",
            "Please also refer to the documentation for alternative solver options:\n",
            "    https://scikit-learn.org/stable/modules/linear_model.html#logistic-regression\n",
            "  extra_warning_msg=_LOGISTIC_SOLVER_CONVERGENCE_MSG,\n",
            "/usr/local/lib/python3.7/dist-packages/sklearn/linear_model/_logistic.py:818: ConvergenceWarning: lbfgs failed to converge (status=1):\n",
            "STOP: TOTAL NO. of ITERATIONS REACHED LIMIT.\n",
            "\n",
            "Increase the number of iterations (max_iter) or scale the data as shown in:\n",
            "    https://scikit-learn.org/stable/modules/preprocessing.html\n",
            "Please also refer to the documentation for alternative solver options:\n",
            "    https://scikit-learn.org/stable/modules/linear_model.html#logistic-regression\n",
            "  extra_warning_msg=_LOGISTIC_SOLVER_CONVERGENCE_MSG,\n",
            "/usr/local/lib/python3.7/dist-packages/sklearn/linear_model/_logistic.py:818: ConvergenceWarning: lbfgs failed to converge (status=1):\n",
            "STOP: TOTAL NO. of ITERATIONS REACHED LIMIT.\n",
            "\n",
            "Increase the number of iterations (max_iter) or scale the data as shown in:\n",
            "    https://scikit-learn.org/stable/modules/preprocessing.html\n",
            "Please also refer to the documentation for alternative solver options:\n",
            "    https://scikit-learn.org/stable/modules/linear_model.html#logistic-regression\n",
            "  extra_warning_msg=_LOGISTIC_SOLVER_CONVERGENCE_MSG,\n",
            "/usr/local/lib/python3.7/dist-packages/sklearn/linear_model/_logistic.py:818: ConvergenceWarning: lbfgs failed to converge (status=1):\n",
            "STOP: TOTAL NO. of ITERATIONS REACHED LIMIT.\n",
            "\n",
            "Increase the number of iterations (max_iter) or scale the data as shown in:\n",
            "    https://scikit-learn.org/stable/modules/preprocessing.html\n",
            "Please also refer to the documentation for alternative solver options:\n",
            "    https://scikit-learn.org/stable/modules/linear_model.html#logistic-regression\n",
            "  extra_warning_msg=_LOGISTIC_SOLVER_CONVERGENCE_MSG,\n",
            "/usr/local/lib/python3.7/dist-packages/sklearn/linear_model/_logistic.py:818: ConvergenceWarning: lbfgs failed to converge (status=1):\n",
            "STOP: TOTAL NO. of ITERATIONS REACHED LIMIT.\n",
            "\n",
            "Increase the number of iterations (max_iter) or scale the data as shown in:\n",
            "    https://scikit-learn.org/stable/modules/preprocessing.html\n",
            "Please also refer to the documentation for alternative solver options:\n",
            "    https://scikit-learn.org/stable/modules/linear_model.html#logistic-regression\n",
            "  extra_warning_msg=_LOGISTIC_SOLVER_CONVERGENCE_MSG,\n",
            "/usr/local/lib/python3.7/dist-packages/sklearn/linear_model/_logistic.py:818: ConvergenceWarning: lbfgs failed to converge (status=1):\n",
            "STOP: TOTAL NO. of ITERATIONS REACHED LIMIT.\n",
            "\n",
            "Increase the number of iterations (max_iter) or scale the data as shown in:\n",
            "    https://scikit-learn.org/stable/modules/preprocessing.html\n",
            "Please also refer to the documentation for alternative solver options:\n",
            "    https://scikit-learn.org/stable/modules/linear_model.html#logistic-regression\n",
            "  extra_warning_msg=_LOGISTIC_SOLVER_CONVERGENCE_MSG,\n",
            "/usr/local/lib/python3.7/dist-packages/sklearn/linear_model/_logistic.py:818: ConvergenceWarning: lbfgs failed to converge (status=1):\n",
            "STOP: TOTAL NO. of ITERATIONS REACHED LIMIT.\n",
            "\n",
            "Increase the number of iterations (max_iter) or scale the data as shown in:\n",
            "    https://scikit-learn.org/stable/modules/preprocessing.html\n",
            "Please also refer to the documentation for alternative solver options:\n",
            "    https://scikit-learn.org/stable/modules/linear_model.html#logistic-regression\n",
            "  extra_warning_msg=_LOGISTIC_SOLVER_CONVERGENCE_MSG,\n",
            "/usr/local/lib/python3.7/dist-packages/sklearn/linear_model/_logistic.py:818: ConvergenceWarning: lbfgs failed to converge (status=1):\n",
            "STOP: TOTAL NO. of ITERATIONS REACHED LIMIT.\n",
            "\n",
            "Increase the number of iterations (max_iter) or scale the data as shown in:\n",
            "    https://scikit-learn.org/stable/modules/preprocessing.html\n",
            "Please also refer to the documentation for alternative solver options:\n",
            "    https://scikit-learn.org/stable/modules/linear_model.html#logistic-regression\n",
            "  extra_warning_msg=_LOGISTIC_SOLVER_CONVERGENCE_MSG,\n",
            "/usr/local/lib/python3.7/dist-packages/sklearn/linear_model/_logistic.py:818: ConvergenceWarning: lbfgs failed to converge (status=1):\n",
            "STOP: TOTAL NO. of ITERATIONS REACHED LIMIT.\n",
            "\n",
            "Increase the number of iterations (max_iter) or scale the data as shown in:\n",
            "    https://scikit-learn.org/stable/modules/preprocessing.html\n",
            "Please also refer to the documentation for alternative solver options:\n",
            "    https://scikit-learn.org/stable/modules/linear_model.html#logistic-regression\n",
            "  extra_warning_msg=_LOGISTIC_SOLVER_CONVERGENCE_MSG,\n",
            "/usr/local/lib/python3.7/dist-packages/sklearn/linear_model/_logistic.py:818: ConvergenceWarning: lbfgs failed to converge (status=1):\n",
            "STOP: TOTAL NO. of ITERATIONS REACHED LIMIT.\n",
            "\n",
            "Increase the number of iterations (max_iter) or scale the data as shown in:\n",
            "    https://scikit-learn.org/stable/modules/preprocessing.html\n",
            "Please also refer to the documentation for alternative solver options:\n",
            "    https://scikit-learn.org/stable/modules/linear_model.html#logistic-regression\n",
            "  extra_warning_msg=_LOGISTIC_SOLVER_CONVERGENCE_MSG,\n"
          ]
        },
        {
          "output_type": "stream",
          "name": "stdout",
          "text": [
            "Acurácia Média: 92.26%\n"
          ]
        }
      ]
    },
    {
      "cell_type": "markdown",
      "source": [
        "###**Classificação nos dois poços via Regressão Logística**"
      ],
      "metadata": {
        "id": "ybkWJxZGlkWd"
      }
    },
    {
      "cell_type": "code",
      "source": [
        "facies_rl = logistica.predict(previsores_esc)"
      ],
      "metadata": {
        "id": "ien9D3XZl1Oz"
      },
      "execution_count": null,
      "outputs": []
    },
    {
      "cell_type": "code",
      "source": [
        "accuracy_score(alvo, facies_rl)"
      ],
      "metadata": {
        "colab": {
          "base_uri": "https://localhost:8080/"
        },
        "id": "4k1S1hsimEq6",
        "outputId": "7d369032-d380-47bb-f339-accc7e5c0cf8"
      },
      "execution_count": null,
      "outputs": [
        {
          "output_type": "execute_result",
          "data": {
            "text/plain": [
              "0.9459147955263383"
            ]
          },
          "metadata": {},
          "execution_count": 116
        }
      ]
    },
    {
      "cell_type": "code",
      "source": [
        "confusion_matrix(alvo, facies_rl)"
      ],
      "metadata": {
        "colab": {
          "base_uri": "https://localhost:8080/"
        },
        "id": "UEE-f_DomYSJ",
        "outputId": "ff88f293-3d01-4683-8bf7-d19914178291"
      },
      "execution_count": null,
      "outputs": [
        {
          "output_type": "execute_result",
          "data": {
            "text/plain": [
              "array([[19447,   127,   143,    39],\n",
              "       [  372,  1298,     0,     0],\n",
              "       [  396,    19,  1097,    68],\n",
              "       [   51,     0,    52,   317]])"
            ]
          },
          "metadata": {},
          "execution_count": 117
        }
      ]
    },
    {
      "cell_type": "code",
      "source": [
        "print(classification_report(alvo, facies_rl))"
      ],
      "metadata": {
        "colab": {
          "base_uri": "https://localhost:8080/"
        },
        "id": "3H0vz-oUm8XG",
        "outputId": "5bb996ab-b2b2-4b0e-d7a2-57435ba81451"
      },
      "execution_count": null,
      "outputs": [
        {
          "output_type": "stream",
          "name": "stdout",
          "text": [
            "              precision    recall  f1-score   support\n",
            "\n",
            "         0.0       0.96      0.98      0.97     19756\n",
            "         1.0       0.90      0.78      0.83      1670\n",
            "         2.0       0.85      0.69      0.76      1580\n",
            "         3.0       0.75      0.75      0.75       420\n",
            "\n",
            "    accuracy                           0.95     23426\n",
            "   macro avg       0.86      0.80      0.83     23426\n",
            "weighted avg       0.94      0.95      0.94     23426\n",
            "\n"
          ]
        }
      ]
    },
    {
      "cell_type": "markdown",
      "source": [
        "Naive Bayes = 94,25% (treino e teste) 94,22% (validação cruzada) - previsores\n",
        "\n",
        "SVM = 94,80 (treino e teste) e 94,74% (validação cruzada) : previsores_esc - SVC(kernel='rbf', random_state=1, C = 2)\n",
        "\n",
        "Regressão logística = 94,59% e % (validação cruzada) : previsores_esc - LogisticRegression(random_state=1, max_iter=600, penalty=\"l2\", tol=0.0001, C=1,solver=\"lbfgs\")"
      ],
      "metadata": {
        "id": "KmKIO-uUv31v"
      }
    },
    {
      "cell_type": "markdown",
      "source": [
        "# **APRENDIZAGEM BASEADA EM INSTÂNCIAS (KNN)**"
      ],
      "metadata": {
        "id": "GETCbQj7v32B"
      }
    },
    {
      "cell_type": "markdown",
      "source": [
        "https://scikit-learn.org/stable/modules/generated/sklearn.neighbors.KNeighborsClassifier.html"
      ],
      "metadata": {
        "id": "AXOVpUsGbnlK"
      }
    },
    {
      "cell_type": "code",
      "source": [
        "from sklearn.neighbors import KNeighborsClassifier"
      ],
      "metadata": {
        "id": "u3_VSVAFwo8H"
      },
      "execution_count": null,
      "outputs": []
    },
    {
      "cell_type": "code",
      "metadata": {
        "id": "xkC1VdFmXvcz"
      },
      "source": [
        "knn = KNeighborsClassifier(n_neighbors=7, metric='minkowski', p=1)\n",
        "knn.fit(x_treino, y_treino)"
      ],
      "execution_count": null,
      "outputs": []
    },
    {
      "cell_type": "markdown",
      "source": [
        "https://scikit-learn.org/stable/modules/generated/sklearn.metrics.DistanceMetric.html"
      ],
      "metadata": {
        "id": "CJB-tW-g2P4_"
      }
    },
    {
      "cell_type": "code",
      "metadata": {
        "id": "sSCtq6WKYlFx"
      },
      "source": [
        "previsoes_knn = knn.predict(x_teste)\n",
        "previsoes_knn"
      ],
      "execution_count": null,
      "outputs": []
    },
    {
      "cell_type": "code",
      "source": [
        "y_teste"
      ],
      "metadata": {
        "id": "oG0I-trLxQ50"
      },
      "execution_count": null,
      "outputs": []
    },
    {
      "cell_type": "code",
      "source": [
        "from sklearn.metrics import accuracy_score, confusion_matrix, classification_report"
      ],
      "metadata": {
        "id": "aQYth6LjxOSG"
      },
      "execution_count": null,
      "outputs": []
    },
    {
      "cell_type": "code",
      "source": [
        "print(\"Acurácia: %.2f%%\" % (accuracy_score(y_teste, previsoes_knn) * 100.0))"
      ],
      "metadata": {
        "id": "OWDZlThoxOSI"
      },
      "execution_count": null,
      "outputs": []
    },
    {
      "cell_type": "code",
      "source": [
        "confusion_matrix(y_teste, previsoes_knn)"
      ],
      "metadata": {
        "id": "-IGoTCdmxOSJ"
      },
      "execution_count": null,
      "outputs": []
    },
    {
      "cell_type": "code",
      "source": [
        "print(classification_report(y_teste, previsoes_knn))"
      ],
      "metadata": {
        "id": "5V-bhRMvxOSJ"
      },
      "execution_count": null,
      "outputs": []
    },
    {
      "cell_type": "markdown",
      "source": [
        "**Análise dados de treino**"
      ],
      "metadata": {
        "id": "qEF7YW-Y2KT9"
      }
    },
    {
      "cell_type": "code",
      "source": [
        "previsoes_treino = knn.predict(x_treino)\n",
        "previsoes_treino"
      ],
      "metadata": {
        "id": "gmZgnjMe2KT-"
      },
      "execution_count": null,
      "outputs": []
    },
    {
      "cell_type": "code",
      "source": [
        "accuracy_score(y_treino, previsoes_treino)"
      ],
      "metadata": {
        "id": "q5pLRV6J2KT_"
      },
      "execution_count": null,
      "outputs": []
    },
    {
      "cell_type": "code",
      "source": [
        "confusion_matrix(y_treino, previsoes_treino)"
      ],
      "metadata": {
        "id": "w4ce2FGJ2KT_"
      },
      "execution_count": null,
      "outputs": []
    },
    {
      "cell_type": "markdown",
      "source": [
        "### **Validação Cruzada**"
      ],
      "metadata": {
        "id": "pUNWBzC8KJ5v"
      }
    },
    {
      "cell_type": "code",
      "source": [
        "from sklearn.model_selection import KFold\n",
        "from sklearn.model_selection import cross_val_score"
      ],
      "metadata": {
        "id": "b88vNYd8KJ5w"
      },
      "execution_count": null,
      "outputs": []
    },
    {
      "cell_type": "code",
      "source": [
        "# Separando os dados em folds\n",
        "kfold = KFold(n_splits = 30, shuffle=True, random_state = 5)"
      ],
      "metadata": {
        "id": "nG58w5CNKJ5w"
      },
      "execution_count": null,
      "outputs": []
    },
    {
      "cell_type": "code",
      "source": [
        "# Criando o modelo\n",
        "modelo = KNeighborsClassifier(n_neighbors=7, metric='minkowski', p = 1)\n",
        "resultado = cross_val_score(modelo, previsores3_esc, alvo, cv = kfold)\n",
        "\n",
        "# Usamos a média e o desvio padrão\n",
        "print(\"Acurácia Média: %.2f%%\" % (resultado.mean() * 100.0))"
      ],
      "metadata": {
        "id": "V9BM96VTKJ5w"
      },
      "execution_count": null,
      "outputs": []
    },
    {
      "cell_type": "markdown",
      "source": [
        "Naive Bayes = 84,78% (treino e teste) - 234 acertos e 85,17% (validação cruzada) : previsores3_esc\n",
        "\n",
        "SVM = 86,23% - 238 acertos e 85,72% (validação cruzada) : previsores3-esc - SVC(kernel='rbf', random_state=1, C = 2)\n",
        "\n",
        "Regressão logística = 86,23% - 238 acertos e 85,83% (validação cruzada) : previsores3_esc - LogisticRegression(random_state=1, max_iter=600, penalty=\"l2\", tol=0.0001, C=1,solver=\"lbfgs\")\n",
        "\n",
        "KNN = 84,06% - 232 acertos e 85,84% (validação cruzada) : previsores3_esc ou previsores_esc - KNeighborsClassifier(n_neighbors=7, metric='minkowski', p = 1) \n",
        "\n"
      ],
      "metadata": {
        "id": "ovmlWcN6xOSK"
      }
    },
    {
      "cell_type": "markdown",
      "source": [
        "# **ÁRVORE DE DECISÃO**"
      ],
      "metadata": {
        "id": "VdGvKcYjODGt"
      }
    },
    {
      "cell_type": "markdown",
      "source": [
        "https://scikit-learn.org/stable/modules/tree.html"
      ],
      "metadata": {
        "id": "i65VtZ4pcQGP"
      }
    },
    {
      "cell_type": "code",
      "source": [
        "from sklearn.tree import DecisionTreeClassifier"
      ],
      "metadata": {
        "id": "-2oaMph5OFa2"
      },
      "execution_count": null,
      "outputs": []
    },
    {
      "cell_type": "code",
      "source": [
        "arvore = DecisionTreeClassifier(criterion='entropy', random_state = 0, max_depth=3)\n",
        "arvore.fit(x_treino, y_treino)"
      ],
      "metadata": {
        "id": "Zxu4_zhCOMVj"
      },
      "execution_count": null,
      "outputs": []
    },
    {
      "cell_type": "code",
      "source": [
        "previsoes_arvore = arvore.predict(x_teste)\n",
        "previsoes_arvore"
      ],
      "metadata": {
        "id": "UnxRfJZXOVkk"
      },
      "execution_count": null,
      "outputs": []
    },
    {
      "cell_type": "code",
      "source": [
        "y_teste"
      ],
      "metadata": {
        "id": "ozqiMkVAOke6"
      },
      "execution_count": null,
      "outputs": []
    },
    {
      "cell_type": "code",
      "source": [
        "from sklearn.metrics import accuracy_score, confusion_matrix, classification_report"
      ],
      "metadata": {
        "id": "fS4QmmG9vrl4"
      },
      "execution_count": null,
      "outputs": []
    },
    {
      "cell_type": "code",
      "source": [
        "print(\"Acurácia: %.2f%%\" % (accuracy_score(y_teste, previsoes_arvore) * 100.0))"
      ],
      "metadata": {
        "id": "9vuYKW1_Onqq"
      },
      "execution_count": null,
      "outputs": []
    },
    {
      "cell_type": "code",
      "source": [
        "confusion_matrix(y_teste, previsoes_arvore)"
      ],
      "metadata": {
        "id": "IAJonpblPUGh"
      },
      "execution_count": null,
      "outputs": []
    },
    {
      "cell_type": "code",
      "source": [
        "print(classification_report(y_teste, previsoes_arvore))"
      ],
      "metadata": {
        "id": "wACzOEs-PcTo"
      },
      "execution_count": null,
      "outputs": []
    },
    {
      "cell_type": "markdown",
      "source": [
        "**Análise dados de treino**"
      ],
      "metadata": {
        "id": "PXa_22cA1DcE"
      }
    },
    {
      "cell_type": "code",
      "source": [
        "previsoes_treino = arvore.predict(x_treino)\n",
        "previsoes_treino"
      ],
      "metadata": {
        "id": "UZFn-68G1DcF"
      },
      "execution_count": null,
      "outputs": []
    },
    {
      "cell_type": "code",
      "source": [
        "accuracy_score(y_treino, previsoes_treino)"
      ],
      "metadata": {
        "id": "mDqKNd3v1DcG"
      },
      "execution_count": null,
      "outputs": []
    },
    {
      "cell_type": "code",
      "source": [
        "confusion_matrix(y_treino, previsoes_treino)"
      ],
      "metadata": {
        "id": "dMQiq4o01DcG"
      },
      "execution_count": null,
      "outputs": []
    },
    {
      "cell_type": "markdown",
      "source": [
        "### **Validação Cruzada**"
      ],
      "metadata": {
        "id": "dxwugdgiEhdw"
      }
    },
    {
      "cell_type": "code",
      "source": [
        "from sklearn.model_selection import KFold\n",
        "from sklearn.model_selection import cross_val_score"
      ],
      "metadata": {
        "id": "ArJOjabUEZJf"
      },
      "execution_count": null,
      "outputs": []
    },
    {
      "cell_type": "code",
      "source": [
        "# Separando os dados em folds\n",
        "kfold = KFold(n_splits = 30, shuffle=True, random_state = 5)"
      ],
      "metadata": {
        "id": "zfWK55DrEZJg"
      },
      "execution_count": null,
      "outputs": []
    },
    {
      "cell_type": "code",
      "source": [
        "# Criando o modelo\n",
        "modelo = DecisionTreeClassifier(criterion='entropy', random_state = 0, max_depth=3)\n",
        "resultado = cross_val_score(modelo, previsores3_esc, alvo, cv = kfold)\n",
        "\n",
        "# Usamos a média e o desvio padrão\n",
        "print(\"Acurácia Média: %.2f%%\" % (resultado.mean() * 100.0))"
      ],
      "metadata": {
        "id": "MwGsKOFZEZJh"
      },
      "execution_count": null,
      "outputs": []
    },
    {
      "cell_type": "markdown",
      "source": [
        "Naive Bayes = 84,78% (treino e teste) - 234 acertos e 85,17% (validação cruzada) : previsores3_esc\n",
        "\n",
        "SVM = 86,23% - 238 acertos e 85,72% (validação cruzada) : previsores3-esc - SVC(kernel='rbf', random_state=1, C = 2)\n",
        "\n",
        "Regressão logística = 86,23% - 238 acertos e 85,83% (validação cruzada) : previsores3_esc - LogisticRegression(random_state=1, max_iter=600, penalty=\"l2\", tol=0.0001, C=1,solver=\"lbfgs\")\n",
        "\n",
        "KNN = 84,06% - 232 acertos e 85,84% (validação cruzada) : previsores3_esc ou previsores_esc - KNeighborsClassifier(n_neighbors=7, metric='minkowski', p = 1)\n",
        "\n",
        "Árvore de decisão = 83,7% (treino e teste) - 231 acertos e 83,32% (validação cruzada): previsores3_esc - DecisionTreeClassifier(criterion='entropy', random_state = 0, max_depth=3)"
      ],
      "metadata": {
        "id": "-Ti98jalQK23"
      }
    },
    {
      "cell_type": "markdown",
      "source": [
        "# **RANDOM FOREST**"
      ],
      "metadata": {
        "id": "hw7px-UemoSc"
      }
    },
    {
      "cell_type": "markdown",
      "source": [
        "https://scikit-learn.org/stable/modules/generated/sklearn.ensemble.RandomForestClassifier.html"
      ],
      "metadata": {
        "id": "HAUbw5xfcCYy"
      }
    },
    {
      "cell_type": "code",
      "source": [
        "from sklearn.ensemble import RandomForestClassifier"
      ],
      "metadata": {
        "id": "BqqXdinImokj"
      },
      "execution_count": null,
      "outputs": []
    },
    {
      "cell_type": "code",
      "source": [
        "random = RandomForestClassifier(n_estimators=150, criterion='entropy', random_state = 0, max_depth=4)\n",
        "random.fit(x_treino, y_treino)"
      ],
      "metadata": {
        "id": "Klr3lymumztn"
      },
      "execution_count": null,
      "outputs": []
    },
    {
      "cell_type": "code",
      "source": [
        "previsoes_random = random.predict(x_teste)\n",
        "previsoes_random"
      ],
      "metadata": {
        "id": "0JOqI4bQnY17"
      },
      "execution_count": null,
      "outputs": []
    },
    {
      "cell_type": "code",
      "source": [
        "y_teste"
      ],
      "metadata": {
        "id": "fRN6hPPXn5qp"
      },
      "execution_count": null,
      "outputs": []
    },
    {
      "cell_type": "code",
      "source": [
        "from sklearn.metrics import accuracy_score, confusion_matrix, classification_report"
      ],
      "metadata": {
        "id": "cgB44VIOvpZf"
      },
      "execution_count": null,
      "outputs": []
    },
    {
      "cell_type": "code",
      "source": [
        "print(\"Acurácia: %.2f%%\" % (accuracy_score(y_teste, previsoes_random) * 100.0))"
      ],
      "metadata": {
        "id": "gnAuxYDDoDxM"
      },
      "execution_count": null,
      "outputs": []
    },
    {
      "cell_type": "code",
      "source": [
        "confusion_matrix(y_teste, previsoes_random)"
      ],
      "metadata": {
        "id": "zjAqh3e8oDxN"
      },
      "execution_count": null,
      "outputs": []
    },
    {
      "cell_type": "code",
      "source": [
        "print(classification_report(y_teste, previsoes_random))"
      ],
      "metadata": {
        "id": "IdpisYpjoDxO"
      },
      "execution_count": null,
      "outputs": []
    },
    {
      "cell_type": "markdown",
      "source": [
        "**Análise dados de treino**"
      ],
      "metadata": {
        "id": "e9NiPecr1bdw"
      }
    },
    {
      "cell_type": "code",
      "source": [
        "previsoes_treino = random.predict(x_treino)\n",
        "previsoes_treino"
      ],
      "metadata": {
        "id": "DDs9J1hX1bdx"
      },
      "execution_count": null,
      "outputs": []
    },
    {
      "cell_type": "code",
      "source": [
        "accuracy_score(y_treino, previsoes_treino)"
      ],
      "metadata": {
        "id": "MkH9uYfz1bdy"
      },
      "execution_count": null,
      "outputs": []
    },
    {
      "cell_type": "code",
      "source": [
        "confusion_matrix(y_treino, previsoes_treino)"
      ],
      "metadata": {
        "id": "pLge3xVL1bdy"
      },
      "execution_count": null,
      "outputs": []
    },
    {
      "cell_type": "markdown",
      "source": [
        "### **Validação Cruzada**"
      ],
      "metadata": {
        "id": "GH4nEvlaGOb7"
      }
    },
    {
      "cell_type": "code",
      "source": [
        "from sklearn.model_selection import KFold\n",
        "from sklearn.model_selection import cross_val_score"
      ],
      "metadata": {
        "id": "hreEC55-GOb8"
      },
      "execution_count": null,
      "outputs": []
    },
    {
      "cell_type": "code",
      "source": [
        "# Separando os dados em folds\n",
        "kfold = KFold(n_splits = 30, shuffle=True, random_state = 5)"
      ],
      "metadata": {
        "id": "ETYEB99OGOb9"
      },
      "execution_count": null,
      "outputs": []
    },
    {
      "cell_type": "code",
      "source": [
        "# Criando o modelo\n",
        "modelo = RandomForestClassifier(n_estimators=150, criterion='entropy', random_state = 0, max_depth=4)\n",
        "resultado = cross_val_score(modelo, previsores, alvo, cv = kfold)\n",
        "\n",
        "# Usamos a média e o desvio padrão\n",
        "print(\"Acurácia Média: %.2f%%\" % (resultado.mean() * 100.0))"
      ],
      "metadata": {
        "id": "7GHcsag3GOb9"
      },
      "execution_count": null,
      "outputs": []
    },
    {
      "cell_type": "markdown",
      "source": [
        "Naive Bayes = 84,78% (treino e teste) - 234 acertos e 85,17% (validação cruzada) : previsores3_esc\n",
        "\n",
        "SVM = 86,23% - 238 acertos e 85,72% (validação cruzada) : previsores3-esc - SVC(kernel='rbf', random_state=1, C = 2)\n",
        "\n",
        "Regressão logística = 86,23% - 238 acertos e 85,83% (validação cruzada) : previsores3_esc - LogisticRegression(random_state=1, max_iter=600, penalty=\"l2\", tol=0.0001, C=1,solver=\"lbfgs\")\n",
        "\n",
        "KNN = 84,06% - 232 acertos e 85,84% (validação cruzada) : previsores3_esc ou previsores_esc - KNeighborsClassifier(n_neighbors=7, metric='minkowski', p = 1)\n",
        "\n",
        "Árvore de decisão = 83,7% (treino e teste) - 231 acertos e 83,32% (validação cruzada): previsores3_esc - DecisionTreeClassifier(criterion='entropy', random_state = 0, max_depth=3)\n",
        "\n",
        "Random Forest = 86,59% - 239 acertos e 85,92% (validação cruzada) : previsores - RandomForestClassifier(n_estimators=150, criterion='entropy', random_state = 0, max_depth=4)"
      ],
      "metadata": {
        "id": "N3dUl9DDpNnz"
      }
    },
    {
      "cell_type": "markdown",
      "source": [
        "# **XGBOOST**"
      ],
      "metadata": {
        "id": "jH3OocboSGXH"
      }
    },
    {
      "cell_type": "markdown",
      "source": [
        "https://xgboost.readthedocs.io/en/stable/"
      ],
      "metadata": {
        "id": "OpLLJlcnbcsR"
      }
    },
    {
      "cell_type": "code",
      "source": [
        "from xgboost import XGBClassifier"
      ],
      "metadata": {
        "id": "PKdcu1J2Qk0h"
      },
      "execution_count": null,
      "outputs": []
    },
    {
      "cell_type": "code",
      "source": [
        "xg = XGBClassifier(max_depth=2, learning_rate=0.05, n_estimators=250, objective='binary:logistic', random_state=3)\n",
        "xg.fit(x_treino,y_treino)"
      ],
      "metadata": {
        "id": "jyOMVARbQmLa"
      },
      "execution_count": null,
      "outputs": []
    },
    {
      "cell_type": "code",
      "source": [
        "previsoes_xg = xg.predict(x_teste)\n",
        "previsoes_xg"
      ],
      "metadata": {
        "id": "QrR1ZLZVQ5K4"
      },
      "execution_count": null,
      "outputs": []
    },
    {
      "cell_type": "code",
      "source": [
        "from sklearn.metrics import accuracy_score, confusion_matrix, classification_report"
      ],
      "metadata": {
        "id": "HSR36D1mRZpz"
      },
      "execution_count": null,
      "outputs": []
    },
    {
      "cell_type": "code",
      "source": [
        "print(\"Acurácia: %.2f%%\" % (accuracy_score(y_teste, previsoes_xg) * 100.0))"
      ],
      "metadata": {
        "id": "UxMj0PznRZp0"
      },
      "execution_count": null,
      "outputs": []
    },
    {
      "cell_type": "code",
      "source": [
        "confusion_matrix(y_teste, previsoes_xg)"
      ],
      "metadata": {
        "id": "5PcyMmFqRZp1"
      },
      "execution_count": null,
      "outputs": []
    },
    {
      "cell_type": "code",
      "source": [
        "print(classification_report(y_teste, previsoes_xg))"
      ],
      "metadata": {
        "id": "fBYjluOzRZp2"
      },
      "execution_count": null,
      "outputs": []
    },
    {
      "cell_type": "markdown",
      "source": [
        "**Análise dados de treino**"
      ],
      "metadata": {
        "id": "VLAUCC_t2dkX"
      }
    },
    {
      "cell_type": "code",
      "source": [
        "previsoes_treino = xg.predict(x_treino)\n",
        "previsoes_treino"
      ],
      "metadata": {
        "id": "K5oak1Jy2dkY"
      },
      "execution_count": null,
      "outputs": []
    },
    {
      "cell_type": "code",
      "source": [
        "accuracy_score(y_treino, previsoes_treino)"
      ],
      "metadata": {
        "id": "70k-raF62dkZ"
      },
      "execution_count": null,
      "outputs": []
    },
    {
      "cell_type": "code",
      "source": [
        "confusion_matrix(y_treino, previsoes_treino)"
      ],
      "metadata": {
        "id": "Hy7uFw9E2dkZ"
      },
      "execution_count": null,
      "outputs": []
    },
    {
      "cell_type": "markdown",
      "source": [
        "### **Validação Cruzada**"
      ],
      "metadata": {
        "id": "gHvG_uWZLARo"
      }
    },
    {
      "cell_type": "code",
      "source": [
        "from sklearn.model_selection import KFold\n",
        "from sklearn.model_selection import cross_val_score"
      ],
      "metadata": {
        "id": "l3RZmFL_LARp"
      },
      "execution_count": null,
      "outputs": []
    },
    {
      "cell_type": "code",
      "source": [
        "# Separando os dados em folds\n",
        "kfold = KFold(n_splits = 30, shuffle=True, random_state = 5)"
      ],
      "metadata": {
        "id": "BKmF7defLARq"
      },
      "execution_count": null,
      "outputs": []
    },
    {
      "cell_type": "code",
      "source": [
        "# Criando o modelo\n",
        "modelo = XGBClassifier(max_depth=2, learning_rate=0.05, n_estimators=250, objective='binary:logistic', random_state=3)\n",
        "resultado = cross_val_score(modelo, previsores, alvo, cv = kfold)\n",
        "\n",
        "# Usamos a média e o desvio padrão\n",
        "print(\"Acurácia Média: %.2f%%\" % (resultado.mean() * 100.0))"
      ],
      "metadata": {
        "id": "1h7FUmsWLARr"
      },
      "execution_count": null,
      "outputs": []
    },
    {
      "cell_type": "markdown",
      "source": [
        "Naive Bayes = 84,78% (treino e teste) - 234 acertos e 85,17% (validação cruzada) : previsores3_esc\n",
        "\n",
        "SVM = 86,23% - 238 acertos e 85,72% (validação cruzada) : previsores3-esc - SVC(kernel='rbf', random_state=1, C = 2)\n",
        "\n",
        "Regressão logística = 86,23% - 238 acertos e 85,83% (validação cruzada) : previsores3_esc - LogisticRegression(random_state=1, max_iter=600, penalty=\"l2\", tol=0.0001, C=1,solver=\"lbfgs\")\n",
        "\n",
        "KNN = 84,06% - 232 acertos e 85,84% (validação cruzada) : previsores3_esc ou previsores_esc - KNeighborsClassifier(n_neighbors=7, metric='minkowski', p = 1)\n",
        "\n",
        "Árvore de decisão = 83,7% (treino e teste) - 231 acertos e 83,32% (validação cruzada): previsores3_esc - DecisionTreeClassifier(criterion='entropy', random_state = 0, max_depth=3)\n",
        "\n",
        "Random Forest = 86,59% - 239 acertos e 85,92% (validação cruzada) : previsores - RandomForestClassifier(n_estimators=150, criterion='entropy', random_state = 0, max_depth=4)\n",
        "\n",
        "XGboost = 87,68% - 242 acertos e 87,13% (validação cruzada) : previsores - XGBClassifier(max_depth=2, learning_rate=0.05, n_estimators=250, objective='binary:logistic', random_state=3)"
      ],
      "metadata": {
        "id": "gkZCAe-OR3rW"
      }
    },
    {
      "cell_type": "markdown",
      "source": [
        "# **LIGHTGBM**"
      ],
      "metadata": {
        "id": "sPZLUYzCqTWL"
      }
    },
    {
      "cell_type": "markdown",
      "source": [
        "https://lightgbm.readthedocs.io/en/latest/pythonapi/lightgbm.train.html"
      ],
      "metadata": {
        "id": "LLop9X5OVOfc"
      }
    },
    {
      "cell_type": "code",
      "source": [
        "# Instalação do Algoritmo\n",
        "!pip install lightgbm"
      ],
      "metadata": {
        "id": "r2fYJevzt58X"
      },
      "execution_count": null,
      "outputs": []
    },
    {
      "cell_type": "code",
      "source": [
        "import lightgbm as lgb "
      ],
      "metadata": {
        "id": "HyJzU46uq9mQ"
      },
      "execution_count": null,
      "outputs": []
    },
    {
      "cell_type": "code",
      "source": [
        "# Dataset para treino\n",
        "dataset = lgb.Dataset(x_treino,label=y_treino)"
      ],
      "metadata": {
        "id": "D7GfTX-TxWh2"
      },
      "execution_count": null,
      "outputs": []
    },
    {
      "cell_type": "markdown",
      "source": [
        "**Hiperparâmetros**\n",
        "\n",
        "**Controle de ajuste**\n",
        "\n",
        "num_leaves : define o número de folhas a serem formadas em uma árvore. Não tem uma relação direta entre num_leaves e max_depth e, portanto, os dois não devem estar vinculados um ao outro.\n",
        "\n",
        "max_depth : especifica a profundidade máxima ou nível até o qual a árvore pode crescer.\n",
        "\n",
        "**Controle de velocidade**\n",
        "\n",
        "learning_rate: taxa de aprendizagem, determina o impacto de cada árvore no resultado final.\n",
        "\n",
        "max_bin : O valor menor de max_bin reduz muito tempo de procesamento, pois agrupa os valores do recurso em caixas discretas, o que é computacionalmente mais barato.\n",
        "\n",
        "**Controle de precisão**\n",
        "\n",
        "num_leaves : valor alto produz árvores mais profundas com maior precisão, mas leva ao overfitting. \n",
        "\n",
        "max_bin : valores altos tem efeito semelhante ao causado pelo aumento do valor de num_leaves e também torna mais lento o procedimento de treinamento."
      ],
      "metadata": {
        "id": "9sYH7x7pjczh"
      }
    },
    {
      "cell_type": "code",
      "source": [
        "# Parâmetros\n",
        "parametros = {'num_leaves':250, # número de folhas\n",
        "              'objective':'binary', # classificação Binária     \n",
        "              'max_depth':2,\n",
        "              'learning_rate':.05,\n",
        "              'max_bin':100}"
      ],
      "metadata": {
        "id": "eRYtywqRxnRM"
      },
      "execution_count": null,
      "outputs": []
    },
    {
      "cell_type": "code",
      "metadata": {
        "id": "s-75IteevPFt"
      },
      "source": [
        "lgbm=lgb.train(parametros,dataset,num_boost_round=200)"
      ],
      "execution_count": null,
      "outputs": []
    },
    {
      "cell_type": "code",
      "source": [
        "# Marcação do tempo de execução\n",
        "from datetime import datetime\n",
        "inicio=datetime.now()\n",
        "lgbm=lgb.train(parametros,dataset)\n",
        "fim=datetime.now()\n",
        "\n",
        "tempo = fim - inicio\n",
        "tempo"
      ],
      "metadata": {
        "id": "w2eVSPh7XeQe"
      },
      "execution_count": null,
      "outputs": []
    },
    {
      "cell_type": "code",
      "metadata": {
        "id": "FbY1sQrzvPFv"
      },
      "source": [
        "previsoes_lgbm = lgbm.predict(x_teste)\n",
        "previsoes_lgbm"
      ],
      "execution_count": null,
      "outputs": []
    },
    {
      "cell_type": "code",
      "source": [
        "previsoes_lgbm.shape"
      ],
      "metadata": {
        "id": "eQ-eOobHzgdY"
      },
      "execution_count": null,
      "outputs": []
    },
    {
      "cell_type": "code",
      "source": [
        "# Quando for menor que 5 considera 0 e quando for maior ou igual a 5 considera 1\n",
        "for i in range(0, 276):\n",
        "    if previsoes_lgbm[i] >= .5:       \n",
        "       previsoes_lgbm[i] = 1\n",
        "    else:  \n",
        "       previsoes_lgbm[i] = 0"
      ],
      "metadata": {
        "id": "bCK5052RyreS"
      },
      "execution_count": null,
      "outputs": []
    },
    {
      "cell_type": "code",
      "source": [
        "previsoes_lgbm"
      ],
      "metadata": {
        "id": "X3kyhhXJzmtG"
      },
      "execution_count": null,
      "outputs": []
    },
    {
      "cell_type": "code",
      "source": [
        "y_teste"
      ],
      "metadata": {
        "id": "wvItoNPgvPFw"
      },
      "execution_count": null,
      "outputs": []
    },
    {
      "cell_type": "code",
      "source": [
        "from sklearn.metrics import accuracy_score, confusion_matrix, classification_report"
      ],
      "metadata": {
        "id": "7zmmlXg00NgO"
      },
      "execution_count": null,
      "outputs": []
    },
    {
      "cell_type": "code",
      "source": [
        "print(\"Acurácia: %.2f%%\" % (accuracy_score(y_teste, previsoes_lgbm) * 100.0))"
      ],
      "metadata": {
        "id": "7jtEMCEd0NgP"
      },
      "execution_count": null,
      "outputs": []
    },
    {
      "cell_type": "code",
      "source": [
        "confusion_matrix(y_teste, previsoes_lgbm)"
      ],
      "metadata": {
        "id": "Vi92nyDd0NgQ"
      },
      "execution_count": null,
      "outputs": []
    },
    {
      "cell_type": "markdown",
      "source": [
        "**Análise dados de treino**"
      ],
      "metadata": {
        "id": "u3pNMaVs0NgR"
      }
    },
    {
      "cell_type": "code",
      "source": [
        "previsoes_treino = lgbm.predict(x_treino)\n",
        "previsoes_treino"
      ],
      "metadata": {
        "id": "fS-C8nIw0NgR"
      },
      "execution_count": null,
      "outputs": []
    },
    {
      "cell_type": "code",
      "source": [
        "previsoes_treino.shape"
      ],
      "metadata": {
        "id": "5ZTvZKs51umQ"
      },
      "execution_count": null,
      "outputs": []
    },
    {
      "cell_type": "code",
      "source": [
        "# Quando for menor que 5 considera 0 e quando for maior ou igual a 5 considera 1\n",
        "for i in range(0, 641):\n",
        "    if previsoes_treino[i] >= .5:       \n",
        "       previsoes_treino[i] = 1\n",
        "    else:  \n",
        "       previsoes_treino[i] = 0"
      ],
      "metadata": {
        "id": "y_Xb-SEN1bNL"
      },
      "execution_count": null,
      "outputs": []
    },
    {
      "cell_type": "code",
      "source": [
        "previsoes_treino"
      ],
      "metadata": {
        "id": "ENkdM8Jd1oCJ"
      },
      "execution_count": null,
      "outputs": []
    },
    {
      "cell_type": "code",
      "source": [
        "accuracy_score(y_treino, previsoes_treino)"
      ],
      "metadata": {
        "id": "NKAIaTGF0NgS"
      },
      "execution_count": null,
      "outputs": []
    },
    {
      "cell_type": "code",
      "source": [
        "confusion_matrix(y_treino, previsoes_treino)"
      ],
      "metadata": {
        "id": "dDOEsI4W0NgT"
      },
      "execution_count": null,
      "outputs": []
    },
    {
      "cell_type": "markdown",
      "source": [
        "### **Validação Cruzada**"
      ],
      "metadata": {
        "id": "3hEGp61Q0NgT"
      }
    },
    {
      "cell_type": "code",
      "source": [
        "from sklearn.model_selection import KFold\n",
        "from sklearn.model_selection import cross_val_score"
      ],
      "metadata": {
        "id": "RwR3Salk0NgT"
      },
      "execution_count": null,
      "outputs": []
    },
    {
      "cell_type": "code",
      "source": [
        "# Separando os dados em folds\n",
        "kfold = KFold(n_splits = 30, shuffle=True, random_state = 5)"
      ],
      "metadata": {
        "id": "8Xnl-F4XSNTJ"
      },
      "execution_count": null,
      "outputs": []
    },
    {
      "cell_type": "code",
      "source": [
        "# Criando o modelo\n",
        "modelo = lgb.LGBMClassifier(num_leaves = 250, objective = 'binary',     \n",
        "                            max_depth = 2, learning_rate = .05, max_bin =100)\n",
        "resultado = cross_val_score(modelo, previsores, alvo, cv = kfold)\n",
        "\n",
        "# Usamos a média e o desvio padrão\n",
        "print(\"Acurácia Média: %.2f%%\" % (resultado.mean() * 100.0))"
      ],
      "metadata": {
        "id": "Qq7iUdMxSNTL"
      },
      "execution_count": null,
      "outputs": []
    },
    {
      "cell_type": "markdown",
      "source": [
        "Naive Bayes = 84,78% (treino e teste) - 234 acertos e 85,17% (validação cruzada) : previsores3_esc\n",
        "\n",
        "SVM = 86,23% - 238 acertos e 85,72% (validação cruzada) : previsores3-esc - SVC(kernel='rbf', random_state=1, C = 2)\n",
        "\n",
        "Regressão logística = 86,23% - 238 acertos e 85,83% (validação cruzada) : previsores3_esc - LogisticRegression(random_state=1, max_iter=600, penalty=\"l2\", tol=0.0001, C=1,solver=\"lbfgs\")\n",
        "\n",
        "KNN = 84,06% - 232 acertos e 85,84% (validação cruzada) : previsores3_esc ou previsores_esc - KNeighborsClassifier(n_neighbors=7, metric='minkowski', p = 1)\n",
        "\n",
        "Árvore de decisão = 83,7% (treino e teste) - 231 acertos e 83,32% (validação cruzada): previsores3_esc - DecisionTreeClassifier(criterion='entropy', random_state = 0, max_depth=3)\n",
        "\n",
        "Random Forest = 86,59% - 239 acertos e 85,92% (validação cruzada) : previsores - RandomForestClassifier(n_estimators=150, criterion='entropy', random_state = 0, max_depth=4)\n",
        "\n",
        "XGboost = 87,68% - 242 acertos e 87,13% (validação cruzada) : previsores - XGBClassifier(max_depth=2, learning_rate=0.05, n_estimators=250, objective='binary:logistic', random_state=3)\n",
        "\n",
        "LightGBM = 86,23% (treino e teste)- 238 acertos e 85,93% (validação cruzada) : previsores - lgb.LGBMClassifier(num_leaves = 250, objective = 'binary',  max_depth = 2, learning_rate = .05, max_bin =100)"
      ],
      "metadata": {
        "id": "W6ADUoMW0NgV"
      }
    },
    {
      "cell_type": "markdown",
      "source": [
        "# **CATBOOST**"
      ],
      "metadata": {
        "id": "yKpYGEuWUChU"
      }
    },
    {
      "cell_type": "markdown",
      "source": [
        "https://catboost.ai/en/docs/"
      ],
      "metadata": {
        "id": "LMqQ_NMTUChV"
      }
    },
    {
      "cell_type": "code",
      "source": [
        "#Instalação\n",
        "!pip install catboost"
      ],
      "metadata": {
        "id": "Vkt7hfJVUChV"
      },
      "execution_count": null,
      "outputs": []
    },
    {
      "cell_type": "code",
      "source": [
        "from catboost import CatBoostClassifier"
      ],
      "metadata": {
        "id": "kisDuh-RUChW"
      },
      "execution_count": null,
      "outputs": []
    },
    {
      "cell_type": "code",
      "source": [
        "df"
      ],
      "metadata": {
        "id": "fochAJydUChX"
      },
      "execution_count": null,
      "outputs": []
    },
    {
      "cell_type": "code",
      "source": [
        "previsores4 = df.iloc[:, 0:11]"
      ],
      "metadata": {
        "id": "mFw4wb_2CZWv"
      },
      "execution_count": null,
      "outputs": []
    },
    {
      "cell_type": "code",
      "source": [
        "previsores4.head()"
      ],
      "metadata": {
        "id": "6EGMtQa9Dwf7"
      },
      "execution_count": null,
      "outputs": []
    },
    {
      "cell_type": "code",
      "source": [
        "alvo4 = df.iloc[:, 11]"
      ],
      "metadata": {
        "id": "G0qli4gSEBbM"
      },
      "execution_count": null,
      "outputs": []
    },
    {
      "cell_type": "code",
      "source": [
        "from sklearn.model_selection import train_test_split"
      ],
      "metadata": {
        "id": "hAcS1ULCC78V"
      },
      "execution_count": null,
      "outputs": []
    },
    {
      "cell_type": "code",
      "source": [
        "x_treino, x_teste, y_treino, y_teste = train_test_split(previsores4, alvo4, test_size = 0.3, random_state = 0)"
      ],
      "metadata": {
        "id": "OP69_qpGC78W"
      },
      "execution_count": null,
      "outputs": []
    },
    {
      "cell_type": "code",
      "source": [
        "categoricas = ['Sex','ChestPainType', 'RestingECG', 'ExerciseAngina', 'ST_Slope']"
      ],
      "metadata": {
        "id": "B9Gb_1r2UChX"
      },
      "execution_count": null,
      "outputs": []
    },
    {
      "cell_type": "code",
      "source": [
        "catboost = CatBoostClassifier(task_type='CPU', iterations=100, learning_rate=0.1, depth = 8, random_state = 5, \n",
        "                              eval_metric=\"Accuracy\")"
      ],
      "metadata": {
        "id": "kM7Xaph4UChY"
      },
      "execution_count": null,
      "outputs": []
    },
    {
      "cell_type": "code",
      "source": [
        "catboost.fit( x_treino, y_treino, cat_features= categoricas, plot=True, eval_set=(x_teste, y_teste))"
      ],
      "metadata": {
        "id": "frZ9Fw1EUChY"
      },
      "execution_count": null,
      "outputs": []
    },
    {
      "cell_type": "code",
      "source": [
        "previsoes_cat = catboost.predict(x_teste)\n",
        "previsoes_cat"
      ],
      "metadata": {
        "id": "MIJVraLTUChZ"
      },
      "execution_count": null,
      "outputs": []
    },
    {
      "cell_type": "code",
      "source": [
        "y_teste"
      ],
      "metadata": {
        "id": "dSrjeuL_UCha"
      },
      "execution_count": null,
      "outputs": []
    },
    {
      "cell_type": "code",
      "source": [
        "from sklearn.metrics import accuracy_score, confusion_matrix, classification_report"
      ],
      "metadata": {
        "id": "r6FeKp07UCha"
      },
      "execution_count": null,
      "outputs": []
    },
    {
      "cell_type": "code",
      "source": [
        "print(\"Acurácia: %.2f%%\" % (accuracy_score(y_teste, previsoes_cat) * 100.0))"
      ],
      "metadata": {
        "id": "rknZXiSyUChb"
      },
      "execution_count": null,
      "outputs": []
    },
    {
      "cell_type": "code",
      "source": [
        "confusion_matrix(y_teste, previsoes_cat)"
      ],
      "metadata": {
        "id": "coB92zR9UChb"
      },
      "execution_count": null,
      "outputs": []
    },
    {
      "cell_type": "markdown",
      "source": [
        "**Análise dados de treino**"
      ],
      "metadata": {
        "id": "IA02yBduUChc"
      }
    },
    {
      "cell_type": "code",
      "source": [
        "previsoes_treino = catboost.predict(x_treino)\n",
        "previsoes_treino"
      ],
      "metadata": {
        "id": "pu0f-5frUChc"
      },
      "execution_count": null,
      "outputs": []
    },
    {
      "cell_type": "code",
      "source": [
        "accuracy_score(y_treino, previsoes_treino)"
      ],
      "metadata": {
        "id": "agSmZWOEUChc"
      },
      "execution_count": null,
      "outputs": []
    },
    {
      "cell_type": "code",
      "source": [
        "confusion_matrix(y_treino, previsoes_treino)"
      ],
      "metadata": {
        "id": "Oh06bx0IUChd"
      },
      "execution_count": null,
      "outputs": []
    },
    {
      "cell_type": "markdown",
      "source": [
        "### **Validação Cruzada**"
      ],
      "metadata": {
        "id": "2LgdzmpMUChd"
      }
    },
    {
      "cell_type": "code",
      "source": [
        "from sklearn.model_selection import KFold\n",
        "from sklearn.model_selection import cross_val_score"
      ],
      "metadata": {
        "id": "N80OsHhNUChd"
      },
      "execution_count": null,
      "outputs": []
    },
    {
      "cell_type": "code",
      "source": [
        "# Separando os dados em folds\n",
        "kfold = KFold(n_splits = 30, shuffle=True, random_state = 5)"
      ],
      "metadata": {
        "id": "vkhW9kFUUChd"
      },
      "execution_count": null,
      "outputs": []
    },
    {
      "cell_type": "code",
      "source": [
        "# Criando o modelo\n",
        "modelo = CatBoostClassifier(task_type='CPU', iterations=100, learning_rate=0.1, depth = 8, random_state = 5, \n",
        "                              eval_metric=\"Accuracy\")\n",
        "resultado = cross_val_score(modelo, previsores, alvo, cv = kfold)\n",
        "\n",
        "# Usamos a média e o desvio padrão\n",
        "print(\"Acurácia Média: %.2f%%\" % (resultado.mean() * 100.0))"
      ],
      "metadata": {
        "id": "lwgfw-cVUChd"
      },
      "execution_count": null,
      "outputs": []
    },
    {
      "cell_type": "markdown",
      "source": [
        "Naive Bayes = 84,78% (treino e teste) - 234 acertos e 85,17% (validação cruzada) : previsores3_esc\n",
        "\n",
        "SVM = 86,23% - 238 acertos e 85,72% (validação cruzada) : previsores3-esc - SVC(kernel='rbf', random_state=1, C = 2)\n",
        "\n",
        "Regressão logística = 86,23% - 238 acertos e 85,83% (validação cruzada) : previsores3_esc - LogisticRegression(random_state=1, max_iter=600, penalty=\"l2\", tol=0.0001, C=1,solver=\"lbfgs\")\n",
        "\n",
        "KNN = 84,06% - 232 acertos e 85,84% (validação cruzada) : previsores3_esc ou previsores_esc - KNeighborsClassifier(n_neighbors=7, metric='minkowski', p = 1)\n",
        "\n",
        "Árvore de decisão = 83,7% (treino e teste) - 231 acertos e 83,32% (validação cruzada): previsores3_esc - DecisionTreeClassifier(criterion='entropy', random_state = 0, max_depth=3)\n",
        "\n",
        "Random Forest = 86,59% - 239 acertos e 85,92% (validação cruzada) : previsores - RandomForestClassifier(n_estimators=150, criterion='entropy', random_state = 0, max_depth=4)\n",
        "\n",
        "**XGboost = 87,68% - 242 acertos e 87,13% (validação cruzada) : previsores - XGBClassifier(max_depth=2, learning_rate=0.05, n_estimators=250, objective='binary:logistic', random_state=3)**\n",
        "\n",
        "LightGBM = 86,23% (treino e teste)- 238 acertos e 85,93% (validação cruzada) : previsores - lgb.LGBMClassifier(num_leaves = 250, objective = 'binary',  max_depth = 2, learning_rate = .05, max_bin =100)\n",
        "\n",
        "CatBoost = 86,96% (treino e teste) previsores4 - 240 acertos e 88% (validação cruzada com previsores) - CatBoostClassifier(task_type='CPU', iterations=100, learning_rate=0.1, depth = 8, random_state = 5, eval_metric=\"Accuracy\")"
      ],
      "metadata": {
        "id": "gco4qH1qUChe"
      }
    },
    {
      "cell_type": "markdown",
      "source": [
        "# **Salvando dados para Deploy**"
      ],
      "metadata": {
        "id": "-SI78UagmLD7"
      }
    },
    {
      "cell_type": "code",
      "metadata": {
        "id": "LNMNKr4TmLD8",
        "colab": {
          "base_uri": "https://localhost:8080/"
        },
        "outputId": "4ea7c676-03f7-4c5f-97ab-ec346253c427"
      },
      "source": [
        "previsores"
      ],
      "execution_count": null,
      "outputs": [
        {
          "output_type": "execute_result",
          "data": {
            "text/plain": [
              "array([[40. ,  0. ,  1. , ...,  0. ,  0. ,  0. ],\n",
              "       [49. ,  1. ,  2. , ...,  0. ,  1. ,  1. ],\n",
              "       [37. ,  0. ,  1. , ...,  0. ,  0. ,  0. ],\n",
              "       ...,\n",
              "       [57. ,  0. ,  3. , ...,  1. ,  1.2,  1. ],\n",
              "       [57. ,  1. ,  1. , ...,  0. ,  0. ,  1. ],\n",
              "       [38. ,  0. ,  2. , ...,  0. ,  0. ,  0. ]])"
            ]
          },
          "metadata": {},
          "execution_count": 15
        }
      ]
    },
    {
      "cell_type": "code",
      "source": [
        "alvo"
      ],
      "metadata": {
        "id": "isSCWsMPDdw6",
        "colab": {
          "base_uri": "https://localhost:8080/"
        },
        "outputId": "c9bed013-e189-4c52-c55a-2a47182611ae"
      },
      "execution_count": null,
      "outputs": [
        {
          "output_type": "execute_result",
          "data": {
            "text/plain": [
              "array([0, 1, 0, 1, 0, 0, 0, 0, 1, 0, 0, 1, 0, 1, 0, 0, 1, 0, 1, 1, 0, 0,\n",
              "       0, 1, 0, 0, 0, 0, 0, 0, 1, 0, 1, 1, 0, 0, 1, 0, 0, 0, 0, 1, 0, 0,\n",
              "       1, 0, 0, 0, 0, 1, 1, 1, 0, 0, 0, 0, 1, 1, 0, 1, 0, 0, 0, 1, 0, 0,\n",
              "       0, 0, 1, 0, 1, 0, 1, 0, 1, 0, 1, 0, 0, 1, 0, 0, 1, 0, 1, 1, 1, 0,\n",
              "       1, 0, 0, 0, 0, 1, 0, 1, 0, 0, 0, 0, 1, 0, 1, 1, 1, 0, 0, 0, 0, 0,\n",
              "       0, 1, 0, 0, 0, 1, 1, 1, 0, 1, 1, 0, 0, 1, 0, 0, 0, 0, 0, 0, 0, 1,\n",
              "       1, 1, 0, 1, 0, 0, 1, 1, 1, 1, 1, 0, 1, 0, 0, 0, 0, 1, 0, 0, 0, 0,\n",
              "       0, 1, 1, 0, 1, 0, 1, 1, 0, 0, 0, 1, 1, 0, 0, 0, 0, 0, 0, 0, 1, 1,\n",
              "       1, 0, 0, 0, 1, 0, 1, 0, 0, 1, 0, 1, 0, 1, 0, 0, 0, 0, 0, 0, 0, 0,\n",
              "       1, 0, 0, 0, 0, 0, 0, 0, 0, 1, 0, 1, 1, 1, 0, 0, 1, 0, 1, 0, 0, 0,\n",
              "       1, 1, 0, 0, 0, 1, 0, 1, 0, 0, 0, 0, 0, 0, 0, 0, 1, 1, 1, 1, 0, 1,\n",
              "       1, 0, 1, 0, 1, 1, 1, 1, 1, 1, 0, 0, 1, 0, 0, 0, 0, 0, 0, 0, 1, 1,\n",
              "       1, 0, 1, 0, 1, 0, 0, 0, 1, 0, 0, 0, 1, 1, 0, 0, 0, 1, 0, 0, 0, 0,\n",
              "       0, 0, 0, 0, 0, 0, 0, 1, 1, 1, 1, 1, 1, 1, 1, 0, 1, 1, 1, 1, 1, 0,\n",
              "       1, 1, 0, 1, 1, 1, 0, 1, 1, 1, 1, 1, 1, 1, 1, 1, 1, 1, 0, 1, 1, 1,\n",
              "       1, 1, 0, 1, 1, 1, 0, 1, 1, 1, 1, 1, 1, 1, 1, 1, 1, 1, 1, 1, 1, 1,\n",
              "       1, 1, 1, 1, 1, 1, 1, 1, 1, 1, 1, 1, 0, 1, 1, 1, 1, 1, 1, 1, 1, 1,\n",
              "       1, 1, 1, 1, 1, 1, 1, 1, 1, 1, 1, 1, 1, 1, 1, 1, 1, 1, 1, 1, 1, 1,\n",
              "       1, 1, 1, 1, 1, 1, 1, 1, 1, 1, 1, 1, 1, 1, 1, 1, 1, 1, 1, 1, 1, 0,\n",
              "       1, 1, 0, 0, 1, 0, 1, 1, 0, 1, 1, 1, 1, 0, 1, 1, 0, 0, 1, 1, 1, 0,\n",
              "       1, 1, 1, 1, 1, 1, 1, 1, 1, 1, 1, 1, 0, 1, 0, 1, 1, 1, 0, 1, 1, 1,\n",
              "       0, 1, 0, 1, 0, 1, 0, 1, 1, 1, 1, 0, 1, 0, 1, 1, 1, 1, 1, 1, 1, 1,\n",
              "       1, 0, 1, 0, 1, 1, 1, 1, 1, 1, 1, 0, 1, 1, 1, 1, 1, 1, 0, 1, 1, 1,\n",
              "       0, 1, 1, 0, 1, 0, 1, 1, 0, 1, 1, 1, 1, 0, 1, 1, 1, 0, 0, 1, 0, 1,\n",
              "       1, 1, 1, 1, 1, 1, 1, 1, 1, 1, 0, 1, 1, 1, 1, 0, 0, 1, 1, 1, 0, 1,\n",
              "       0, 1, 1, 0, 1, 0, 1, 1, 1, 0, 0, 0, 1, 1, 1, 0, 1, 1, 1, 1, 1, 1,\n",
              "       1, 1, 1, 1, 1, 1, 1, 1, 1, 1, 0, 1, 1, 1, 0, 1, 1, 0, 0, 1, 1, 1,\n",
              "       1, 1, 0, 1, 1, 0, 1, 1, 1, 0, 0, 1, 1, 1, 1, 1, 0, 1, 0, 1, 1, 0,\n",
              "       1, 0, 0, 0, 1, 1, 1, 1, 0, 0, 0, 1, 0, 0, 1, 1, 0, 0, 1, 0, 0, 0,\n",
              "       0, 0, 0, 0, 1, 0, 1, 0, 0, 1, 1, 1, 1, 1, 0, 0, 1, 0, 0, 0, 1, 0,\n",
              "       1, 1, 1, 1, 1, 0, 0, 0, 0, 0, 1, 0, 1, 1, 0, 1, 0, 0, 0, 1, 0, 1,\n",
              "       0, 1, 1, 0, 0, 0, 0, 1, 0, 0, 0, 0, 1, 1, 1, 0, 0, 0, 0, 0, 0, 1,\n",
              "       0, 1, 1, 1, 1, 1, 0, 1, 0, 0, 0, 1, 0, 1, 1, 1, 0, 1, 1, 0, 1, 0,\n",
              "       1, 0, 0, 0, 1, 1, 0, 1, 1, 1, 1, 0, 0, 0, 1, 0, 0, 1, 1, 1, 0, 1,\n",
              "       0, 0, 0, 1, 0, 0, 1, 0, 1, 0, 1, 1, 1, 1, 1, 0, 0, 0, 0, 0, 0, 0,\n",
              "       1, 0, 0, 1, 1, 1, 0, 1, 0, 0, 0, 0, 0, 1, 0, 1, 1, 0, 0, 1, 1, 1,\n",
              "       1, 0, 0, 1, 1, 0, 0, 0, 1, 0, 0, 1, 0, 1, 0, 1, 0, 0, 0, 0, 0, 1,\n",
              "       0, 1, 1, 1, 1, 0, 0, 0, 1, 0, 1, 0, 0, 1, 0, 0, 0, 0, 0, 0, 1, 1,\n",
              "       0, 1, 0, 0, 1, 1, 0, 0, 1, 1, 0, 1, 0, 1, 0, 1, 0, 0, 1, 0, 0, 1,\n",
              "       0, 1, 1, 0, 1, 1, 1, 0, 1, 0, 0, 0, 0, 1, 1, 0, 0, 1, 1, 0, 1, 0,\n",
              "       0, 0, 0, 1, 0, 0, 1, 1, 1, 0, 0, 0, 1, 0, 1, 0, 1, 0, 1, 1, 1, 0,\n",
              "       0, 0, 1, 0, 1, 1, 1, 0, 1, 1, 1, 1, 1, 1, 0])"
            ]
          },
          "metadata": {},
          "execution_count": 16
        }
      ]
    },
    {
      "cell_type": "code",
      "source": [
        "np.savetxt('previsores.csv', previsores, delimiter=',')"
      ],
      "metadata": {
        "id": "XUYRtI5VDBXF"
      },
      "execution_count": null,
      "outputs": []
    },
    {
      "cell_type": "code",
      "source": [
        "np.savetxt('alvo.csv', alvo, delimiter=',')"
      ],
      "metadata": {
        "id": "dd7lbPU3DQFO"
      },
      "execution_count": null,
      "outputs": []
    },
    {
      "cell_type": "markdown",
      "source": [
        "# **DESAFIO 1**"
      ],
      "metadata": {
        "id": "Q6LoOxMow4Ci"
      }
    },
    {
      "cell_type": "markdown",
      "source": [
        "DESENVOLVER E SELECIONAR O MELHOR ALGORITMO DE MACHINE LEARNING DE CLASSIFICAÇÃO PARA O DATASET DO LINK A SEGUIR:"
      ],
      "metadata": {
        "id": "bjLFumRQxayX"
      }
    },
    {
      "cell_type": "markdown",
      "source": [
        "https://www.kaggle.com/uciml/breast-cancer-wisconsin-data"
      ],
      "metadata": {
        "id": "VG8xV9wYxKk2"
      }
    }
  ]
}