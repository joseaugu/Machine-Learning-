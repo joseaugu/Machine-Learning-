{
  "nbformat": 4,
  "nbformat_minor": 0,
  "metadata": {
    "colab": {
      "provenance": []
    },
    "kernelspec": {
      "name": "python3",
      "display_name": "Python 3"
    },
    "language_info": {
      "name": "python"
    }
  },
  "cells": [
    {
      "cell_type": "markdown",
      "source": [
        "O aprendizado de máquina automatizado (AutoML) é o processo de automatizar as tarefas de aplicação do aprendizado de máquina a problemas do mundo real.  O AutoML visa simplificar essas etapas para não especialistas e facilitar o uso correto e eficaz das técnicas de aprendizado de máquina.\n",
        "\n",
        "\n",
        "\n",
        "\n",
        "https://automl.github.io/auto-sklearn/master/api.html\n",
        "\n",
        "https://automl.github.io/auto-sklearn/master/faq.html#faq\n",
        "\n",
        "https://github.com/GauravSahani1417/Kaggle-Datasets/blob/master/Heart_failure_prediction_using_Auto_Sklearn_%F0%9F%A9%BA.ipynb\n",
        "\n",
        "https://blog.dsbrigade.com/introducao-a-automl/\n"
      ],
      "metadata": {
        "id": "aRsbrd3ztgNM"
      }
    },
    {
      "cell_type": "markdown",
      "source": [
        "# **PRÉ-PROCESSAMENTO**"
      ],
      "metadata": {
        "id": "542kAiSLtj8c"
      }
    },
    {
      "cell_type": "code",
      "execution_count": null,
      "metadata": {
        "colab": {
          "base_uri": "https://localhost:8080/"
        },
        "id": "LasD9rrotPDv",
        "outputId": "2c098588-b8b4-447f-a156-644836c5768f"
      },
      "outputs": [
        {
          "output_type": "stream",
          "name": "stdout",
          "text": [
            "Looking in indexes: https://pypi.org/simple, https://us-python.pkg.dev/colab-wheels/public/simple/\n",
            "Requirement already satisfied: auto-sklearn in /usr/local/lib/python3.9/dist-packages (0.15.0)\n",
            "Requirement already satisfied: smac<1.3,>=1.2 in /usr/local/lib/python3.9/dist-packages (from auto-sklearn) (1.2)\n",
            "Requirement already satisfied: pyyaml in /usr/local/lib/python3.9/dist-packages (from auto-sklearn) (6.0)\n",
            "Requirement already satisfied: distro in /usr/local/lib/python3.9/dist-packages (from auto-sklearn) (1.8.0)\n",
            "Requirement already satisfied: scipy>=1.7.0 in /usr/local/lib/python3.9/dist-packages (from auto-sklearn) (1.10.1)\n",
            "Requirement already satisfied: typing-extensions in /usr/local/lib/python3.9/dist-packages (from auto-sklearn) (4.5.0)\n",
            "Requirement already satisfied: numpy>=1.9.0 in /usr/local/lib/python3.9/dist-packages (from auto-sklearn) (1.22.4)\n",
            "Requirement already satisfied: dask>=2021.12 in /usr/local/lib/python3.9/dist-packages (from auto-sklearn) (2022.12.1)\n",
            "Requirement already satisfied: setuptools in /usr/local/lib/python3.9/dist-packages (from auto-sklearn) (63.4.3)\n",
            "Requirement already satisfied: pandas>=1.0 in /usr/local/lib/python3.9/dist-packages (from auto-sklearn) (1.4.4)\n",
            "Requirement already satisfied: threadpoolctl in /usr/local/lib/python3.9/dist-packages (from auto-sklearn) (3.1.0)\n",
            "Requirement already satisfied: pyrfr<0.9,>=0.8.1 in /usr/local/lib/python3.9/dist-packages (from auto-sklearn) (0.8.3)\n",
            "Requirement already satisfied: distributed>=2012.12 in /usr/local/lib/python3.9/dist-packages (from auto-sklearn) (2022.12.1)\n",
            "Requirement already satisfied: pynisher<0.7,>=0.6.3 in /usr/local/lib/python3.9/dist-packages (from auto-sklearn) (0.6.4)\n",
            "Requirement already satisfied: ConfigSpace<0.5,>=0.4.21 in /usr/local/lib/python3.9/dist-packages (from auto-sklearn) (0.4.21)\n",
            "Requirement already satisfied: scikit-learn<0.25.0,>=0.24.0 in /usr/local/lib/python3.9/dist-packages (from auto-sklearn) (0.24.2)\n",
            "Requirement already satisfied: joblib in /usr/local/lib/python3.9/dist-packages (from auto-sklearn) (1.1.1)\n",
            "Requirement already satisfied: liac-arff in /usr/local/lib/python3.9/dist-packages (from auto-sklearn) (2.5.0)\n",
            "Requirement already satisfied: pyparsing in /usr/local/lib/python3.9/dist-packages (from ConfigSpace<0.5,>=0.4.21->auto-sklearn) (3.0.9)\n",
            "Requirement already satisfied: cython in /usr/local/lib/python3.9/dist-packages (from ConfigSpace<0.5,>=0.4.21->auto-sklearn) (0.29.33)\n",
            "Requirement already satisfied: click>=7.0 in /usr/local/lib/python3.9/dist-packages (from dask>=2021.12->auto-sklearn) (8.1.3)\n",
            "Requirement already satisfied: cloudpickle>=1.1.1 in /usr/local/lib/python3.9/dist-packages (from dask>=2021.12->auto-sklearn) (2.2.1)\n",
            "Requirement already satisfied: packaging>=20.0 in /usr/local/lib/python3.9/dist-packages (from dask>=2021.12->auto-sklearn) (23.0)\n",
            "Requirement already satisfied: toolz>=0.8.2 in /usr/local/lib/python3.9/dist-packages (from dask>=2021.12->auto-sklearn) (0.12.0)\n",
            "Requirement already satisfied: fsspec>=0.6.0 in /usr/local/lib/python3.9/dist-packages (from dask>=2021.12->auto-sklearn) (2023.3.0)\n",
            "Requirement already satisfied: partd>=0.3.10 in /usr/local/lib/python3.9/dist-packages (from dask>=2021.12->auto-sklearn) (1.3.0)\n",
            "Requirement already satisfied: sortedcontainers!=2.0.0,!=2.0.1 in /usr/local/lib/python3.9/dist-packages (from distributed>=2012.12->auto-sklearn) (2.4.0)\n",
            "Requirement already satisfied: locket>=1.0.0 in /usr/local/lib/python3.9/dist-packages (from distributed>=2012.12->auto-sklearn) (1.0.0)\n",
            "Requirement already satisfied: jinja2 in /usr/local/lib/python3.9/dist-packages (from distributed>=2012.12->auto-sklearn) (3.1.2)\n",
            "Requirement already satisfied: tblib>=1.6.0 in /usr/local/lib/python3.9/dist-packages (from distributed>=2012.12->auto-sklearn) (1.7.0)\n",
            "Requirement already satisfied: tornado>=6.0.3 in /usr/local/lib/python3.9/dist-packages (from distributed>=2012.12->auto-sklearn) (6.2)\n",
            "Requirement already satisfied: msgpack>=0.6.0 in /usr/local/lib/python3.9/dist-packages (from distributed>=2012.12->auto-sklearn) (1.0.5)\n",
            "Requirement already satisfied: zict>=0.1.3 in /usr/local/lib/python3.9/dist-packages (from distributed>=2012.12->auto-sklearn) (2.2.0)\n",
            "Requirement already satisfied: psutil>=5.0 in /usr/local/lib/python3.9/dist-packages (from distributed>=2012.12->auto-sklearn) (5.9.4)\n",
            "Requirement already satisfied: urllib3 in /usr/local/lib/python3.9/dist-packages (from distributed>=2012.12->auto-sklearn) (1.26.15)\n",
            "Requirement already satisfied: python-dateutil>=2.8.1 in /usr/local/lib/python3.9/dist-packages (from pandas>=1.0->auto-sklearn) (2.8.2)\n",
            "Requirement already satisfied: pytz>=2020.1 in /usr/local/lib/python3.9/dist-packages (from pandas>=1.0->auto-sklearn) (2022.7.1)\n",
            "Requirement already satisfied: emcee>=3.0.0 in /usr/local/lib/python3.9/dist-packages (from smac<1.3,>=1.2->auto-sklearn) (3.1.4)\n",
            "Requirement already satisfied: six>=1.5 in /usr/local/lib/python3.9/dist-packages (from python-dateutil>=2.8.1->pandas>=1.0->auto-sklearn) (1.15.0)\n",
            "Requirement already satisfied: heapdict in /usr/local/lib/python3.9/dist-packages (from zict>=0.1.3->distributed>=2012.12->auto-sklearn) (1.0.1)\n",
            "Requirement already satisfied: MarkupSafe>=2.0 in /usr/local/lib/python3.9/dist-packages (from jinja2->distributed>=2012.12->auto-sklearn) (2.1.2)\n"
          ]
        }
      ],
      "source": [
        "!pip install auto-sklearn\n",
        "\n"
      ]
    },
    {
      "cell_type": "code",
      "source": [
        "!pip install scikit-learn==0.24.1\n"
      ],
      "metadata": {
        "colab": {
          "base_uri": "https://localhost:8080/"
        },
        "id": "9XIUPSGOulEk",
        "outputId": "0de201ee-42a9-4037-c013-6f2815226e53"
      },
      "execution_count": null,
      "outputs": [
        {
          "output_type": "stream",
          "name": "stdout",
          "text": [
            "Looking in indexes: https://pypi.org/simple, https://us-python.pkg.dev/colab-wheels/public/simple/\n",
            "Collecting scikit-learn==0.24.1\n",
            "  Downloading scikit_learn-0.24.1-cp39-cp39-manylinux2010_x86_64.whl (23.8 MB)\n",
            "\u001b[2K     \u001b[90m━━━━━━━━━━━━━━━━━━━━━━━━━━━━━━━━━━━━━━━━\u001b[0m \u001b[32m23.8/23.8 MB\u001b[0m \u001b[31m37.4 MB/s\u001b[0m eta \u001b[36m0:00:00\u001b[0m\n",
            "\u001b[?25hRequirement already satisfied: numpy>=1.13.3 in /usr/local/lib/python3.9/dist-packages (from scikit-learn==0.24.1) (1.22.4)\n",
            "Requirement already satisfied: joblib>=0.11 in /usr/local/lib/python3.9/dist-packages (from scikit-learn==0.24.1) (1.1.1)\n",
            "Requirement already satisfied: scipy>=0.19.1 in /usr/local/lib/python3.9/dist-packages (from scikit-learn==0.24.1) (1.10.1)\n",
            "Requirement already satisfied: threadpoolctl>=2.0.0 in /usr/local/lib/python3.9/dist-packages (from scikit-learn==0.24.1) (3.1.0)\n",
            "Installing collected packages: scikit-learn\n",
            "  Attempting uninstall: scikit-learn\n",
            "    Found existing installation: scikit-learn 0.24.2\n",
            "    Uninstalling scikit-learn-0.24.2:\n",
            "      Successfully uninstalled scikit-learn-0.24.2\n",
            "\u001b[31mERROR: pip's dependency resolver does not currently take into account all the packages that are installed. This behaviour is the source of the following dependency conflicts.\n",
            "yellowbrick 1.5 requires scikit-learn>=1.0.0, but you have scikit-learn 0.24.1 which is incompatible.\n",
            "imbalanced-learn 0.10.1 requires scikit-learn>=1.0.2, but you have scikit-learn 0.24.1 which is incompatible.\u001b[0m\u001b[31m\n",
            "\u001b[0mSuccessfully installed scikit-learn-0.24.1\n"
          ]
        }
      ]
    },
    {
      "cell_type": "code",
      "source": [
        "!pip install dask distributed --upgrade\n"
      ],
      "metadata": {
        "colab": {
          "base_uri": "https://localhost:8080/"
        },
        "id": "orQkpCVAupeD",
        "outputId": "aba21293-b9aa-4afa-81cf-f25044545fed"
      },
      "execution_count": null,
      "outputs": [
        {
          "output_type": "stream",
          "name": "stdout",
          "text": [
            "Looking in indexes: https://pypi.org/simple, https://us-python.pkg.dev/colab-wheels/public/simple/\n",
            "Requirement already satisfied: dask in /usr/local/lib/python3.9/dist-packages (2022.12.1)\n",
            "Collecting dask\n",
            "  Downloading dask-2023.3.1-py3-none-any.whl (1.2 MB)\n",
            "\u001b[2K     \u001b[90m━━━━━━━━━━━━━━━━━━━━━━━━━━━━━━━━━━━━━━━━\u001b[0m \u001b[32m1.2/1.2 MB\u001b[0m \u001b[31m26.3 MB/s\u001b[0m eta \u001b[36m0:00:00\u001b[0m\n",
            "\u001b[?25hRequirement already satisfied: distributed in /usr/local/lib/python3.9/dist-packages (2022.12.1)\n",
            "Collecting distributed\n",
            "  Downloading distributed-2023.3.1-py3-none-any.whl (951 kB)\n",
            "\u001b[2K     \u001b[90m━━━━━━━━━━━━━━━━━━━━━━━━━━━━━━━━━━━━━━\u001b[0m \u001b[32m951.2/951.2 KB\u001b[0m \u001b[31m71.3 MB/s\u001b[0m eta \u001b[36m0:00:00\u001b[0m\n",
            "\u001b[?25hRequirement already satisfied: toolz>=0.8.2 in /usr/local/lib/python3.9/dist-packages (from dask) (0.12.0)\n",
            "Requirement already satisfied: click>=7.0 in /usr/local/lib/python3.9/dist-packages (from dask) (8.1.3)\n",
            "Requirement already satisfied: partd>=1.2.0 in /usr/local/lib/python3.9/dist-packages (from dask) (1.3.0)\n",
            "Requirement already satisfied: packaging>=20.0 in /usr/local/lib/python3.9/dist-packages (from dask) (23.0)\n",
            "Requirement already satisfied: cloudpickle>=1.1.1 in /usr/local/lib/python3.9/dist-packages (from dask) (2.2.1)\n",
            "Requirement already satisfied: fsspec>=0.6.0 in /usr/local/lib/python3.9/dist-packages (from dask) (2023.3.0)\n",
            "Requirement already satisfied: pyyaml>=5.3.1 in /usr/local/lib/python3.9/dist-packages (from dask) (6.0)\n",
            "Requirement already satisfied: sortedcontainers>=2.0.5 in /usr/local/lib/python3.9/dist-packages (from distributed) (2.4.0)\n",
            "Requirement already satisfied: msgpack>=1.0.0 in /usr/local/lib/python3.9/dist-packages (from distributed) (1.0.5)\n",
            "Requirement already satisfied: tblib>=1.6.0 in /usr/local/lib/python3.9/dist-packages (from distributed) (1.7.0)\n",
            "Requirement already satisfied: locket>=1.0.0 in /usr/local/lib/python3.9/dist-packages (from distributed) (1.0.0)\n",
            "Requirement already satisfied: tornado>=6.0.3 in /usr/local/lib/python3.9/dist-packages (from distributed) (6.2)\n",
            "Requirement already satisfied: zict>=2.1.0 in /usr/local/lib/python3.9/dist-packages (from distributed) (2.2.0)\n",
            "Requirement already satisfied: urllib3>=1.24.3 in /usr/local/lib/python3.9/dist-packages (from distributed) (1.26.15)\n",
            "Requirement already satisfied: psutil>=5.7.0 in /usr/local/lib/python3.9/dist-packages (from distributed) (5.9.4)\n",
            "Requirement already satisfied: jinja2>=2.10.3 in /usr/local/lib/python3.9/dist-packages (from distributed) (3.1.2)\n",
            "Requirement already satisfied: MarkupSafe>=2.0 in /usr/local/lib/python3.9/dist-packages (from jinja2>=2.10.3->distributed) (2.1.2)\n",
            "Requirement already satisfied: heapdict in /usr/local/lib/python3.9/dist-packages (from zict>=2.1.0->distributed) (1.0.1)\n",
            "Installing collected packages: dask, distributed\n",
            "  Attempting uninstall: dask\n",
            "    Found existing installation: dask 2022.12.1\n",
            "    Uninstalling dask-2022.12.1:\n",
            "      Successfully uninstalled dask-2022.12.1\n",
            "  Attempting uninstall: distributed\n",
            "    Found existing installation: distributed 2022.12.1\n",
            "    Uninstalling distributed-2022.12.1:\n",
            "      Successfully uninstalled distributed-2022.12.1\n",
            "Successfully installed dask-2023.3.1 distributed-2023.3.1\n"
          ]
        }
      ]
    },
    {
      "cell_type": "code",
      "source": [
        "import autosklearn\n",
        "import pandas as pd\n",
        "from sklearn.preprocessing import LabelEncoder\n",
        "import autosklearn.regression\n",
        "from autosklearn.classification import AutoSklearnClassifier\n",
        "import numpy as np"
      ],
      "metadata": {
        "id": "_pBxhklUuwvf"
      },
      "execution_count": null,
      "outputs": []
    },
    {
      "cell_type": "code",
      "source": [
        "df = pd.read_csv('/content/sal_pocos (1) (3).csv',\n",
        "                  sep=',', encoding='utf-8')\n",
        "df.head()"
      ],
      "metadata": {
        "colab": {
          "base_uri": "https://localhost:8080/",
          "height": 206
        },
        "id": "6xRipY9SuAXM",
        "outputId": "b2a0cd36-a19b-4005-fdab-080dea8d0845"
      },
      "execution_count": null,
      "outputs": [
        {
          "output_type": "execute_result",
          "data": {
            "text/plain": [
              "        PROF           VP  FACIES           VS         GR    POCO\n",
              "0  3103.0164  4392.102539    85.0  2491.250244  16.139494  poco_1\n",
              "1  3103.1688  4368.245117    85.0  2502.714111  16.530527  poco_1\n",
              "2  3103.3212  4354.002930    85.0  2517.204346  16.491985  poco_1\n",
              "3  3103.4736  4349.213867    85.0  2529.218994  16.053066  poco_1\n",
              "4  3103.6260  4354.245606    85.0  2535.076172  15.923628  poco_1"
            ],
            "text/html": [
              "\n",
              "  <div id=\"df-8bec3514-0143-4645-a65d-161d8a2717dc\">\n",
              "    <div class=\"colab-df-container\">\n",
              "      <div>\n",
              "<style scoped>\n",
              "    .dataframe tbody tr th:only-of-type {\n",
              "        vertical-align: middle;\n",
              "    }\n",
              "\n",
              "    .dataframe tbody tr th {\n",
              "        vertical-align: top;\n",
              "    }\n",
              "\n",
              "    .dataframe thead th {\n",
              "        text-align: right;\n",
              "    }\n",
              "</style>\n",
              "<table border=\"1\" class=\"dataframe\">\n",
              "  <thead>\n",
              "    <tr style=\"text-align: right;\">\n",
              "      <th></th>\n",
              "      <th>PROF</th>\n",
              "      <th>VP</th>\n",
              "      <th>FACIES</th>\n",
              "      <th>VS</th>\n",
              "      <th>GR</th>\n",
              "      <th>POCO</th>\n",
              "    </tr>\n",
              "  </thead>\n",
              "  <tbody>\n",
              "    <tr>\n",
              "      <th>0</th>\n",
              "      <td>3103.0164</td>\n",
              "      <td>4392.102539</td>\n",
              "      <td>85.0</td>\n",
              "      <td>2491.250244</td>\n",
              "      <td>16.139494</td>\n",
              "      <td>poco_1</td>\n",
              "    </tr>\n",
              "    <tr>\n",
              "      <th>1</th>\n",
              "      <td>3103.1688</td>\n",
              "      <td>4368.245117</td>\n",
              "      <td>85.0</td>\n",
              "      <td>2502.714111</td>\n",
              "      <td>16.530527</td>\n",
              "      <td>poco_1</td>\n",
              "    </tr>\n",
              "    <tr>\n",
              "      <th>2</th>\n",
              "      <td>3103.3212</td>\n",
              "      <td>4354.002930</td>\n",
              "      <td>85.0</td>\n",
              "      <td>2517.204346</td>\n",
              "      <td>16.491985</td>\n",
              "      <td>poco_1</td>\n",
              "    </tr>\n",
              "    <tr>\n",
              "      <th>3</th>\n",
              "      <td>3103.4736</td>\n",
              "      <td>4349.213867</td>\n",
              "      <td>85.0</td>\n",
              "      <td>2529.218994</td>\n",
              "      <td>16.053066</td>\n",
              "      <td>poco_1</td>\n",
              "    </tr>\n",
              "    <tr>\n",
              "      <th>4</th>\n",
              "      <td>3103.6260</td>\n",
              "      <td>4354.245606</td>\n",
              "      <td>85.0</td>\n",
              "      <td>2535.076172</td>\n",
              "      <td>15.923628</td>\n",
              "      <td>poco_1</td>\n",
              "    </tr>\n",
              "  </tbody>\n",
              "</table>\n",
              "</div>\n",
              "      <button class=\"colab-df-convert\" onclick=\"convertToInteractive('df-8bec3514-0143-4645-a65d-161d8a2717dc')\"\n",
              "              title=\"Convert this dataframe to an interactive table.\"\n",
              "              style=\"display:none;\">\n",
              "        \n",
              "  <svg xmlns=\"http://www.w3.org/2000/svg\" height=\"24px\"viewBox=\"0 0 24 24\"\n",
              "       width=\"24px\">\n",
              "    <path d=\"M0 0h24v24H0V0z\" fill=\"none\"/>\n",
              "    <path d=\"M18.56 5.44l.94 2.06.94-2.06 2.06-.94-2.06-.94-.94-2.06-.94 2.06-2.06.94zm-11 1L8.5 8.5l.94-2.06 2.06-.94-2.06-.94L8.5 2.5l-.94 2.06-2.06.94zm10 10l.94 2.06.94-2.06 2.06-.94-2.06-.94-.94-2.06-.94 2.06-2.06.94z\"/><path d=\"M17.41 7.96l-1.37-1.37c-.4-.4-.92-.59-1.43-.59-.52 0-1.04.2-1.43.59L10.3 9.45l-7.72 7.72c-.78.78-.78 2.05 0 2.83L4 21.41c.39.39.9.59 1.41.59.51 0 1.02-.2 1.41-.59l7.78-7.78 2.81-2.81c.8-.78.8-2.07 0-2.86zM5.41 20L4 18.59l7.72-7.72 1.47 1.35L5.41 20z\"/>\n",
              "  </svg>\n",
              "      </button>\n",
              "      \n",
              "  <style>\n",
              "    .colab-df-container {\n",
              "      display:flex;\n",
              "      flex-wrap:wrap;\n",
              "      gap: 12px;\n",
              "    }\n",
              "\n",
              "    .colab-df-convert {\n",
              "      background-color: #E8F0FE;\n",
              "      border: none;\n",
              "      border-radius: 50%;\n",
              "      cursor: pointer;\n",
              "      display: none;\n",
              "      fill: #1967D2;\n",
              "      height: 32px;\n",
              "      padding: 0 0 0 0;\n",
              "      width: 32px;\n",
              "    }\n",
              "\n",
              "    .colab-df-convert:hover {\n",
              "      background-color: #E2EBFA;\n",
              "      box-shadow: 0px 1px 2px rgba(60, 64, 67, 0.3), 0px 1px 3px 1px rgba(60, 64, 67, 0.15);\n",
              "      fill: #174EA6;\n",
              "    }\n",
              "\n",
              "    [theme=dark] .colab-df-convert {\n",
              "      background-color: #3B4455;\n",
              "      fill: #D2E3FC;\n",
              "    }\n",
              "\n",
              "    [theme=dark] .colab-df-convert:hover {\n",
              "      background-color: #434B5C;\n",
              "      box-shadow: 0px 1px 3px 1px rgba(0, 0, 0, 0.15);\n",
              "      filter: drop-shadow(0px 1px 2px rgba(0, 0, 0, 0.3));\n",
              "      fill: #FFFFFF;\n",
              "    }\n",
              "  </style>\n",
              "\n",
              "      <script>\n",
              "        const buttonEl =\n",
              "          document.querySelector('#df-8bec3514-0143-4645-a65d-161d8a2717dc button.colab-df-convert');\n",
              "        buttonEl.style.display =\n",
              "          google.colab.kernel.accessAllowed ? 'block' : 'none';\n",
              "\n",
              "        async function convertToInteractive(key) {\n",
              "          const element = document.querySelector('#df-8bec3514-0143-4645-a65d-161d8a2717dc');\n",
              "          const dataTable =\n",
              "            await google.colab.kernel.invokeFunction('convertToInteractive',\n",
              "                                                     [key], {});\n",
              "          if (!dataTable) return;\n",
              "\n",
              "          const docLinkHtml = 'Like what you see? Visit the ' +\n",
              "            '<a target=\"_blank\" href=https://colab.research.google.com/notebooks/data_table.ipynb>data table notebook</a>'\n",
              "            + ' to learn more about interactive tables.';\n",
              "          element.innerHTML = '';\n",
              "          dataTable['output_type'] = 'display_data';\n",
              "          await google.colab.output.renderOutput(dataTable, element);\n",
              "          const docLink = document.createElement('div');\n",
              "          docLink.innerHTML = docLinkHtml;\n",
              "          element.appendChild(docLink);\n",
              "        }\n",
              "      </script>\n",
              "    </div>\n",
              "  </div>\n",
              "  "
            ]
          },
          "metadata": {},
          "execution_count": 21
        }
      ]
    },
    {
      "cell_type": "code",
      "source": [
        "df.shape"
      ],
      "metadata": {
        "colab": {
          "base_uri": "https://localhost:8080/"
        },
        "id": "QlItVhMEuiZ7",
        "outputId": "5b67a23e-fb8d-4b16-e6b3-c2bd050d1c8f"
      },
      "execution_count": null,
      "outputs": [
        {
          "output_type": "execute_result",
          "data": {
            "text/plain": [
              "(23426, 6)"
            ]
          },
          "metadata": {},
          "execution_count": 22
        }
      ]
    },
    {
      "cell_type": "code",
      "source": [
        "df['FACIES'].value_counts()"
      ],
      "metadata": {
        "colab": {
          "base_uri": "https://localhost:8080/"
        },
        "id": "xcMe2kxZu-GQ",
        "outputId": "5f40c66b-35b2-4c64-ceca-805dc026f5e2"
      },
      "execution_count": null,
      "outputs": [
        {
          "output_type": "execute_result",
          "data": {
            "text/plain": [
              "85.0    19756\n",
              "82.0     1670\n",
              "87.0     1580\n",
              "81.0      420\n",
              "Name: FACIES, dtype: int64"
            ]
          },
          "metadata": {},
          "execution_count": 23
        }
      ]
    },
    {
      "cell_type": "code",
      "source": [
        "df.dtypes"
      ],
      "metadata": {
        "colab": {
          "base_uri": "https://localhost:8080/"
        },
        "id": "cZkN8DAYvBGs",
        "outputId": "7a4383f9-f84c-41c2-a469-e810cdea3511"
      },
      "execution_count": null,
      "outputs": [
        {
          "output_type": "execute_result",
          "data": {
            "text/plain": [
              "PROF      float64\n",
              "VP        float64\n",
              "FACIES    float64\n",
              "VS        float64\n",
              "GR        float64\n",
              "POCO       object\n",
              "dtype: object"
            ]
          },
          "metadata": {},
          "execution_count": 24
        }
      ]
    },
    {
      "cell_type": "code",
      "source": [
        "le = LabelEncoder()\n",
        "\n",
        "df['POCO'] = le.fit_transform(df['POCO'])\n",
        "df"
      ],
      "metadata": {
        "colab": {
          "base_uri": "https://localhost:8080/",
          "height": 423
        },
        "id": "yohocUP_vS8Q",
        "outputId": "d29d06d8-c79b-4cb2-fee3-23a86251879d"
      },
      "execution_count": null,
      "outputs": [
        {
          "output_type": "execute_result",
          "data": {
            "text/plain": [
              "            PROF           VP  FACIES           VS         GR  POCO\n",
              "0      3103.0164  4392.102539    85.0  2491.250244  16.139494     0\n",
              "1      3103.1688  4368.245117    85.0  2502.714111  16.530527     0\n",
              "2      3103.3212  4354.002930    85.0  2517.204346  16.491985     0\n",
              "3      3103.4736  4349.213867    85.0  2529.218994  16.053066     0\n",
              "4      3103.6260  4354.245606    85.0  2535.076172  15.923628     0\n",
              "...          ...          ...     ...          ...        ...   ...\n",
              "23421  4845.2532  5594.003906    82.0  3157.704346  14.272353     1\n",
              "23422  4845.4056  5594.003906    82.0  3157.704346  17.985367     1\n",
              "23423  4845.5580  5594.003906    82.0  3157.704346  23.278063     1\n",
              "23424  4845.7104  5594.003906    82.0  3157.704346  27.874161     1\n",
              "23425  4845.8628  5548.511231    82.0  3157.704346  22.994799     1\n",
              "\n",
              "[23426 rows x 6 columns]"
            ],
            "text/html": [
              "\n",
              "  <div id=\"df-47be3dda-e705-4989-9913-51538f8326d9\">\n",
              "    <div class=\"colab-df-container\">\n",
              "      <div>\n",
              "<style scoped>\n",
              "    .dataframe tbody tr th:only-of-type {\n",
              "        vertical-align: middle;\n",
              "    }\n",
              "\n",
              "    .dataframe tbody tr th {\n",
              "        vertical-align: top;\n",
              "    }\n",
              "\n",
              "    .dataframe thead th {\n",
              "        text-align: right;\n",
              "    }\n",
              "</style>\n",
              "<table border=\"1\" class=\"dataframe\">\n",
              "  <thead>\n",
              "    <tr style=\"text-align: right;\">\n",
              "      <th></th>\n",
              "      <th>PROF</th>\n",
              "      <th>VP</th>\n",
              "      <th>FACIES</th>\n",
              "      <th>VS</th>\n",
              "      <th>GR</th>\n",
              "      <th>POCO</th>\n",
              "    </tr>\n",
              "  </thead>\n",
              "  <tbody>\n",
              "    <tr>\n",
              "      <th>0</th>\n",
              "      <td>3103.0164</td>\n",
              "      <td>4392.102539</td>\n",
              "      <td>85.0</td>\n",
              "      <td>2491.250244</td>\n",
              "      <td>16.139494</td>\n",
              "      <td>0</td>\n",
              "    </tr>\n",
              "    <tr>\n",
              "      <th>1</th>\n",
              "      <td>3103.1688</td>\n",
              "      <td>4368.245117</td>\n",
              "      <td>85.0</td>\n",
              "      <td>2502.714111</td>\n",
              "      <td>16.530527</td>\n",
              "      <td>0</td>\n",
              "    </tr>\n",
              "    <tr>\n",
              "      <th>2</th>\n",
              "      <td>3103.3212</td>\n",
              "      <td>4354.002930</td>\n",
              "      <td>85.0</td>\n",
              "      <td>2517.204346</td>\n",
              "      <td>16.491985</td>\n",
              "      <td>0</td>\n",
              "    </tr>\n",
              "    <tr>\n",
              "      <th>3</th>\n",
              "      <td>3103.4736</td>\n",
              "      <td>4349.213867</td>\n",
              "      <td>85.0</td>\n",
              "      <td>2529.218994</td>\n",
              "      <td>16.053066</td>\n",
              "      <td>0</td>\n",
              "    </tr>\n",
              "    <tr>\n",
              "      <th>4</th>\n",
              "      <td>3103.6260</td>\n",
              "      <td>4354.245606</td>\n",
              "      <td>85.0</td>\n",
              "      <td>2535.076172</td>\n",
              "      <td>15.923628</td>\n",
              "      <td>0</td>\n",
              "    </tr>\n",
              "    <tr>\n",
              "      <th>...</th>\n",
              "      <td>...</td>\n",
              "      <td>...</td>\n",
              "      <td>...</td>\n",
              "      <td>...</td>\n",
              "      <td>...</td>\n",
              "      <td>...</td>\n",
              "    </tr>\n",
              "    <tr>\n",
              "      <th>23421</th>\n",
              "      <td>4845.2532</td>\n",
              "      <td>5594.003906</td>\n",
              "      <td>82.0</td>\n",
              "      <td>3157.704346</td>\n",
              "      <td>14.272353</td>\n",
              "      <td>1</td>\n",
              "    </tr>\n",
              "    <tr>\n",
              "      <th>23422</th>\n",
              "      <td>4845.4056</td>\n",
              "      <td>5594.003906</td>\n",
              "      <td>82.0</td>\n",
              "      <td>3157.704346</td>\n",
              "      <td>17.985367</td>\n",
              "      <td>1</td>\n",
              "    </tr>\n",
              "    <tr>\n",
              "      <th>23423</th>\n",
              "      <td>4845.5580</td>\n",
              "      <td>5594.003906</td>\n",
              "      <td>82.0</td>\n",
              "      <td>3157.704346</td>\n",
              "      <td>23.278063</td>\n",
              "      <td>1</td>\n",
              "    </tr>\n",
              "    <tr>\n",
              "      <th>23424</th>\n",
              "      <td>4845.7104</td>\n",
              "      <td>5594.003906</td>\n",
              "      <td>82.0</td>\n",
              "      <td>3157.704346</td>\n",
              "      <td>27.874161</td>\n",
              "      <td>1</td>\n",
              "    </tr>\n",
              "    <tr>\n",
              "      <th>23425</th>\n",
              "      <td>4845.8628</td>\n",
              "      <td>5548.511231</td>\n",
              "      <td>82.0</td>\n",
              "      <td>3157.704346</td>\n",
              "      <td>22.994799</td>\n",
              "      <td>1</td>\n",
              "    </tr>\n",
              "  </tbody>\n",
              "</table>\n",
              "<p>23426 rows × 6 columns</p>\n",
              "</div>\n",
              "      <button class=\"colab-df-convert\" onclick=\"convertToInteractive('df-47be3dda-e705-4989-9913-51538f8326d9')\"\n",
              "              title=\"Convert this dataframe to an interactive table.\"\n",
              "              style=\"display:none;\">\n",
              "        \n",
              "  <svg xmlns=\"http://www.w3.org/2000/svg\" height=\"24px\"viewBox=\"0 0 24 24\"\n",
              "       width=\"24px\">\n",
              "    <path d=\"M0 0h24v24H0V0z\" fill=\"none\"/>\n",
              "    <path d=\"M18.56 5.44l.94 2.06.94-2.06 2.06-.94-2.06-.94-.94-2.06-.94 2.06-2.06.94zm-11 1L8.5 8.5l.94-2.06 2.06-.94-2.06-.94L8.5 2.5l-.94 2.06-2.06.94zm10 10l.94 2.06.94-2.06 2.06-.94-2.06-.94-.94-2.06-.94 2.06-2.06.94z\"/><path d=\"M17.41 7.96l-1.37-1.37c-.4-.4-.92-.59-1.43-.59-.52 0-1.04.2-1.43.59L10.3 9.45l-7.72 7.72c-.78.78-.78 2.05 0 2.83L4 21.41c.39.39.9.59 1.41.59.51 0 1.02-.2 1.41-.59l7.78-7.78 2.81-2.81c.8-.78.8-2.07 0-2.86zM5.41 20L4 18.59l7.72-7.72 1.47 1.35L5.41 20z\"/>\n",
              "  </svg>\n",
              "      </button>\n",
              "      \n",
              "  <style>\n",
              "    .colab-df-container {\n",
              "      display:flex;\n",
              "      flex-wrap:wrap;\n",
              "      gap: 12px;\n",
              "    }\n",
              "\n",
              "    .colab-df-convert {\n",
              "      background-color: #E8F0FE;\n",
              "      border: none;\n",
              "      border-radius: 50%;\n",
              "      cursor: pointer;\n",
              "      display: none;\n",
              "      fill: #1967D2;\n",
              "      height: 32px;\n",
              "      padding: 0 0 0 0;\n",
              "      width: 32px;\n",
              "    }\n",
              "\n",
              "    .colab-df-convert:hover {\n",
              "      background-color: #E2EBFA;\n",
              "      box-shadow: 0px 1px 2px rgba(60, 64, 67, 0.3), 0px 1px 3px 1px rgba(60, 64, 67, 0.15);\n",
              "      fill: #174EA6;\n",
              "    }\n",
              "\n",
              "    [theme=dark] .colab-df-convert {\n",
              "      background-color: #3B4455;\n",
              "      fill: #D2E3FC;\n",
              "    }\n",
              "\n",
              "    [theme=dark] .colab-df-convert:hover {\n",
              "      background-color: #434B5C;\n",
              "      box-shadow: 0px 1px 3px 1px rgba(0, 0, 0, 0.15);\n",
              "      filter: drop-shadow(0px 1px 2px rgba(0, 0, 0, 0.3));\n",
              "      fill: #FFFFFF;\n",
              "    }\n",
              "  </style>\n",
              "\n",
              "      <script>\n",
              "        const buttonEl =\n",
              "          document.querySelector('#df-47be3dda-e705-4989-9913-51538f8326d9 button.colab-df-convert');\n",
              "        buttonEl.style.display =\n",
              "          google.colab.kernel.accessAllowed ? 'block' : 'none';\n",
              "\n",
              "        async function convertToInteractive(key) {\n",
              "          const element = document.querySelector('#df-47be3dda-e705-4989-9913-51538f8326d9');\n",
              "          const dataTable =\n",
              "            await google.colab.kernel.invokeFunction('convertToInteractive',\n",
              "                                                     [key], {});\n",
              "          if (!dataTable) return;\n",
              "\n",
              "          const docLinkHtml = 'Like what you see? Visit the ' +\n",
              "            '<a target=\"_blank\" href=https://colab.research.google.com/notebooks/data_table.ipynb>data table notebook</a>'\n",
              "            + ' to learn more about interactive tables.';\n",
              "          element.innerHTML = '';\n",
              "          dataTable['output_type'] = 'display_data';\n",
              "          await google.colab.output.renderOutput(dataTable, element);\n",
              "          const docLink = document.createElement('div');\n",
              "          docLink.innerHTML = docLinkHtml;\n",
              "          element.appendChild(docLink);\n",
              "        }\n",
              "      </script>\n",
              "    </div>\n",
              "  </div>\n",
              "  "
            ]
          },
          "metadata": {},
          "execution_count": 25
        }
      ]
    },
    {
      "cell_type": "code",
      "source": [
        "target = df.pop(\"FACIES\")\n",
        "\n",
        "df = pd.concat([df, target], axis=1)\n",
        "\n",
        "df.head()"
      ],
      "metadata": {
        "colab": {
          "base_uri": "https://localhost:8080/",
          "height": 206
        },
        "id": "7u0BX9XVvW5c",
        "outputId": "eadb2857-582c-4123-bb9b-bb8fc114c841"
      },
      "execution_count": null,
      "outputs": [
        {
          "output_type": "execute_result",
          "data": {
            "text/plain": [
              "        PROF           VP           VS         GR  POCO  FACIES\n",
              "0  3103.0164  4392.102539  2491.250244  16.139494     0    85.0\n",
              "1  3103.1688  4368.245117  2502.714111  16.530527     0    85.0\n",
              "2  3103.3212  4354.002930  2517.204346  16.491985     0    85.0\n",
              "3  3103.4736  4349.213867  2529.218994  16.053066     0    85.0\n",
              "4  3103.6260  4354.245606  2535.076172  15.923628     0    85.0"
            ],
            "text/html": [
              "\n",
              "  <div id=\"df-70b485b6-a4ea-4cda-a6a4-c8eef8042132\">\n",
              "    <div class=\"colab-df-container\">\n",
              "      <div>\n",
              "<style scoped>\n",
              "    .dataframe tbody tr th:only-of-type {\n",
              "        vertical-align: middle;\n",
              "    }\n",
              "\n",
              "    .dataframe tbody tr th {\n",
              "        vertical-align: top;\n",
              "    }\n",
              "\n",
              "    .dataframe thead th {\n",
              "        text-align: right;\n",
              "    }\n",
              "</style>\n",
              "<table border=\"1\" class=\"dataframe\">\n",
              "  <thead>\n",
              "    <tr style=\"text-align: right;\">\n",
              "      <th></th>\n",
              "      <th>PROF</th>\n",
              "      <th>VP</th>\n",
              "      <th>VS</th>\n",
              "      <th>GR</th>\n",
              "      <th>POCO</th>\n",
              "      <th>FACIES</th>\n",
              "    </tr>\n",
              "  </thead>\n",
              "  <tbody>\n",
              "    <tr>\n",
              "      <th>0</th>\n",
              "      <td>3103.0164</td>\n",
              "      <td>4392.102539</td>\n",
              "      <td>2491.250244</td>\n",
              "      <td>16.139494</td>\n",
              "      <td>0</td>\n",
              "      <td>85.0</td>\n",
              "    </tr>\n",
              "    <tr>\n",
              "      <th>1</th>\n",
              "      <td>3103.1688</td>\n",
              "      <td>4368.245117</td>\n",
              "      <td>2502.714111</td>\n",
              "      <td>16.530527</td>\n",
              "      <td>0</td>\n",
              "      <td>85.0</td>\n",
              "    </tr>\n",
              "    <tr>\n",
              "      <th>2</th>\n",
              "      <td>3103.3212</td>\n",
              "      <td>4354.002930</td>\n",
              "      <td>2517.204346</td>\n",
              "      <td>16.491985</td>\n",
              "      <td>0</td>\n",
              "      <td>85.0</td>\n",
              "    </tr>\n",
              "    <tr>\n",
              "      <th>3</th>\n",
              "      <td>3103.4736</td>\n",
              "      <td>4349.213867</td>\n",
              "      <td>2529.218994</td>\n",
              "      <td>16.053066</td>\n",
              "      <td>0</td>\n",
              "      <td>85.0</td>\n",
              "    </tr>\n",
              "    <tr>\n",
              "      <th>4</th>\n",
              "      <td>3103.6260</td>\n",
              "      <td>4354.245606</td>\n",
              "      <td>2535.076172</td>\n",
              "      <td>15.923628</td>\n",
              "      <td>0</td>\n",
              "      <td>85.0</td>\n",
              "    </tr>\n",
              "  </tbody>\n",
              "</table>\n",
              "</div>\n",
              "      <button class=\"colab-df-convert\" onclick=\"convertToInteractive('df-70b485b6-a4ea-4cda-a6a4-c8eef8042132')\"\n",
              "              title=\"Convert this dataframe to an interactive table.\"\n",
              "              style=\"display:none;\">\n",
              "        \n",
              "  <svg xmlns=\"http://www.w3.org/2000/svg\" height=\"24px\"viewBox=\"0 0 24 24\"\n",
              "       width=\"24px\">\n",
              "    <path d=\"M0 0h24v24H0V0z\" fill=\"none\"/>\n",
              "    <path d=\"M18.56 5.44l.94 2.06.94-2.06 2.06-.94-2.06-.94-.94-2.06-.94 2.06-2.06.94zm-11 1L8.5 8.5l.94-2.06 2.06-.94-2.06-.94L8.5 2.5l-.94 2.06-2.06.94zm10 10l.94 2.06.94-2.06 2.06-.94-2.06-.94-.94-2.06-.94 2.06-2.06.94z\"/><path d=\"M17.41 7.96l-1.37-1.37c-.4-.4-.92-.59-1.43-.59-.52 0-1.04.2-1.43.59L10.3 9.45l-7.72 7.72c-.78.78-.78 2.05 0 2.83L4 21.41c.39.39.9.59 1.41.59.51 0 1.02-.2 1.41-.59l7.78-7.78 2.81-2.81c.8-.78.8-2.07 0-2.86zM5.41 20L4 18.59l7.72-7.72 1.47 1.35L5.41 20z\"/>\n",
              "  </svg>\n",
              "      </button>\n",
              "      \n",
              "  <style>\n",
              "    .colab-df-container {\n",
              "      display:flex;\n",
              "      flex-wrap:wrap;\n",
              "      gap: 12px;\n",
              "    }\n",
              "\n",
              "    .colab-df-convert {\n",
              "      background-color: #E8F0FE;\n",
              "      border: none;\n",
              "      border-radius: 50%;\n",
              "      cursor: pointer;\n",
              "      display: none;\n",
              "      fill: #1967D2;\n",
              "      height: 32px;\n",
              "      padding: 0 0 0 0;\n",
              "      width: 32px;\n",
              "    }\n",
              "\n",
              "    .colab-df-convert:hover {\n",
              "      background-color: #E2EBFA;\n",
              "      box-shadow: 0px 1px 2px rgba(60, 64, 67, 0.3), 0px 1px 3px 1px rgba(60, 64, 67, 0.15);\n",
              "      fill: #174EA6;\n",
              "    }\n",
              "\n",
              "    [theme=dark] .colab-df-convert {\n",
              "      background-color: #3B4455;\n",
              "      fill: #D2E3FC;\n",
              "    }\n",
              "\n",
              "    [theme=dark] .colab-df-convert:hover {\n",
              "      background-color: #434B5C;\n",
              "      box-shadow: 0px 1px 3px 1px rgba(0, 0, 0, 0.15);\n",
              "      filter: drop-shadow(0px 1px 2px rgba(0, 0, 0, 0.3));\n",
              "      fill: #FFFFFF;\n",
              "    }\n",
              "  </style>\n",
              "\n",
              "      <script>\n",
              "        const buttonEl =\n",
              "          document.querySelector('#df-70b485b6-a4ea-4cda-a6a4-c8eef8042132 button.colab-df-convert');\n",
              "        buttonEl.style.display =\n",
              "          google.colab.kernel.accessAllowed ? 'block' : 'none';\n",
              "\n",
              "        async function convertToInteractive(key) {\n",
              "          const element = document.querySelector('#df-70b485b6-a4ea-4cda-a6a4-c8eef8042132');\n",
              "          const dataTable =\n",
              "            await google.colab.kernel.invokeFunction('convertToInteractive',\n",
              "                                                     [key], {});\n",
              "          if (!dataTable) return;\n",
              "\n",
              "          const docLinkHtml = 'Like what you see? Visit the ' +\n",
              "            '<a target=\"_blank\" href=https://colab.research.google.com/notebooks/data_table.ipynb>data table notebook</a>'\n",
              "            + ' to learn more about interactive tables.';\n",
              "          element.innerHTML = '';\n",
              "          dataTable['output_type'] = 'display_data';\n",
              "          await google.colab.output.renderOutput(dataTable, element);\n",
              "          const docLink = document.createElement('div');\n",
              "          docLink.innerHTML = docLinkHtml;\n",
              "          element.appendChild(docLink);\n",
              "        }\n",
              "      </script>\n",
              "    </div>\n",
              "  </div>\n",
              "  "
            ]
          },
          "metadata": {},
          "execution_count": 26
        }
      ]
    },
    {
      "cell_type": "code",
      "source": [
        "target.shape"
      ],
      "metadata": {
        "colab": {
          "base_uri": "https://localhost:8080/"
        },
        "id": "dfg14xCqvpvx",
        "outputId": "84bc384d-f02a-4158-c56a-7c806b65ba6f"
      },
      "execution_count": null,
      "outputs": [
        {
          "output_type": "execute_result",
          "data": {
            "text/plain": [
              "(23426,)"
            ]
          },
          "metadata": {},
          "execution_count": 29
        }
      ]
    },
    {
      "cell_type": "code",
      "source": [],
      "metadata": {
        "id": "btqSK0ewwtvb"
      },
      "execution_count": null,
      "outputs": []
    },
    {
      "cell_type": "code",
      "source": [
        "df"
      ],
      "metadata": {
        "colab": {
          "base_uri": "https://localhost:8080/",
          "height": 423
        },
        "id": "5JdHXlAxwty4",
        "outputId": "a0bd0a42-6209-4cc5-8c03-cdddaf0931af"
      },
      "execution_count": null,
      "outputs": [
        {
          "output_type": "execute_result",
          "data": {
            "text/plain": [
              "            PROF           VP           VS         GR  POCO  FACIES\n",
              "0      3103.0164  4392.102539  2491.250244  16.139494     0    85.0\n",
              "1      3103.1688  4368.245117  2502.714111  16.530527     0    85.0\n",
              "2      3103.3212  4354.002930  2517.204346  16.491985     0    85.0\n",
              "3      3103.4736  4349.213867  2529.218994  16.053066     0    85.0\n",
              "4      3103.6260  4354.245606  2535.076172  15.923628     0    85.0\n",
              "...          ...          ...          ...        ...   ...     ...\n",
              "23421  4845.2532  5594.003906  3157.704346  14.272353     1    82.0\n",
              "23422  4845.4056  5594.003906  3157.704346  17.985367     1    82.0\n",
              "23423  4845.5580  5594.003906  3157.704346  23.278063     1    82.0\n",
              "23424  4845.7104  5594.003906  3157.704346  27.874161     1    82.0\n",
              "23425  4845.8628  5548.511231  3157.704346  22.994799     1    82.0\n",
              "\n",
              "[23426 rows x 6 columns]"
            ],
            "text/html": [
              "\n",
              "  <div id=\"df-238182af-3e19-4002-a208-c89cd74fb0dc\">\n",
              "    <div class=\"colab-df-container\">\n",
              "      <div>\n",
              "<style scoped>\n",
              "    .dataframe tbody tr th:only-of-type {\n",
              "        vertical-align: middle;\n",
              "    }\n",
              "\n",
              "    .dataframe tbody tr th {\n",
              "        vertical-align: top;\n",
              "    }\n",
              "\n",
              "    .dataframe thead th {\n",
              "        text-align: right;\n",
              "    }\n",
              "</style>\n",
              "<table border=\"1\" class=\"dataframe\">\n",
              "  <thead>\n",
              "    <tr style=\"text-align: right;\">\n",
              "      <th></th>\n",
              "      <th>PROF</th>\n",
              "      <th>VP</th>\n",
              "      <th>VS</th>\n",
              "      <th>GR</th>\n",
              "      <th>POCO</th>\n",
              "      <th>FACIES</th>\n",
              "    </tr>\n",
              "  </thead>\n",
              "  <tbody>\n",
              "    <tr>\n",
              "      <th>0</th>\n",
              "      <td>3103.0164</td>\n",
              "      <td>4392.102539</td>\n",
              "      <td>2491.250244</td>\n",
              "      <td>16.139494</td>\n",
              "      <td>0</td>\n",
              "      <td>85.0</td>\n",
              "    </tr>\n",
              "    <tr>\n",
              "      <th>1</th>\n",
              "      <td>3103.1688</td>\n",
              "      <td>4368.245117</td>\n",
              "      <td>2502.714111</td>\n",
              "      <td>16.530527</td>\n",
              "      <td>0</td>\n",
              "      <td>85.0</td>\n",
              "    </tr>\n",
              "    <tr>\n",
              "      <th>2</th>\n",
              "      <td>3103.3212</td>\n",
              "      <td>4354.002930</td>\n",
              "      <td>2517.204346</td>\n",
              "      <td>16.491985</td>\n",
              "      <td>0</td>\n",
              "      <td>85.0</td>\n",
              "    </tr>\n",
              "    <tr>\n",
              "      <th>3</th>\n",
              "      <td>3103.4736</td>\n",
              "      <td>4349.213867</td>\n",
              "      <td>2529.218994</td>\n",
              "      <td>16.053066</td>\n",
              "      <td>0</td>\n",
              "      <td>85.0</td>\n",
              "    </tr>\n",
              "    <tr>\n",
              "      <th>4</th>\n",
              "      <td>3103.6260</td>\n",
              "      <td>4354.245606</td>\n",
              "      <td>2535.076172</td>\n",
              "      <td>15.923628</td>\n",
              "      <td>0</td>\n",
              "      <td>85.0</td>\n",
              "    </tr>\n",
              "    <tr>\n",
              "      <th>...</th>\n",
              "      <td>...</td>\n",
              "      <td>...</td>\n",
              "      <td>...</td>\n",
              "      <td>...</td>\n",
              "      <td>...</td>\n",
              "      <td>...</td>\n",
              "    </tr>\n",
              "    <tr>\n",
              "      <th>23421</th>\n",
              "      <td>4845.2532</td>\n",
              "      <td>5594.003906</td>\n",
              "      <td>3157.704346</td>\n",
              "      <td>14.272353</td>\n",
              "      <td>1</td>\n",
              "      <td>82.0</td>\n",
              "    </tr>\n",
              "    <tr>\n",
              "      <th>23422</th>\n",
              "      <td>4845.4056</td>\n",
              "      <td>5594.003906</td>\n",
              "      <td>3157.704346</td>\n",
              "      <td>17.985367</td>\n",
              "      <td>1</td>\n",
              "      <td>82.0</td>\n",
              "    </tr>\n",
              "    <tr>\n",
              "      <th>23423</th>\n",
              "      <td>4845.5580</td>\n",
              "      <td>5594.003906</td>\n",
              "      <td>3157.704346</td>\n",
              "      <td>23.278063</td>\n",
              "      <td>1</td>\n",
              "      <td>82.0</td>\n",
              "    </tr>\n",
              "    <tr>\n",
              "      <th>23424</th>\n",
              "      <td>4845.7104</td>\n",
              "      <td>5594.003906</td>\n",
              "      <td>3157.704346</td>\n",
              "      <td>27.874161</td>\n",
              "      <td>1</td>\n",
              "      <td>82.0</td>\n",
              "    </tr>\n",
              "    <tr>\n",
              "      <th>23425</th>\n",
              "      <td>4845.8628</td>\n",
              "      <td>5548.511231</td>\n",
              "      <td>3157.704346</td>\n",
              "      <td>22.994799</td>\n",
              "      <td>1</td>\n",
              "      <td>82.0</td>\n",
              "    </tr>\n",
              "  </tbody>\n",
              "</table>\n",
              "<p>23426 rows × 6 columns</p>\n",
              "</div>\n",
              "      <button class=\"colab-df-convert\" onclick=\"convertToInteractive('df-238182af-3e19-4002-a208-c89cd74fb0dc')\"\n",
              "              title=\"Convert this dataframe to an interactive table.\"\n",
              "              style=\"display:none;\">\n",
              "        \n",
              "  <svg xmlns=\"http://www.w3.org/2000/svg\" height=\"24px\"viewBox=\"0 0 24 24\"\n",
              "       width=\"24px\">\n",
              "    <path d=\"M0 0h24v24H0V0z\" fill=\"none\"/>\n",
              "    <path d=\"M18.56 5.44l.94 2.06.94-2.06 2.06-.94-2.06-.94-.94-2.06-.94 2.06-2.06.94zm-11 1L8.5 8.5l.94-2.06 2.06-.94-2.06-.94L8.5 2.5l-.94 2.06-2.06.94zm10 10l.94 2.06.94-2.06 2.06-.94-2.06-.94-.94-2.06-.94 2.06-2.06.94z\"/><path d=\"M17.41 7.96l-1.37-1.37c-.4-.4-.92-.59-1.43-.59-.52 0-1.04.2-1.43.59L10.3 9.45l-7.72 7.72c-.78.78-.78 2.05 0 2.83L4 21.41c.39.39.9.59 1.41.59.51 0 1.02-.2 1.41-.59l7.78-7.78 2.81-2.81c.8-.78.8-2.07 0-2.86zM5.41 20L4 18.59l7.72-7.72 1.47 1.35L5.41 20z\"/>\n",
              "  </svg>\n",
              "      </button>\n",
              "      \n",
              "  <style>\n",
              "    .colab-df-container {\n",
              "      display:flex;\n",
              "      flex-wrap:wrap;\n",
              "      gap: 12px;\n",
              "    }\n",
              "\n",
              "    .colab-df-convert {\n",
              "      background-color: #E8F0FE;\n",
              "      border: none;\n",
              "      border-radius: 50%;\n",
              "      cursor: pointer;\n",
              "      display: none;\n",
              "      fill: #1967D2;\n",
              "      height: 32px;\n",
              "      padding: 0 0 0 0;\n",
              "      width: 32px;\n",
              "    }\n",
              "\n",
              "    .colab-df-convert:hover {\n",
              "      background-color: #E2EBFA;\n",
              "      box-shadow: 0px 1px 2px rgba(60, 64, 67, 0.3), 0px 1px 3px 1px rgba(60, 64, 67, 0.15);\n",
              "      fill: #174EA6;\n",
              "    }\n",
              "\n",
              "    [theme=dark] .colab-df-convert {\n",
              "      background-color: #3B4455;\n",
              "      fill: #D2E3FC;\n",
              "    }\n",
              "\n",
              "    [theme=dark] .colab-df-convert:hover {\n",
              "      background-color: #434B5C;\n",
              "      box-shadow: 0px 1px 3px 1px rgba(0, 0, 0, 0.15);\n",
              "      filter: drop-shadow(0px 1px 2px rgba(0, 0, 0, 0.3));\n",
              "      fill: #FFFFFF;\n",
              "    }\n",
              "  </style>\n",
              "\n",
              "      <script>\n",
              "        const buttonEl =\n",
              "          document.querySelector('#df-238182af-3e19-4002-a208-c89cd74fb0dc button.colab-df-convert');\n",
              "        buttonEl.style.display =\n",
              "          google.colab.kernel.accessAllowed ? 'block' : 'none';\n",
              "\n",
              "        async function convertToInteractive(key) {\n",
              "          const element = document.querySelector('#df-238182af-3e19-4002-a208-c89cd74fb0dc');\n",
              "          const dataTable =\n",
              "            await google.colab.kernel.invokeFunction('convertToInteractive',\n",
              "                                                     [key], {});\n",
              "          if (!dataTable) return;\n",
              "\n",
              "          const docLinkHtml = 'Like what you see? Visit the ' +\n",
              "            '<a target=\"_blank\" href=https://colab.research.google.com/notebooks/data_table.ipynb>data table notebook</a>'\n",
              "            + ' to learn more about interactive tables.';\n",
              "          element.innerHTML = '';\n",
              "          dataTable['output_type'] = 'display_data';\n",
              "          await google.colab.output.renderOutput(dataTable, element);\n",
              "          const docLink = document.createElement('div');\n",
              "          docLink.innerHTML = docLinkHtml;\n",
              "          element.appendChild(docLink);\n",
              "        }\n",
              "      </script>\n",
              "    </div>\n",
              "  </div>\n",
              "  "
            ]
          },
          "metadata": {},
          "execution_count": 34
        }
      ]
    },
    {
      "cell_type": "markdown",
      "source": [
        "## **ATRIBUTOS PREVISORES E ALVO**"
      ],
      "metadata": {
        "id": "ZYn4idtwv1bg"
      }
    },
    {
      "cell_type": "code",
      "source": [
        "previsores = np.c_[df.iloc[:, 1].values, df.iloc[:, 2:4].values]"
      ],
      "metadata": {
        "id": "jfLpnLg-v5Wu"
      },
      "execution_count": null,
      "outputs": []
    },
    {
      "cell_type": "code",
      "source": [
        "previsores"
      ],
      "metadata": {
        "colab": {
          "base_uri": "https://localhost:8080/"
        },
        "id": "ZYzlloX-wy6a",
        "outputId": "a81eb0b6-7105-49d3-8180-09d7c275e699"
      },
      "execution_count": null,
      "outputs": [
        {
          "output_type": "execute_result",
          "data": {
            "text/plain": [
              "array([[4392.1025391 , 2491.2502441 ,   16.13949394],\n",
              "       [4368.2451172 , 2502.7141113 ,   16.53052712],\n",
              "       [4354.0029297 , 2517.2043457 ,   16.49198532],\n",
              "       ...,\n",
              "       [5594.0039063 , 3157.7043457 ,   23.27806282],\n",
              "       [5594.0039063 , 3157.7043457 ,   27.87416077],\n",
              "       [5548.5112305 , 3157.7043457 ,   22.99479866]])"
            ]
          },
          "metadata": {},
          "execution_count": 46
        }
      ]
    },
    {
      "cell_type": "code",
      "source": [
        "previsores.shape"
      ],
      "metadata": {
        "colab": {
          "base_uri": "https://localhost:8080/"
        },
        "id": "gkl73ziww1QI",
        "outputId": "64477c8b-8768-4e5b-f6a1-e6c659fb3c0a"
      },
      "execution_count": null,
      "outputs": [
        {
          "output_type": "execute_result",
          "data": {
            "text/plain": [
              "(23426, 3)"
            ]
          },
          "metadata": {},
          "execution_count": 47
        }
      ]
    },
    {
      "cell_type": "code",
      "source": [
        "alvo = df.iloc[:, -1].values"
      ],
      "metadata": {
        "id": "VU0RQ_usyr5N"
      },
      "execution_count": null,
      "outputs": []
    },
    {
      "cell_type": "code",
      "source": [
        "alvo"
      ],
      "metadata": {
        "colab": {
          "base_uri": "https://localhost:8080/"
        },
        "id": "6gL-zJrTyuyR",
        "outputId": "b237da27-8e7b-47fb-b384-c7210ea5fbdb"
      },
      "execution_count": null,
      "outputs": [
        {
          "output_type": "execute_result",
          "data": {
            "text/plain": [
              "array([85., 85., 85., ..., 82., 82., 82.])"
            ]
          },
          "metadata": {},
          "execution_count": 50
        }
      ]
    },
    {
      "cell_type": "code",
      "source": [
        "alvo.shape"
      ],
      "metadata": {
        "colab": {
          "base_uri": "https://localhost:8080/"
        },
        "id": "8SAlLtbDyxRU",
        "outputId": "28652b2f-28d9-4a63-92bd-fbe9e9e3f86c"
      },
      "execution_count": null,
      "outputs": [
        {
          "output_type": "execute_result",
          "data": {
            "text/plain": [
              "(23426,)"
            ]
          },
          "metadata": {},
          "execution_count": 51
        }
      ]
    },
    {
      "cell_type": "markdown",
      "source": [
        "## **Análise das escalas dos atributos (Escalonamento)**"
      ],
      "metadata": {
        "id": "0G356wdZy1Y9"
      }
    },
    {
      "cell_type": "code",
      "source": [
        "df.describe()"
      ],
      "metadata": {
        "colab": {
          "base_uri": "https://localhost:8080/",
          "height": 300
        },
        "id": "ZthZMgpqy3Ai",
        "outputId": "2fdc4362-9ba1-46d7-f475-7e6c1fd18cce"
      },
      "execution_count": null,
      "outputs": [
        {
          "output_type": "execute_result",
          "data": {
            "text/plain": [
              "               PROF            VP            VS            GR          POCO  \\\n",
              "count  23426.000000  23426.000000  23426.000000  23426.000000  23426.000000   \n",
              "mean    3986.543137   4539.864054   2520.558822     15.685612      0.492700   \n",
              "std      516.587381    305.610356    184.192511     19.466806      0.499957   \n",
              "min     3083.814000   3025.522217   1467.370239      1.124120      0.000000   \n",
              "25%     3539.642400   4493.961792   2517.390381      8.619925      0.000000   \n",
              "50%     3985.869600   4525.891602   2544.662720     11.447866      0.000000   \n",
              "75%     4432.096800   4550.856934   2569.796631     13.016943      1.000000   \n",
              "max     4948.885200   6025.330566   3157.704346    245.754974      1.000000   \n",
              "\n",
              "             FACIES  \n",
              "count  23426.000000  \n",
              "mean      84.849313  \n",
              "std        1.084244  \n",
              "min       81.000000  \n",
              "25%       85.000000  \n",
              "50%       85.000000  \n",
              "75%       85.000000  \n",
              "max       87.000000  "
            ],
            "text/html": [
              "\n",
              "  <div id=\"df-3988d871-35de-44c5-8f5e-d270bd6e2ca3\">\n",
              "    <div class=\"colab-df-container\">\n",
              "      <div>\n",
              "<style scoped>\n",
              "    .dataframe tbody tr th:only-of-type {\n",
              "        vertical-align: middle;\n",
              "    }\n",
              "\n",
              "    .dataframe tbody tr th {\n",
              "        vertical-align: top;\n",
              "    }\n",
              "\n",
              "    .dataframe thead th {\n",
              "        text-align: right;\n",
              "    }\n",
              "</style>\n",
              "<table border=\"1\" class=\"dataframe\">\n",
              "  <thead>\n",
              "    <tr style=\"text-align: right;\">\n",
              "      <th></th>\n",
              "      <th>PROF</th>\n",
              "      <th>VP</th>\n",
              "      <th>VS</th>\n",
              "      <th>GR</th>\n",
              "      <th>POCO</th>\n",
              "      <th>FACIES</th>\n",
              "    </tr>\n",
              "  </thead>\n",
              "  <tbody>\n",
              "    <tr>\n",
              "      <th>count</th>\n",
              "      <td>23426.000000</td>\n",
              "      <td>23426.000000</td>\n",
              "      <td>23426.000000</td>\n",
              "      <td>23426.000000</td>\n",
              "      <td>23426.000000</td>\n",
              "      <td>23426.000000</td>\n",
              "    </tr>\n",
              "    <tr>\n",
              "      <th>mean</th>\n",
              "      <td>3986.543137</td>\n",
              "      <td>4539.864054</td>\n",
              "      <td>2520.558822</td>\n",
              "      <td>15.685612</td>\n",
              "      <td>0.492700</td>\n",
              "      <td>84.849313</td>\n",
              "    </tr>\n",
              "    <tr>\n",
              "      <th>std</th>\n",
              "      <td>516.587381</td>\n",
              "      <td>305.610356</td>\n",
              "      <td>184.192511</td>\n",
              "      <td>19.466806</td>\n",
              "      <td>0.499957</td>\n",
              "      <td>1.084244</td>\n",
              "    </tr>\n",
              "    <tr>\n",
              "      <th>min</th>\n",
              "      <td>3083.814000</td>\n",
              "      <td>3025.522217</td>\n",
              "      <td>1467.370239</td>\n",
              "      <td>1.124120</td>\n",
              "      <td>0.000000</td>\n",
              "      <td>81.000000</td>\n",
              "    </tr>\n",
              "    <tr>\n",
              "      <th>25%</th>\n",
              "      <td>3539.642400</td>\n",
              "      <td>4493.961792</td>\n",
              "      <td>2517.390381</td>\n",
              "      <td>8.619925</td>\n",
              "      <td>0.000000</td>\n",
              "      <td>85.000000</td>\n",
              "    </tr>\n",
              "    <tr>\n",
              "      <th>50%</th>\n",
              "      <td>3985.869600</td>\n",
              "      <td>4525.891602</td>\n",
              "      <td>2544.662720</td>\n",
              "      <td>11.447866</td>\n",
              "      <td>0.000000</td>\n",
              "      <td>85.000000</td>\n",
              "    </tr>\n",
              "    <tr>\n",
              "      <th>75%</th>\n",
              "      <td>4432.096800</td>\n",
              "      <td>4550.856934</td>\n",
              "      <td>2569.796631</td>\n",
              "      <td>13.016943</td>\n",
              "      <td>1.000000</td>\n",
              "      <td>85.000000</td>\n",
              "    </tr>\n",
              "    <tr>\n",
              "      <th>max</th>\n",
              "      <td>4948.885200</td>\n",
              "      <td>6025.330566</td>\n",
              "      <td>3157.704346</td>\n",
              "      <td>245.754974</td>\n",
              "      <td>1.000000</td>\n",
              "      <td>87.000000</td>\n",
              "    </tr>\n",
              "  </tbody>\n",
              "</table>\n",
              "</div>\n",
              "      <button class=\"colab-df-convert\" onclick=\"convertToInteractive('df-3988d871-35de-44c5-8f5e-d270bd6e2ca3')\"\n",
              "              title=\"Convert this dataframe to an interactive table.\"\n",
              "              style=\"display:none;\">\n",
              "        \n",
              "  <svg xmlns=\"http://www.w3.org/2000/svg\" height=\"24px\"viewBox=\"0 0 24 24\"\n",
              "       width=\"24px\">\n",
              "    <path d=\"M0 0h24v24H0V0z\" fill=\"none\"/>\n",
              "    <path d=\"M18.56 5.44l.94 2.06.94-2.06 2.06-.94-2.06-.94-.94-2.06-.94 2.06-2.06.94zm-11 1L8.5 8.5l.94-2.06 2.06-.94-2.06-.94L8.5 2.5l-.94 2.06-2.06.94zm10 10l.94 2.06.94-2.06 2.06-.94-2.06-.94-.94-2.06-.94 2.06-2.06.94z\"/><path d=\"M17.41 7.96l-1.37-1.37c-.4-.4-.92-.59-1.43-.59-.52 0-1.04.2-1.43.59L10.3 9.45l-7.72 7.72c-.78.78-.78 2.05 0 2.83L4 21.41c.39.39.9.59 1.41.59.51 0 1.02-.2 1.41-.59l7.78-7.78 2.81-2.81c.8-.78.8-2.07 0-2.86zM5.41 20L4 18.59l7.72-7.72 1.47 1.35L5.41 20z\"/>\n",
              "  </svg>\n",
              "      </button>\n",
              "      \n",
              "  <style>\n",
              "    .colab-df-container {\n",
              "      display:flex;\n",
              "      flex-wrap:wrap;\n",
              "      gap: 12px;\n",
              "    }\n",
              "\n",
              "    .colab-df-convert {\n",
              "      background-color: #E8F0FE;\n",
              "      border: none;\n",
              "      border-radius: 50%;\n",
              "      cursor: pointer;\n",
              "      display: none;\n",
              "      fill: #1967D2;\n",
              "      height: 32px;\n",
              "      padding: 0 0 0 0;\n",
              "      width: 32px;\n",
              "    }\n",
              "\n",
              "    .colab-df-convert:hover {\n",
              "      background-color: #E2EBFA;\n",
              "      box-shadow: 0px 1px 2px rgba(60, 64, 67, 0.3), 0px 1px 3px 1px rgba(60, 64, 67, 0.15);\n",
              "      fill: #174EA6;\n",
              "    }\n",
              "\n",
              "    [theme=dark] .colab-df-convert {\n",
              "      background-color: #3B4455;\n",
              "      fill: #D2E3FC;\n",
              "    }\n",
              "\n",
              "    [theme=dark] .colab-df-convert:hover {\n",
              "      background-color: #434B5C;\n",
              "      box-shadow: 0px 1px 3px 1px rgba(0, 0, 0, 0.15);\n",
              "      filter: drop-shadow(0px 1px 2px rgba(0, 0, 0, 0.3));\n",
              "      fill: #FFFFFF;\n",
              "    }\n",
              "  </style>\n",
              "\n",
              "      <script>\n",
              "        const buttonEl =\n",
              "          document.querySelector('#df-3988d871-35de-44c5-8f5e-d270bd6e2ca3 button.colab-df-convert');\n",
              "        buttonEl.style.display =\n",
              "          google.colab.kernel.accessAllowed ? 'block' : 'none';\n",
              "\n",
              "        async function convertToInteractive(key) {\n",
              "          const element = document.querySelector('#df-3988d871-35de-44c5-8f5e-d270bd6e2ca3');\n",
              "          const dataTable =\n",
              "            await google.colab.kernel.invokeFunction('convertToInteractive',\n",
              "                                                     [key], {});\n",
              "          if (!dataTable) return;\n",
              "\n",
              "          const docLinkHtml = 'Like what you see? Visit the ' +\n",
              "            '<a target=\"_blank\" href=https://colab.research.google.com/notebooks/data_table.ipynb>data table notebook</a>'\n",
              "            + ' to learn more about interactive tables.';\n",
              "          element.innerHTML = '';\n",
              "          dataTable['output_type'] = 'display_data';\n",
              "          await google.colab.output.renderOutput(dataTable, element);\n",
              "          const docLink = document.createElement('div');\n",
              "          docLink.innerHTML = docLinkHtml;\n",
              "          element.appendChild(docLink);\n",
              "        }\n",
              "      </script>\n",
              "    </div>\n",
              "  </div>\n",
              "  "
            ]
          },
          "metadata": {},
          "execution_count": 52
        }
      ]
    },
    {
      "cell_type": "code",
      "source": [
        "from sklearn.preprocessing import StandardScaler\n",
        "previsores_esc = StandardScaler().fit_transform(previsores)"
      ],
      "metadata": {
        "id": "EQOLrt2-y6KV"
      },
      "execution_count": null,
      "outputs": []
    },
    {
      "cell_type": "code",
      "source": [
        "previsores_esc"
      ],
      "metadata": {
        "colab": {
          "base_uri": "https://localhost:8080/"
        },
        "id": "wcANw_w6y8_W",
        "outputId": "f28e98d5-ec4d-4d4d-c4db-9b3f7db8c0b5"
      },
      "execution_count": null,
      "outputs": [
        {
          "output_type": "execute_result",
          "data": {
            "text/plain": [
              "array([[-0.48350675, -0.15912266,  0.0233162 ],\n",
              "       [-0.56157325, -0.09688283,  0.04340381],\n",
              "       [-0.60817668, -0.01821218,  0.04142389],\n",
              "       ...,\n",
              "       [ 3.44936724,  3.45920212,  0.39002871],\n",
              "       [ 3.44936724,  3.45920212,  0.62613298],\n",
              "       [ 3.30050564,  3.45920212,  0.37547726]])"
            ]
          },
          "metadata": {},
          "execution_count": 55
        }
      ]
    },
    {
      "cell_type": "code",
      "source": [
        "previsoresdf = pd.DataFrame(previsores_esc)\n",
        "previsoresdf"
      ],
      "metadata": {
        "colab": {
          "base_uri": "https://localhost:8080/",
          "height": 423
        },
        "id": "76b4lnGNzBFQ",
        "outputId": "c44b6a17-d1fc-494d-d83c-035dd4265de8"
      },
      "execution_count": null,
      "outputs": [
        {
          "output_type": "execute_result",
          "data": {
            "text/plain": [
              "              0         1         2\n",
              "0     -0.483507 -0.159123  0.023316\n",
              "1     -0.561573 -0.096883  0.043404\n",
              "2     -0.608177 -0.018212  0.041424\n",
              "3     -0.623847  0.047018  0.018876\n",
              "4     -0.607383  0.078818  0.012227\n",
              "...         ...       ...       ...\n",
              "23421  3.449367  3.459202 -0.072600\n",
              "23422  3.449367  3.459202  0.118140\n",
              "23423  3.449367  3.459202  0.390029\n",
              "23424  3.449367  3.459202  0.626133\n",
              "23425  3.300506  3.459202  0.375477\n",
              "\n",
              "[23426 rows x 3 columns]"
            ],
            "text/html": [
              "\n",
              "  <div id=\"df-9adfb3f1-414b-44ba-acc3-7f7c55d3c201\">\n",
              "    <div class=\"colab-df-container\">\n",
              "      <div>\n",
              "<style scoped>\n",
              "    .dataframe tbody tr th:only-of-type {\n",
              "        vertical-align: middle;\n",
              "    }\n",
              "\n",
              "    .dataframe tbody tr th {\n",
              "        vertical-align: top;\n",
              "    }\n",
              "\n",
              "    .dataframe thead th {\n",
              "        text-align: right;\n",
              "    }\n",
              "</style>\n",
              "<table border=\"1\" class=\"dataframe\">\n",
              "  <thead>\n",
              "    <tr style=\"text-align: right;\">\n",
              "      <th></th>\n",
              "      <th>0</th>\n",
              "      <th>1</th>\n",
              "      <th>2</th>\n",
              "    </tr>\n",
              "  </thead>\n",
              "  <tbody>\n",
              "    <tr>\n",
              "      <th>0</th>\n",
              "      <td>-0.483507</td>\n",
              "      <td>-0.159123</td>\n",
              "      <td>0.023316</td>\n",
              "    </tr>\n",
              "    <tr>\n",
              "      <th>1</th>\n",
              "      <td>-0.561573</td>\n",
              "      <td>-0.096883</td>\n",
              "      <td>0.043404</td>\n",
              "    </tr>\n",
              "    <tr>\n",
              "      <th>2</th>\n",
              "      <td>-0.608177</td>\n",
              "      <td>-0.018212</td>\n",
              "      <td>0.041424</td>\n",
              "    </tr>\n",
              "    <tr>\n",
              "      <th>3</th>\n",
              "      <td>-0.623847</td>\n",
              "      <td>0.047018</td>\n",
              "      <td>0.018876</td>\n",
              "    </tr>\n",
              "    <tr>\n",
              "      <th>4</th>\n",
              "      <td>-0.607383</td>\n",
              "      <td>0.078818</td>\n",
              "      <td>0.012227</td>\n",
              "    </tr>\n",
              "    <tr>\n",
              "      <th>...</th>\n",
              "      <td>...</td>\n",
              "      <td>...</td>\n",
              "      <td>...</td>\n",
              "    </tr>\n",
              "    <tr>\n",
              "      <th>23421</th>\n",
              "      <td>3.449367</td>\n",
              "      <td>3.459202</td>\n",
              "      <td>-0.072600</td>\n",
              "    </tr>\n",
              "    <tr>\n",
              "      <th>23422</th>\n",
              "      <td>3.449367</td>\n",
              "      <td>3.459202</td>\n",
              "      <td>0.118140</td>\n",
              "    </tr>\n",
              "    <tr>\n",
              "      <th>23423</th>\n",
              "      <td>3.449367</td>\n",
              "      <td>3.459202</td>\n",
              "      <td>0.390029</td>\n",
              "    </tr>\n",
              "    <tr>\n",
              "      <th>23424</th>\n",
              "      <td>3.449367</td>\n",
              "      <td>3.459202</td>\n",
              "      <td>0.626133</td>\n",
              "    </tr>\n",
              "    <tr>\n",
              "      <th>23425</th>\n",
              "      <td>3.300506</td>\n",
              "      <td>3.459202</td>\n",
              "      <td>0.375477</td>\n",
              "    </tr>\n",
              "  </tbody>\n",
              "</table>\n",
              "<p>23426 rows × 3 columns</p>\n",
              "</div>\n",
              "      <button class=\"colab-df-convert\" onclick=\"convertToInteractive('df-9adfb3f1-414b-44ba-acc3-7f7c55d3c201')\"\n",
              "              title=\"Convert this dataframe to an interactive table.\"\n",
              "              style=\"display:none;\">\n",
              "        \n",
              "  <svg xmlns=\"http://www.w3.org/2000/svg\" height=\"24px\"viewBox=\"0 0 24 24\"\n",
              "       width=\"24px\">\n",
              "    <path d=\"M0 0h24v24H0V0z\" fill=\"none\"/>\n",
              "    <path d=\"M18.56 5.44l.94 2.06.94-2.06 2.06-.94-2.06-.94-.94-2.06-.94 2.06-2.06.94zm-11 1L8.5 8.5l.94-2.06 2.06-.94-2.06-.94L8.5 2.5l-.94 2.06-2.06.94zm10 10l.94 2.06.94-2.06 2.06-.94-2.06-.94-.94-2.06-.94 2.06-2.06.94z\"/><path d=\"M17.41 7.96l-1.37-1.37c-.4-.4-.92-.59-1.43-.59-.52 0-1.04.2-1.43.59L10.3 9.45l-7.72 7.72c-.78.78-.78 2.05 0 2.83L4 21.41c.39.39.9.59 1.41.59.51 0 1.02-.2 1.41-.59l7.78-7.78 2.81-2.81c.8-.78.8-2.07 0-2.86zM5.41 20L4 18.59l7.72-7.72 1.47 1.35L5.41 20z\"/>\n",
              "  </svg>\n",
              "      </button>\n",
              "      \n",
              "  <style>\n",
              "    .colab-df-container {\n",
              "      display:flex;\n",
              "      flex-wrap:wrap;\n",
              "      gap: 12px;\n",
              "    }\n",
              "\n",
              "    .colab-df-convert {\n",
              "      background-color: #E8F0FE;\n",
              "      border: none;\n",
              "      border-radius: 50%;\n",
              "      cursor: pointer;\n",
              "      display: none;\n",
              "      fill: #1967D2;\n",
              "      height: 32px;\n",
              "      padding: 0 0 0 0;\n",
              "      width: 32px;\n",
              "    }\n",
              "\n",
              "    .colab-df-convert:hover {\n",
              "      background-color: #E2EBFA;\n",
              "      box-shadow: 0px 1px 2px rgba(60, 64, 67, 0.3), 0px 1px 3px 1px rgba(60, 64, 67, 0.15);\n",
              "      fill: #174EA6;\n",
              "    }\n",
              "\n",
              "    [theme=dark] .colab-df-convert {\n",
              "      background-color: #3B4455;\n",
              "      fill: #D2E3FC;\n",
              "    }\n",
              "\n",
              "    [theme=dark] .colab-df-convert:hover {\n",
              "      background-color: #434B5C;\n",
              "      box-shadow: 0px 1px 3px 1px rgba(0, 0, 0, 0.15);\n",
              "      filter: drop-shadow(0px 1px 2px rgba(0, 0, 0, 0.3));\n",
              "      fill: #FFFFFF;\n",
              "    }\n",
              "  </style>\n",
              "\n",
              "      <script>\n",
              "        const buttonEl =\n",
              "          document.querySelector('#df-9adfb3f1-414b-44ba-acc3-7f7c55d3c201 button.colab-df-convert');\n",
              "        buttonEl.style.display =\n",
              "          google.colab.kernel.accessAllowed ? 'block' : 'none';\n",
              "\n",
              "        async function convertToInteractive(key) {\n",
              "          const element = document.querySelector('#df-9adfb3f1-414b-44ba-acc3-7f7c55d3c201');\n",
              "          const dataTable =\n",
              "            await google.colab.kernel.invokeFunction('convertToInteractive',\n",
              "                                                     [key], {});\n",
              "          if (!dataTable) return;\n",
              "\n",
              "          const docLinkHtml = 'Like what you see? Visit the ' +\n",
              "            '<a target=\"_blank\" href=https://colab.research.google.com/notebooks/data_table.ipynb>data table notebook</a>'\n",
              "            + ' to learn more about interactive tables.';\n",
              "          element.innerHTML = '';\n",
              "          dataTable['output_type'] = 'display_data';\n",
              "          await google.colab.output.renderOutput(dataTable, element);\n",
              "          const docLink = document.createElement('div');\n",
              "          docLink.innerHTML = docLinkHtml;\n",
              "          element.appendChild(docLink);\n",
              "        }\n",
              "      </script>\n",
              "    </div>\n",
              "  </div>\n",
              "  "
            ]
          },
          "metadata": {},
          "execution_count": 56
        }
      ]
    },
    {
      "cell_type": "code",
      "source": [
        "previsoresdf.describe()"
      ],
      "metadata": {
        "colab": {
          "base_uri": "https://localhost:8080/",
          "height": 300
        },
        "id": "qRXPZzfhzEI3",
        "outputId": "383aa94b-bb1c-4529-bdee-787b9f957069"
      },
      "execution_count": null,
      "outputs": [
        {
          "output_type": "execute_result",
          "data": {
            "text/plain": [
              "                  0             1             2\n",
              "count  2.342600e+04  2.342600e+04  2.342600e+04\n",
              "mean   7.279529e-18  2.038268e-15 -4.853020e-17\n",
              "std    1.000021e+00  1.000021e+00  1.000021e+00\n",
              "min   -4.955245e+00 -5.717991e+00 -7.480325e-01\n",
              "25%   -1.502019e-01 -1.720216e-02 -3.629685e-01\n",
              "50%   -4.572080e-02  1.308653e-01 -2.176955e-01\n",
              "75%    3.597101e-02  2.673228e-01 -1.370911e-01\n",
              "max    4.860759e+00  3.459202e+00  1.181880e+01"
            ],
            "text/html": [
              "\n",
              "  <div id=\"df-ce048a19-d053-4901-ba5e-b1874f5d3e5a\">\n",
              "    <div class=\"colab-df-container\">\n",
              "      <div>\n",
              "<style scoped>\n",
              "    .dataframe tbody tr th:only-of-type {\n",
              "        vertical-align: middle;\n",
              "    }\n",
              "\n",
              "    .dataframe tbody tr th {\n",
              "        vertical-align: top;\n",
              "    }\n",
              "\n",
              "    .dataframe thead th {\n",
              "        text-align: right;\n",
              "    }\n",
              "</style>\n",
              "<table border=\"1\" class=\"dataframe\">\n",
              "  <thead>\n",
              "    <tr style=\"text-align: right;\">\n",
              "      <th></th>\n",
              "      <th>0</th>\n",
              "      <th>1</th>\n",
              "      <th>2</th>\n",
              "    </tr>\n",
              "  </thead>\n",
              "  <tbody>\n",
              "    <tr>\n",
              "      <th>count</th>\n",
              "      <td>2.342600e+04</td>\n",
              "      <td>2.342600e+04</td>\n",
              "      <td>2.342600e+04</td>\n",
              "    </tr>\n",
              "    <tr>\n",
              "      <th>mean</th>\n",
              "      <td>7.279529e-18</td>\n",
              "      <td>2.038268e-15</td>\n",
              "      <td>-4.853020e-17</td>\n",
              "    </tr>\n",
              "    <tr>\n",
              "      <th>std</th>\n",
              "      <td>1.000021e+00</td>\n",
              "      <td>1.000021e+00</td>\n",
              "      <td>1.000021e+00</td>\n",
              "    </tr>\n",
              "    <tr>\n",
              "      <th>min</th>\n",
              "      <td>-4.955245e+00</td>\n",
              "      <td>-5.717991e+00</td>\n",
              "      <td>-7.480325e-01</td>\n",
              "    </tr>\n",
              "    <tr>\n",
              "      <th>25%</th>\n",
              "      <td>-1.502019e-01</td>\n",
              "      <td>-1.720216e-02</td>\n",
              "      <td>-3.629685e-01</td>\n",
              "    </tr>\n",
              "    <tr>\n",
              "      <th>50%</th>\n",
              "      <td>-4.572080e-02</td>\n",
              "      <td>1.308653e-01</td>\n",
              "      <td>-2.176955e-01</td>\n",
              "    </tr>\n",
              "    <tr>\n",
              "      <th>75%</th>\n",
              "      <td>3.597101e-02</td>\n",
              "      <td>2.673228e-01</td>\n",
              "      <td>-1.370911e-01</td>\n",
              "    </tr>\n",
              "    <tr>\n",
              "      <th>max</th>\n",
              "      <td>4.860759e+00</td>\n",
              "      <td>3.459202e+00</td>\n",
              "      <td>1.181880e+01</td>\n",
              "    </tr>\n",
              "  </tbody>\n",
              "</table>\n",
              "</div>\n",
              "      <button class=\"colab-df-convert\" onclick=\"convertToInteractive('df-ce048a19-d053-4901-ba5e-b1874f5d3e5a')\"\n",
              "              title=\"Convert this dataframe to an interactive table.\"\n",
              "              style=\"display:none;\">\n",
              "        \n",
              "  <svg xmlns=\"http://www.w3.org/2000/svg\" height=\"24px\"viewBox=\"0 0 24 24\"\n",
              "       width=\"24px\">\n",
              "    <path d=\"M0 0h24v24H0V0z\" fill=\"none\"/>\n",
              "    <path d=\"M18.56 5.44l.94 2.06.94-2.06 2.06-.94-2.06-.94-.94-2.06-.94 2.06-2.06.94zm-11 1L8.5 8.5l.94-2.06 2.06-.94-2.06-.94L8.5 2.5l-.94 2.06-2.06.94zm10 10l.94 2.06.94-2.06 2.06-.94-2.06-.94-.94-2.06-.94 2.06-2.06.94z\"/><path d=\"M17.41 7.96l-1.37-1.37c-.4-.4-.92-.59-1.43-.59-.52 0-1.04.2-1.43.59L10.3 9.45l-7.72 7.72c-.78.78-.78 2.05 0 2.83L4 21.41c.39.39.9.59 1.41.59.51 0 1.02-.2 1.41-.59l7.78-7.78 2.81-2.81c.8-.78.8-2.07 0-2.86zM5.41 20L4 18.59l7.72-7.72 1.47 1.35L5.41 20z\"/>\n",
              "  </svg>\n",
              "      </button>\n",
              "      \n",
              "  <style>\n",
              "    .colab-df-container {\n",
              "      display:flex;\n",
              "      flex-wrap:wrap;\n",
              "      gap: 12px;\n",
              "    }\n",
              "\n",
              "    .colab-df-convert {\n",
              "      background-color: #E8F0FE;\n",
              "      border: none;\n",
              "      border-radius: 50%;\n",
              "      cursor: pointer;\n",
              "      display: none;\n",
              "      fill: #1967D2;\n",
              "      height: 32px;\n",
              "      padding: 0 0 0 0;\n",
              "      width: 32px;\n",
              "    }\n",
              "\n",
              "    .colab-df-convert:hover {\n",
              "      background-color: #E2EBFA;\n",
              "      box-shadow: 0px 1px 2px rgba(60, 64, 67, 0.3), 0px 1px 3px 1px rgba(60, 64, 67, 0.15);\n",
              "      fill: #174EA6;\n",
              "    }\n",
              "\n",
              "    [theme=dark] .colab-df-convert {\n",
              "      background-color: #3B4455;\n",
              "      fill: #D2E3FC;\n",
              "    }\n",
              "\n",
              "    [theme=dark] .colab-df-convert:hover {\n",
              "      background-color: #434B5C;\n",
              "      box-shadow: 0px 1px 3px 1px rgba(0, 0, 0, 0.15);\n",
              "      filter: drop-shadow(0px 1px 2px rgba(0, 0, 0, 0.3));\n",
              "      fill: #FFFFFF;\n",
              "    }\n",
              "  </style>\n",
              "\n",
              "      <script>\n",
              "        const buttonEl =\n",
              "          document.querySelector('#df-ce048a19-d053-4901-ba5e-b1874f5d3e5a button.colab-df-convert');\n",
              "        buttonEl.style.display =\n",
              "          google.colab.kernel.accessAllowed ? 'block' : 'none';\n",
              "\n",
              "        async function convertToInteractive(key) {\n",
              "          const element = document.querySelector('#df-ce048a19-d053-4901-ba5e-b1874f5d3e5a');\n",
              "          const dataTable =\n",
              "            await google.colab.kernel.invokeFunction('convertToInteractive',\n",
              "                                                     [key], {});\n",
              "          if (!dataTable) return;\n",
              "\n",
              "          const docLinkHtml = 'Like what you see? Visit the ' +\n",
              "            '<a target=\"_blank\" href=https://colab.research.google.com/notebooks/data_table.ipynb>data table notebook</a>'\n",
              "            + ' to learn more about interactive tables.';\n",
              "          element.innerHTML = '';\n",
              "          dataTable['output_type'] = 'display_data';\n",
              "          await google.colab.output.renderOutput(dataTable, element);\n",
              "          const docLink = document.createElement('div');\n",
              "          docLink.innerHTML = docLinkHtml;\n",
              "          element.appendChild(docLink);\n",
              "        }\n",
              "      </script>\n",
              "    </div>\n",
              "  </div>\n",
              "  "
            ]
          },
          "metadata": {},
          "execution_count": 57
        }
      ]
    },
    {
      "cell_type": "code",
      "source": [],
      "metadata": {
        "id": "vfwu5vm5zHR_"
      },
      "execution_count": null,
      "outputs": []
    },
    {
      "cell_type": "markdown",
      "source": [
        "## **Codificação de variáveis categóricas**"
      ],
      "metadata": {
        "id": "Pu7LWQZ-zkor"
      }
    },
    {
      "cell_type": "markdown",
      "source": [
        "### **LabelEncoder: transformação de variáveis categóricas em numéricas**\n"
      ],
      "metadata": {
        "id": "QRUbMmsWzsMO"
      }
    },
    {
      "cell_type": "code",
      "source": [
        "df.head()"
      ],
      "metadata": {
        "colab": {
          "base_uri": "https://localhost:8080/",
          "height": 206
        },
        "id": "Hl-848gFzrV0",
        "outputId": "2ab97a21-866a-4ec1-c81c-2d3d5c29d7ef"
      },
      "execution_count": null,
      "outputs": [
        {
          "output_type": "execute_result",
          "data": {
            "text/plain": [
              "        PROF           VP           VS         GR  POCO  FACIES\n",
              "0  3103.0164  4392.102539  2491.250244  16.139494     0    85.0\n",
              "1  3103.1688  4368.245117  2502.714111  16.530527     0    85.0\n",
              "2  3103.3212  4354.002930  2517.204346  16.491985     0    85.0\n",
              "3  3103.4736  4349.213867  2529.218994  16.053066     0    85.0\n",
              "4  3103.6260  4354.245606  2535.076172  15.923628     0    85.0"
            ],
            "text/html": [
              "\n",
              "  <div id=\"df-3bf41d82-8183-4c69-8b03-e814a1c47f79\">\n",
              "    <div class=\"colab-df-container\">\n",
              "      <div>\n",
              "<style scoped>\n",
              "    .dataframe tbody tr th:only-of-type {\n",
              "        vertical-align: middle;\n",
              "    }\n",
              "\n",
              "    .dataframe tbody tr th {\n",
              "        vertical-align: top;\n",
              "    }\n",
              "\n",
              "    .dataframe thead th {\n",
              "        text-align: right;\n",
              "    }\n",
              "</style>\n",
              "<table border=\"1\" class=\"dataframe\">\n",
              "  <thead>\n",
              "    <tr style=\"text-align: right;\">\n",
              "      <th></th>\n",
              "      <th>PROF</th>\n",
              "      <th>VP</th>\n",
              "      <th>VS</th>\n",
              "      <th>GR</th>\n",
              "      <th>POCO</th>\n",
              "      <th>FACIES</th>\n",
              "    </tr>\n",
              "  </thead>\n",
              "  <tbody>\n",
              "    <tr>\n",
              "      <th>0</th>\n",
              "      <td>3103.0164</td>\n",
              "      <td>4392.102539</td>\n",
              "      <td>2491.250244</td>\n",
              "      <td>16.139494</td>\n",
              "      <td>0</td>\n",
              "      <td>85.0</td>\n",
              "    </tr>\n",
              "    <tr>\n",
              "      <th>1</th>\n",
              "      <td>3103.1688</td>\n",
              "      <td>4368.245117</td>\n",
              "      <td>2502.714111</td>\n",
              "      <td>16.530527</td>\n",
              "      <td>0</td>\n",
              "      <td>85.0</td>\n",
              "    </tr>\n",
              "    <tr>\n",
              "      <th>2</th>\n",
              "      <td>3103.3212</td>\n",
              "      <td>4354.002930</td>\n",
              "      <td>2517.204346</td>\n",
              "      <td>16.491985</td>\n",
              "      <td>0</td>\n",
              "      <td>85.0</td>\n",
              "    </tr>\n",
              "    <tr>\n",
              "      <th>3</th>\n",
              "      <td>3103.4736</td>\n",
              "      <td>4349.213867</td>\n",
              "      <td>2529.218994</td>\n",
              "      <td>16.053066</td>\n",
              "      <td>0</td>\n",
              "      <td>85.0</td>\n",
              "    </tr>\n",
              "    <tr>\n",
              "      <th>4</th>\n",
              "      <td>3103.6260</td>\n",
              "      <td>4354.245606</td>\n",
              "      <td>2535.076172</td>\n",
              "      <td>15.923628</td>\n",
              "      <td>0</td>\n",
              "      <td>85.0</td>\n",
              "    </tr>\n",
              "  </tbody>\n",
              "</table>\n",
              "</div>\n",
              "      <button class=\"colab-df-convert\" onclick=\"convertToInteractive('df-3bf41d82-8183-4c69-8b03-e814a1c47f79')\"\n",
              "              title=\"Convert this dataframe to an interactive table.\"\n",
              "              style=\"display:none;\">\n",
              "        \n",
              "  <svg xmlns=\"http://www.w3.org/2000/svg\" height=\"24px\"viewBox=\"0 0 24 24\"\n",
              "       width=\"24px\">\n",
              "    <path d=\"M0 0h24v24H0V0z\" fill=\"none\"/>\n",
              "    <path d=\"M18.56 5.44l.94 2.06.94-2.06 2.06-.94-2.06-.94-.94-2.06-.94 2.06-2.06.94zm-11 1L8.5 8.5l.94-2.06 2.06-.94-2.06-.94L8.5 2.5l-.94 2.06-2.06.94zm10 10l.94 2.06.94-2.06 2.06-.94-2.06-.94-.94-2.06-.94 2.06-2.06.94z\"/><path d=\"M17.41 7.96l-1.37-1.37c-.4-.4-.92-.59-1.43-.59-.52 0-1.04.2-1.43.59L10.3 9.45l-7.72 7.72c-.78.78-.78 2.05 0 2.83L4 21.41c.39.39.9.59 1.41.59.51 0 1.02-.2 1.41-.59l7.78-7.78 2.81-2.81c.8-.78.8-2.07 0-2.86zM5.41 20L4 18.59l7.72-7.72 1.47 1.35L5.41 20z\"/>\n",
              "  </svg>\n",
              "      </button>\n",
              "      \n",
              "  <style>\n",
              "    .colab-df-container {\n",
              "      display:flex;\n",
              "      flex-wrap:wrap;\n",
              "      gap: 12px;\n",
              "    }\n",
              "\n",
              "    .colab-df-convert {\n",
              "      background-color: #E8F0FE;\n",
              "      border: none;\n",
              "      border-radius: 50%;\n",
              "      cursor: pointer;\n",
              "      display: none;\n",
              "      fill: #1967D2;\n",
              "      height: 32px;\n",
              "      padding: 0 0 0 0;\n",
              "      width: 32px;\n",
              "    }\n",
              "\n",
              "    .colab-df-convert:hover {\n",
              "      background-color: #E2EBFA;\n",
              "      box-shadow: 0px 1px 2px rgba(60, 64, 67, 0.3), 0px 1px 3px 1px rgba(60, 64, 67, 0.15);\n",
              "      fill: #174EA6;\n",
              "    }\n",
              "\n",
              "    [theme=dark] .colab-df-convert {\n",
              "      background-color: #3B4455;\n",
              "      fill: #D2E3FC;\n",
              "    }\n",
              "\n",
              "    [theme=dark] .colab-df-convert:hover {\n",
              "      background-color: #434B5C;\n",
              "      box-shadow: 0px 1px 3px 1px rgba(0, 0, 0, 0.15);\n",
              "      filter: drop-shadow(0px 1px 2px rgba(0, 0, 0, 0.3));\n",
              "      fill: #FFFFFF;\n",
              "    }\n",
              "  </style>\n",
              "\n",
              "      <script>\n",
              "        const buttonEl =\n",
              "          document.querySelector('#df-3bf41d82-8183-4c69-8b03-e814a1c47f79 button.colab-df-convert');\n",
              "        buttonEl.style.display =\n",
              "          google.colab.kernel.accessAllowed ? 'block' : 'none';\n",
              "\n",
              "        async function convertToInteractive(key) {\n",
              "          const element = document.querySelector('#df-3bf41d82-8183-4c69-8b03-e814a1c47f79');\n",
              "          const dataTable =\n",
              "            await google.colab.kernel.invokeFunction('convertToInteractive',\n",
              "                                                     [key], {});\n",
              "          if (!dataTable) return;\n",
              "\n",
              "          const docLinkHtml = 'Like what you see? Visit the ' +\n",
              "            '<a target=\"_blank\" href=https://colab.research.google.com/notebooks/data_table.ipynb>data table notebook</a>'\n",
              "            + ' to learn more about interactive tables.';\n",
              "          element.innerHTML = '';\n",
              "          dataTable['output_type'] = 'display_data';\n",
              "          await google.colab.output.renderOutput(dataTable, element);\n",
              "          const docLink = document.createElement('div');\n",
              "          docLink.innerHTML = docLinkHtml;\n",
              "          element.appendChild(docLink);\n",
              "        }\n",
              "      </script>\n",
              "    </div>\n",
              "  </div>\n",
              "  "
            ]
          },
          "metadata": {},
          "execution_count": 62
        }
      ]
    },
    {
      "cell_type": "code",
      "source": [
        "previsores2 = np.c_[df.iloc[:, 1].values, df.iloc[:, 2:4].values]\n",
        "previsores2"
      ],
      "metadata": {
        "colab": {
          "base_uri": "https://localhost:8080/"
        },
        "id": "tqW-Sq27zwTA",
        "outputId": "cc5507d8-82bc-4975-90a2-591d326c4ad2"
      },
      "execution_count": null,
      "outputs": [
        {
          "output_type": "execute_result",
          "data": {
            "text/plain": [
              "array([[4392.1025391 , 2491.2502441 ,   16.13949394],\n",
              "       [4368.2451172 , 2502.7141113 ,   16.53052712],\n",
              "       [4354.0029297 , 2517.2043457 ,   16.49198532],\n",
              "       ...,\n",
              "       [5594.0039063 , 3157.7043457 ,   23.27806282],\n",
              "       [5594.0039063 , 3157.7043457 ,   27.87416077],\n",
              "       [5548.5112305 , 3157.7043457 ,   22.99479866]])"
            ]
          },
          "metadata": {},
          "execution_count": 64
        }
      ]
    },
    {
      "cell_type": "code",
      "source": [
        "alvo2 = df.iloc[:, -1].values.copy()\n",
        "alvo2"
      ],
      "metadata": {
        "colab": {
          "base_uri": "https://localhost:8080/"
        },
        "id": "JHa1c27Xz5gI",
        "outputId": "47b39c45-114e-4e45-dab4-8b8d679c1a20"
      },
      "execution_count": null,
      "outputs": [
        {
          "output_type": "execute_result",
          "data": {
            "text/plain": [
              "array([85., 85., 85., ..., 82., 82., 82.])"
            ]
          },
          "metadata": {},
          "execution_count": 65
        }
      ]
    },
    {
      "cell_type": "code",
      "source": [
        "alvo2.shape"
      ],
      "metadata": {
        "colab": {
          "base_uri": "https://localhost:8080/"
        },
        "id": "1N_BTXlb0F9H",
        "outputId": "ef3e1bb4-2611-4cd5-fb90-37959728605a"
      },
      "execution_count": null,
      "outputs": [
        {
          "output_type": "execute_result",
          "data": {
            "text/plain": [
              "(23426,)"
            ]
          },
          "metadata": {},
          "execution_count": 67
        }
      ]
    },
    {
      "cell_type": "markdown",
      "source": [
        "### **Base de treino e teste**"
      ],
      "metadata": {
        "id": "15r6LI7e0j0D"
      }
    },
    {
      "cell_type": "code",
      "source": [
        "from sklearn.model_selection import train_test_split"
      ],
      "metadata": {
        "id": "RSBIFHai0npd"
      },
      "execution_count": null,
      "outputs": []
    },
    {
      "cell_type": "code",
      "source": [
        "x_treino, x_teste, y_treino, y_teste = train_test_split(previsores_esc, alvo, test_size = 0.3, random_state = 0)"
      ],
      "metadata": {
        "id": "fYQO4I8U02YK"
      },
      "execution_count": null,
      "outputs": []
    },
    {
      "cell_type": "code",
      "source": [
        "x_treino.shape\n"
      ],
      "metadata": {
        "colab": {
          "base_uri": "https://localhost:8080/"
        },
        "id": "c3K4jfG-04GQ",
        "outputId": "00ee7e94-6e77-46ae-c9d5-5d28bf0d6eb9"
      },
      "execution_count": null,
      "outputs": [
        {
          "output_type": "execute_result",
          "data": {
            "text/plain": [
              "(16398, 3)"
            ]
          },
          "metadata": {},
          "execution_count": 71
        }
      ]
    },
    {
      "cell_type": "code",
      "source": [
        "x_teste.shape"
      ],
      "metadata": {
        "colab": {
          "base_uri": "https://localhost:8080/"
        },
        "id": "hoRtRG5Q05me",
        "outputId": "e0db2dd5-d73d-4d52-b849-d408d3abd0e6"
      },
      "execution_count": null,
      "outputs": [
        {
          "output_type": "execute_result",
          "data": {
            "text/plain": [
              "(7028, 3)"
            ]
          },
          "metadata": {},
          "execution_count": 72
        }
      ]
    },
    {
      "cell_type": "code",
      "source": [
        "y_treino.shape"
      ],
      "metadata": {
        "colab": {
          "base_uri": "https://localhost:8080/"
        },
        "id": "Zu5G1NtR07Cc",
        "outputId": "3d42c9b4-5223-4a11-d9d8-567b10261a09"
      },
      "execution_count": null,
      "outputs": [
        {
          "output_type": "execute_result",
          "data": {
            "text/plain": [
              "(16398,)"
            ]
          },
          "metadata": {},
          "execution_count": 73
        }
      ]
    },
    {
      "cell_type": "code",
      "source": [
        "y_teste.shape"
      ],
      "metadata": {
        "colab": {
          "base_uri": "https://localhost:8080/"
        },
        "id": "zw8ljV9V080h",
        "outputId": "25c93236-39e8-4a27-a206-3316b771d81c"
      },
      "execution_count": null,
      "outputs": [
        {
          "output_type": "execute_result",
          "data": {
            "text/plain": [
              "(7028,)"
            ]
          },
          "metadata": {},
          "execution_count": 74
        }
      ]
    },
    {
      "cell_type": "markdown",
      "source": [
        "# **Auto ML**"
      ],
      "metadata": {
        "id": "ZT38E0mE1GwH"
      }
    },
    {
      "cell_type": "code",
      "source": [
        "automl = AutoSklearnClassifier(time_left_for_this_task=120, \n",
        "                              per_run_time_limit=30\n",
        "                               )\n",
        "# Init training\n",
        "automl.fit(x_treino, y_treino)\n",
        "     "
      ],
      "metadata": {
        "colab": {
          "base_uri": "https://localhost:8080/"
        },
        "id": "wVjsMUd61JHP",
        "outputId": "8e2b0520-5970-4312-c0d4-0aed217515a4"
      },
      "execution_count": null,
      "outputs": [
        {
          "output_type": "execute_result",
          "data": {
            "text/plain": [
              "AutoSklearnClassifier(ensemble_class=<class 'autosklearn.ensembles.ensemble_selection.EnsembleSelection'>,\n",
              "                      per_run_time_limit=30, time_left_for_this_task=120)"
            ]
          },
          "metadata": {},
          "execution_count": 91
        }
      ]
    },
    {
      "cell_type": "code",
      "source": [
        "print(automl.leaderboard())\n",
        "#Modelos Avaliados"
      ],
      "metadata": {
        "colab": {
          "base_uri": "https://localhost:8080/"
        },
        "id": "ojieCaOc4Qrp",
        "outputId": "bcf751ef-a83d-4e6b-f103-0b65a92f6a88"
      },
      "execution_count": null,
      "outputs": [
        {
          "output_type": "stream",
          "name": "stdout",
          "text": [
            "          rank  ensemble_weight               type      cost   duration\n",
            "model_id                                                               \n",
            "2            1             0.18      random_forest  0.051183  12.547808\n",
            "14           2             0.12        extra_trees  0.053400   7.357938\n",
            "10           3             0.06      random_forest  0.053954  12.687183\n",
            "13           4             0.10  gradient_boosting  0.055248   2.683214\n",
            "5            5             0.02                mlp  0.058389  11.037470\n",
            "4            6             0.14      random_forest  0.061160  14.591132\n",
            "7            7             0.04           adaboost  0.115299   2.019455\n",
            "9            8             0.22           adaboost  0.120843   7.468844\n",
            "11           9             0.02                mlp  0.153178   3.213112\n",
            "8           10             0.08                lda  0.156135   1.217885\n",
            "12          11             0.02                qda  0.156135   0.849038\n"
          ]
        }
      ]
    },
    {
      "cell_type": "code",
      "source": [
        " automl.leaderboard(ensemble_only=True)\n",
        " #Modelos utilizados no conjunto final"
      ],
      "metadata": {
        "colab": {
          "base_uri": "https://localhost:8080/",
          "height": 425
        },
        "id": "d5FfjSKzBz_U",
        "outputId": "f3a4ffb8-f666-4e3d-bedd-2022396b2e3c"
      },
      "execution_count": null,
      "outputs": [
        {
          "output_type": "execute_result",
          "data": {
            "text/plain": [
              "          rank  ensemble_weight               type      cost   duration\n",
              "model_id                                                               \n",
              "2            1             0.18      random_forest  0.051183  12.547808\n",
              "14           2             0.12        extra_trees  0.053400   7.357938\n",
              "10           3             0.06      random_forest  0.053954  12.687183\n",
              "13           4             0.10  gradient_boosting  0.055248   2.683214\n",
              "5            5             0.02                mlp  0.058389  11.037470\n",
              "4            6             0.14      random_forest  0.061160  14.591132\n",
              "7            7             0.04           adaboost  0.115299   2.019455\n",
              "9            8             0.22           adaboost  0.120843   7.468844\n",
              "11           9             0.02                mlp  0.153178   3.213112\n",
              "8           10             0.08                lda  0.156135   1.217885\n",
              "12          11             0.02                qda  0.156135   0.849038"
            ],
            "text/html": [
              "\n",
              "  <div id=\"df-789d3455-2316-44ad-9463-bef86dd11308\">\n",
              "    <div class=\"colab-df-container\">\n",
              "      <div>\n",
              "<style scoped>\n",
              "    .dataframe tbody tr th:only-of-type {\n",
              "        vertical-align: middle;\n",
              "    }\n",
              "\n",
              "    .dataframe tbody tr th {\n",
              "        vertical-align: top;\n",
              "    }\n",
              "\n",
              "    .dataframe thead th {\n",
              "        text-align: right;\n",
              "    }\n",
              "</style>\n",
              "<table border=\"1\" class=\"dataframe\">\n",
              "  <thead>\n",
              "    <tr style=\"text-align: right;\">\n",
              "      <th></th>\n",
              "      <th>rank</th>\n",
              "      <th>ensemble_weight</th>\n",
              "      <th>type</th>\n",
              "      <th>cost</th>\n",
              "      <th>duration</th>\n",
              "    </tr>\n",
              "    <tr>\n",
              "      <th>model_id</th>\n",
              "      <th></th>\n",
              "      <th></th>\n",
              "      <th></th>\n",
              "      <th></th>\n",
              "      <th></th>\n",
              "    </tr>\n",
              "  </thead>\n",
              "  <tbody>\n",
              "    <tr>\n",
              "      <th>2</th>\n",
              "      <td>1</td>\n",
              "      <td>0.18</td>\n",
              "      <td>random_forest</td>\n",
              "      <td>0.051183</td>\n",
              "      <td>12.547808</td>\n",
              "    </tr>\n",
              "    <tr>\n",
              "      <th>14</th>\n",
              "      <td>2</td>\n",
              "      <td>0.12</td>\n",
              "      <td>extra_trees</td>\n",
              "      <td>0.053400</td>\n",
              "      <td>7.357938</td>\n",
              "    </tr>\n",
              "    <tr>\n",
              "      <th>10</th>\n",
              "      <td>3</td>\n",
              "      <td>0.06</td>\n",
              "      <td>random_forest</td>\n",
              "      <td>0.053954</td>\n",
              "      <td>12.687183</td>\n",
              "    </tr>\n",
              "    <tr>\n",
              "      <th>13</th>\n",
              "      <td>4</td>\n",
              "      <td>0.10</td>\n",
              "      <td>gradient_boosting</td>\n",
              "      <td>0.055248</td>\n",
              "      <td>2.683214</td>\n",
              "    </tr>\n",
              "    <tr>\n",
              "      <th>5</th>\n",
              "      <td>5</td>\n",
              "      <td>0.02</td>\n",
              "      <td>mlp</td>\n",
              "      <td>0.058389</td>\n",
              "      <td>11.037470</td>\n",
              "    </tr>\n",
              "    <tr>\n",
              "      <th>4</th>\n",
              "      <td>6</td>\n",
              "      <td>0.14</td>\n",
              "      <td>random_forest</td>\n",
              "      <td>0.061160</td>\n",
              "      <td>14.591132</td>\n",
              "    </tr>\n",
              "    <tr>\n",
              "      <th>7</th>\n",
              "      <td>7</td>\n",
              "      <td>0.04</td>\n",
              "      <td>adaboost</td>\n",
              "      <td>0.115299</td>\n",
              "      <td>2.019455</td>\n",
              "    </tr>\n",
              "    <tr>\n",
              "      <th>9</th>\n",
              "      <td>8</td>\n",
              "      <td>0.22</td>\n",
              "      <td>adaboost</td>\n",
              "      <td>0.120843</td>\n",
              "      <td>7.468844</td>\n",
              "    </tr>\n",
              "    <tr>\n",
              "      <th>11</th>\n",
              "      <td>9</td>\n",
              "      <td>0.02</td>\n",
              "      <td>mlp</td>\n",
              "      <td>0.153178</td>\n",
              "      <td>3.213112</td>\n",
              "    </tr>\n",
              "    <tr>\n",
              "      <th>8</th>\n",
              "      <td>10</td>\n",
              "      <td>0.08</td>\n",
              "      <td>lda</td>\n",
              "      <td>0.156135</td>\n",
              "      <td>1.217885</td>\n",
              "    </tr>\n",
              "    <tr>\n",
              "      <th>12</th>\n",
              "      <td>11</td>\n",
              "      <td>0.02</td>\n",
              "      <td>qda</td>\n",
              "      <td>0.156135</td>\n",
              "      <td>0.849038</td>\n",
              "    </tr>\n",
              "  </tbody>\n",
              "</table>\n",
              "</div>\n",
              "      <button class=\"colab-df-convert\" onclick=\"convertToInteractive('df-789d3455-2316-44ad-9463-bef86dd11308')\"\n",
              "              title=\"Convert this dataframe to an interactive table.\"\n",
              "              style=\"display:none;\">\n",
              "        \n",
              "  <svg xmlns=\"http://www.w3.org/2000/svg\" height=\"24px\"viewBox=\"0 0 24 24\"\n",
              "       width=\"24px\">\n",
              "    <path d=\"M0 0h24v24H0V0z\" fill=\"none\"/>\n",
              "    <path d=\"M18.56 5.44l.94 2.06.94-2.06 2.06-.94-2.06-.94-.94-2.06-.94 2.06-2.06.94zm-11 1L8.5 8.5l.94-2.06 2.06-.94-2.06-.94L8.5 2.5l-.94 2.06-2.06.94zm10 10l.94 2.06.94-2.06 2.06-.94-2.06-.94-.94-2.06-.94 2.06-2.06.94z\"/><path d=\"M17.41 7.96l-1.37-1.37c-.4-.4-.92-.59-1.43-.59-.52 0-1.04.2-1.43.59L10.3 9.45l-7.72 7.72c-.78.78-.78 2.05 0 2.83L4 21.41c.39.39.9.59 1.41.59.51 0 1.02-.2 1.41-.59l7.78-7.78 2.81-2.81c.8-.78.8-2.07 0-2.86zM5.41 20L4 18.59l7.72-7.72 1.47 1.35L5.41 20z\"/>\n",
              "  </svg>\n",
              "      </button>\n",
              "      \n",
              "  <style>\n",
              "    .colab-df-container {\n",
              "      display:flex;\n",
              "      flex-wrap:wrap;\n",
              "      gap: 12px;\n",
              "    }\n",
              "\n",
              "    .colab-df-convert {\n",
              "      background-color: #E8F0FE;\n",
              "      border: none;\n",
              "      border-radius: 50%;\n",
              "      cursor: pointer;\n",
              "      display: none;\n",
              "      fill: #1967D2;\n",
              "      height: 32px;\n",
              "      padding: 0 0 0 0;\n",
              "      width: 32px;\n",
              "    }\n",
              "\n",
              "    .colab-df-convert:hover {\n",
              "      background-color: #E2EBFA;\n",
              "      box-shadow: 0px 1px 2px rgba(60, 64, 67, 0.3), 0px 1px 3px 1px rgba(60, 64, 67, 0.15);\n",
              "      fill: #174EA6;\n",
              "    }\n",
              "\n",
              "    [theme=dark] .colab-df-convert {\n",
              "      background-color: #3B4455;\n",
              "      fill: #D2E3FC;\n",
              "    }\n",
              "\n",
              "    [theme=dark] .colab-df-convert:hover {\n",
              "      background-color: #434B5C;\n",
              "      box-shadow: 0px 1px 3px 1px rgba(0, 0, 0, 0.15);\n",
              "      filter: drop-shadow(0px 1px 2px rgba(0, 0, 0, 0.3));\n",
              "      fill: #FFFFFF;\n",
              "    }\n",
              "  </style>\n",
              "\n",
              "      <script>\n",
              "        const buttonEl =\n",
              "          document.querySelector('#df-789d3455-2316-44ad-9463-bef86dd11308 button.colab-df-convert');\n",
              "        buttonEl.style.display =\n",
              "          google.colab.kernel.accessAllowed ? 'block' : 'none';\n",
              "\n",
              "        async function convertToInteractive(key) {\n",
              "          const element = document.querySelector('#df-789d3455-2316-44ad-9463-bef86dd11308');\n",
              "          const dataTable =\n",
              "            await google.colab.kernel.invokeFunction('convertToInteractive',\n",
              "                                                     [key], {});\n",
              "          if (!dataTable) return;\n",
              "\n",
              "          const docLinkHtml = 'Like what you see? Visit the ' +\n",
              "            '<a target=\"_blank\" href=https://colab.research.google.com/notebooks/data_table.ipynb>data table notebook</a>'\n",
              "            + ' to learn more about interactive tables.';\n",
              "          element.innerHTML = '';\n",
              "          dataTable['output_type'] = 'display_data';\n",
              "          await google.colab.output.renderOutput(dataTable, element);\n",
              "          const docLink = document.createElement('div');\n",
              "          docLink.innerHTML = docLinkHtml;\n",
              "          element.appendChild(docLink);\n",
              "        }\n",
              "      </script>\n",
              "    </div>\n",
              "  </div>\n",
              "  "
            ]
          },
          "metadata": {},
          "execution_count": 109
        }
      ]
    },
    {
      "cell_type": "code",
      "source": [
        "automl.score(x_treino, y_treino)"
      ],
      "metadata": {
        "colab": {
          "base_uri": "https://localhost:8080/"
        },
        "id": "SrJ6atPd1aDO",
        "outputId": "b3054ee3-0f7c-46a6-de7f-50406840449a"
      },
      "execution_count": null,
      "outputs": [
        {
          "output_type": "execute_result",
          "data": {
            "text/plain": [
              "0.9662763751677034"
            ]
          },
          "metadata": {},
          "execution_count": 96
        }
      ]
    },
    {
      "cell_type": "code",
      "source": [
        "automl.score(x_teste, y_teste)\n"
      ],
      "metadata": {
        "colab": {
          "base_uri": "https://localhost:8080/"
        },
        "id": "__NMubiC2u9S",
        "outputId": "df012313-d8b7-4299-852b-c425d18a65d8"
      },
      "execution_count": null,
      "outputs": [
        {
          "output_type": "execute_result",
          "data": {
            "text/plain": [
              "0.9519066590779738"
            ]
          },
          "metadata": {},
          "execution_count": 97
        }
      ]
    },
    {
      "cell_type": "code",
      "source": [
        "import sklearn\n",
        "predictions = automl.predict(x_teste)\n",
        "print(\"Accuracy score:\", sklearn.metrics.accuracy_score(y_teste, predictions))"
      ],
      "metadata": {
        "colab": {
          "base_uri": "https://localhost:8080/"
        },
        "id": "MSk65R9O33Lb",
        "outputId": "ed6d78c3-df83-42ea-e052-364acea240f0"
      },
      "execution_count": null,
      "outputs": [
        {
          "output_type": "stream",
          "name": "stdout",
          "text": [
            "Accuracy score: 0.9519066590779738\n"
          ]
        }
      ]
    },
    {
      "cell_type": "code",
      "source": [
        "from sklearn.metrics import accuracy_score, confusion_matrix, classification_report\n",
        "print(classification_report(y_teste, predictions))"
      ],
      "metadata": {
        "colab": {
          "base_uri": "https://localhost:8080/"
        },
        "id": "VVqicEWy7Hi5",
        "outputId": "ad2d9dbc-2158-472e-f2b5-2f258c4cf31f"
      },
      "execution_count": null,
      "outputs": [
        {
          "output_type": "stream",
          "name": "stdout",
          "text": [
            "              precision    recall  f1-score   support\n",
            "\n",
            "        81.0       0.82      0.74      0.78       141\n",
            "        82.0       0.92      0.82      0.87       500\n",
            "        85.0       0.97      0.98      0.98      5919\n",
            "        87.0       0.79      0.79      0.79       468\n",
            "\n",
            "    accuracy                           0.95      7028\n",
            "   macro avg       0.88      0.83      0.85      7028\n",
            "weighted avg       0.95      0.95      0.95      7028\n",
            "\n"
          ]
        }
      ]
    },
    {
      "cell_type": "code",
      "source": [
        "automl.predict(x_treino)"
      ],
      "metadata": {
        "colab": {
          "base_uri": "https://localhost:8080/"
        },
        "id": "WIPVVg-a9m5w",
        "outputId": "069e2450-03a7-4bb9-e178-aa93c1693164"
      },
      "execution_count": null,
      "outputs": [
        {
          "output_type": "execute_result",
          "data": {
            "text/plain": [
              "array([85., 85., 85., ..., 85., 85., 85.])"
            ]
          },
          "metadata": {},
          "execution_count": 113
        }
      ]
    },
    {
      "cell_type": "code",
      "source": [
        "previsores\n"
      ],
      "metadata": {
        "colab": {
          "base_uri": "https://localhost:8080/"
        },
        "id": "Fqwx-nDxFvsp",
        "outputId": "db695cc1-1723-46f7-c68b-9e8b8b0ad1a4"
      },
      "execution_count": null,
      "outputs": [
        {
          "output_type": "execute_result",
          "data": {
            "text/plain": [
              "array([[4392.1025391 , 2491.2502441 ,   16.13949394],\n",
              "       [4368.2451172 , 2502.7141113 ,   16.53052712],\n",
              "       [4354.0029297 , 2517.2043457 ,   16.49198532],\n",
              "       ...,\n",
              "       [5594.0039063 , 3157.7043457 ,   23.27806282],\n",
              "       [5594.0039063 , 3157.7043457 ,   27.87416077],\n",
              "       [5548.5112305 , 3157.7043457 ,   22.99479866]])"
            ]
          },
          "metadata": {},
          "execution_count": 114
        }
      ]
    },
    {
      "cell_type": "markdown",
      "source": [
        "#Regressão AutoML\n"
      ],
      "metadata": {
        "id": "CTjBAXySqB_0"
      }
    },
    {
      "cell_type": "code",
      "source": [
        "import autosklearn.regression"
      ],
      "metadata": {
        "id": "V4k7hlivpcep"
      },
      "execution_count": null,
      "outputs": []
    },
    {
      "cell_type": "code",
      "source": [
        "autosklearn_regressor = autosklearn.regression.AutoSklearnRegressor(\n",
        "    time_left_for_this_task=240,\n",
        "    per_run_time_limit=60,\n",
        ")\n",
        "\n",
        "autosklearn_regressor.fit(X_train, y_train, feat_type=feature_types)\n",
        "Exemplo para regressão\n"
      ],
      "metadata": {
        "id": "VJ7rJ9-QpnV_"
      },
      "execution_count": null,
      "outputs": []
    },
    {
      "cell_type": "code",
      "source": [
        "(X_train.shape,y_train.shape,X_test.shape, y_test.shape  )"
      ],
      "metadata": {
        "id": "1zahhxiNptQI"
      },
      "execution_count": null,
      "outputs": []
    },
    {
      "cell_type": "code",
      "source": [
        "print(autosklearn_regressor.leaderboard())"
      ],
      "metadata": {
        "id": "MaCkS7olpvzd"
      },
      "execution_count": null,
      "outputs": []
    },
    {
      "cell_type": "code",
      "source": [
        "from sklearn.metrics import mean_absolute_error as mae\n",
        "\n",
        "mae(y_train, autosklearn_regressor.predict(X_train)), mae(y_test, autosklearn_regressor.predict(X_test))"
      ],
      "metadata": {
        "id": "i7tqengEp5OG"
      },
      "execution_count": null,
      "outputs": []
    },
    {
      "cell_type": "code",
      "source": [
        "autosklearn_regressor.predict(X_train)\n"
      ],
      "metadata": {
        "id": "6NGdGqjpp7q2"
      },
      "execution_count": null,
      "outputs": []
    }
  ]
}